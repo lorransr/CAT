{
  "nbformat": 4,
  "nbformat_minor": 0,
  "metadata": {
    "colab": {
      "name": "MK_analysis.ipynb",
      "version": "0.3.2",
      "provenance": [],
      "include_colab_link": true
    },
    "kernelspec": {
      "name": "python3",
      "display_name": "Python 3"
    }
  },
  "cells": [
    {
      "cell_type": "markdown",
      "metadata": {
        "id": "view-in-github",
        "colab_type": "text"
      },
      "source": [
        "<a href=\"https://colab.research.google.com/github/lorransr/CAT/blob/master/MK_analysis.ipynb\" target=\"_parent\"><img src=\"https://colab.research.google.com/assets/colab-badge.svg\" alt=\"Open In Colab\"/></a>"
      ]
    },
    {
      "metadata": {
        "id": "NqZbFmDOrzbc",
        "colab_type": "text"
      },
      "cell_type": "markdown",
      "source": [
        "# Uma analise da franquia Mortal Kombat"
      ]
    },
    {
      "metadata": {
        "id": "d393dx8pr8Iw",
        "colab_type": "text"
      },
      "cell_type": "markdown",
      "source": [
        "## Desde pequeno, sempre escolhi o Sub-Zero ♪"
      ]
    },
    {
      "metadata": {
        "id": "M5_p77O7sB5a",
        "colab_type": "text"
      },
      "cell_type": "markdown",
      "source": [
        "Mortal Kombat é uma daquelas franquias que mexe com a gente. Quem viveu a era do fliperama lembra como era o alvoroço com o game. Mortal Kombat era violento, divertido e acima de tudo desafiador. Eu sempre fui pessimo, na verdade, eu era basicamente uma fase bonus no fliperama. Mas nunca perdi o encanto com jogo. \n",
        "\n",
        "Foi pensando nessa nostalgia e no lançamento do novo Mortal Kombat 11, que chega as lojas no dia 23 de abril. Decidi entender um pouco mais da franquia. São quantos jogos afinal? Quais são os melhores? Será que só eu adoro o MK Shaolin Monks? Existe consenso entre os fãs e os críticos? Essas são as perguntas que pretendo responder com essa análise.\n",
        "\n",
        "\n",
        "---\n",
        "\n",
        "Meu ponto de partida foi conseguir os dados. A IGDB, é uma comunidade que junta toda a informação relevante de games em apenas um lugar. Eles tentam ser uma espécie de ponte entre desenvolvedores e jogadores ao redor do mundo. O mais impressionante é a API que eles disponibilizam com informação de mais de **197820** jogos. Com a API deles eu consegui informação de todos os jogos que pudessem ter \"Kombat\" no título, transformei tudo em um CSV que está disponível no meu GitHub."
      ]
    },
    {
      "metadata": {
        "id": "uf5lcaQDyhdD",
        "colab_type": "code",
        "outputId": "231baa1c-07d8-4731-8fbd-4a521c3a737c",
        "colab": {
          "base_uri": "https://localhost:8080/",
          "height": 241
        }
      },
      "cell_type": "code",
      "source": [
        "!pip install seaborn==0.9.0"
      ],
      "execution_count": 173,
      "outputs": [
        {
          "output_type": "stream",
          "text": [
            "Requirement already satisfied: seaborn==0.9.0 in /usr/local/lib/python3.6/dist-packages (0.9.0)\n",
            "Requirement already satisfied: matplotlib>=1.4.3 in /usr/local/lib/python3.6/dist-packages (from seaborn==0.9.0) (3.0.3)\n",
            "Requirement already satisfied: pandas>=0.15.2 in /usr/local/lib/python3.6/dist-packages (from seaborn==0.9.0) (0.22.0)\n",
            "Requirement already satisfied: numpy>=1.9.3 in /usr/local/lib/python3.6/dist-packages (from seaborn==0.9.0) (1.14.6)\n",
            "Requirement already satisfied: scipy>=0.14.0 in /usr/local/lib/python3.6/dist-packages (from seaborn==0.9.0) (1.1.0)\n",
            "Requirement already satisfied: python-dateutil>=2.1 in /usr/local/lib/python3.6/dist-packages (from matplotlib>=1.4.3->seaborn==0.9.0) (2.5.3)\n",
            "Requirement already satisfied: pyparsing!=2.0.4,!=2.1.2,!=2.1.6,>=2.0.1 in /usr/local/lib/python3.6/dist-packages (from matplotlib>=1.4.3->seaborn==0.9.0) (2.3.1)\n",
            "Requirement already satisfied: kiwisolver>=1.0.1 in /usr/local/lib/python3.6/dist-packages (from matplotlib>=1.4.3->seaborn==0.9.0) (1.0.1)\n",
            "Requirement already satisfied: cycler>=0.10 in /usr/local/lib/python3.6/dist-packages (from matplotlib>=1.4.3->seaborn==0.9.0) (0.10.0)\n",
            "Requirement already satisfied: pytz>=2011k in /usr/local/lib/python3.6/dist-packages (from pandas>=0.15.2->seaborn==0.9.0) (2018.9)\n",
            "Requirement already satisfied: six>=1.5 in /usr/local/lib/python3.6/dist-packages (from python-dateutil>=2.1->matplotlib>=1.4.3->seaborn==0.9.0) (1.11.0)\n",
            "Requirement already satisfied: setuptools in /usr/local/lib/python3.6/dist-packages (from kiwisolver>=1.0.1->matplotlib>=1.4.3->seaborn==0.9.0) (40.9.0)\n"
          ],
          "name": "stdout"
        }
      ]
    },
    {
      "metadata": {
        "id": "E6rr7aYX0Hdu",
        "colab_type": "text"
      },
      "cell_type": "markdown",
      "source": [
        "Importando as libs. Essa será uma analise puramente exploratória então nada de scikit learn e outras bibliotecas voltadas para o aprendizado de maquina"
      ]
    },
    {
      "metadata": {
        "id": "scXR85zeyfJv",
        "colab_type": "code",
        "colab": {}
      },
      "cell_type": "code",
      "source": [
        "import pandas as pd\n",
        "import numpy as np\n",
        "import matplotlib.pyplot as plt\n",
        "import seaborn as sns"
      ],
      "execution_count": 0,
      "outputs": []
    },
    {
      "metadata": {
        "id": "iQGAZ9RgzcC4",
        "colab_type": "code",
        "colab": {
          "base_uri": "https://localhost:8080/",
          "height": 533
        },
        "outputId": "f3740c48-0ad4-45bd-881a-6137db7c394e"
      },
      "cell_type": "code",
      "source": [
        "#importando os dados\n",
        "raw = pd.read_csv('https://raw.githubusercontent.com/lorransr/mk_analysis/master/mk.csv')\n",
        "raw.head()"
      ],
      "execution_count": 175,
      "outputs": [
        {
          "output_type": "execute_result",
          "data": {
            "text/html": [
              "<div>\n",
              "<style scoped>\n",
              "    .dataframe tbody tr th:only-of-type {\n",
              "        vertical-align: middle;\n",
              "    }\n",
              "\n",
              "    .dataframe tbody tr th {\n",
              "        vertical-align: top;\n",
              "    }\n",
              "\n",
              "    .dataframe thead th {\n",
              "        text-align: right;\n",
              "    }\n",
              "</style>\n",
              "<table border=\"1\" class=\"dataframe\">\n",
              "  <thead>\n",
              "    <tr style=\"text-align: right;\">\n",
              "      <th></th>\n",
              "      <th>id</th>\n",
              "      <th>aggregated_rating</th>\n",
              "      <th>aggregated_rating_count</th>\n",
              "      <th>category</th>\n",
              "      <th>first_release_date</th>\n",
              "      <th>name</th>\n",
              "      <th>platforms/0</th>\n",
              "      <th>platforms/1</th>\n",
              "      <th>platforms/2</th>\n",
              "      <th>popularity</th>\n",
              "      <th>...</th>\n",
              "      <th>total_rating_count</th>\n",
              "      <th>platforms/3</th>\n",
              "      <th>platforms/4</th>\n",
              "      <th>platforms/5</th>\n",
              "      <th>platforms/6</th>\n",
              "      <th>platforms/7</th>\n",
              "      <th>platforms/8</th>\n",
              "      <th>platforms/9</th>\n",
              "      <th>platforms/10</th>\n",
              "      <th>hypes</th>\n",
              "    </tr>\n",
              "  </thead>\n",
              "  <tbody>\n",
              "    <tr>\n",
              "      <th>0</th>\n",
              "      <td>119</td>\n",
              "      <td>84.833333</td>\n",
              "      <td>9.0</td>\n",
              "      <td>0</td>\n",
              "      <td>1.303171e+09</td>\n",
              "      <td>Mortal Kombat</td>\n",
              "      <td>9.0</td>\n",
              "      <td>12.0</td>\n",
              "      <td>46.0</td>\n",
              "      <td>6.272077</td>\n",
              "      <td>...</td>\n",
              "      <td>148.0</td>\n",
              "      <td>NaN</td>\n",
              "      <td>NaN</td>\n",
              "      <td>NaN</td>\n",
              "      <td>NaN</td>\n",
              "      <td>NaN</td>\n",
              "      <td>NaN</td>\n",
              "      <td>NaN</td>\n",
              "      <td>NaN</td>\n",
              "      <td>NaN</td>\n",
              "    </tr>\n",
              "    <tr>\n",
              "      <th>1</th>\n",
              "      <td>81899</td>\n",
              "      <td>NaN</td>\n",
              "      <td>NaN</td>\n",
              "      <td>0</td>\n",
              "      <td>NaN</td>\n",
              "      <td>Mortal Kombat &amp; Mortal Kombat II</td>\n",
              "      <td>NaN</td>\n",
              "      <td>NaN</td>\n",
              "      <td>NaN</td>\n",
              "      <td>1.000000</td>\n",
              "      <td>...</td>\n",
              "      <td>NaN</td>\n",
              "      <td>NaN</td>\n",
              "      <td>NaN</td>\n",
              "      <td>NaN</td>\n",
              "      <td>NaN</td>\n",
              "      <td>NaN</td>\n",
              "      <td>NaN</td>\n",
              "      <td>NaN</td>\n",
              "      <td>NaN</td>\n",
              "      <td>NaN</td>\n",
              "    </tr>\n",
              "    <tr>\n",
              "      <th>2</th>\n",
              "      <td>16130</td>\n",
              "      <td>NaN</td>\n",
              "      <td>NaN</td>\n",
              "      <td>1</td>\n",
              "      <td>1.429142e+09</td>\n",
              "      <td>Mortal Kombat X - Kombat Pack</td>\n",
              "      <td>6.0</td>\n",
              "      <td>12.0</td>\n",
              "      <td>48.0</td>\n",
              "      <td>1.000000</td>\n",
              "      <td>...</td>\n",
              "      <td>NaN</td>\n",
              "      <td>NaN</td>\n",
              "      <td>NaN</td>\n",
              "      <td>NaN</td>\n",
              "      <td>NaN</td>\n",
              "      <td>NaN</td>\n",
              "      <td>NaN</td>\n",
              "      <td>NaN</td>\n",
              "      <td>NaN</td>\n",
              "      <td>NaN</td>\n",
              "    </tr>\n",
              "    <tr>\n",
              "      <th>3</th>\n",
              "      <td>16131</td>\n",
              "      <td>NaN</td>\n",
              "      <td>NaN</td>\n",
              "      <td>1</td>\n",
              "      <td>NaN</td>\n",
              "      <td>Mortal Kombat X - Kombat Pack 2</td>\n",
              "      <td>NaN</td>\n",
              "      <td>NaN</td>\n",
              "      <td>NaN</td>\n",
              "      <td>1.000000</td>\n",
              "      <td>...</td>\n",
              "      <td>NaN</td>\n",
              "      <td>NaN</td>\n",
              "      <td>NaN</td>\n",
              "      <td>NaN</td>\n",
              "      <td>NaN</td>\n",
              "      <td>NaN</td>\n",
              "      <td>NaN</td>\n",
              "      <td>NaN</td>\n",
              "      <td>NaN</td>\n",
              "      <td>NaN</td>\n",
              "    </tr>\n",
              "    <tr>\n",
              "      <th>4</th>\n",
              "      <td>1612</td>\n",
              "      <td>70.000000</td>\n",
              "      <td>3.0</td>\n",
              "      <td>0</td>\n",
              "      <td>1.037405e+09</td>\n",
              "      <td>Mortal Kombat: Deadly Alliance</td>\n",
              "      <td>8.0</td>\n",
              "      <td>11.0</td>\n",
              "      <td>21.0</td>\n",
              "      <td>1.842424</td>\n",
              "      <td>...</td>\n",
              "      <td>30.0</td>\n",
              "      <td>24.0</td>\n",
              "      <td>NaN</td>\n",
              "      <td>NaN</td>\n",
              "      <td>NaN</td>\n",
              "      <td>NaN</td>\n",
              "      <td>NaN</td>\n",
              "      <td>NaN</td>\n",
              "      <td>NaN</td>\n",
              "      <td>NaN</td>\n",
              "    </tr>\n",
              "  </tbody>\n",
              "</table>\n",
              "<p>5 rows × 22 columns</p>\n",
              "</div>"
            ],
            "text/plain": [
              "      id  aggregated_rating  aggregated_rating_count  category  \\\n",
              "0    119          84.833333                      9.0         0   \n",
              "1  81899                NaN                      NaN         0   \n",
              "2  16130                NaN                      NaN         1   \n",
              "3  16131                NaN                      NaN         1   \n",
              "4   1612          70.000000                      3.0         0   \n",
              "\n",
              "   first_release_date                              name  platforms/0  \\\n",
              "0        1.303171e+09                     Mortal Kombat          9.0   \n",
              "1                 NaN  Mortal Kombat & Mortal Kombat II          NaN   \n",
              "2        1.429142e+09     Mortal Kombat X - Kombat Pack          6.0   \n",
              "3                 NaN   Mortal Kombat X - Kombat Pack 2          NaN   \n",
              "4        1.037405e+09    Mortal Kombat: Deadly Alliance          8.0   \n",
              "\n",
              "   platforms/1  platforms/2  popularity  ...    total_rating_count  \\\n",
              "0         12.0         46.0    6.272077  ...                 148.0   \n",
              "1          NaN          NaN    1.000000  ...                   NaN   \n",
              "2         12.0         48.0    1.000000  ...                   NaN   \n",
              "3          NaN          NaN    1.000000  ...                   NaN   \n",
              "4         11.0         21.0    1.842424  ...                  30.0   \n",
              "\n",
              "   platforms/3  platforms/4  platforms/5  platforms/6  platforms/7  \\\n",
              "0          NaN          NaN          NaN          NaN          NaN   \n",
              "1          NaN          NaN          NaN          NaN          NaN   \n",
              "2          NaN          NaN          NaN          NaN          NaN   \n",
              "3          NaN          NaN          NaN          NaN          NaN   \n",
              "4         24.0          NaN          NaN          NaN          NaN   \n",
              "\n",
              "   platforms/8  platforms/9  platforms/10  hypes  \n",
              "0          NaN          NaN           NaN    NaN  \n",
              "1          NaN          NaN           NaN    NaN  \n",
              "2          NaN          NaN           NaN    NaN  \n",
              "3          NaN          NaN           NaN    NaN  \n",
              "4          NaN          NaN           NaN    NaN  \n",
              "\n",
              "[5 rows x 22 columns]"
            ]
          },
          "metadata": {
            "tags": []
          },
          "execution_count": 175
        }
      ]
    },
    {
      "metadata": {
        "id": "4uPoxxeDJOp5",
        "colab_type": "code",
        "colab": {
          "base_uri": "https://localhost:8080/",
          "height": 148
        },
        "outputId": "71e73931-2820-4344-cc97-e99eb2df056a"
      },
      "cell_type": "code",
      "source": [
        "raw.columns"
      ],
      "execution_count": 176,
      "outputs": [
        {
          "output_type": "execute_result",
          "data": {
            "text/plain": [
              "Index(['id', 'aggregated_rating', 'aggregated_rating_count', 'category',\n",
              "       'first_release_date', 'name', 'platforms/0', 'platforms/1',\n",
              "       'platforms/2', 'popularity', 'rating', 'rating_count',\n",
              "       'total_rating_count', 'platforms/3', 'platforms/4', 'platforms/5',\n",
              "       'platforms/6', 'platforms/7', 'platforms/8', 'platforms/9',\n",
              "       'platforms/10', 'hypes'],\n",
              "      dtype='object')"
            ]
          },
          "metadata": {
            "tags": []
          },
          "execution_count": 176
        }
      ]
    },
    {
      "metadata": {
        "id": "uwwYEuqUHyHa",
        "colab_type": "code",
        "colab": {
          "base_uri": "https://localhost:8080/",
          "height": 36
        },
        "outputId": "2b219015-de93-4e07-9043-8f319e044ccb"
      },
      "cell_type": "code",
      "source": [
        "raw.shape"
      ],
      "execution_count": 177,
      "outputs": [
        {
          "output_type": "execute_result",
          "data": {
            "text/plain": [
              "(48, 22)"
            ]
          },
          "metadata": {
            "tags": []
          },
          "execution_count": 177
        }
      ]
    },
    {
      "metadata": {
        "id": "htE4hRxO00KI",
        "colab_type": "text"
      },
      "cell_type": "markdown",
      "source": [
        "A tabela em questão contêm 22 colunas e 48 linhas. As Colunas são:\n",
        "* ID --> Identificador do jogo\n",
        "* Agg_rating --> Avaliação da crítica especializada acumulada\n",
        "* Agg_rating_count --> Contagem do número de avalizações da crítica especializada\n",
        "* category --> categoria do jogo (0-jogo principal,1-dlc,2-expansão,3-Bundle,4-expansão standalone)\n",
        "* first_release_date --> data do lançamento (unix)\n",
        "* name --> nome do jogo\n",
        "* platforms/0,1,2,3,4,5,6,7,8,9 --> Codigo da plataforma que o jogo foi lançado\n",
        "* hypes --> Quantidade de seguidas que o jogo ganhou no site antes do lançamento"
      ]
    },
    {
      "metadata": {
        "id": "0frWexrIH5IA",
        "colab_type": "code",
        "colab": {}
      },
      "cell_type": "code",
      "source": [
        "#modificando o nome das colunas\n",
        "raw.columns = ['id','agg_rating',\"agg_rating_count\",\n",
        "               \"category\",\"release\",\"name\",\"plat0\",\"plat1\",\n",
        "               \"plat2\",\"popularity\",\"rating\",\"rating_count\",\n",
        "               \"total_rating_count\",\"plat3\",\n",
        "               \"plat4\",\"plat5\",\"plat6\",\"plat7\",\"plat8\",\n",
        "               \"plat9\",\"plat10\",\"hypes\"]"
      ],
      "execution_count": 0,
      "outputs": []
    },
    {
      "metadata": {
        "id": "2YiTLEFIO-KJ",
        "colab_type": "code",
        "colab": {}
      },
      "cell_type": "code",
      "source": [
        "#ordenando colunas\n",
        "raw = raw.reindex(sorted(raw.columns), axis=1)"
      ],
      "execution_count": 0,
      "outputs": []
    },
    {
      "metadata": {
        "id": "lJNkfsZ3IfX2",
        "colab_type": "code",
        "colab": {
          "base_uri": "https://localhost:8080/",
          "height": 110
        },
        "outputId": "9adcbe5f-da1c-4057-f2c2-7f7fe710f84b"
      },
      "cell_type": "code",
      "source": [
        "#criando uma lista com os valores unicos de cada coluna plat\n",
        "choose_columns = [\"plat0\",\"plat1\",\"plat2\",\n",
        "                  \"plat3\",\"plat4\",\"plat5\",\n",
        "                  \"plat6\",\"plat7\",\"plat8\",\n",
        "                  \"plat9\",\"plat10\"]\n",
        "lista = []\n",
        "for i in choose_columns:\n",
        "  lista.append(raw[i].unique())\n",
        "\n",
        "#tomando um array com apenas os valores que não se repetem nas listas\n",
        "np.unique(np.concatenate(lista))\n"
      ],
      "execution_count": 180,
      "outputs": [
        {
          "output_type": "execute_result",
          "data": {
            "text/plain": [
              "array([  4.,   5.,   6.,   7.,   8.,   9.,  11.,  12.,  13.,  16.,  19.,\n",
              "        21.,  22.,  23.,  24.,  29.,  30.,  32.,  33.,  34.,  35.,  36.,\n",
              "        38.,  39.,  45.,  46.,  48.,  49.,  52.,  64.,  78.,  79.,  80.,\n",
              "       130., 136.,  nan,  nan,  nan,  nan,  nan,  nan,  nan,  nan,  nan,\n",
              "        nan,  nan])"
            ]
          },
          "metadata": {
            "tags": []
          },
          "execution_count": 180
        }
      ]
    },
    {
      "metadata": {
        "id": "TZCdo2W3nfKL",
        "colab_type": "text"
      },
      "cell_type": "markdown",
      "source": [
        "usei essa lista gerada para puxar da API do IGDB uma tabela contendo os nomes das plataformas. Peguei o resultado, transformei em um CSV e também disponibilizei ele no meu GitHub"
      ]
    },
    {
      "metadata": {
        "id": "HvX79MQPnpfV",
        "colab_type": "code",
        "colab": {
          "base_uri": "https://localhost:8080/",
          "height": 206
        },
        "outputId": "4d798f18-e78c-4f91-b6dc-6601704e1a47"
      },
      "cell_type": "code",
      "source": [
        "platf = pd.read_csv('https://raw.githubusercontent.com/lorransr/mk_analysis/master/platforms.csv')\n",
        "platf.columns=[\"plat0\",\"platform_name\"]\n",
        "platf.head()"
      ],
      "execution_count": 181,
      "outputs": [
        {
          "output_type": "execute_result",
          "data": {
            "text/html": [
              "<div>\n",
              "<style scoped>\n",
              "    .dataframe tbody tr th:only-of-type {\n",
              "        vertical-align: middle;\n",
              "    }\n",
              "\n",
              "    .dataframe tbody tr th {\n",
              "        vertical-align: top;\n",
              "    }\n",
              "\n",
              "    .dataframe thead th {\n",
              "        text-align: right;\n",
              "    }\n",
              "</style>\n",
              "<table border=\"1\" class=\"dataframe\">\n",
              "  <thead>\n",
              "    <tr style=\"text-align: right;\">\n",
              "      <th></th>\n",
              "      <th>plat0</th>\n",
              "      <th>platform_name</th>\n",
              "    </tr>\n",
              "  </thead>\n",
              "  <tbody>\n",
              "    <tr>\n",
              "      <th>0</th>\n",
              "      <td>3</td>\n",
              "      <td>Linux</td>\n",
              "    </tr>\n",
              "    <tr>\n",
              "      <th>1</th>\n",
              "      <td>6</td>\n",
              "      <td>PC (Microsoft Windows)</td>\n",
              "    </tr>\n",
              "    <tr>\n",
              "      <th>2</th>\n",
              "      <td>7</td>\n",
              "      <td>PlayStation</td>\n",
              "    </tr>\n",
              "    <tr>\n",
              "      <th>3</th>\n",
              "      <td>8</td>\n",
              "      <td>PlayStation 2</td>\n",
              "    </tr>\n",
              "    <tr>\n",
              "      <th>4</th>\n",
              "      <td>9</td>\n",
              "      <td>PlayStation 3</td>\n",
              "    </tr>\n",
              "  </tbody>\n",
              "</table>\n",
              "</div>"
            ],
            "text/plain": [
              "   plat0           platform_name\n",
              "0      3                   Linux\n",
              "1      6  PC (Microsoft Windows)\n",
              "2      7             PlayStation\n",
              "3      8           PlayStation 2\n",
              "4      9           PlayStation 3"
            ]
          },
          "metadata": {
            "tags": []
          },
          "execution_count": 181
        }
      ]
    },
    {
      "metadata": {
        "id": "zO7iW-aO3ixZ",
        "colab_type": "text"
      },
      "cell_type": "markdown",
      "source": [
        "Para substituir os id's das plataformas pelos nomes respectivos, eu optei por criar um dicionário e em seguida mapea-lo na coluna"
      ]
    },
    {
      "metadata": {
        "id": "BPB-Fu7PyAId",
        "colab_type": "code",
        "colab": {
          "base_uri": "https://localhost:8080/",
          "height": 1007
        },
        "outputId": "c25eed64-1e1b-455f-be15-e43a8ce7f58d"
      },
      "cell_type": "code",
      "source": [
        "#Criei um dicionário transformando a coluna plat0 no id,\n",
        "#em seguida transpondo a tabela e transformando-a em um dicionário\n",
        "platf_dict=platf.set_index('plat0').T.to_dict('list')\n",
        "platf_dict"
      ],
      "execution_count": 182,
      "outputs": [
        {
          "output_type": "execute_result",
          "data": {
            "text/plain": [
              "{3: ['Linux'],\n",
              " 4: ['Nintendo 64'],\n",
              " 6: ['PC (Microsoft Windows)'],\n",
              " 7: ['PlayStation'],\n",
              " 8: ['PlayStation 2'],\n",
              " 9: ['PlayStation 3'],\n",
              " 11: ['Xbox'],\n",
              " 12: ['Xbox 360'],\n",
              " 14: ['Mac'],\n",
              " 15: ['Commodore C64/128'],\n",
              " 19: ['Super Nintendo Entertainment System (SNES)'],\n",
              " 25: ['Amstrad CPC'],\n",
              " 27: ['MSX'],\n",
              " 38: ['PlayStation Portable'],\n",
              " 39: ['iOS'],\n",
              " 44: ['Tapwave Zodiac'],\n",
              " 48: ['PlayStation 4'],\n",
              " 51: ['Family Computer Disk System'],\n",
              " 52: ['arcade'],\n",
              " 64: ['Sega Master System'],\n",
              " 67: ['Intellivision'],\n",
              " 68: ['ColecoVision'],\n",
              " 71: ['Commodore VIC-20'],\n",
              " 72: ['Ouya'],\n",
              " 74: ['Windows Phone'],\n",
              " 75: ['Apple II'],\n",
              " 80: ['Neo Geo AES'],\n",
              " 88: ['Odyssey'],\n",
              " 90: ['Commodore PET'],\n",
              " 91: ['Bally Astrocade'],\n",
              " 94: ['Commodore Plus/4'],\n",
              " 96: ['PDP-10'],\n",
              " 97: ['PDP-8'],\n",
              " 115: ['Apple IIGS'],\n",
              " 118: ['FM Towns'],\n",
              " 120: ['Neo Geo Pocket Color'],\n",
              " 123: ['WonderSwan Color'],\n",
              " 126: ['TRS-80'],\n",
              " 128: ['PC Engine SuperGrafx'],\n",
              " 129: ['Texas Instruments TI-99'],\n",
              " 133: ['Philips Videopac G7000'],\n",
              " 134: ['Acorn Electron'],\n",
              " 135: ['Hyper Neo Geo 64'],\n",
              " 136: ['Neo Geo CD'],\n",
              " 142: ['PC-50X Family'],\n",
              " 144: ['AY-3-8710'],\n",
              " 146: ['AY-3-8605'],\n",
              " 147: ['AY-3-8606'],\n",
              " 156: ['Thomson MO5'],\n",
              " 160: ['Nintendo eShop'],\n",
              " 163: ['SteamVR'],\n",
              " 164: ['Daydream'],\n",
              " 165: ['PlayStation VR']}"
            ]
          },
          "metadata": {
            "tags": []
          },
          "execution_count": 182
        }
      ]
    },
    {
      "metadata": {
        "id": "8xwlcAOYOMLB",
        "colab_type": "code",
        "colab": {}
      },
      "cell_type": "code",
      "source": [
        "#criando o df que será usado na análise\n",
        "df = raw"
      ],
      "execution_count": 0,
      "outputs": []
    },
    {
      "metadata": {
        "id": "VnbcXJx8wx9G",
        "colab_type": "code",
        "colab": {}
      },
      "cell_type": "code",
      "source": [
        "#mapeando o dicionário a cada coluna\n",
        "for i in choose_columns:\n",
        "  df[i]=df[i].map(platf_dict)"
      ],
      "execution_count": 0,
      "outputs": []
    },
    {
      "metadata": {
        "id": "BWIbGi_w8P6D",
        "colab_type": "code",
        "colab": {
          "base_uri": "https://localhost:8080/",
          "height": 551
        },
        "outputId": "5e2922c5-42f4-41b4-d018-5e36500ffdae"
      },
      "cell_type": "code",
      "source": [
        "#criando uma coluna que agrega todas as plataformas\n",
        "#df[choose_columns]=df[choose_columns].astype(str)\n",
        "df[\"platforms\"]=df[choose_columns].values.tolist()\n",
        "df[\"platforms\"] = df[\"platforms\"].apply(lambda x: [i for i in x if str(i) != \"nan\"])\n",
        "df.head()"
      ],
      "execution_count": 185,
      "outputs": [
        {
          "output_type": "execute_result",
          "data": {
            "text/html": [
              "<div>\n",
              "<style scoped>\n",
              "    .dataframe tbody tr th:only-of-type {\n",
              "        vertical-align: middle;\n",
              "    }\n",
              "\n",
              "    .dataframe tbody tr th {\n",
              "        vertical-align: top;\n",
              "    }\n",
              "\n",
              "    .dataframe thead th {\n",
              "        text-align: right;\n",
              "    }\n",
              "</style>\n",
              "<table border=\"1\" class=\"dataframe\">\n",
              "  <thead>\n",
              "    <tr style=\"text-align: right;\">\n",
              "      <th></th>\n",
              "      <th>agg_rating</th>\n",
              "      <th>agg_rating_count</th>\n",
              "      <th>category</th>\n",
              "      <th>hypes</th>\n",
              "      <th>id</th>\n",
              "      <th>name</th>\n",
              "      <th>plat0</th>\n",
              "      <th>plat1</th>\n",
              "      <th>plat10</th>\n",
              "      <th>plat2</th>\n",
              "      <th>...</th>\n",
              "      <th>plat6</th>\n",
              "      <th>plat7</th>\n",
              "      <th>plat8</th>\n",
              "      <th>plat9</th>\n",
              "      <th>popularity</th>\n",
              "      <th>rating</th>\n",
              "      <th>rating_count</th>\n",
              "      <th>release</th>\n",
              "      <th>total_rating_count</th>\n",
              "      <th>platforms</th>\n",
              "    </tr>\n",
              "  </thead>\n",
              "  <tbody>\n",
              "    <tr>\n",
              "      <th>0</th>\n",
              "      <td>84.833333</td>\n",
              "      <td>9.0</td>\n",
              "      <td>0</td>\n",
              "      <td>NaN</td>\n",
              "      <td>119</td>\n",
              "      <td>Mortal Kombat</td>\n",
              "      <td>[PlayStation 3]</td>\n",
              "      <td>[Xbox 360]</td>\n",
              "      <td>NaN</td>\n",
              "      <td>NaN</td>\n",
              "      <td>...</td>\n",
              "      <td>NaN</td>\n",
              "      <td>NaN</td>\n",
              "      <td>NaN</td>\n",
              "      <td>NaN</td>\n",
              "      <td>6.272077</td>\n",
              "      <td>83.940729</td>\n",
              "      <td>139.0</td>\n",
              "      <td>1.303171e+09</td>\n",
              "      <td>148.0</td>\n",
              "      <td>[[PlayStation 3], [Xbox 360]]</td>\n",
              "    </tr>\n",
              "    <tr>\n",
              "      <th>1</th>\n",
              "      <td>NaN</td>\n",
              "      <td>NaN</td>\n",
              "      <td>0</td>\n",
              "      <td>NaN</td>\n",
              "      <td>81899</td>\n",
              "      <td>Mortal Kombat &amp; Mortal Kombat II</td>\n",
              "      <td>NaN</td>\n",
              "      <td>NaN</td>\n",
              "      <td>NaN</td>\n",
              "      <td>NaN</td>\n",
              "      <td>...</td>\n",
              "      <td>NaN</td>\n",
              "      <td>NaN</td>\n",
              "      <td>NaN</td>\n",
              "      <td>NaN</td>\n",
              "      <td>1.000000</td>\n",
              "      <td>NaN</td>\n",
              "      <td>NaN</td>\n",
              "      <td>NaN</td>\n",
              "      <td>NaN</td>\n",
              "      <td>[]</td>\n",
              "    </tr>\n",
              "    <tr>\n",
              "      <th>2</th>\n",
              "      <td>NaN</td>\n",
              "      <td>NaN</td>\n",
              "      <td>1</td>\n",
              "      <td>NaN</td>\n",
              "      <td>16130</td>\n",
              "      <td>Mortal Kombat X - Kombat Pack</td>\n",
              "      <td>[PC (Microsoft Windows)]</td>\n",
              "      <td>[Xbox 360]</td>\n",
              "      <td>NaN</td>\n",
              "      <td>[PlayStation 4]</td>\n",
              "      <td>...</td>\n",
              "      <td>NaN</td>\n",
              "      <td>NaN</td>\n",
              "      <td>NaN</td>\n",
              "      <td>NaN</td>\n",
              "      <td>1.000000</td>\n",
              "      <td>NaN</td>\n",
              "      <td>NaN</td>\n",
              "      <td>1.429142e+09</td>\n",
              "      <td>NaN</td>\n",
              "      <td>[[PC (Microsoft Windows)], [Xbox 360], [PlaySt...</td>\n",
              "    </tr>\n",
              "    <tr>\n",
              "      <th>3</th>\n",
              "      <td>NaN</td>\n",
              "      <td>NaN</td>\n",
              "      <td>1</td>\n",
              "      <td>NaN</td>\n",
              "      <td>16131</td>\n",
              "      <td>Mortal Kombat X - Kombat Pack 2</td>\n",
              "      <td>NaN</td>\n",
              "      <td>NaN</td>\n",
              "      <td>NaN</td>\n",
              "      <td>NaN</td>\n",
              "      <td>...</td>\n",
              "      <td>NaN</td>\n",
              "      <td>NaN</td>\n",
              "      <td>NaN</td>\n",
              "      <td>NaN</td>\n",
              "      <td>1.000000</td>\n",
              "      <td>NaN</td>\n",
              "      <td>NaN</td>\n",
              "      <td>NaN</td>\n",
              "      <td>NaN</td>\n",
              "      <td>[]</td>\n",
              "    </tr>\n",
              "    <tr>\n",
              "      <th>4</th>\n",
              "      <td>70.000000</td>\n",
              "      <td>3.0</td>\n",
              "      <td>0</td>\n",
              "      <td>NaN</td>\n",
              "      <td>1612</td>\n",
              "      <td>Mortal Kombat: Deadly Alliance</td>\n",
              "      <td>[PlayStation 2]</td>\n",
              "      <td>[Xbox]</td>\n",
              "      <td>NaN</td>\n",
              "      <td>NaN</td>\n",
              "      <td>...</td>\n",
              "      <td>NaN</td>\n",
              "      <td>NaN</td>\n",
              "      <td>NaN</td>\n",
              "      <td>NaN</td>\n",
              "      <td>1.842424</td>\n",
              "      <td>62.258517</td>\n",
              "      <td>27.0</td>\n",
              "      <td>1.037405e+09</td>\n",
              "      <td>30.0</td>\n",
              "      <td>[[PlayStation 2], [Xbox]]</td>\n",
              "    </tr>\n",
              "  </tbody>\n",
              "</table>\n",
              "<p>5 rows × 23 columns</p>\n",
              "</div>"
            ],
            "text/plain": [
              "   agg_rating  agg_rating_count  category  hypes     id  \\\n",
              "0   84.833333               9.0         0    NaN    119   \n",
              "1         NaN               NaN         0    NaN  81899   \n",
              "2         NaN               NaN         1    NaN  16130   \n",
              "3         NaN               NaN         1    NaN  16131   \n",
              "4   70.000000               3.0         0    NaN   1612   \n",
              "\n",
              "                               name                     plat0       plat1  \\\n",
              "0                     Mortal Kombat           [PlayStation 3]  [Xbox 360]   \n",
              "1  Mortal Kombat & Mortal Kombat II                       NaN         NaN   \n",
              "2     Mortal Kombat X - Kombat Pack  [PC (Microsoft Windows)]  [Xbox 360]   \n",
              "3   Mortal Kombat X - Kombat Pack 2                       NaN         NaN   \n",
              "4    Mortal Kombat: Deadly Alliance           [PlayStation 2]      [Xbox]   \n",
              "\n",
              "  plat10            plat2                        ...                          \\\n",
              "0    NaN              NaN                        ...                           \n",
              "1    NaN              NaN                        ...                           \n",
              "2    NaN  [PlayStation 4]                        ...                           \n",
              "3    NaN              NaN                        ...                           \n",
              "4    NaN              NaN                        ...                           \n",
              "\n",
              "  plat6 plat7 plat8 plat9 popularity     rating rating_count       release  \\\n",
              "0   NaN   NaN   NaN   NaN   6.272077  83.940729        139.0  1.303171e+09   \n",
              "1   NaN   NaN   NaN   NaN   1.000000        NaN          NaN           NaN   \n",
              "2   NaN   NaN   NaN   NaN   1.000000        NaN          NaN  1.429142e+09   \n",
              "3   NaN   NaN   NaN   NaN   1.000000        NaN          NaN           NaN   \n",
              "4   NaN   NaN   NaN   NaN   1.842424  62.258517         27.0  1.037405e+09   \n",
              "\n",
              "   total_rating_count                                          platforms  \n",
              "0               148.0                      [[PlayStation 3], [Xbox 360]]  \n",
              "1                 NaN                                                 []  \n",
              "2                 NaN  [[PC (Microsoft Windows)], [Xbox 360], [PlaySt...  \n",
              "3                 NaN                                                 []  \n",
              "4                30.0                          [[PlayStation 2], [Xbox]]  \n",
              "\n",
              "[5 rows x 23 columns]"
            ]
          },
          "metadata": {
            "tags": []
          },
          "execution_count": 185
        }
      ]
    },
    {
      "metadata": {
        "id": "h_LdWoZrPizr",
        "colab_type": "code",
        "colab": {}
      },
      "cell_type": "code",
      "source": [
        "#removendo os jogos que não são jogos principais\n",
        "df = df[df[\"category\"]==0]"
      ],
      "execution_count": 0,
      "outputs": []
    },
    {
      "metadata": {
        "id": "3jVIwI875DYg",
        "colab_type": "code",
        "colab": {
          "base_uri": "https://localhost:8080/",
          "height": 428
        },
        "outputId": "ef9a54ff-7da1-48d3-e4ef-f7305a07653a"
      },
      "cell_type": "code",
      "source": [
        "df.name.unique()"
      ],
      "execution_count": 187,
      "outputs": [
        {
          "output_type": "execute_result",
          "data": {
            "text/plain": [
              "array(['Mortal Kombat', 'Mortal Kombat & Mortal Kombat II',\n",
              "       'Mortal Kombat: Deadly Alliance', 'Mortal Kombat II',\n",
              "       'Mortal Kombat: Deception', 'Mortal Kombat: Unchained',\n",
              "       'Kombat Kars', 'Pong Kombat', 'Mental Kombat', 'Science Kombat',\n",
              "       'Kigurumi Kombat', 'Mortal Kombat 3', 'Mortal Kombat 4',\n",
              "       'Mortal Kombat 11', 'Mortal Kombat X', 'Mortal Kombat Gold',\n",
              "       'Mortal Kombat Advance', 'Mortal Kombat Trilogy',\n",
              "       'Mortal Kombat X Mobile', 'Mortal Kombat Kollection',\n",
              "       'Mortal Kombat II Special', 'Mortal Kombat: Armageddon',\n",
              "       'Ultimate Mortal Kombat 3', 'Aggressors of Dark Kombat',\n",
              "       'Mortal Kombat II Unlimited', 'Mortal Kombat Revelations',\n",
              "       'Mortal Kombat: Shaolin Monks', 'Mortal Kombat: Special Forces',\n",
              "       'Mortal Kombat vs. DC Universe', 'Ultimate Mortal Kombat Trilogy',\n",
              "       'Mortal Kombat X Premium Edition',\n",
              "       'Mortal Kombat HD Arcade Kollection',\n",
              "       'Mortal Kombat: Tournament Edition',\n",
              "       'Mortal Kombat Mythologies: Sub-Zero',\n",
              "       \"Mortal Kombat X Kollector's Edition\",\n",
              "       'Mortal Kombat Mythologies: Gold 2000',\n",
              "       \"Mortal Kombat: Deception - Kollector's Edition\",\n",
              "       'Mortal Kombat: Armageddon (Premium Edition)',\n",
              "       \"Mortal Kombat vs. DC Universe Kollector's Edition\"], dtype=object)"
            ]
          },
          "metadata": {
            "tags": []
          },
          "execution_count": 187
        }
      ]
    },
    {
      "metadata": {
        "id": "UiR_4Iq5XalM",
        "colab_type": "text"
      },
      "cell_type": "markdown",
      "source": [
        "Esses são todos os jogos de Mortal Kombat que serão analisados. Mas tem uma coisa estranha...\n",
        "Agressors of Dark Kombat???\n",
        "\n",
        "Esse eu também não conhecia, Agressors of Dark Kombat é um game da SNK, de luta que foi lançado pro fliperama em 1994. A grande inovação do jogo em relação aos outros do genero era quem em ADK você podia se movimentar pra dentro e fora da tela, imitando a logica de jogos consagrados como streets of rage e colocando ela em um jogo de luta.\n",
        "\n",
        "Aparentemente não foi bem recebido e ADK ganhou o prémio de jogo **mais estranho** do ano pela EGM"
      ]
    },
    {
      "metadata": {
        "id": "kPpZJSgQQCIc",
        "colab_type": "code",
        "colab": {}
      },
      "cell_type": "code",
      "source": [
        "#removendo essa reliquia\n",
        "df = df[df[\"name\"] != \"Agressors of Dark Kombat\"]"
      ],
      "execution_count": 0,
      "outputs": []
    },
    {
      "metadata": {
        "id": "daxX1k1_Xl4O",
        "colab_type": "code",
        "colab": {}
      },
      "cell_type": "code",
      "source": [
        "#removendo os jogos que não foram avaliados\n",
        "df.dropna(subset=[\"rating\"],inplace=True)"
      ],
      "execution_count": 0,
      "outputs": []
    },
    {
      "metadata": {
        "id": "xAgBj_-LXps8",
        "colab_type": "code",
        "colab": {
          "base_uri": "https://localhost:8080/",
          "height": 520
        },
        "outputId": "bc90ca4d-f269-4d19-a743-00b109bb9bf7"
      },
      "cell_type": "code",
      "source": [
        "#todos os jogos\n",
        "df.groupby(\"name\")[[\"name\"]].count()"
      ],
      "execution_count": 190,
      "outputs": [
        {
          "output_type": "execute_result",
          "data": {
            "text/html": [
              "<div>\n",
              "<style scoped>\n",
              "    .dataframe tbody tr th:only-of-type {\n",
              "        vertical-align: middle;\n",
              "    }\n",
              "\n",
              "    .dataframe tbody tr th {\n",
              "        vertical-align: top;\n",
              "    }\n",
              "\n",
              "    .dataframe thead th {\n",
              "        text-align: right;\n",
              "    }\n",
              "</style>\n",
              "<table border=\"1\" class=\"dataframe\">\n",
              "  <thead>\n",
              "    <tr style=\"text-align: right;\">\n",
              "      <th></th>\n",
              "      <th>name</th>\n",
              "    </tr>\n",
              "    <tr>\n",
              "      <th>name</th>\n",
              "      <th></th>\n",
              "    </tr>\n",
              "  </thead>\n",
              "  <tbody>\n",
              "    <tr>\n",
              "      <th>Mortal Kombat</th>\n",
              "      <td>2</td>\n",
              "    </tr>\n",
              "    <tr>\n",
              "      <th>Mortal Kombat 3</th>\n",
              "      <td>1</td>\n",
              "    </tr>\n",
              "    <tr>\n",
              "      <th>Mortal Kombat 4</th>\n",
              "      <td>1</td>\n",
              "    </tr>\n",
              "    <tr>\n",
              "      <th>Mortal Kombat II</th>\n",
              "      <td>1</td>\n",
              "    </tr>\n",
              "    <tr>\n",
              "      <th>Mortal Kombat Mythologies: Sub-Zero</th>\n",
              "      <td>1</td>\n",
              "    </tr>\n",
              "    <tr>\n",
              "      <th>Mortal Kombat Trilogy</th>\n",
              "      <td>1</td>\n",
              "    </tr>\n",
              "    <tr>\n",
              "      <th>Mortal Kombat X</th>\n",
              "      <td>1</td>\n",
              "    </tr>\n",
              "    <tr>\n",
              "      <th>Mortal Kombat vs. DC Universe</th>\n",
              "      <td>1</td>\n",
              "    </tr>\n",
              "    <tr>\n",
              "      <th>Mortal Kombat: Armageddon</th>\n",
              "      <td>1</td>\n",
              "    </tr>\n",
              "    <tr>\n",
              "      <th>Mortal Kombat: Deadly Alliance</th>\n",
              "      <td>1</td>\n",
              "    </tr>\n",
              "    <tr>\n",
              "      <th>Mortal Kombat: Deception</th>\n",
              "      <td>1</td>\n",
              "    </tr>\n",
              "    <tr>\n",
              "      <th>Mortal Kombat: Shaolin Monks</th>\n",
              "      <td>1</td>\n",
              "    </tr>\n",
              "    <tr>\n",
              "      <th>Mortal Kombat: Unchained</th>\n",
              "      <td>1</td>\n",
              "    </tr>\n",
              "    <tr>\n",
              "      <th>Ultimate Mortal Kombat 3</th>\n",
              "      <td>1</td>\n",
              "    </tr>\n",
              "  </tbody>\n",
              "</table>\n",
              "</div>"
            ],
            "text/plain": [
              "                                     name\n",
              "name                                     \n",
              "Mortal Kombat                           2\n",
              "Mortal Kombat 3                         1\n",
              "Mortal Kombat 4                         1\n",
              "Mortal Kombat II                        1\n",
              "Mortal Kombat Mythologies: Sub-Zero     1\n",
              "Mortal Kombat Trilogy                   1\n",
              "Mortal Kombat X                         1\n",
              "Mortal Kombat vs. DC Universe           1\n",
              "Mortal Kombat: Armageddon               1\n",
              "Mortal Kombat: Deadly Alliance          1\n",
              "Mortal Kombat: Deception                1\n",
              "Mortal Kombat: Shaolin Monks            1\n",
              "Mortal Kombat: Unchained                1\n",
              "Ultimate Mortal Kombat 3                1"
            ]
          },
          "metadata": {
            "tags": []
          },
          "execution_count": 190
        }
      ]
    },
    {
      "metadata": {
        "id": "TbU5kDcG7LIS",
        "colab_type": "text"
      },
      "cell_type": "markdown",
      "source": [
        "Agora sim, temos uma lista!"
      ]
    },
    {
      "metadata": {
        "id": "kjWtUPGB8QN5",
        "colab_type": "text"
      },
      "cell_type": "markdown",
      "source": [
        "Falta corrigir as datas que estão em Unix."
      ]
    },
    {
      "metadata": {
        "id": "kkmqxajsavWf",
        "colab_type": "code",
        "colab": {}
      },
      "cell_type": "code",
      "source": [
        "import datetime\n",
        "df[\"release\"]=df[\"release\"].apply(lambda x: datetime.datetime.utcfromtimestamp(int(x)).strftime('%Y-%m-%d'))"
      ],
      "execution_count": 0,
      "outputs": []
    },
    {
      "metadata": {
        "id": "li951cT0iSpa",
        "colab_type": "code",
        "colab": {
          "base_uri": "https://localhost:8080/",
          "height": 266
        },
        "outputId": "cf8add5a-3077-483b-c26e-f57bd2de1715"
      },
      "cell_type": "code",
      "source": [
        "df[df[\"name\"]==\"Mortal Kombat\"]"
      ],
      "execution_count": 192,
      "outputs": [
        {
          "output_type": "execute_result",
          "data": {
            "text/html": [
              "<div>\n",
              "<style scoped>\n",
              "    .dataframe tbody tr th:only-of-type {\n",
              "        vertical-align: middle;\n",
              "    }\n",
              "\n",
              "    .dataframe tbody tr th {\n",
              "        vertical-align: top;\n",
              "    }\n",
              "\n",
              "    .dataframe thead th {\n",
              "        text-align: right;\n",
              "    }\n",
              "</style>\n",
              "<table border=\"1\" class=\"dataframe\">\n",
              "  <thead>\n",
              "    <tr style=\"text-align: right;\">\n",
              "      <th></th>\n",
              "      <th>agg_rating</th>\n",
              "      <th>agg_rating_count</th>\n",
              "      <th>category</th>\n",
              "      <th>hypes</th>\n",
              "      <th>id</th>\n",
              "      <th>name</th>\n",
              "      <th>plat0</th>\n",
              "      <th>plat1</th>\n",
              "      <th>plat10</th>\n",
              "      <th>plat2</th>\n",
              "      <th>...</th>\n",
              "      <th>plat6</th>\n",
              "      <th>plat7</th>\n",
              "      <th>plat8</th>\n",
              "      <th>plat9</th>\n",
              "      <th>popularity</th>\n",
              "      <th>rating</th>\n",
              "      <th>rating_count</th>\n",
              "      <th>release</th>\n",
              "      <th>total_rating_count</th>\n",
              "      <th>platforms</th>\n",
              "    </tr>\n",
              "  </thead>\n",
              "  <tbody>\n",
              "    <tr>\n",
              "      <th>0</th>\n",
              "      <td>84.833333</td>\n",
              "      <td>9.0</td>\n",
              "      <td>0</td>\n",
              "      <td>NaN</td>\n",
              "      <td>119</td>\n",
              "      <td>Mortal Kombat</td>\n",
              "      <td>[PlayStation 3]</td>\n",
              "      <td>[Xbox 360]</td>\n",
              "      <td>NaN</td>\n",
              "      <td>NaN</td>\n",
              "      <td>...</td>\n",
              "      <td>NaN</td>\n",
              "      <td>NaN</td>\n",
              "      <td>NaN</td>\n",
              "      <td>NaN</td>\n",
              "      <td>6.272077</td>\n",
              "      <td>83.940729</td>\n",
              "      <td>139.0</td>\n",
              "      <td>2011-04-19</td>\n",
              "      <td>148.0</td>\n",
              "      <td>[[PlayStation 3], [Xbox 360]]</td>\n",
              "    </tr>\n",
              "    <tr>\n",
              "      <th>11</th>\n",
              "      <td>83.333333</td>\n",
              "      <td>0.0</td>\n",
              "      <td>0</td>\n",
              "      <td>NaN</td>\n",
              "      <td>1618</td>\n",
              "      <td>Mortal Kombat</td>\n",
              "      <td>NaN</td>\n",
              "      <td>NaN</td>\n",
              "      <td>NaN</td>\n",
              "      <td>[Super Nintendo Entertainment System (SNES)]</td>\n",
              "      <td>...</td>\n",
              "      <td>[arcade]</td>\n",
              "      <td>[Sega Master System]</td>\n",
              "      <td>NaN</td>\n",
              "      <td>NaN</td>\n",
              "      <td>4.796396</td>\n",
              "      <td>66.468611</td>\n",
              "      <td>104.0</td>\n",
              "      <td>1992-08-02</td>\n",
              "      <td>104.0</td>\n",
              "      <td>[[Super Nintendo Entertainment System (SNES)],...</td>\n",
              "    </tr>\n",
              "  </tbody>\n",
              "</table>\n",
              "<p>2 rows × 23 columns</p>\n",
              "</div>"
            ],
            "text/plain": [
              "    agg_rating  agg_rating_count  category  hypes    id           name  \\\n",
              "0    84.833333               9.0         0    NaN   119  Mortal Kombat   \n",
              "11   83.333333               0.0         0    NaN  1618  Mortal Kombat   \n",
              "\n",
              "              plat0       plat1 plat10  \\\n",
              "0   [PlayStation 3]  [Xbox 360]    NaN   \n",
              "11              NaN         NaN    NaN   \n",
              "\n",
              "                                           plat2  \\\n",
              "0                                            NaN   \n",
              "11  [Super Nintendo Entertainment System (SNES)]   \n",
              "\n",
              "                          ...                             plat6  \\\n",
              "0                         ...                               NaN   \n",
              "11                        ...                          [arcade]   \n",
              "\n",
              "                   plat7 plat8 plat9 popularity     rating rating_count  \\\n",
              "0                    NaN   NaN   NaN   6.272077  83.940729        139.0   \n",
              "11  [Sega Master System]   NaN   NaN   4.796396  66.468611        104.0   \n",
              "\n",
              "       release  total_rating_count  \\\n",
              "0   2011-04-19               148.0   \n",
              "11  1992-08-02               104.0   \n",
              "\n",
              "                                            platforms  \n",
              "0                       [[PlayStation 3], [Xbox 360]]  \n",
              "11  [[Super Nintendo Entertainment System (SNES)],...  \n",
              "\n",
              "[2 rows x 23 columns]"
            ]
          },
          "metadata": {
            "tags": []
          },
          "execution_count": 192
        }
      ]
    },
    {
      "metadata": {
        "id": "iRiUb9D-ie9C",
        "colab_type": "code",
        "colab": {}
      },
      "cell_type": "code",
      "source": [
        "df.loc[11,\"name\"] = \"Mortal Kombat(1992)\""
      ],
      "execution_count": 0,
      "outputs": []
    },
    {
      "metadata": {
        "id": "SKa_BVH2Sv5D",
        "colab_type": "code",
        "colab": {}
      },
      "cell_type": "code",
      "source": [
        "df.drop(choose_columns,inplace=True, axis=1)"
      ],
      "execution_count": 0,
      "outputs": []
    },
    {
      "metadata": {
        "id": "bp11m0a0X_3b",
        "colab_type": "code",
        "colab": {}
      },
      "cell_type": "code",
      "source": [
        "df.drop([\"hypes\",\"category\",\"id\"], axis = 1, inplace = True)"
      ],
      "execution_count": 0,
      "outputs": []
    },
    {
      "metadata": {
        "id": "OeaaDQoXWKdI",
        "colab_type": "text"
      },
      "cell_type": "markdown",
      "source": [
        "## MORTAL KOMBAT!"
      ]
    },
    {
      "metadata": {
        "id": "L8lT-KsOV8Vq",
        "colab_type": "code",
        "colab": {
          "base_uri": "https://localhost:8080/",
          "height": 300
        },
        "outputId": "4b1d5609-07ad-46e6-f82c-baa3bf313827"
      },
      "cell_type": "code",
      "source": [
        "df.describe()"
      ],
      "execution_count": 196,
      "outputs": [
        {
          "output_type": "execute_result",
          "data": {
            "text/html": [
              "<div>\n",
              "<style scoped>\n",
              "    .dataframe tbody tr th:only-of-type {\n",
              "        vertical-align: middle;\n",
              "    }\n",
              "\n",
              "    .dataframe tbody tr th {\n",
              "        vertical-align: top;\n",
              "    }\n",
              "\n",
              "    .dataframe thead th {\n",
              "        text-align: right;\n",
              "    }\n",
              "</style>\n",
              "<table border=\"1\" class=\"dataframe\">\n",
              "  <thead>\n",
              "    <tr style=\"text-align: right;\">\n",
              "      <th></th>\n",
              "      <th>agg_rating</th>\n",
              "      <th>agg_rating_count</th>\n",
              "      <th>popularity</th>\n",
              "      <th>rating</th>\n",
              "      <th>rating_count</th>\n",
              "      <th>total_rating_count</th>\n",
              "    </tr>\n",
              "  </thead>\n",
              "  <tbody>\n",
              "    <tr>\n",
              "      <th>count</th>\n",
              "      <td>11.000000</td>\n",
              "      <td>11.000000</td>\n",
              "      <td>15.000000</td>\n",
              "      <td>15.000000</td>\n",
              "      <td>15.000000</td>\n",
              "      <td>15.000000</td>\n",
              "    </tr>\n",
              "    <tr>\n",
              "      <th>mean</th>\n",
              "      <td>71.290765</td>\n",
              "      <td>5.090909</td>\n",
              "      <td>3.038600</td>\n",
              "      <td>71.415818</td>\n",
              "      <td>57.266667</td>\n",
              "      <td>61.000000</td>\n",
              "    </tr>\n",
              "    <tr>\n",
              "      <th>std</th>\n",
              "      <td>12.606922</td>\n",
              "      <td>6.090231</td>\n",
              "      <td>2.091651</td>\n",
              "      <td>9.113487</td>\n",
              "      <td>45.362771</td>\n",
              "      <td>48.615106</td>\n",
              "    </tr>\n",
              "    <tr>\n",
              "      <th>min</th>\n",
              "      <td>50.000000</td>\n",
              "      <td>0.000000</td>\n",
              "      <td>1.000000</td>\n",
              "      <td>52.878125</td>\n",
              "      <td>6.000000</td>\n",
              "      <td>6.000000</td>\n",
              "    </tr>\n",
              "    <tr>\n",
              "      <th>25%</th>\n",
              "      <td>65.000000</td>\n",
              "      <td>1.000000</td>\n",
              "      <td>1.631209</td>\n",
              "      <td>64.363564</td>\n",
              "      <td>27.000000</td>\n",
              "      <td>31.000000</td>\n",
              "    </tr>\n",
              "    <tr>\n",
              "      <th>50%</th>\n",
              "      <td>74.000000</td>\n",
              "      <td>3.000000</td>\n",
              "      <td>2.469980</td>\n",
              "      <td>71.217500</td>\n",
              "      <td>36.000000</td>\n",
              "      <td>40.000000</td>\n",
              "    </tr>\n",
              "    <tr>\n",
              "      <th>75%</th>\n",
              "      <td>80.238095</td>\n",
              "      <td>6.500000</td>\n",
              "      <td>3.423478</td>\n",
              "      <td>78.196421</td>\n",
              "      <td>82.500000</td>\n",
              "      <td>83.000000</td>\n",
              "    </tr>\n",
              "    <tr>\n",
              "      <th>max</th>\n",
              "      <td>84.833333</td>\n",
              "      <td>21.000000</td>\n",
              "      <td>8.612915</td>\n",
              "      <td>83.940729</td>\n",
              "      <td>147.000000</td>\n",
              "      <td>168.000000</td>\n",
              "    </tr>\n",
              "  </tbody>\n",
              "</table>\n",
              "</div>"
            ],
            "text/plain": [
              "       agg_rating  agg_rating_count  popularity     rating  rating_count  \\\n",
              "count   11.000000         11.000000   15.000000  15.000000     15.000000   \n",
              "mean    71.290765          5.090909    3.038600  71.415818     57.266667   \n",
              "std     12.606922          6.090231    2.091651   9.113487     45.362771   \n",
              "min     50.000000          0.000000    1.000000  52.878125      6.000000   \n",
              "25%     65.000000          1.000000    1.631209  64.363564     27.000000   \n",
              "50%     74.000000          3.000000    2.469980  71.217500     36.000000   \n",
              "75%     80.238095          6.500000    3.423478  78.196421     82.500000   \n",
              "max     84.833333         21.000000    8.612915  83.940729    147.000000   \n",
              "\n",
              "       total_rating_count  \n",
              "count           15.000000  \n",
              "mean            61.000000  \n",
              "std             48.615106  \n",
              "min              6.000000  \n",
              "25%             31.000000  \n",
              "50%             40.000000  \n",
              "75%             83.000000  \n",
              "max            168.000000  "
            ]
          },
          "metadata": {
            "tags": []
          },
          "execution_count": 196
        }
      ]
    },
    {
      "metadata": {
        "id": "1RGwnQrnWakY",
        "colab_type": "text"
      },
      "cell_type": "markdown",
      "source": [
        "* Agregate rating nos fornece a avalização da crítica exterior\n",
        "* Agg_rating_count fornece a quantidade de reviews que o jogo teve\n",
        "* category apenas nos diz que o jogo é um jogo principal da séria\n",
        "* id é o codigo de identificação do jogo na base de dados\n",
        "* popularity é um número baseado no trafego que a pagina do jogo recebe\n",
        "* rating é a crítica que o jogo recebeu dos fãs no site\n",
        "* rating count é contagem de críticas no site por usuários\n",
        "* total rating é o total de avaliações"
      ]
    },
    {
      "metadata": {
        "id": "dP-L2aqlhcZu",
        "colab_type": "text"
      },
      "cell_type": "markdown",
      "source": [
        "### Segundo a Crítica"
      ]
    },
    {
      "metadata": {
        "id": "faq1Wfybhlgf",
        "colab_type": "code",
        "colab": {
          "base_uri": "https://localhost:8080/",
          "height": 303
        },
        "outputId": "446fcf8f-3529-456a-a370-837bb238a1f1"
      },
      "cell_type": "code",
      "source": [
        "sns.barplot(data = df.sort_values(\"agg_rating\",ascending=False).head(),x=\"agg_rating\", y =\"name\")"
      ],
      "execution_count": 197,
      "outputs": [
        {
          "output_type": "execute_result",
          "data": {
            "text/plain": [
              "<matplotlib.axes._subplots.AxesSubplot at 0x7f9c68d1cb38>"
            ]
          },
          "metadata": {
            "tags": []
          },
          "execution_count": 197
        },
        {
          "output_type": "display_data",
          "data": {
            "image/png": "[encoded data removed]",
            "text/plain": [
              "<Figure size 432x288 with 1 Axes>"
            ]
          },
          "metadata": {
            "tags": []
          }
        }
      ]
    },
    {
      "metadata": {
        "id": "7ZTYPGMgj90O",
        "colab_type": "code",
        "colab": {
          "base_uri": "https://localhost:8080/",
          "height": 314
        },
        "outputId": "f4730e81-7859-49f5-ab05-29fd408dfb99"
      },
      "cell_type": "code",
      "source": [
        "ordered_df = df.sort_values(by='agg_rating')\n",
        "my_range=range(1,len(df.index)+1)\n",
        "\n",
        "\n",
        "plt.hlines(y=my_range, xmin=0, xmax=ordered_df['agg_rating'], color='skyblue')\n",
        "plt.plot(ordered_df['agg_rating'], my_range, \"o\")\n",
        "\n",
        "plt.yticks(my_range, ordered_df['name'])\n",
        "plt.title(\"Avaliação da Crítica\", loc='left')\n",
        "plt.xlabel('Nota')\n",
        "plt.ylabel('Jogos')"
      ],
      "execution_count": 198,
      "outputs": [
        {
          "output_type": "execute_result",
          "data": {
            "text/plain": [
              "Text(0, 0.5, 'Jogos')"
            ]
          },
          "metadata": {
            "tags": []
          },
          "execution_count": 198
        },
        {
          "output_type": "display_data",
          "data": {
            "image/png": "[encoded data removed]",
            "text/plain": [
              "<Figure size 432x288 with 1 Axes>"
            ]
          },
          "metadata": {
            "tags": []
          }
        }
      ]
    },
    {
      "metadata": {
        "id": "N3RUFSWqmGHS",
        "colab_type": "code",
        "colab": {}
      },
      "cell_type": "code",
      "source": [
        ""
      ],
      "execution_count": 0,
      "outputs": []
    },
    {
      "metadata": {
        "id": "Hkk1uPwplWF_",
        "colab_type": "text"
      },
      "cell_type": "markdown",
      "source": [
        "### Segundo os Jogadores"
      ]
    },
    {
      "metadata": {
        "id": "9MPzzL8Plbyx",
        "colab_type": "code",
        "colab": {
          "base_uri": "https://localhost:8080/",
          "height": 302
        },
        "outputId": "bf3d08e0-cab9-41ac-da9e-f30e85758442"
      },
      "cell_type": "code",
      "source": [
        "sns.barplot(data = df.sort_values(\"rating\",ascending=False).head(),x=\"rating\", y =\"name\")"
      ],
      "execution_count": 199,
      "outputs": [
        {
          "output_type": "execute_result",
          "data": {
            "text/plain": [
              "<matplotlib.axes._subplots.AxesSubplot at 0x7f9c68d53c50>"
            ]
          },
          "metadata": {
            "tags": []
          },
          "execution_count": 199
        },
        {
          "output_type": "display_data",
          "data": {
            "image/png": "[encoded data removed]",
            "text/plain": [
              "<Figure size 432x288 with 1 Axes>"
            ]
          },
          "metadata": {
            "tags": []
          }
        }
      ]
    },
    {
      "metadata": {
        "id": "t7dLFtETmCOy",
        "colab_type": "code",
        "colab": {
          "base_uri": "https://localhost:8080/",
          "height": 314
        },
        "outputId": "5644a72c-2b67-465d-8ddb-4e84b99f1c8d"
      },
      "cell_type": "code",
      "source": [
        "ordered_df = df.sort_values(by='rating')\n",
        "my_range=range(1,len(df.index)+1)\n",
        "\n",
        "\n",
        "plt.hlines(y=my_range, xmin=0, xmax=ordered_df['rating'], color='skyblue')\n",
        "plt.plot(ordered_df['rating'], my_range, \"o\")\n",
        "\n",
        "plt.yticks(my_range, ordered_df['name'])\n",
        "plt.title(\"Avaliação dos Jogadores\", loc='left')\n",
        "plt.xlabel('Nota')\n",
        "plt.ylabel('Jogos')"
      ],
      "execution_count": 200,
      "outputs": [
        {
          "output_type": "execute_result",
          "data": {
            "text/plain": [
              "Text(0, 0.5, 'Jogos')"
            ]
          },
          "metadata": {
            "tags": []
          },
          "execution_count": 200
        },
        {
          "output_type": "display_data",
          "data": {
            "image/png": "[encoded data removed]",
            "text/plain": [
              "<Figure size 432x288 with 1 Axes>"
            ]
          },
          "metadata": {
            "tags": []
          }
        }
      ]
    },
    {
      "metadata": {
        "id": "8i5ID3daYsdB",
        "colab_type": "code",
        "colab": {
          "base_uri": "https://localhost:8080/",
          "height": 833
        },
        "outputId": "e19ca601-522f-4bc6-802f-a8171727beda"
      },
      "cell_type": "code",
      "source": [
        "%matplotlib inline\n",
        "\n",
        "plt.figure(figsize=(16,10))\n",
        "g = sns.scatterplot(x =\"rating\",\n",
        "                    y = \"agg_rating\",\n",
        "                    data = df,\n",
        "                    hue=\"name\",\n",
        "                    size=\"total_rating_count\",\n",
        "                    palette = \"Set2\",\n",
        "                    sizes=(100, 1000));\n",
        "\n",
        "def label_point(x, y, val, ax):\n",
        "    a = pd.concat({'x': x, 'y': y, 'val': val}, axis=1)\n",
        "    for i, point in a.iterrows():\n",
        "        ax.text(point['x']-1, point['y']-1.5, str(point['val']))\n",
        "\n",
        "label_point(df.rating, df.agg_rating, df.name, plt.gca());\n",
        "\n",
        "g.get_legend().remove();"
      ],
      "execution_count": 201,
      "outputs": [
        {
          "output_type": "stream",
          "text": [
            "posx and posy should be finite values\n",
            "posx and posy should be finite values\n",
            "posx and posy should be finite values\n",
            "posx and posy should be finite values\n",
            "posx and posy should be finite values\n",
            "posx and posy should be finite values\n",
            "posx and posy should be finite values\n",
            "posx and posy should be finite values\n",
            "posx and posy should be finite values\n",
            "posx and posy should be finite values\n",
            "posx and posy should be finite values\n",
            "posx and posy should be finite values\n"
          ],
          "name": "stderr"
        },
        {
          "output_type": "display_data",
          "data": {
            "image/png": "[encoded data removed]",
            "text/plain": [
              "<Figure size 1152x720 with 1 Axes>"
            ]
          },
          "metadata": {
            "tags": []
          }
        }
      ]
    },
    {
      "metadata": {
        "id": "EFZhVIL0YbdE",
        "colab_type": "text"
      },
      "cell_type": "markdown",
      "source": [
        ""
      ]
    },
    {
      "metadata": {
        "id": "-M-srAnoWTy2",
        "colab_type": "code",
        "colab": {}
      },
      "cell_type": "code",
      "source": [
        ""
      ],
      "execution_count": 0,
      "outputs": []
    }
  ]
}