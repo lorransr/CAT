{
  "nbformat": 4,
  "nbformat_minor": 0,
  "metadata": {
    "colab": {
      "name": "Acidentes de Trabalho.ipynb",
      "version": "0.3.2",
      "provenance": [],
      "collapsed_sections": [],
      "toc_visible": true,
      "include_colab_link": true
    },
    "kernelspec": {
      "name": "python3",
      "display_name": "Python 3"
    }
  },
  "cells": [
    {
      "cell_type": "markdown",
      "metadata": {
        "id": "view-in-github",
        "colab_type": "text"
      },
      "source": [
        "<a href=\"https://colab.research.google.com/github/lorransr/CAT/blob/master/Acidentes_de_Trabalho.ipynb\" target=\"_parent\"><img src=\"https://colab.research.google.com/assets/colab-badge.svg\" alt=\"Open In Colab\"/></a>"
      ]
    },
    {
      "metadata": {
        "id": "BkUDqfi5-yMs",
        "colab_type": "text"
      },
      "cell_type": "markdown",
      "source": [
        "# Panorama dos acidentes de Trabalho no Brasil\n",
        "\n",
        "O observatório geral da saude e segurança  do trabalho estima que do periodo de 2017 até maio de 2019, são registrados 1 acidente a cada 54 segundos no país. Desse valor, estima-se também que 1 morte aconteça a cada 4 horas. Entender onde, com quem, quando e como ocorrem os acidentes de trabalho são os primeiros passos para nortearmos políticas públicas de prevenção de acidentes.\n",
        "\n",
        "Com isso em mente minha proposta é realizar uma analise, a partir das bases de dados disponibilizadas, através do portal da transparência, pela previdência social a respeito dos Acidentes do Trabalho ocorridos no pais.\n",
        "\n",
        "A princípio foram adquiridas 8 bases de dados, com diferentes recortes a respeito do tema. Elas são:\n",
        "1. Acidentes de Trabalho por UF\n",
        "2. Acidentes de Trabalho por mês\n",
        "3. Acidentes de Trabalho por faixa-etaria e sexo\n",
        "4. Acidentes de Trabalho por parte do corpo atingida\n",
        "5. Acidentes de Trabalho por CNAE (95)\n",
        "6. Acidentes de Trabalho por CNAE (2.0)\n",
        "7. Acidentes de Trabalho por CID\n",
        "8. Acidentes de Trabalho por CBO\n",
        "\n",
        "Todas as bases de dados estão segmentadas por ano. Todas contêm algum indicativo da situação de haver ou não CAT registrada. Igualmente, todas possuem um campo com a tipificação do acidente, seja ele típico, de trajeto ou uma doença de trabalho."
      ]
    },
    {
      "metadata": {
        "id": "HZ3ZzOuR_3v6",
        "colab_type": "text"
      },
      "cell_type": "markdown",
      "source": [
        "### Mas Afinal, o que é a CAT?\n",
        "\n",
        "A comunicação de acidente de trabalho (CAT) é um documento emitido para reconhecer tanto um **acidente de trabalho** ou **de trajeto** bem como uma **doença ocupacional**.\n",
        "Aqui vale a definição desses termos:\n",
        "\n",
        "* Acidente de trabalho ou de trajeto:é o acidente ocorrido no exercício da atividade profissional a serviço da empresa ou no deslocamento residência -> trabalho -> residência. \n",
        "\n",
        "*  Doença ocupacional: é aquela produzida ou desencadeada pelo exercício do trabalho peculiar a determinada atividade e constante da respectiva relação elaborada pelo Ministério do Trabalho e da Previdência Social.\n",
        "\n",
        "A CAT é um documento obrigatório e possui um prazo de emissão curto. Mesmo que não haja afastamento, a CAT deve ser emitida até o primeiro dia útil seguinte ao da ocorrência. Sob o risco de multa. Por conta desta característica a base de dados do INSS é extramemente útil e pouco defasada da realidade brasileira, portanto um bom instrumento para análise."
      ]
    },
    {
      "metadata": {
        "id": "tqJQbvCdBWa8",
        "colab_type": "text"
      },
      "cell_type": "markdown",
      "source": [
        "explicar melhor os seguintes termos:\n",
        "* CNAE \n",
        "* CID\n",
        "* CBO"
      ]
    },
    {
      "metadata": {
        "id": "JoPYEcpjBzie",
        "colab_type": "text"
      },
      "cell_type": "markdown",
      "source": [
        "## Acidentes de Trabalho por UF\n",
        "\n",
        "O primeiro dataset a ser estudado será o que diz respeito aos acidentes de trabalho por unidade federal. Com essa base de dados pretendo responder a pergunta: \"Onde ocorrem os acidentes de trabalho?\". Também sera mostrado a evolução ao longo do tempo para as principais regiões."
      ]
    },
    {
      "metadata": {
        "id": "VdYTOvg6FzXw",
        "colab_type": "code",
        "outputId": "a04d2cd8-b32c-469b-a308-1f1f54cee0de",
        "colab": {
          "base_uri": "https://localhost:8080/",
          "height": 261
        }
      },
      "cell_type": "code",
      "source": [
        "!pip install seaborn==0.9.0"
      ],
      "execution_count": 2,
      "outputs": [
        {
          "output_type": "stream",
          "text": [
            "Requirement already satisfied: seaborn==0.9.0 in /usr/local/lib/python3.6/dist-packages (0.9.0)\n",
            "Requirement already satisfied: matplotlib>=1.4.3 in /usr/local/lib/python3.6/dist-packages (from seaborn==0.9.0) (3.0.3)\n",
            "Requirement already satisfied: numpy>=1.9.3 in /usr/local/lib/python3.6/dist-packages (from seaborn==0.9.0) (1.14.6)\n",
            "Requirement already satisfied: scipy>=0.14.0 in /usr/local/lib/python3.6/dist-packages (from seaborn==0.9.0) (1.1.0)\n",
            "Requirement already satisfied: pandas>=0.15.2 in /usr/local/lib/python3.6/dist-packages (from seaborn==0.9.0) (0.22.0)\n",
            "Requirement already satisfied: cycler>=0.10 in /usr/local/lib/python3.6/dist-packages (from matplotlib>=1.4.3->seaborn==0.9.0) (0.10.0)\n",
            "Requirement already satisfied: kiwisolver>=1.0.1 in /usr/local/lib/python3.6/dist-packages (from matplotlib>=1.4.3->seaborn==0.9.0) (1.0.1)\n",
            "Requirement already satisfied: pyparsing!=2.0.4,!=2.1.2,!=2.1.6,>=2.0.1 in /usr/local/lib/python3.6/dist-packages (from matplotlib>=1.4.3->seaborn==0.9.0) (2.3.1)\n",
            "Requirement already satisfied: python-dateutil>=2.1 in /usr/local/lib/python3.6/dist-packages (from matplotlib>=1.4.3->seaborn==0.9.0) (2.5.3)\n",
            "Requirement already satisfied: pytz>=2011k in /usr/local/lib/python3.6/dist-packages (from pandas>=0.15.2->seaborn==0.9.0) (2018.9)\n",
            "Requirement already satisfied: six in /usr/local/lib/python3.6/dist-packages (from cycler>=0.10->matplotlib>=1.4.3->seaborn==0.9.0) (1.11.0)\n",
            "Requirement already satisfied: setuptools in /usr/local/lib/python3.6/dist-packages (from kiwisolver>=1.0.1->matplotlib>=1.4.3->seaborn==0.9.0) (40.8.0)\n"
          ],
          "name": "stdout"
        }
      ]
    },
    {
      "metadata": {
        "id": "aa1ZWDK6FD-3",
        "colab_type": "code",
        "colab": {}
      },
      "cell_type": "code",
      "source": [
        "import pandas as pd\n",
        "import numpy as np\n",
        "import seaborn as sns\n",
        "import matplotlib.pyplot as plt\n",
        "import matplotlib.animation as animation\n",
        "%matplotlib inline"
      ],
      "execution_count": 0,
      "outputs": []
    },
    {
      "metadata": {
        "id": "445SVfg0N5pL",
        "colab_type": "code",
        "colab": {}
      },
      "cell_type": "code",
      "source": [
        "#importando os dados para o Colab\n",
        "url = \"https://raw.githubusercontent.com/lorransr/CAT/master/ACT-uf.csv\""
      ],
      "execution_count": 0,
      "outputs": []
    },
    {
      "metadata": {
        "id": "to53TQN6FR0Z",
        "colab_type": "code",
        "colab": {}
      },
      "cell_type": "code",
      "source": [
        "#Salvando o dataframe\n",
        "df_uf = pd.read_csv(url, sep=\",\", encoding = \"latin-1\")"
      ],
      "execution_count": 0,
      "outputs": []
    },
    {
      "metadata": {
        "id": "71H5ZeK2FgCb",
        "colab_type": "code",
        "outputId": "353a3772-40be-484b-ac40-635b03462539",
        "colab": {
          "base_uri": "https://localhost:8080/",
          "height": 206
        }
      },
      "cell_type": "code",
      "source": [
        "#renomeando as colunas\n",
        "df_uf.columns = ['ano','estado','motivo/situação','qtd_acidentes']\n",
        "df_uf.head()"
      ],
      "execution_count": 6,
      "outputs": [
        {
          "output_type": "execute_result",
          "data": {
            "text/html": [
              "<div>\n",
              "<style scoped>\n",
              "    .dataframe tbody tr th:only-of-type {\n",
              "        vertical-align: middle;\n",
              "    }\n",
              "\n",
              "    .dataframe tbody tr th {\n",
              "        vertical-align: top;\n",
              "    }\n",
              "\n",
              "    .dataframe thead th {\n",
              "        text-align: right;\n",
              "    }\n",
              "</style>\n",
              "<table border=\"1\" class=\"dataframe\">\n",
              "  <thead>\n",
              "    <tr style=\"text-align: right;\">\n",
              "      <th></th>\n",
              "      <th>ano</th>\n",
              "      <th>estado</th>\n",
              "      <th>motivo/situação</th>\n",
              "      <th>qtd_acidentes</th>\n",
              "    </tr>\n",
              "  </thead>\n",
              "  <tbody>\n",
              "    <tr>\n",
              "      <th>0</th>\n",
              "      <td>1988</td>\n",
              "      <td>Rondônia</td>\n",
              "      <td>Típico-Com Cat</td>\n",
              "      <td>592.0</td>\n",
              "    </tr>\n",
              "    <tr>\n",
              "      <th>1</th>\n",
              "      <td>1988</td>\n",
              "      <td>Acre</td>\n",
              "      <td>Típico-Com Cat</td>\n",
              "      <td>115.0</td>\n",
              "    </tr>\n",
              "    <tr>\n",
              "      <th>2</th>\n",
              "      <td>1988</td>\n",
              "      <td>Amazonas</td>\n",
              "      <td>Típico-Com Cat</td>\n",
              "      <td>5173.0</td>\n",
              "    </tr>\n",
              "    <tr>\n",
              "      <th>3</th>\n",
              "      <td>1988</td>\n",
              "      <td>Pará</td>\n",
              "      <td>Típico-Com Cat</td>\n",
              "      <td>12172.0</td>\n",
              "    </tr>\n",
              "    <tr>\n",
              "      <th>4</th>\n",
              "      <td>1988</td>\n",
              "      <td>Maranhão</td>\n",
              "      <td>Típico-Com Cat</td>\n",
              "      <td>5916.0</td>\n",
              "    </tr>\n",
              "  </tbody>\n",
              "</table>\n",
              "</div>"
            ],
            "text/plain": [
              "    ano    estado motivo/situação  qtd_acidentes\n",
              "0  1988  Rondônia  Típico-Com Cat          592.0\n",
              "1  1988      Acre  Típico-Com Cat          115.0\n",
              "2  1988  Amazonas  Típico-Com Cat         5173.0\n",
              "3  1988      Pará  Típico-Com Cat        12172.0\n",
              "4  1988  Maranhão  Típico-Com Cat         5916.0"
            ]
          },
          "metadata": {
            "tags": []
          },
          "execution_count": 6
        }
      ]
    },
    {
      "metadata": {
        "id": "JCUh18iNPweK",
        "colab_type": "code",
        "outputId": "1a8cc2be-1bdc-4220-ee5b-a2850e1a2ffb",
        "colab": {
          "base_uri": "https://localhost:8080/",
          "height": 110
        }
      },
      "cell_type": "code",
      "source": [
        "#Contando a quantidade de valores nulos\n",
        "df_uf.isna().sum()"
      ],
      "execution_count": 7,
      "outputs": [
        {
          "output_type": "execute_result",
          "data": {
            "text/plain": [
              "ano                0\n",
              "estado             0\n",
              "motivo/situação    0\n",
              "qtd_acidentes      1\n",
              "dtype: int64"
            ]
          },
          "metadata": {
            "tags": []
          },
          "execution_count": 7
        }
      ]
    },
    {
      "metadata": {
        "id": "7v89eeZqyR4c",
        "colab_type": "text"
      },
      "cell_type": "markdown",
      "source": [
        "Uma vez que existe apenas uma linha, em 2893 registros, contendo valores nulos, ela será descartada"
      ]
    },
    {
      "metadata": {
        "id": "8cOiVet8IxUO",
        "colab_type": "code",
        "colab": {}
      },
      "cell_type": "code",
      "source": [
        "#excluindo valores nulos\n",
        "df_uf.dropna(inplace=True) "
      ],
      "execution_count": 0,
      "outputs": []
    },
    {
      "metadata": {
        "id": "2liqDnJRQoVn",
        "colab_type": "text"
      },
      "cell_type": "markdown",
      "source": [
        "Para poder ter uma ideia da distribuição dos acidentes ao redor do pais é preciso primeiro vincular os estados na base de dados a uma latitude e longitude. A partir desse repositório no GitHub, foi possivel encontrar uma base consistente com algumas informações adicionais a respeito dos estados:https://github.com/kelvins/Municipios-Brasileiros/"
      ]
    },
    {
      "metadata": {
        "id": "xe5DuY_EGTxj",
        "colab_type": "code",
        "colab": {}
      },
      "cell_type": "code",
      "source": [
        "url = \"https://raw.githubusercontent.com/lorransr/CAT/master/brasil.csv\"\n",
        "#importando dataframe com lat e lon\n",
        "dim_uf = pd.read_csv(url, sep=\",\")"
      ],
      "execution_count": 0,
      "outputs": []
    },
    {
      "metadata": {
        "id": "z1Z523JbH_Bk",
        "colab_type": "code",
        "outputId": "4357ef28-fe30-4750-dfb7-956118c9e84c",
        "colab": {
          "base_uri": "https://localhost:8080/",
          "height": 206
        }
      },
      "cell_type": "code",
      "source": [
        "dim_uf.head()"
      ],
      "execution_count": 10,
      "outputs": [
        {
          "output_type": "execute_result",
          "data": {
            "text/html": [
              "<div>\n",
              "<style scoped>\n",
              "    .dataframe tbody tr th:only-of-type {\n",
              "        vertical-align: middle;\n",
              "    }\n",
              "\n",
              "    .dataframe tbody tr th {\n",
              "        vertical-align: top;\n",
              "    }\n",
              "\n",
              "    .dataframe thead th {\n",
              "        text-align: right;\n",
              "    }\n",
              "</style>\n",
              "<table border=\"1\" class=\"dataframe\">\n",
              "  <thead>\n",
              "    <tr style=\"text-align: right;\">\n",
              "      <th></th>\n",
              "      <th>ibge</th>\n",
              "      <th>municipio</th>\n",
              "      <th>latitude</th>\n",
              "      <th>longitude</th>\n",
              "      <th>cod_estado</th>\n",
              "      <th>estado</th>\n",
              "      <th>uf</th>\n",
              "      <th>regiao</th>\n",
              "      <th>capital</th>\n",
              "    </tr>\n",
              "  </thead>\n",
              "  <tbody>\n",
              "    <tr>\n",
              "      <th>0</th>\n",
              "      <td>520005</td>\n",
              "      <td>Abadia de Goiás</td>\n",
              "      <td>-16.75730</td>\n",
              "      <td>-49.4412</td>\n",
              "      <td>52</td>\n",
              "      <td>Goiás</td>\n",
              "      <td>GO</td>\n",
              "      <td>Centro-Oeste</td>\n",
              "      <td>0</td>\n",
              "    </tr>\n",
              "    <tr>\n",
              "      <th>1</th>\n",
              "      <td>310010</td>\n",
              "      <td>Abadia dos Dourados</td>\n",
              "      <td>-18.48310</td>\n",
              "      <td>-47.3916</td>\n",
              "      <td>31</td>\n",
              "      <td>Minas Gerais</td>\n",
              "      <td>MG</td>\n",
              "      <td>Sudeste</td>\n",
              "      <td>0</td>\n",
              "    </tr>\n",
              "    <tr>\n",
              "      <th>2</th>\n",
              "      <td>520010</td>\n",
              "      <td>Abadiânia</td>\n",
              "      <td>-16.19700</td>\n",
              "      <td>-48.7057</td>\n",
              "      <td>52</td>\n",
              "      <td>Goiás</td>\n",
              "      <td>GO</td>\n",
              "      <td>Centro-Oeste</td>\n",
              "      <td>0</td>\n",
              "    </tr>\n",
              "    <tr>\n",
              "      <th>3</th>\n",
              "      <td>310020</td>\n",
              "      <td>Abaeté</td>\n",
              "      <td>-19.15510</td>\n",
              "      <td>-45.4444</td>\n",
              "      <td>31</td>\n",
              "      <td>Minas Gerais</td>\n",
              "      <td>MG</td>\n",
              "      <td>Sudeste</td>\n",
              "      <td>0</td>\n",
              "    </tr>\n",
              "    <tr>\n",
              "      <th>4</th>\n",
              "      <td>150010</td>\n",
              "      <td>Abaetetuba</td>\n",
              "      <td>-1.72183</td>\n",
              "      <td>-48.8788</td>\n",
              "      <td>15</td>\n",
              "      <td>Pará</td>\n",
              "      <td>PA</td>\n",
              "      <td>Norte</td>\n",
              "      <td>0</td>\n",
              "    </tr>\n",
              "  </tbody>\n",
              "</table>\n",
              "</div>"
            ],
            "text/plain": [
              "     ibge            municipio  latitude  longitude  cod_estado        estado  \\\n",
              "0  520005      Abadia de Goiás -16.75730   -49.4412          52         Goiás   \n",
              "1  310010  Abadia dos Dourados -18.48310   -47.3916          31  Minas Gerais   \n",
              "2  520010            Abadiânia -16.19700   -48.7057          52         Goiás   \n",
              "3  310020               Abaeté -19.15510   -45.4444          31  Minas Gerais   \n",
              "4  150010           Abaetetuba  -1.72183   -48.8788          15          Pará   \n",
              "\n",
              "   uf        regiao  capital  \n",
              "0  GO  Centro-Oeste        0  \n",
              "1  MG       Sudeste        0  \n",
              "2  GO  Centro-Oeste        0  \n",
              "3  MG       Sudeste        0  \n",
              "4  PA         Norte        0  "
            ]
          },
          "metadata": {
            "tags": []
          },
          "execution_count": 10
        }
      ]
    },
    {
      "metadata": {
        "id": "JqxDpVFmTaQ5",
        "colab_type": "code",
        "outputId": "f65eec6d-9ded-45ee-f4e1-a45c60177a7b",
        "colab": {
          "base_uri": "https://localhost:8080/",
          "height": 206
        }
      },
      "cell_type": "code",
      "source": [
        "#selecionando as colunas que firão no df\n",
        "selected_columns=['latitude', 'longitude', 'cod_estado', 'estado',\n",
        "       'uf', 'regiao', 'capital']\n",
        "dim_uf = dim_uf[selected_columns]\n",
        "#selecionando apenas as capitais\n",
        "dim_uf = dim_uf[dim_uf[\"capital\"]==1]\n",
        "#removendo duplicadas\n",
        "dim_uf.drop_duplicates(subset = \"cod_estado\",inplace=True)\n",
        "dim_uf.drop(\"capital\",axis=1,inplace=True)\n",
        "dim_uf.head()"
      ],
      "execution_count": 11,
      "outputs": [
        {
          "output_type": "execute_result",
          "data": {
            "text/html": [
              "<div>\n",
              "<style scoped>\n",
              "    .dataframe tbody tr th:only-of-type {\n",
              "        vertical-align: middle;\n",
              "    }\n",
              "\n",
              "    .dataframe tbody tr th {\n",
              "        vertical-align: top;\n",
              "    }\n",
              "\n",
              "    .dataframe thead th {\n",
              "        text-align: right;\n",
              "    }\n",
              "</style>\n",
              "<table border=\"1\" class=\"dataframe\">\n",
              "  <thead>\n",
              "    <tr style=\"text-align: right;\">\n",
              "      <th></th>\n",
              "      <th>latitude</th>\n",
              "      <th>longitude</th>\n",
              "      <th>cod_estado</th>\n",
              "      <th>estado</th>\n",
              "      <th>uf</th>\n",
              "      <th>regiao</th>\n",
              "    </tr>\n",
              "  </thead>\n",
              "  <tbody>\n",
              "    <tr>\n",
              "      <th>294</th>\n",
              "      <td>-10.90910</td>\n",
              "      <td>-37.0677</td>\n",
              "      <td>28</td>\n",
              "      <td>Sergipe</td>\n",
              "      <td>SE</td>\n",
              "      <td>Nordeste</td>\n",
              "    </tr>\n",
              "    <tr>\n",
              "      <th>580</th>\n",
              "      <td>-1.45540</td>\n",
              "      <td>-48.4898</td>\n",
              "      <td>15</td>\n",
              "      <td>Pará</td>\n",
              "      <td>PA</td>\n",
              "      <td>Norte</td>\n",
              "    </tr>\n",
              "    <tr>\n",
              "      <th>592</th>\n",
              "      <td>-19.91020</td>\n",
              "      <td>-43.9266</td>\n",
              "      <td>31</td>\n",
              "      <td>Minas Gerais</td>\n",
              "      <td>MG</td>\n",
              "      <td>Sudeste</td>\n",
              "    </tr>\n",
              "    <tr>\n",
              "      <th>642</th>\n",
              "      <td>2.82384</td>\n",
              "      <td>-60.6753</td>\n",
              "      <td>14</td>\n",
              "      <td>Roraima</td>\n",
              "      <td>RR</td>\n",
              "      <td>Norte</td>\n",
              "    </tr>\n",
              "    <tr>\n",
              "      <th>755</th>\n",
              "      <td>-15.77950</td>\n",
              "      <td>-47.9297</td>\n",
              "      <td>53</td>\n",
              "      <td>Distrito Federal</td>\n",
              "      <td>DF</td>\n",
              "      <td>Centro-Oeste</td>\n",
              "    </tr>\n",
              "  </tbody>\n",
              "</table>\n",
              "</div>"
            ],
            "text/plain": [
              "     latitude  longitude  cod_estado            estado  uf        regiao\n",
              "294 -10.90910   -37.0677          28           Sergipe  SE      Nordeste\n",
              "580  -1.45540   -48.4898          15              Pará  PA         Norte\n",
              "592 -19.91020   -43.9266          31      Minas Gerais  MG       Sudeste\n",
              "642   2.82384   -60.6753          14           Roraima  RR         Norte\n",
              "755 -15.77950   -47.9297          53  Distrito Federal  DF  Centro-Oeste"
            ]
          },
          "metadata": {
            "tags": []
          },
          "execution_count": 11
        }
      ]
    },
    {
      "metadata": {
        "id": "9fGTOePRQfDQ",
        "colab_type": "code",
        "outputId": "b9323b30-796c-4fa7-d08d-d0e5a474c630",
        "colab": {
          "base_uri": "https://localhost:8080/",
          "height": 206
        }
      },
      "cell_type": "code",
      "source": [
        "#Juntando os dataframes\n",
        "df_uf = pd.merge(df_uf,dim_uf, how =\"inner\", on=\"estado\")\n",
        "df_uf.head()"
      ],
      "execution_count": 12,
      "outputs": [
        {
          "output_type": "execute_result",
          "data": {
            "text/html": [
              "<div>\n",
              "<style scoped>\n",
              "    .dataframe tbody tr th:only-of-type {\n",
              "        vertical-align: middle;\n",
              "    }\n",
              "\n",
              "    .dataframe tbody tr th {\n",
              "        vertical-align: top;\n",
              "    }\n",
              "\n",
              "    .dataframe thead th {\n",
              "        text-align: right;\n",
              "    }\n",
              "</style>\n",
              "<table border=\"1\" class=\"dataframe\">\n",
              "  <thead>\n",
              "    <tr style=\"text-align: right;\">\n",
              "      <th></th>\n",
              "      <th>ano</th>\n",
              "      <th>estado</th>\n",
              "      <th>motivo/situação</th>\n",
              "      <th>qtd_acidentes</th>\n",
              "      <th>latitude</th>\n",
              "      <th>longitude</th>\n",
              "      <th>cod_estado</th>\n",
              "      <th>uf</th>\n",
              "      <th>regiao</th>\n",
              "    </tr>\n",
              "  </thead>\n",
              "  <tbody>\n",
              "    <tr>\n",
              "      <th>0</th>\n",
              "      <td>1988</td>\n",
              "      <td>Rondônia</td>\n",
              "      <td>Típico-Com Cat</td>\n",
              "      <td>592.0</td>\n",
              "      <td>-8.76077</td>\n",
              "      <td>-63.8999</td>\n",
              "      <td>11</td>\n",
              "      <td>RO</td>\n",
              "      <td>Norte</td>\n",
              "    </tr>\n",
              "    <tr>\n",
              "      <th>1</th>\n",
              "      <td>1988</td>\n",
              "      <td>Rondônia</td>\n",
              "      <td>Trajeto-Com Cat</td>\n",
              "      <td>78.0</td>\n",
              "      <td>-8.76077</td>\n",
              "      <td>-63.8999</td>\n",
              "      <td>11</td>\n",
              "      <td>RO</td>\n",
              "      <td>Norte</td>\n",
              "    </tr>\n",
              "    <tr>\n",
              "      <th>2</th>\n",
              "      <td>1988</td>\n",
              "      <td>Rondônia</td>\n",
              "      <td>Doença do Trabalho-Com Cat</td>\n",
              "      <td>9.0</td>\n",
              "      <td>-8.76077</td>\n",
              "      <td>-63.8999</td>\n",
              "      <td>11</td>\n",
              "      <td>RO</td>\n",
              "      <td>Norte</td>\n",
              "    </tr>\n",
              "    <tr>\n",
              "      <th>3</th>\n",
              "      <td>1989</td>\n",
              "      <td>Rondônia</td>\n",
              "      <td>Típico-Com Cat</td>\n",
              "      <td>558.0</td>\n",
              "      <td>-8.76077</td>\n",
              "      <td>-63.8999</td>\n",
              "      <td>11</td>\n",
              "      <td>RO</td>\n",
              "      <td>Norte</td>\n",
              "    </tr>\n",
              "    <tr>\n",
              "      <th>4</th>\n",
              "      <td>1989</td>\n",
              "      <td>Rondônia</td>\n",
              "      <td>Trajeto-Com Cat</td>\n",
              "      <td>52.0</td>\n",
              "      <td>-8.76077</td>\n",
              "      <td>-63.8999</td>\n",
              "      <td>11</td>\n",
              "      <td>RO</td>\n",
              "      <td>Norte</td>\n",
              "    </tr>\n",
              "  </tbody>\n",
              "</table>\n",
              "</div>"
            ],
            "text/plain": [
              "    ano    estado             motivo/situação  qtd_acidentes  latitude  \\\n",
              "0  1988  Rondônia              Típico-Com Cat          592.0  -8.76077   \n",
              "1  1988  Rondônia             Trajeto-Com Cat           78.0  -8.76077   \n",
              "2  1988  Rondônia  Doença do Trabalho-Com Cat            9.0  -8.76077   \n",
              "3  1989  Rondônia              Típico-Com Cat          558.0  -8.76077   \n",
              "4  1989  Rondônia             Trajeto-Com Cat           52.0  -8.76077   \n",
              "\n",
              "   longitude  cod_estado  uf regiao  \n",
              "0   -63.8999          11  RO  Norte  \n",
              "1   -63.8999          11  RO  Norte  \n",
              "2   -63.8999          11  RO  Norte  \n",
              "3   -63.8999          11  RO  Norte  \n",
              "4   -63.8999          11  RO  Norte  "
            ]
          },
          "metadata": {
            "tags": []
          },
          "execution_count": 12
        }
      ]
    },
    {
      "metadata": {
        "id": "3880mwmX0Scg",
        "colab_type": "text"
      },
      "cell_type": "markdown",
      "source": [
        "Foi necessário pegar apenas a localização das capitais pois dessa forma o mapa teria latitudes e longitudes que fariam mais sentido geograficamente. Do contrário os acidentes do RJ, poderiam estar vinculados a uma latitude e longitude na fronteira do estado, o que dificultaria a visualização."
      ]
    },
    {
      "metadata": {
        "id": "mSDHPfh5aFbM",
        "colab_type": "code",
        "outputId": "08da1468-2f89-41ed-b4ab-fe8aacec4244",
        "colab": {
          "base_uri": "https://localhost:8080/",
          "height": 204
        }
      },
      "cell_type": "code",
      "source": [
        "#lista dos tipos de dados\n",
        "df_uf.dtypes"
      ],
      "execution_count": 13,
      "outputs": [
        {
          "output_type": "execute_result",
          "data": {
            "text/plain": [
              "ano                 object\n",
              "estado              object\n",
              "motivo/situação     object\n",
              "qtd_acidentes      float64\n",
              "latitude           float64\n",
              "longitude          float64\n",
              "cod_estado           int64\n",
              "uf                  object\n",
              "regiao              object\n",
              "dtype: object"
            ]
          },
          "metadata": {
            "tags": []
          },
          "execution_count": 13
        }
      ]
    },
    {
      "metadata": {
        "id": "3fKxqUQ-1Ai4",
        "colab_type": "text"
      },
      "cell_type": "markdown",
      "source": [
        "o campo ano deve ser alterado para representar um número inteiro"
      ]
    },
    {
      "metadata": {
        "id": "3M0n6dTsaFig",
        "colab_type": "code",
        "colab": {}
      },
      "cell_type": "code",
      "source": [
        "df_uf.ano = df_uf.ano.astype('int64')"
      ],
      "execution_count": 0,
      "outputs": []
    },
    {
      "metadata": {
        "id": "usVOwOZxnu3R",
        "colab_type": "text"
      },
      "cell_type": "markdown",
      "source": [
        "Com a base de dados tratada agora é possivel tirar alguns insights dos dados adquiridos"
      ]
    },
    {
      "metadata": {
        "id": "gi8y5t0Nn3bW",
        "colab_type": "code",
        "outputId": "3273f9e8-e8fb-4745-be2a-e4c7bc8c2700",
        "colab": {
          "base_uri": "https://localhost:8080/",
          "height": 300
        }
      },
      "cell_type": "code",
      "source": [
        "df_uf.describe()"
      ],
      "execution_count": 15,
      "outputs": [
        {
          "output_type": "execute_result",
          "data": {
            "text/html": [
              "<div>\n",
              "<style scoped>\n",
              "    .dataframe tbody tr th:only-of-type {\n",
              "        vertical-align: middle;\n",
              "    }\n",
              "\n",
              "    .dataframe tbody tr th {\n",
              "        vertical-align: top;\n",
              "    }\n",
              "\n",
              "    .dataframe thead th {\n",
              "        text-align: right;\n",
              "    }\n",
              "</style>\n",
              "<table border=\"1\" class=\"dataframe\">\n",
              "  <thead>\n",
              "    <tr style=\"text-align: right;\">\n",
              "      <th></th>\n",
              "      <th>ano</th>\n",
              "      <th>qtd_acidentes</th>\n",
              "      <th>latitude</th>\n",
              "      <th>longitude</th>\n",
              "      <th>cod_estado</th>\n",
              "    </tr>\n",
              "  </thead>\n",
              "  <tbody>\n",
              "    <tr>\n",
              "      <th>count</th>\n",
              "      <td>2893.000000</td>\n",
              "      <td>2893.000000</td>\n",
              "      <td>2893.000000</td>\n",
              "      <td>2893.000000</td>\n",
              "      <td>2893.000000</td>\n",
              "    </tr>\n",
              "    <tr>\n",
              "      <th>mean</th>\n",
              "      <td>2004.155202</td>\n",
              "      <td>5699.356723</td>\n",
              "      <td>-13.057547</td>\n",
              "      <td>-46.855375</td>\n",
              "      <td>29.812306</td>\n",
              "    </tr>\n",
              "    <tr>\n",
              "      <th>std</th>\n",
              "      <td>8.306485</td>\n",
              "      <td>21516.599192</td>\n",
              "      <td>8.788195</td>\n",
              "      <td>8.878290</td>\n",
              "      <td>12.667073</td>\n",
              "    </tr>\n",
              "    <tr>\n",
              "      <th>min</th>\n",
              "      <td>1988.000000</td>\n",
              "      <td>0.000000</td>\n",
              "      <td>-30.031800</td>\n",
              "      <td>-67.824300</td>\n",
              "      <td>11.000000</td>\n",
              "    </tr>\n",
              "    <tr>\n",
              "      <th>25%</th>\n",
              "      <td>1997.000000</td>\n",
              "      <td>97.000000</td>\n",
              "      <td>-20.315500</td>\n",
              "      <td>-51.206500</td>\n",
              "      <td>21.000000</td>\n",
              "    </tr>\n",
              "    <tr>\n",
              "      <th>50%</th>\n",
              "      <td>2006.000000</td>\n",
              "      <td>633.000000</td>\n",
              "      <td>-10.909100</td>\n",
              "      <td>-47.929700</td>\n",
              "      <td>28.000000</td>\n",
              "    </tr>\n",
              "    <tr>\n",
              "      <th>75%</th>\n",
              "      <td>2011.000000</td>\n",
              "      <td>3013.000000</td>\n",
              "      <td>-5.793570</td>\n",
              "      <td>-38.542300</td>\n",
              "      <td>41.000000</td>\n",
              "    </tr>\n",
              "    <tr>\n",
              "      <th>max</th>\n",
              "      <td>2016.000000</td>\n",
              "      <td>419981.000000</td>\n",
              "      <td>2.823840</td>\n",
              "      <td>-34.864100</td>\n",
              "      <td>53.000000</td>\n",
              "    </tr>\n",
              "  </tbody>\n",
              "</table>\n",
              "</div>"
            ],
            "text/plain": [
              "               ano  qtd_acidentes     latitude    longitude   cod_estado\n",
              "count  2893.000000    2893.000000  2893.000000  2893.000000  2893.000000\n",
              "mean   2004.155202    5699.356723   -13.057547   -46.855375    29.812306\n",
              "std       8.306485   21516.599192     8.788195     8.878290    12.667073\n",
              "min    1988.000000       0.000000   -30.031800   -67.824300    11.000000\n",
              "25%    1997.000000      97.000000   -20.315500   -51.206500    21.000000\n",
              "50%    2006.000000     633.000000   -10.909100   -47.929700    28.000000\n",
              "75%    2011.000000    3013.000000    -5.793570   -38.542300    41.000000\n",
              "max    2016.000000  419981.000000     2.823840   -34.864100    53.000000"
            ]
          },
          "metadata": {
            "tags": []
          },
          "execution_count": 15
        }
      ]
    },
    {
      "metadata": {
        "id": "FrdbSxENojXq",
        "colab_type": "text"
      },
      "cell_type": "markdown",
      "source": [
        "A princípio é possivel observar alguns pontos interessantes:\n",
        "* Existe em algum lugar dos dados linha(s) com zero acidentes\n",
        "* O maior númedo de acidentes registrado foi 419981 - o que levanta a questão a respeito do quando e onde isso ocorreu.\n",
        "* Esse número gigantesco de acidentes se trata de um outlier uma vez que a grande maioria dos valores está entre 0 a 3000 acidentes.\n",
        "* Nossa dataset abrange desde 1988 até 2016\n"
      ]
    },
    {
      "metadata": {
        "id": "AStoX8ibZjt-",
        "colab_type": "code",
        "outputId": "f13211c7-765e-48b2-d7f6-d672dc05cf4f",
        "colab": {
          "base_uri": "https://localhost:8080/",
          "height": 237
        }
      },
      "cell_type": "code",
      "source": [
        "#numero de estados por região\n",
        "df_uf.groupby(by=[\"regiao\"])[[\"estado\"]].nunique()"
      ],
      "execution_count": 16,
      "outputs": [
        {
          "output_type": "execute_result",
          "data": {
            "text/html": [
              "<div>\n",
              "<style scoped>\n",
              "    .dataframe tbody tr th:only-of-type {\n",
              "        vertical-align: middle;\n",
              "    }\n",
              "\n",
              "    .dataframe tbody tr th {\n",
              "        vertical-align: top;\n",
              "    }\n",
              "\n",
              "    .dataframe thead th {\n",
              "        text-align: right;\n",
              "    }\n",
              "</style>\n",
              "<table border=\"1\" class=\"dataframe\">\n",
              "  <thead>\n",
              "    <tr style=\"text-align: right;\">\n",
              "      <th></th>\n",
              "      <th>estado</th>\n",
              "    </tr>\n",
              "    <tr>\n",
              "      <th>regiao</th>\n",
              "      <th></th>\n",
              "    </tr>\n",
              "  </thead>\n",
              "  <tbody>\n",
              "    <tr>\n",
              "      <th>Centro-Oeste</th>\n",
              "      <td>4</td>\n",
              "    </tr>\n",
              "    <tr>\n",
              "      <th>Nordeste</th>\n",
              "      <td>9</td>\n",
              "    </tr>\n",
              "    <tr>\n",
              "      <th>Norte</th>\n",
              "      <td>7</td>\n",
              "    </tr>\n",
              "    <tr>\n",
              "      <th>Sudeste</th>\n",
              "      <td>4</td>\n",
              "    </tr>\n",
              "    <tr>\n",
              "      <th>Sul</th>\n",
              "      <td>3</td>\n",
              "    </tr>\n",
              "  </tbody>\n",
              "</table>\n",
              "</div>"
            ],
            "text/plain": [
              "              estado\n",
              "regiao              \n",
              "Centro-Oeste       4\n",
              "Nordeste           9\n",
              "Norte              7\n",
              "Sudeste            4\n",
              "Sul                3"
            ]
          },
          "metadata": {
            "tags": []
          },
          "execution_count": 16
        }
      ]
    },
    {
      "metadata": {
        "id": "HyUjufLb66iR",
        "colab_type": "text"
      },
      "cell_type": "markdown",
      "source": [
        "Os dados estão destribuidos em 5 regiões. A região do nordeste é a mais representativa no data set por conta justamente do numero grande de estados."
      ]
    },
    {
      "metadata": {
        "id": "ostNJQV_7uWz",
        "colab_type": "text"
      },
      "cell_type": "markdown",
      "source": [
        "###  Top 10 estados com mais acidentes"
      ]
    },
    {
      "metadata": {
        "id": "CHyRV5UX7z-J",
        "colab_type": "code",
        "colab": {}
      },
      "cell_type": "code",
      "source": [
        "agrupado = df_uf.groupby(by=['estado',\"regiao\",\"ano\"])[[\"qtd_acidentes\"]].sum().reset_index()\n",
        "\n",
        "anos = agrupado.ano.unique()"
      ],
      "execution_count": 0,
      "outputs": []
    },
    {
      "metadata": {
        "id": "O9N0jJhL71wv",
        "colab_type": "code",
        "outputId": "97fc6c47-5825-40b4-c9d7-81a364712af4",
        "colab": {
          "base_uri": "https://localhost:8080/",
          "height": 363
        }
      },
      "cell_type": "code",
      "source": [
        "#media dos anos\n",
        "agrupado_media = agrupado.groupby(by=[\"estado\",\"regiao\"])[[\"qtd_acidentes\"]].mean()\n",
        "agrupado_media.sort_values(by=\"qtd_acidentes\",ascending=False,inplace=True)\n",
        "agrupado_media=agrupado_media.reset_index()\n",
        "agrupado_media.head(10)"
      ],
      "execution_count": 18,
      "outputs": [
        {
          "output_type": "execute_result",
          "data": {
            "text/html": [
              "<div>\n",
              "<style scoped>\n",
              "    .dataframe tbody tr th:only-of-type {\n",
              "        vertical-align: middle;\n",
              "    }\n",
              "\n",
              "    .dataframe tbody tr th {\n",
              "        vertical-align: top;\n",
              "    }\n",
              "\n",
              "    .dataframe thead th {\n",
              "        text-align: right;\n",
              "    }\n",
              "</style>\n",
              "<table border=\"1\" class=\"dataframe\">\n",
              "  <thead>\n",
              "    <tr style=\"text-align: right;\">\n",
              "      <th></th>\n",
              "      <th>estado</th>\n",
              "      <th>regiao</th>\n",
              "      <th>qtd_acidentes</th>\n",
              "    </tr>\n",
              "  </thead>\n",
              "  <tbody>\n",
              "    <tr>\n",
              "      <th>0</th>\n",
              "      <td>São Paulo</td>\n",
              "      <td>Sudeste</td>\n",
              "      <td>233079.482759</td>\n",
              "    </tr>\n",
              "    <tr>\n",
              "      <th>1</th>\n",
              "      <td>Minas Gerais</td>\n",
              "      <td>Sudeste</td>\n",
              "      <td>61328.068966</td>\n",
              "    </tr>\n",
              "    <tr>\n",
              "      <th>2</th>\n",
              "      <td>Rio Grande do Sul</td>\n",
              "      <td>Sul</td>\n",
              "      <td>49233.793103</td>\n",
              "    </tr>\n",
              "    <tr>\n",
              "      <th>3</th>\n",
              "      <td>Paraná</td>\n",
              "      <td>Sul</td>\n",
              "      <td>40790.620690</td>\n",
              "    </tr>\n",
              "    <tr>\n",
              "      <th>4</th>\n",
              "      <td>Rio de Janeiro</td>\n",
              "      <td>Sudeste</td>\n",
              "      <td>38621.551724</td>\n",
              "    </tr>\n",
              "    <tr>\n",
              "      <th>5</th>\n",
              "      <td>Santa Catarina</td>\n",
              "      <td>Sul</td>\n",
              "      <td>35255.586207</td>\n",
              "    </tr>\n",
              "    <tr>\n",
              "      <th>6</th>\n",
              "      <td>Bahia</td>\n",
              "      <td>Nordeste</td>\n",
              "      <td>15054.413793</td>\n",
              "    </tr>\n",
              "    <tr>\n",
              "      <th>7</th>\n",
              "      <td>Pernambuco</td>\n",
              "      <td>Nordeste</td>\n",
              "      <td>12210.655172</td>\n",
              "    </tr>\n",
              "    <tr>\n",
              "      <th>8</th>\n",
              "      <td>Goiás</td>\n",
              "      <td>Centro-Oeste</td>\n",
              "      <td>11632.172414</td>\n",
              "    </tr>\n",
              "    <tr>\n",
              "      <th>9</th>\n",
              "      <td>Espírito Santo</td>\n",
              "      <td>Sudeste</td>\n",
              "      <td>10061.896552</td>\n",
              "    </tr>\n",
              "  </tbody>\n",
              "</table>\n",
              "</div>"
            ],
            "text/plain": [
              "              estado        regiao  qtd_acidentes\n",
              "0          São Paulo       Sudeste  233079.482759\n",
              "1       Minas Gerais       Sudeste   61328.068966\n",
              "2  Rio Grande do Sul           Sul   49233.793103\n",
              "3             Paraná           Sul   40790.620690\n",
              "4     Rio de Janeiro       Sudeste   38621.551724\n",
              "5     Santa Catarina           Sul   35255.586207\n",
              "6              Bahia      Nordeste   15054.413793\n",
              "7         Pernambuco      Nordeste   12210.655172\n",
              "8              Goiás  Centro-Oeste   11632.172414\n",
              "9     Espírito Santo       Sudeste   10061.896552"
            ]
          },
          "metadata": {
            "tags": []
          },
          "execution_count": 18
        }
      ]
    },
    {
      "metadata": {
        "id": "fNblLHfJ8IW8",
        "colab_type": "text"
      },
      "cell_type": "markdown",
      "source": [
        "Mais uma vez São Paulo se mostra como grande outlier da massa de dados. Na verdade, com relação as médias todos os estados do sudeste figuram na lista. Porém a comparação é injusta visto que o Brasil é um pais de dimensões continentais e a região sudeste é a mais populosa. Para avaliar melhor a situação do pais deve ser observado os estados com as maiores médias de acidente e em seguida observar o comportamento deles ao longo dos anos."
      ]
    },
    {
      "metadata": {
        "id": "eg2fgLbH787n",
        "colab_type": "code",
        "outputId": "41855803-9a04-4a03-d5da-3754241a308e",
        "colab": {
          "base_uri": "https://localhost:8080/",
          "height": 405
        }
      },
      "cell_type": "code",
      "source": [
        "plt.figure(figsize = (16,6))\n",
        "m = sns.barplot(y=\"estado\",\n",
        "                x =\"qtd_acidentes\",\n",
        "                data = agrupado_media);\n",
        "m.set_title(\"Média da quantidade de Acidentes de Trabalho por estado\");\n"
      ],
      "execution_count": 19,
      "outputs": [
        {
          "output_type": "display_data",
          "data": {
            "image/png": "[encoded data removed]",
            "text/plain": [
              "<Figure size 1152x432 with 1 Axes>"
            ]
          },
          "metadata": {
            "tags": []
          }
        }
      ]
    },
    {
      "metadata": {
        "id": "o0tFjYEA-2JF",
        "colab_type": "text"
      },
      "cell_type": "markdown",
      "source": [
        "Os estados foram divididos por regiões de forma a melhorar a visualização do gráfico interativo abaixo."
      ]
    },
    {
      "metadata": {
        "id": "KL9ic6gZ8Qhm",
        "colab_type": "code",
        "outputId": "8a03399c-5ce9-4331-931a-95b44742c043",
        "colab": {
          "base_uri": "https://localhost:8080/",
          "height": 405
        }
      },
      "cell_type": "code",
      "source": [
        "#@title Estados com mais acidentes por região por ano { run: \"auto\" }\n",
        "ano = 2003 #@param {type:\"slider\", min:1988, max:2016, step:1}\n",
        "regiao = \"Centro-Oeste\" #@param [\"Norte\", \"Nordeste\", \"Sudeste\", \"Sul\", \"Centro-Oeste\"]\n",
        "\n",
        "#agrupando o df por regiao\n",
        "agrupado_regiao = agrupado[agrupado[\"regiao\"]==regiao]\n",
        "\n",
        "#criando o df para ser plotado\n",
        "data = agrupado[agrupado[\"regiao\"]==regiao]\n",
        "data = data[data[\"ano\"]==ano]\n",
        "data.sort_values(\"qtd_acidentes\",inplace=True,ascending=False)\n",
        "\n",
        "#plotando\n",
        "plt.figure(figsize =(16,6))\n",
        "p = sns.barplot(y=list(data.estado.unique()),\n",
        "                  x=\"qtd_acidentes\",\n",
        "                  data=data);\n",
        "p.set_xlim(min(agrupado_regiao.qtd_acidentes)\n",
        "           ,max(agrupado_regiao.qtd_acidentes))\n",
        "p.set_title(regiao + \" - \"+str(ano));\n"
      ],
      "execution_count": 20,
      "outputs": [
        {
          "output_type": "display_data",
          "data": {
            "image/png": "[encoded data removed]",
            "text/plain": [
              "<Figure size 1152x432 with 1 Axes>"
            ]
          },
          "metadata": {
            "tags": []
          }
        }
      ]
    },
    {
      "metadata": {
        "id": "I9IW0BWhgtQ6",
        "colab_type": "code",
        "outputId": "1f318677-50b7-4293-bed7-4236e9572f51",
        "colab": {
          "base_uri": "https://localhost:8080/",
          "height": 464
        }
      },
      "cell_type": "code",
      "source": [
        "plt.figure(figsize=(16, 6))\n",
        "g = sns.FacetGrid(agrupado,\n",
        "                  col=\"regiao\",\n",
        "                  size = 5,\n",
        "                  aspect = 3,\n",
        "                  sharey=False,\n",
        "                  hue = \"regiao\");\n",
        "\n",
        "\n",
        "g.map_dataframe(sns.barplot,'ano',\"qtd_acidentes\",ci = None).add_legend()\n"
      ],
      "execution_count": 21,
      "outputs": [
        {
          "output_type": "stream",
          "text": [
            "/usr/local/lib/python3.6/dist-packages/seaborn/axisgrid.py:230: UserWarning: The `size` paramter has been renamed to `height`; please update your code.\n",
            "  warnings.warn(msg, UserWarning)\n"
          ],
          "name": "stderr"
        },
        {
          "output_type": "execute_result",
          "data": {
            "text/plain": [
              "<seaborn.axisgrid.FacetGrid at 0x7fdffc4b0198>"
            ]
          },
          "metadata": {
            "tags": []
          },
          "execution_count": 21
        },
        {
          "output_type": "display_data",
          "data": {
            "text/plain": [
              "<Figure size 1152x432 with 0 Axes>"
            ]
          },
          "metadata": {
            "tags": []
          }
        },
        {
          "output_type": "display_data",
          "data": {
            "image/png": "[encoded data removed]",
            "text/plain": [
              "<Figure size 5502.12x360 with 5 Axes>"
            ]
          },
          "metadata": {
            "tags": []
          }
        }
      ]
    },
    {
      "metadata": {
        "id": "_vCYTZjHcks-",
        "colab_type": "text"
      },
      "cell_type": "markdown",
      "source": [
        "No que diz respeito as médias. As regiões Norte, Nordeste e Centro-Oeste apresentaram um comportamento parecido ao longo dos anos. O comportamento é descrito como uma queda na quantidade de acidentes no início da decada de 90 e logo seguido por uma crescente até 2016. Este comportamento não foi observado nas regiões, Sul e Sudeste. A região Sudeste vinha em queda até 2001. de 2002 a 2013, o Sudeste experimentou um aumento de mais de 40000 acidentes. Desde então a região têm presenciado um progresso na área. A história é parecida para a região Sul."
      ]
    },
    {
      "metadata": {
        "id": "iLrpWyODpnJf",
        "colab_type": "text"
      },
      "cell_type": "markdown",
      "source": [
        "### Zero Acidentes\n",
        "\n",
        "Onde será que tivemos zero acidentes?"
      ]
    },
    {
      "metadata": {
        "id": "swE5MmQtqSaD",
        "colab_type": "code",
        "outputId": "100c7910-2e04-49c6-dead-256184cd55fd",
        "colab": {
          "base_uri": "https://localhost:8080/",
          "height": 1178
        }
      },
      "cell_type": "code",
      "source": [
        "#Criando a tabela de zero acidentes\n",
        "zero_acidentes = df_uf[df_uf['qtd_acidentes']==0]\n",
        "zero_acidentes.sort_values([\"regiao\",\n",
        "                            \"estado\",\n",
        "                            \"ano\"]).drop(labels=[\"latitude\",\n",
        "                                                 \"longitude\",\n",
        "                                                 \"cod_estado\",\n",
        "                                                 \"uf\"],axis=1)"
      ],
      "execution_count": 22,
      "outputs": [
        {
          "output_type": "execute_result",
          "data": {
            "text/html": [
              "<div>\n",
              "<style scoped>\n",
              "    .dataframe tbody tr th:only-of-type {\n",
              "        vertical-align: middle;\n",
              "    }\n",
              "\n",
              "    .dataframe tbody tr th {\n",
              "        vertical-align: top;\n",
              "    }\n",
              "\n",
              "    .dataframe thead th {\n",
              "        text-align: right;\n",
              "    }\n",
              "</style>\n",
              "<table border=\"1\" class=\"dataframe\">\n",
              "  <thead>\n",
              "    <tr style=\"text-align: right;\">\n",
              "      <th></th>\n",
              "      <th>ano</th>\n",
              "      <th>estado</th>\n",
              "      <th>motivo/situação</th>\n",
              "      <th>qtd_acidentes</th>\n",
              "      <th>regiao</th>\n",
              "    </tr>\n",
              "  </thead>\n",
              "  <tbody>\n",
              "    <tr>\n",
              "      <th>2347</th>\n",
              "      <td>1993</td>\n",
              "      <td>Mato Grosso</td>\n",
              "      <td>Trajeto-Com Cat</td>\n",
              "      <td>0.0</td>\n",
              "      <td>Centro-Oeste</td>\n",
              "    </tr>\n",
              "    <tr>\n",
              "      <th>1075</th>\n",
              "      <td>1989</td>\n",
              "      <td>Alagoas</td>\n",
              "      <td>Doença do Trabalho-Com Cat</td>\n",
              "      <td>0.0</td>\n",
              "      <td>Nordeste</td>\n",
              "    </tr>\n",
              "    <tr>\n",
              "      <th>1078</th>\n",
              "      <td>1990</td>\n",
              "      <td>Alagoas</td>\n",
              "      <td>Doença do Trabalho-Com Cat</td>\n",
              "      <td>0.0</td>\n",
              "      <td>Nordeste</td>\n",
              "    </tr>\n",
              "    <tr>\n",
              "      <th>434</th>\n",
              "      <td>1990</td>\n",
              "      <td>Maranhão</td>\n",
              "      <td>Doença do Trabalho-Com Cat</td>\n",
              "      <td>0.0</td>\n",
              "      <td>Nordeste</td>\n",
              "    </tr>\n",
              "    <tr>\n",
              "      <th>437</th>\n",
              "      <td>1991</td>\n",
              "      <td>Maranhão</td>\n",
              "      <td>Doença do Trabalho-Com Cat</td>\n",
              "      <td>0.0</td>\n",
              "      <td>Nordeste</td>\n",
              "    </tr>\n",
              "    <tr>\n",
              "      <th>446</th>\n",
              "      <td>1994</td>\n",
              "      <td>Maranhão</td>\n",
              "      <td>Doença do Trabalho-Com Cat</td>\n",
              "      <td>0.0</td>\n",
              "      <td>Nordeste</td>\n",
              "    </tr>\n",
              "    <tr>\n",
              "      <th>449</th>\n",
              "      <td>1995</td>\n",
              "      <td>Maranhão</td>\n",
              "      <td>Doença do Trabalho-Com Cat</td>\n",
              "      <td>0.0</td>\n",
              "      <td>Nordeste</td>\n",
              "    </tr>\n",
              "    <tr>\n",
              "      <th>527</th>\n",
              "      <td>1988</td>\n",
              "      <td>Piauí</td>\n",
              "      <td>Doença do Trabalho-Com Cat</td>\n",
              "      <td>0.0</td>\n",
              "      <td>Nordeste</td>\n",
              "    </tr>\n",
              "    <tr>\n",
              "      <th>539</th>\n",
              "      <td>1992</td>\n",
              "      <td>Piauí</td>\n",
              "      <td>Doença do Trabalho-Com Cat</td>\n",
              "      <td>0.0</td>\n",
              "      <td>Nordeste</td>\n",
              "    </tr>\n",
              "    <tr>\n",
              "      <th>548</th>\n",
              "      <td>1995</td>\n",
              "      <td>Piauí</td>\n",
              "      <td>Doença do Trabalho-Com Cat</td>\n",
              "      <td>0.0</td>\n",
              "      <td>Nordeste</td>\n",
              "    </tr>\n",
              "    <tr>\n",
              "      <th>115</th>\n",
              "      <td>1988</td>\n",
              "      <td>Acre</td>\n",
              "      <td>Doença do Trabalho-Com Cat</td>\n",
              "      <td>0.0</td>\n",
              "      <td>Norte</td>\n",
              "    </tr>\n",
              "    <tr>\n",
              "      <th>121</th>\n",
              "      <td>1990</td>\n",
              "      <td>Acre</td>\n",
              "      <td>Doença do Trabalho-Com Cat</td>\n",
              "      <td>0.0</td>\n",
              "      <td>Norte</td>\n",
              "    </tr>\n",
              "    <tr>\n",
              "      <th>124</th>\n",
              "      <td>1991</td>\n",
              "      <td>Acre</td>\n",
              "      <td>Doença do Trabalho-Com Cat</td>\n",
              "      <td>0.0</td>\n",
              "      <td>Norte</td>\n",
              "    </tr>\n",
              "    <tr>\n",
              "      <th>127</th>\n",
              "      <td>1992</td>\n",
              "      <td>Acre</td>\n",
              "      <td>Doença do Trabalho-Com Cat</td>\n",
              "      <td>0.0</td>\n",
              "      <td>Norte</td>\n",
              "    </tr>\n",
              "    <tr>\n",
              "      <th>130</th>\n",
              "      <td>1993</td>\n",
              "      <td>Acre</td>\n",
              "      <td>Doença do Trabalho-Com Cat</td>\n",
              "      <td>0.0</td>\n",
              "      <td>Norte</td>\n",
              "    </tr>\n",
              "    <tr>\n",
              "      <th>131</th>\n",
              "      <td>1994</td>\n",
              "      <td>Acre</td>\n",
              "      <td>Típico-Com Cat</td>\n",
              "      <td>0.0</td>\n",
              "      <td>Norte</td>\n",
              "    </tr>\n",
              "    <tr>\n",
              "      <th>132</th>\n",
              "      <td>1994</td>\n",
              "      <td>Acre</td>\n",
              "      <td>Trajeto-Com Cat</td>\n",
              "      <td>0.0</td>\n",
              "      <td>Norte</td>\n",
              "    </tr>\n",
              "    <tr>\n",
              "      <th>133</th>\n",
              "      <td>1994</td>\n",
              "      <td>Acre</td>\n",
              "      <td>Doença do Trabalho-Com Cat</td>\n",
              "      <td>0.0</td>\n",
              "      <td>Norte</td>\n",
              "    </tr>\n",
              "    <tr>\n",
              "      <th>136</th>\n",
              "      <td>1995</td>\n",
              "      <td>Acre</td>\n",
              "      <td>Doença do Trabalho-Com Cat</td>\n",
              "      <td>0.0</td>\n",
              "      <td>Norte</td>\n",
              "    </tr>\n",
              "    <tr>\n",
              "      <th>138</th>\n",
              "      <td>1996</td>\n",
              "      <td>Acre</td>\n",
              "      <td>Trajeto-Com Cat</td>\n",
              "      <td>0.0</td>\n",
              "      <td>Norte</td>\n",
              "    </tr>\n",
              "    <tr>\n",
              "      <th>2659</th>\n",
              "      <td>1994</td>\n",
              "      <td>Amapá</td>\n",
              "      <td>Típico-Com Cat</td>\n",
              "      <td>0.0</td>\n",
              "      <td>Norte</td>\n",
              "    </tr>\n",
              "    <tr>\n",
              "      <th>2660</th>\n",
              "      <td>1994</td>\n",
              "      <td>Amapá</td>\n",
              "      <td>Trajeto-Com Cat</td>\n",
              "      <td>0.0</td>\n",
              "      <td>Norte</td>\n",
              "    </tr>\n",
              "    <tr>\n",
              "      <th>2661</th>\n",
              "      <td>1994</td>\n",
              "      <td>Amapá</td>\n",
              "      <td>Doença do Trabalho-Com Cat</td>\n",
              "      <td>0.0</td>\n",
              "      <td>Norte</td>\n",
              "    </tr>\n",
              "    <tr>\n",
              "      <th>2666</th>\n",
              "      <td>1996</td>\n",
              "      <td>Amapá</td>\n",
              "      <td>Trajeto-Com Cat</td>\n",
              "      <td>0.0</td>\n",
              "      <td>Norte</td>\n",
              "    </tr>\n",
              "    <tr>\n",
              "      <th>326</th>\n",
              "      <td>1989</td>\n",
              "      <td>Pará</td>\n",
              "      <td>Doença do Trabalho-Com Cat</td>\n",
              "      <td>0.0</td>\n",
              "      <td>Norte</td>\n",
              "    </tr>\n",
              "    <tr>\n",
              "      <th>329</th>\n",
              "      <td>1990</td>\n",
              "      <td>Pará</td>\n",
              "      <td>Doença do Trabalho-Com Cat</td>\n",
              "      <td>0.0</td>\n",
              "      <td>Norte</td>\n",
              "    </tr>\n",
              "    <tr>\n",
              "      <th>18</th>\n",
              "      <td>1994</td>\n",
              "      <td>Rondônia</td>\n",
              "      <td>Típico-Com Cat</td>\n",
              "      <td>0.0</td>\n",
              "      <td>Norte</td>\n",
              "    </tr>\n",
              "    <tr>\n",
              "      <th>19</th>\n",
              "      <td>1994</td>\n",
              "      <td>Rondônia</td>\n",
              "      <td>Trajeto-Com Cat</td>\n",
              "      <td>0.0</td>\n",
              "      <td>Norte</td>\n",
              "    </tr>\n",
              "    <tr>\n",
              "      <th>20</th>\n",
              "      <td>1994</td>\n",
              "      <td>Rondônia</td>\n",
              "      <td>Doença do Trabalho-Com Cat</td>\n",
              "      <td>0.0</td>\n",
              "      <td>Norte</td>\n",
              "    </tr>\n",
              "    <tr>\n",
              "      <th>2825</th>\n",
              "      <td>1998</td>\n",
              "      <td>Roraima</td>\n",
              "      <td>Doença do Trabalho-Com Cat</td>\n",
              "      <td>0.0</td>\n",
              "      <td>Norte</td>\n",
              "    </tr>\n",
              "    <tr>\n",
              "      <th>2739</th>\n",
              "      <td>1994</td>\n",
              "      <td>Tocantins</td>\n",
              "      <td>Típico-Com Cat</td>\n",
              "      <td>0.0</td>\n",
              "      <td>Norte</td>\n",
              "    </tr>\n",
              "    <tr>\n",
              "      <th>2740</th>\n",
              "      <td>1994</td>\n",
              "      <td>Tocantins</td>\n",
              "      <td>Trajeto-Com Cat</td>\n",
              "      <td>0.0</td>\n",
              "      <td>Norte</td>\n",
              "    </tr>\n",
              "    <tr>\n",
              "      <th>2741</th>\n",
              "      <td>1994</td>\n",
              "      <td>Tocantins</td>\n",
              "      <td>Doença do Trabalho-Com Cat</td>\n",
              "      <td>0.0</td>\n",
              "      <td>Norte</td>\n",
              "    </tr>\n",
              "    <tr>\n",
              "      <th>2125</th>\n",
              "      <td>1995</td>\n",
              "      <td>Rio Grande do Sul</td>\n",
              "      <td>Típico-Com Cat</td>\n",
              "      <td>0.0</td>\n",
              "      <td>Sul</td>\n",
              "    </tr>\n",
              "    <tr>\n",
              "      <th>2126</th>\n",
              "      <td>1995</td>\n",
              "      <td>Rio Grande do Sul</td>\n",
              "      <td>Trajeto-Com Cat</td>\n",
              "      <td>0.0</td>\n",
              "      <td>Sul</td>\n",
              "    </tr>\n",
              "    <tr>\n",
              "      <th>2127</th>\n",
              "      <td>1995</td>\n",
              "      <td>Rio Grande do Sul</td>\n",
              "      <td>Doença do Trabalho-Com Cat</td>\n",
              "      <td>0.0</td>\n",
              "      <td>Sul</td>\n",
              "    </tr>\n",
              "  </tbody>\n",
              "</table>\n",
              "</div>"
            ],
            "text/plain": [
              "       ano             estado             motivo/situação  qtd_acidentes  \\\n",
              "2347  1993        Mato Grosso             Trajeto-Com Cat            0.0   \n",
              "1075  1989            Alagoas  Doença do Trabalho-Com Cat            0.0   \n",
              "1078  1990            Alagoas  Doença do Trabalho-Com Cat            0.0   \n",
              "434   1990           Maranhão  Doença do Trabalho-Com Cat            0.0   \n",
              "437   1991           Maranhão  Doença do Trabalho-Com Cat            0.0   \n",
              "446   1994           Maranhão  Doença do Trabalho-Com Cat            0.0   \n",
              "449   1995           Maranhão  Doença do Trabalho-Com Cat            0.0   \n",
              "527   1988              Piauí  Doença do Trabalho-Com Cat            0.0   \n",
              "539   1992              Piauí  Doença do Trabalho-Com Cat            0.0   \n",
              "548   1995              Piauí  Doença do Trabalho-Com Cat            0.0   \n",
              "115   1988               Acre  Doença do Trabalho-Com Cat            0.0   \n",
              "121   1990               Acre  Doença do Trabalho-Com Cat            0.0   \n",
              "124   1991               Acre  Doença do Trabalho-Com Cat            0.0   \n",
              "127   1992               Acre  Doença do Trabalho-Com Cat            0.0   \n",
              "130   1993               Acre  Doença do Trabalho-Com Cat            0.0   \n",
              "131   1994               Acre              Típico-Com Cat            0.0   \n",
              "132   1994               Acre             Trajeto-Com Cat            0.0   \n",
              "133   1994               Acre  Doença do Trabalho-Com Cat            0.0   \n",
              "136   1995               Acre  Doença do Trabalho-Com Cat            0.0   \n",
              "138   1996               Acre             Trajeto-Com Cat            0.0   \n",
              "2659  1994              Amapá              Típico-Com Cat            0.0   \n",
              "2660  1994              Amapá             Trajeto-Com Cat            0.0   \n",
              "2661  1994              Amapá  Doença do Trabalho-Com Cat            0.0   \n",
              "2666  1996              Amapá             Trajeto-Com Cat            0.0   \n",
              "326   1989               Pará  Doença do Trabalho-Com Cat            0.0   \n",
              "329   1990               Pará  Doença do Trabalho-Com Cat            0.0   \n",
              "18    1994           Rondônia              Típico-Com Cat            0.0   \n",
              "19    1994           Rondônia             Trajeto-Com Cat            0.0   \n",
              "20    1994           Rondônia  Doença do Trabalho-Com Cat            0.0   \n",
              "2825  1998            Roraima  Doença do Trabalho-Com Cat            0.0   \n",
              "2739  1994          Tocantins              Típico-Com Cat            0.0   \n",
              "2740  1994          Tocantins             Trajeto-Com Cat            0.0   \n",
              "2741  1994          Tocantins  Doença do Trabalho-Com Cat            0.0   \n",
              "2125  1995  Rio Grande do Sul              Típico-Com Cat            0.0   \n",
              "2126  1995  Rio Grande do Sul             Trajeto-Com Cat            0.0   \n",
              "2127  1995  Rio Grande do Sul  Doença do Trabalho-Com Cat            0.0   \n",
              "\n",
              "            regiao  \n",
              "2347  Centro-Oeste  \n",
              "1075      Nordeste  \n",
              "1078      Nordeste  \n",
              "434       Nordeste  \n",
              "437       Nordeste  \n",
              "446       Nordeste  \n",
              "449       Nordeste  \n",
              "527       Nordeste  \n",
              "539       Nordeste  \n",
              "548       Nordeste  \n",
              "115          Norte  \n",
              "121          Norte  \n",
              "124          Norte  \n",
              "127          Norte  \n",
              "130          Norte  \n",
              "131          Norte  \n",
              "132          Norte  \n",
              "133          Norte  \n",
              "136          Norte  \n",
              "138          Norte  \n",
              "2659         Norte  \n",
              "2660         Norte  \n",
              "2661         Norte  \n",
              "2666         Norte  \n",
              "326          Norte  \n",
              "329          Norte  \n",
              "18           Norte  \n",
              "19           Norte  \n",
              "20           Norte  \n",
              "2825         Norte  \n",
              "2739         Norte  \n",
              "2740         Norte  \n",
              "2741         Norte  \n",
              "2125           Sul  \n",
              "2126           Sul  \n",
              "2127           Sul  "
            ]
          },
          "metadata": {
            "tags": []
          },
          "execution_count": 22
        }
      ]
    },
    {
      "metadata": {
        "id": "nwXpCG5MiuE2",
        "colab_type": "code",
        "outputId": "eaa6a642-c1c7-4763-d096-2682c3d873c9",
        "colab": {
          "base_uri": "https://localhost:8080/",
          "height": 295
        }
      },
      "cell_type": "code",
      "source": [
        "p = sns.countplot(x=\"ano\",hue=\"regiao\",data=zero_acidentes)\n",
        "p.set_title(\"Qtd de estados com zero acidentes por região e por ano\");"
      ],
      "execution_count": 23,
      "outputs": [
        {
          "output_type": "display_data",
          "data": {
            "image/png": "[encoded data removed]",
            "text/plain": [
              "<Figure size 432x288 with 1 Axes>"
            ]
          },
          "metadata": {
            "tags": []
          }
        }
      ]
    },
    {
      "metadata": {
        "id": "dS9Q-CQcscHc",
        "colab_type": "text"
      },
      "cell_type": "markdown",
      "source": [
        "Os estados do norte apresentam a maior prevalência de anos sem acidente de qualquer tipo. Porém nenhum estado passou um ano sem acidente desde 1998, como mostra o grafico acima. Fica evidenciado também que o sudeste não teve  nenhum ano sem acidentes.\n",
        "\n",
        "No entanto na maioria dos anos em que não ocorreram acidentes de trabalho, a não ocorrência diz respeito ao motivo de doença de trabalho. Os anos em que tivemos zero acidentes de qualquer tipo são mostrados na tabela abaixo:"
      ]
    },
    {
      "metadata": {
        "id": "SAf8AUhnWkaK",
        "colab_type": "code",
        "outputId": "5de6e62b-922e-41df-903e-ccf46fe12ed8",
        "colab": {
          "base_uri": "https://localhost:8080/",
          "height": 677
        }
      },
      "cell_type": "code",
      "source": [
        "zero_acidentes.groupby(['regiao','ano'])[[\"motivo/situação\"]].nunique()"
      ],
      "execution_count": 24,
      "outputs": [
        {
          "output_type": "execute_result",
          "data": {
            "text/html": [
              "<div>\n",
              "<style scoped>\n",
              "    .dataframe tbody tr th:only-of-type {\n",
              "        vertical-align: middle;\n",
              "    }\n",
              "\n",
              "    .dataframe tbody tr th {\n",
              "        vertical-align: top;\n",
              "    }\n",
              "\n",
              "    .dataframe thead th {\n",
              "        text-align: right;\n",
              "    }\n",
              "</style>\n",
              "<table border=\"1\" class=\"dataframe\">\n",
              "  <thead>\n",
              "    <tr style=\"text-align: right;\">\n",
              "      <th></th>\n",
              "      <th></th>\n",
              "      <th>motivo/situação</th>\n",
              "    </tr>\n",
              "    <tr>\n",
              "      <th>regiao</th>\n",
              "      <th>ano</th>\n",
              "      <th></th>\n",
              "    </tr>\n",
              "  </thead>\n",
              "  <tbody>\n",
              "    <tr>\n",
              "      <th>Centro-Oeste</th>\n",
              "      <th>1993</th>\n",
              "      <td>1</td>\n",
              "    </tr>\n",
              "    <tr>\n",
              "      <th rowspan=\"7\" valign=\"top\">Nordeste</th>\n",
              "      <th>1988</th>\n",
              "      <td>1</td>\n",
              "    </tr>\n",
              "    <tr>\n",
              "      <th>1989</th>\n",
              "      <td>1</td>\n",
              "    </tr>\n",
              "    <tr>\n",
              "      <th>1990</th>\n",
              "      <td>1</td>\n",
              "    </tr>\n",
              "    <tr>\n",
              "      <th>1991</th>\n",
              "      <td>1</td>\n",
              "    </tr>\n",
              "    <tr>\n",
              "      <th>1992</th>\n",
              "      <td>1</td>\n",
              "    </tr>\n",
              "    <tr>\n",
              "      <th>1994</th>\n",
              "      <td>1</td>\n",
              "    </tr>\n",
              "    <tr>\n",
              "      <th>1995</th>\n",
              "      <td>1</td>\n",
              "    </tr>\n",
              "    <tr>\n",
              "      <th rowspan=\"10\" valign=\"top\">Norte</th>\n",
              "      <th>1988</th>\n",
              "      <td>1</td>\n",
              "    </tr>\n",
              "    <tr>\n",
              "      <th>1989</th>\n",
              "      <td>1</td>\n",
              "    </tr>\n",
              "    <tr>\n",
              "      <th>1990</th>\n",
              "      <td>1</td>\n",
              "    </tr>\n",
              "    <tr>\n",
              "      <th>1991</th>\n",
              "      <td>1</td>\n",
              "    </tr>\n",
              "    <tr>\n",
              "      <th>1992</th>\n",
              "      <td>1</td>\n",
              "    </tr>\n",
              "    <tr>\n",
              "      <th>1993</th>\n",
              "      <td>1</td>\n",
              "    </tr>\n",
              "    <tr>\n",
              "      <th>1994</th>\n",
              "      <td>3</td>\n",
              "    </tr>\n",
              "    <tr>\n",
              "      <th>1995</th>\n",
              "      <td>1</td>\n",
              "    </tr>\n",
              "    <tr>\n",
              "      <th>1996</th>\n",
              "      <td>1</td>\n",
              "    </tr>\n",
              "    <tr>\n",
              "      <th>1998</th>\n",
              "      <td>1</td>\n",
              "    </tr>\n",
              "    <tr>\n",
              "      <th>Sul</th>\n",
              "      <th>1995</th>\n",
              "      <td>3</td>\n",
              "    </tr>\n",
              "  </tbody>\n",
              "</table>\n",
              "</div>"
            ],
            "text/plain": [
              "                   motivo/situação\n",
              "regiao       ano                  \n",
              "Centro-Oeste 1993                1\n",
              "Nordeste     1988                1\n",
              "             1989                1\n",
              "             1990                1\n",
              "             1991                1\n",
              "             1992                1\n",
              "             1994                1\n",
              "             1995                1\n",
              "Norte        1988                1\n",
              "             1989                1\n",
              "             1990                1\n",
              "             1991                1\n",
              "             1992                1\n",
              "             1993                1\n",
              "             1994                3\n",
              "             1995                1\n",
              "             1996                1\n",
              "             1998                1\n",
              "Sul          1995                3"
            ]
          },
          "metadata": {
            "tags": []
          },
          "execution_count": 24
        }
      ]
    },
    {
      "metadata": {
        "id": "meP0kpymaX3H",
        "colab_type": "text"
      },
      "cell_type": "markdown",
      "source": [
        "Infelizmente, não tivemos nenhum ano com nenhum tipo de acidente, em região nenhuma do país(se tivessemos encontrariamos alguma linha da tabela indicando as 4 categorias da coluna \"motivo/situação\")."
      ]
    },
    {
      "metadata": {
        "id": "ju4CGcqzj7La",
        "colab_type": "code",
        "outputId": "ae2a5528-a6f1-474d-8e24-4279b1887f43",
        "colab": {
          "base_uri": "https://localhost:8080/",
          "height": 295
        }
      },
      "cell_type": "code",
      "source": [
        "p = sns.countplot(y=\"estado\",\n",
        "                  data = zero_acidentes,\n",
        "                  hue = \"regiao\",\n",
        "              order = zero_acidentes['estado'].value_counts().index)\n",
        "p.set_title(\"Qtd de anos com zero acidentes por estado\");"
      ],
      "execution_count": 25,
      "outputs": [
        {
          "output_type": "display_data",
          "data": {
            "image/png": "[encoded data removed]",
            "text/plain": [
              "<Figure size 432x288 with 1 Axes>"
            ]
          },
          "metadata": {
            "tags": []
          }
        }
      ]
    },
    {
      "metadata": {
        "id": "JL_RJvLhllrx",
        "colab_type": "text"
      },
      "cell_type": "markdown",
      "source": [
        "O Acre foi, de longe, o estado que teve a maior quantidade de anos sem registrar acidentes. \n",
        "\n",
        "---\n",
        "\n",
        "(cruzar essa informação com quantidade de postos de trabalho, população e postos de trabalho irregular )"
      ]
    },
    {
      "metadata": {
        "id": "mtW9cVkUty0f",
        "colab_type": "text"
      },
      "cell_type": "markdown",
      "source": [
        "### O maior número de acidentes registrado\n",
        "\n",
        "Onde será que tivemos a maior quantidade de acidentes registrados?"
      ]
    },
    {
      "metadata": {
        "id": "ZLvab6PFtqen",
        "colab_type": "code",
        "outputId": "e0dc893c-ce56-4752-bd0d-0b24a0156998",
        "colab": {
          "base_uri": "https://localhost:8080/",
          "height": 81
        }
      },
      "cell_type": "code",
      "source": [
        "#selecionando a linha com o maior número de acidentes registrado\n",
        "df_uf[df_uf['qtd_acidentes']==419981]"
      ],
      "execution_count": 26,
      "outputs": [
        {
          "output_type": "execute_result",
          "data": {
            "text/html": [
              "<div>\n",
              "<style scoped>\n",
              "    .dataframe tbody tr th:only-of-type {\n",
              "        vertical-align: middle;\n",
              "    }\n",
              "\n",
              "    .dataframe tbody tr th {\n",
              "        vertical-align: top;\n",
              "    }\n",
              "\n",
              "    .dataframe thead th {\n",
              "        text-align: right;\n",
              "    }\n",
              "</style>\n",
              "<table border=\"1\" class=\"dataframe\">\n",
              "  <thead>\n",
              "    <tr style=\"text-align: right;\">\n",
              "      <th></th>\n",
              "      <th>ano</th>\n",
              "      <th>estado</th>\n",
              "      <th>motivo/situação</th>\n",
              "      <th>qtd_acidentes</th>\n",
              "      <th>latitude</th>\n",
              "      <th>longitude</th>\n",
              "      <th>cod_estado</th>\n",
              "      <th>uf</th>\n",
              "      <th>regiao</th>\n",
              "    </tr>\n",
              "  </thead>\n",
              "  <tbody>\n",
              "    <tr>\n",
              "      <th>1749</th>\n",
              "      <td>1988</td>\n",
              "      <td>São Paulo</td>\n",
              "      <td>Típico-Com Cat</td>\n",
              "      <td>419981.0</td>\n",
              "      <td>-23.5329</td>\n",
              "      <td>-46.6395</td>\n",
              "      <td>35</td>\n",
              "      <td>SP</td>\n",
              "      <td>Sudeste</td>\n",
              "    </tr>\n",
              "  </tbody>\n",
              "</table>\n",
              "</div>"
            ],
            "text/plain": [
              "       ano     estado motivo/situação  qtd_acidentes  latitude  longitude  \\\n",
              "1749  1988  São Paulo  Típico-Com Cat       419981.0  -23.5329   -46.6395   \n",
              "\n",
              "      cod_estado  uf   regiao  \n",
              "1749          35  SP  Sudeste  "
            ]
          },
          "metadata": {
            "tags": []
          },
          "execution_count": 26
        }
      ]
    },
    {
      "metadata": {
        "id": "LaHeJ7F_uOjJ",
        "colab_type": "text"
      },
      "cell_type": "markdown",
      "source": [
        "1988 foi um ano tenso para São Paulo, que chegou a registrar um número tão expressivo de acidentes. O que traz o questionamento a respeito de como é a série histórica da maior metrópole brasileira. "
      ]
    },
    {
      "metadata": {
        "id": "k-wECG2DudOG",
        "colab_type": "code",
        "outputId": "30d4a7e6-841f-4ca0-ff2b-272d1fefbccd",
        "colab": {
          "base_uri": "https://localhost:8080/",
          "height": 295
        }
      },
      "cell_type": "code",
      "source": [
        "p = sns.lineplot(x=\"ano\",\n",
        "             y = \"qtd_acidentes\",\n",
        "             hue = \"motivo/situação\",\n",
        "             style =\"motivo/situação\" ,\n",
        "             markers =True ,\n",
        "             data=df_uf[df_uf[\"estado\"]==\"São Paulo\"])\n",
        "p.set_title(\"Qtd de Acidentes de SP por ano e motivo\");"
      ],
      "execution_count": 86,
      "outputs": [
        {
          "output_type": "display_data",
          "data": {
            "image/png": "[encoded data removed]",
            "text/plain": [
              "<Figure size 432x288 with 1 Axes>"
            ]
          },
          "metadata": {
            "tags": []
          }
        }
      ]
    },
    {
      "metadata": {
        "id": "aCPdwVV6wrzR",
        "colab_type": "text"
      },
      "cell_type": "markdown",
      "source": [
        "É possivel observar uma tendência de queda na quantidade de acidentes Típicos-com Cat(que são maioria) até os anos 2000. O que levanta uma outra questão. Como se comporta a queda de São Paulo com relação a média regional?"
      ]
    },
    {
      "metadata": {
        "id": "YLClNESwGovn",
        "colab_type": "code",
        "colab": {}
      },
      "cell_type": "code",
      "source": [
        "#fazendo a média da região\n",
        "mean_regiao = df_uf[df_uf[\"estado\"]!=\"São Paulo\"].groupby(by = [\"regiao\",\"motivo/situação\",\"ano\"])[[\"qtd_acidentes\"]].mean()\n",
        "mean_regiao.reset_index(inplace = True)\n"
      ],
      "execution_count": 0,
      "outputs": []
    },
    {
      "metadata": {
        "id": "ZKtL7Q1Drw_z",
        "colab_type": "code",
        "outputId": "3a62f980-c6db-4747-857d-61000b77d850",
        "colab": {
          "base_uri": "https://localhost:8080/",
          "height": 295
        }
      },
      "cell_type": "code",
      "source": [
        "\n",
        "#plotando os dados\n",
        "p = sns.lineplot(x=\"ano\",\n",
        "             y = \"qtd_acidentes\",\n",
        "             hue = \"motivo/situação\",\n",
        "             style =\"motivo/situação\" ,\n",
        "             markers =True ,\n",
        "             data=mean_regiao[(mean_regiao[\"regiao\"]==\"Sudeste\")&\n",
        "                             (mean_regiao[\"motivo/situação\"]==\"Típico-Com Cat\")])\n",
        "p.set_title(\"Média de Acidentes da Região Sudeste por ano\");"
      ],
      "execution_count": 29,
      "outputs": [
        {
          "output_type": "display_data",
          "data": {
            "image/png": "[encoded data removed]",
            "text/plain": [
              "<Figure size 432x288 with 1 Axes>"
            ]
          },
          "metadata": {
            "tags": []
          }
        }
      ]
    },
    {
      "metadata": {
        "id": "Kdr0U8SA2GzM",
        "colab_type": "code",
        "colab": {}
      },
      "cell_type": "code",
      "source": [
        "#Criar gráfico que sobreponha a média da região com os valores de sp"
      ],
      "execution_count": 0,
      "outputs": []
    },
    {
      "metadata": {
        "id": "sRZl6mQTwD5h",
        "colab_type": "text"
      },
      "cell_type": "markdown",
      "source": [
        "### Distribuição da quantidade de acidentes por região"
      ]
    },
    {
      "metadata": {
        "id": "G5UrsdGO9thK",
        "colab_type": "text"
      },
      "cell_type": "markdown",
      "source": [
        "Observando a série histórica de todas as regiões do país é necessário se fazer uma analise em função do Log da quantidade de acidentes. Isso decorre do fato que a quantidade de acidentes é muito discrepante de região para região, como pode ser observado no gráfico abaixo"
      ]
    },
    {
      "metadata": {
        "id": "thRdXtKSGPtU",
        "colab_type": "code",
        "outputId": "612990a1-efe1-480a-da8d-e360a14eecf1",
        "colab": {
          "base_uri": "https://localhost:8080/",
          "height": 286
        }
      },
      "cell_type": "code",
      "source": [
        "g = sns.FacetGrid(df_uf, col=\"regiao\") \n",
        "g.map(sns.boxplot, \"qtd_acidentes\")\n",
        "plt.xscale(\"log\");"
      ],
      "execution_count": 31,
      "outputs": [
        {
          "output_type": "stream",
          "text": [
            "/usr/local/lib/python3.6/dist-packages/seaborn/axisgrid.py:715: UserWarning: Using the boxplot function without specifying `order` is likely to produce an incorrect plot.\n",
            "  warnings.warn(warning)\n"
          ],
          "name": "stderr"
        },
        {
          "output_type": "display_data",
          "data": {
            "image/png": "[encoded data removed]",
            "text/plain": [
              "<Figure size 1080x216 with 5 Axes>"
            ]
          },
          "metadata": {
            "tags": []
          }
        }
      ]
    },
    {
      "metadata": {
        "id": "K-b3M9GoHisp",
        "colab_type": "text"
      },
      "cell_type": "markdown",
      "source": [
        "A região sudeste apresenta a distribuição mais concentrada nos valores entre $10^3$ e $10^4$, assim como a região sul. O que não é verdade para as outras regiões do pais que possuem os valores mais próximos da ordem de $10^2$ e $10^3$\n"
      ]
    },
    {
      "metadata": {
        "id": "o_uanMqXwSSc",
        "colab_type": "text"
      },
      "cell_type": "markdown",
      "source": [
        "### O mapa dos acidentes de trabalho"
      ]
    },
    {
      "metadata": {
        "id": "A3L_5ZOdW0rV",
        "colab_type": "text"
      },
      "cell_type": "markdown",
      "source": [
        "Agora com uma base de dados com as informações de latitude e longitude, meu objetivo é tentar retirar algumas informações com base na leitura de alguns mapas. Para isso usarei a biblioteca do Python Folium"
      ]
    },
    {
      "metadata": {
        "id": "ooIgZur7V1H1",
        "colab_type": "code",
        "colab": {}
      },
      "cell_type": "code",
      "source": [
        "import folium"
      ],
      "execution_count": 0,
      "outputs": []
    },
    {
      "metadata": {
        "id": "AYJj-GFeiOxu",
        "colab_type": "code",
        "outputId": "d9595ede-dcf5-480b-b4ae-247833b45eaa",
        "colab": {
          "base_uri": "https://localhost:8080/",
          "height": 753
        }
      },
      "cell_type": "code",
      "source": [
        "#@title  { run: \"auto\" }\n",
        "ano = 2010 #@param {type:\"slider\", min:1988, max:2016, step:1}\n",
        "df_uf_map = df_uf[df_uf[\"ano\"]==ano]\n",
        "df_uf_map = df_uf_map.groupby(['estado',\n",
        "                                 'latitude',\n",
        "                                 'longitude'],\n",
        "                                as_index=False)[['qtd_acidentes']].sum()\n",
        "df_uf_map.qtd_acidentes = df_uf_map.qtd_acidentes.astype(\"int64\")\n",
        "\n",
        "\n",
        "\n",
        "\n",
        "ac_map = folium.Map(location=[-16.1237611, -59.9219642],\n",
        "                    zoom_start=4)\n",
        "for i in range(0,len(df_uf_map)):\n",
        "  folium.CircleMarker(\n",
        "      location =[df_uf_map.iloc[i]['latitude'],\n",
        "                 df_uf_map.iloc[i]['longitude']],\n",
        "      popup = df_uf_map.iloc[i]['estado']+' ; '+df_uf_map.iloc[i]['qtd_acidentes'].astype('str'),\n",
        "      radius=int(df_uf_map.iloc[i]['qtd_acidentes']/5000),\n",
        "      fill_color=\"crimson\"\n",
        "  ).add_to(ac_map)\n",
        "\n",
        "\n",
        "ac_map\n",
        "\n"
      ],
      "execution_count": 79,
      "outputs": [
        {
          "output_type": "execute_result",
          "data": {
            "text/html": [
              "<div style=\"width:100%;\"><div style=\"position:relative;width:100%;height:0;padding-bottom:60%;\"><iframe src=\"data:text/html;charset=utf-8;base64,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\" style=\"position:absolute;width:100%;height:100%;left:0;top:0;border:none !important;\" allowfullscreen webkitallowfullscreen mozallowfullscreen></iframe></div></div>"
            ],
            "text/plain": [
              "<folium.folium.Map at 0x7fdff9b96b70>"
            ]
          },
          "metadata": {
            "tags": []
          },
          "execution_count": 79
        }
      ]
    },
    {
      "metadata": {
        "id": "j1Y52BUkglLE",
        "colab_type": "text"
      },
      "cell_type": "markdown",
      "source": [
        "O mapa nos da um melhor compreendimento do que vem acontecendo ao longo dos anos com relação aos acidentes de trabalho"
      ]
    },
    {
      "metadata": {
        "id": "z9d_M43RMnmb",
        "colab_type": "code",
        "outputId": "ea406fa5-c31c-41e4-9d7e-7f3f0c4a4803",
        "colab": {
          "base_uri": "https://localhost:8080/",
          "height": 753
        }
      },
      "cell_type": "code",
      "source": [
        "from folium.plugins import HeatMap\n",
        "heat_map = folium.Map(location=[-16.1237611, -59.9219642],\n",
        "                    zoom_start=4)\n",
        "\n",
        "heat_data = df_uf_map.drop([\"estado\"],axis=1)\n",
        "\n",
        "media_acidentes = heat_data.qtd_acidentes.mean()\n",
        "desvio_acidentes = heat_data.qtd_acidentes.std()\n",
        "\n",
        "heat_data[\"qtd_acidentes\"]=(heat_data.qtd_acidentes-media_acidentes)/desvio_acidentes\n",
        "\n",
        "\n",
        "HeatMap( list(zip(heat_data.latitude.values, heat_data.longitude.values,heat_data.qtd_acidentes.values)),\n",
        "        max_zoom=1).add_to(heat_map)\n",
        "\n",
        "heat_map"
      ],
      "execution_count": 73,
      "outputs": [
        {
          "output_type": "execute_result",
          "data": {
            "text/html": [
              "<div style=\"width:100%;\"><div style=\"position:relative;width:100%;height:0;padding-bottom:60%;\"><iframe src=\"data:text/html;charset=utf-8;base64,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\" style=\"position:absolute;width:100%;height:100%;left:0;top:0;border:none !important;\" allowfullscreen webkitallowfullscreen mozallowfullscreen></iframe></div></div>"
            ],
            "text/plain": [
              "<folium.folium.Map at 0x7fdff5bdfe80>"
            ]
          },
          "metadata": {
            "tags": []
          },
          "execution_count": 73
        }
      ]
    },
    {
      "metadata": {
        "id": "7wg-EXgDM1hq",
        "colab_type": "text"
      },
      "cell_type": "markdown",
      "source": [
        "## Acidentes de Trabalho por Sexo e Faixa Etária"
      ]
    },
    {
      "metadata": {
        "id": "_fqd76_KM7oF",
        "colab_type": "code",
        "colab": {}
      },
      "cell_type": "code",
      "source": [
        ""
      ],
      "execution_count": 0,
      "outputs": []
    }
  ]
}