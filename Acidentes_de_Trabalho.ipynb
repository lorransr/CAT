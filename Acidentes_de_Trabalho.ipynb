{
  "nbformat": 4,
  "nbformat_minor": 0,
  "metadata": {
    "colab": {
      "name": "Acidentes de Trabalho.ipynb",
      "version": "0.3.2",
      "provenance": [],
      "collapsed_sections": [],
      "include_colab_link": true
    },
    "kernelspec": {
      "name": "python3",
      "display_name": "Python 3"
    }
  },
  "cells": [
    {
      "cell_type": "markdown",
      "metadata": {
        "id": "view-in-github",
        "colab_type": "text"
      },
      "source": [
        "<a href=\"https://colab.research.google.com/github/lorransr/CAT/blob/master/Acidentes_de_Trabalho.ipynb\" target=\"_parent\"><img src=\"https://colab.research.google.com/assets/colab-badge.svg\" alt=\"Open In Colab\"/></a>"
      ]
    },
    {
      "cell_type": "markdown",
      "metadata": {
        "id": "BkUDqfi5-yMs",
        "colab_type": "text"
      },
      "source": [
        "# Panorama dos acidentes de Trabalho no Brasil\n",
        "\n",
        "O observatório geral da saude e segurança  do trabalho estima que do periodo de 2017 até maio de 2019, são registrados 1 acidente a cada 54 segundos no país. Desse valor, estima-se também que 1 morte aconteça a cada 4 horas. Entender onde, com quem, quando e como ocorrem os acidentes de trabalho são os primeiros passos para nortearmos políticas públicas de prevenção de acidentes.\n",
        "\n",
        "Com isso em mente minha proposta é realizar uma analise, a partir das bases de dados disponibilizadas, através do portal da transparência, pela previdência social a respeito dos Acidentes do Trabalho ocorridos no pais.\n",
        "\n",
        "A princípio foram adquiridas 8 bases de dados, com diferentes recortes a respeito do tema. Elas são:\n",
        "1. Acidentes de Trabalho por UF\n",
        "2. Acidentes de Trabalho por mês\n",
        "3. Acidentes de Trabalho por faixa-etaria e sexo\n",
        "4. Acidentes de Trabalho por parte do corpo atingida\n",
        "5. Acidentes de Trabalho por CNAE (95)\n",
        "6. Acidentes de Trabalho por CNAE (2.0)\n",
        "7. Acidentes de Trabalho por CID\n",
        "8. Acidentes de Trabalho por CBO\n",
        "\n",
        "Todas as bases de dados estão segmentadas por ano. Todas contêm algum indicativo da situação de haver ou não CAT registrada. Igualmente, todas possuem um campo com a tipificação do acidente, seja ele típico, de trajeto ou uma doença de trabalho."
      ]
    },
    {
      "cell_type": "markdown",
      "metadata": {
        "id": "HZ3ZzOuR_3v6",
        "colab_type": "text"
      },
      "source": [
        "### Mas Afinal, o que é a CAT?\n",
        "\n",
        "A comunicação de acidente de trabalho (CAT) é um documento emitido para reconhecer tanto um **acidente de trabalho** ou **de trajeto** bem como uma **doença ocupacional**.\n",
        "Aqui vale a definição desses termos:\n",
        "\n",
        "* Acidente de trabalho ou de trajeto:é o acidente ocorrido no exercício da atividade profissional a serviço da empresa ou no deslocamento residência -> trabalho -> residência. \n",
        "\n",
        "*  Doença ocupacional: é aquela produzida ou desencadeada pelo exercício do trabalho peculiar a determinada atividade e constante da respectiva relação elaborada pelo Ministério do Trabalho e da Previdência Social.\n",
        "\n",
        "A CAT é um documento obrigatório e possui um prazo de emissão curto. Mesmo que não haja afastamento, a CAT deve ser emitida até o primeiro dia útil seguinte ao da ocorrência. Sob o risco de multa. Por conta desta característica a base de dados do INSS é extramemente útil e pouco defasada da realidade brasileira, portanto um bom instrumento para análise."
      ]
    },
    {
      "cell_type": "markdown",
      "metadata": {
        "id": "tqJQbvCdBWa8",
        "colab_type": "text"
      },
      "source": [
        "explicar melhor os seguintes termos:\n",
        "* CNAE \n",
        "* CID\n",
        "* CBO"
      ]
    },
    {
      "cell_type": "markdown",
      "metadata": {
        "id": "JoPYEcpjBzie",
        "colab_type": "text"
      },
      "source": [
        "## Acidentes de Trabalho por UF\n",
        "\n",
        "O primeiro dataset a ser estudado será o que diz respeito aos acidentes de trabalho por unidade federal. Com essa base de dados pretendo responder a pergunta: \"Onde ocorrem os acidentes de trabalho?\". Também sera mostrado a evolução ao longo do tempo para as principais regiões."
      ]
    },
    {
      "cell_type": "code",
      "metadata": {
        "id": "VdYTOvg6FzXw",
        "colab_type": "code",
        "outputId": "a2372076-adf8-4338-fe39-00f6a9bf90ae",
        "colab": {
          "base_uri": "https://localhost:8080/",
          "height": 1214
        }
      },
      "source": [
        "!pip install seaborn==0.9.0\n",
        "!pip install chartify"
      ],
      "execution_count": 0,
      "outputs": [
        {
          "output_type": "stream",
          "text": [
            "Requirement already satisfied: seaborn==0.9.0 in /usr/local/lib/python3.6/dist-packages (0.9.0)\n",
            "Requirement already satisfied: matplotlib>=1.4.3 in /usr/local/lib/python3.6/dist-packages (from seaborn==0.9.0) (3.0.3)\n",
            "Requirement already satisfied: numpy>=1.9.3 in /usr/local/lib/python3.6/dist-packages (from seaborn==0.9.0) (1.16.3)\n",
            "Requirement already satisfied: scipy>=0.14.0 in /usr/local/lib/python3.6/dist-packages (from seaborn==0.9.0) (1.2.1)\n",
            "Requirement already satisfied: pandas>=0.15.2 in /usr/local/lib/python3.6/dist-packages (from seaborn==0.9.0) (0.24.2)\n",
            "Requirement already satisfied: pyparsing!=2.0.4,!=2.1.2,!=2.1.6,>=2.0.1 in /usr/local/lib/python3.6/dist-packages (from matplotlib>=1.4.3->seaborn==0.9.0) (2.4.0)\n",
            "Requirement already satisfied: cycler>=0.10 in /usr/local/lib/python3.6/dist-packages (from matplotlib>=1.4.3->seaborn==0.9.0) (0.10.0)\n",
            "Requirement already satisfied: python-dateutil>=2.1 in /usr/local/lib/python3.6/dist-packages (from matplotlib>=1.4.3->seaborn==0.9.0) (2.5.3)\n",
            "Requirement already satisfied: kiwisolver>=1.0.1 in /usr/local/lib/python3.6/dist-packages (from matplotlib>=1.4.3->seaborn==0.9.0) (1.1.0)\n",
            "Requirement already satisfied: pytz>=2011k in /usr/local/lib/python3.6/dist-packages (from pandas>=0.15.2->seaborn==0.9.0) (2018.9)\n",
            "Requirement already satisfied: six in /usr/local/lib/python3.6/dist-packages (from cycler>=0.10->matplotlib>=1.4.3->seaborn==0.9.0) (1.12.0)\n",
            "Requirement already satisfied: setuptools in /usr/local/lib/python3.6/dist-packages (from kiwisolver>=1.0.1->matplotlib>=1.4.3->seaborn==0.9.0) (41.0.1)\n",
            "Requirement already satisfied: chartify in /usr/local/lib/python3.6/dist-packages (2.6.0)\n",
            "Requirement already satisfied: jupyter<2.0.0,>=1.0.0 in /usr/local/lib/python3.6/dist-packages (from chartify) (1.0.0)\n",
            "Requirement already satisfied: Pillow>=4.3.0 in /usr/local/lib/python3.6/dist-packages (from chartify) (4.3.0)\n",
            "Requirement already satisfied: selenium<=3.8.0,>=3.7.0 in /usr/local/lib/python3.6/dist-packages (from chartify) (3.8.0)\n",
            "Requirement already satisfied: pandas<1.0.0,>=0.21.0 in /usr/local/lib/python3.6/dist-packages (from chartify) (0.24.2)\n",
            "Requirement already satisfied: scipy<2.0.0,>=1.0.0 in /usr/local/lib/python3.6/dist-packages (from chartify) (1.2.1)\n",
            "Requirement already satisfied: colour<1.0.0,>=0.1.5 in /usr/local/lib/python3.6/dist-packages (from chartify) (0.1.5)\n",
            "Requirement already satisfied: bokeh<2.0.0,>=0.12.16 in /usr/local/lib/python3.6/dist-packages (from chartify) (1.0.4)\n",
            "Requirement already satisfied: jupyter-console in /usr/local/lib/python3.6/dist-packages (from jupyter<2.0.0,>=1.0.0->chartify) (6.0.0)\n",
            "Requirement already satisfied: notebook in /usr/local/lib/python3.6/dist-packages (from jupyter<2.0.0,>=1.0.0->chartify) (5.2.2)\n",
            "Requirement already satisfied: ipywidgets in /usr/local/lib/python3.6/dist-packages (from jupyter<2.0.0,>=1.0.0->chartify) (7.4.2)\n",
            "Requirement already satisfied: nbconvert in /usr/local/lib/python3.6/dist-packages (from jupyter<2.0.0,>=1.0.0->chartify) (5.5.0)\n",
            "Requirement already satisfied: qtconsole in /usr/local/lib/python3.6/dist-packages (from jupyter<2.0.0,>=1.0.0->chartify) (4.4.3)\n",
            "Requirement already satisfied: ipykernel in /usr/local/lib/python3.6/dist-packages (from jupyter<2.0.0,>=1.0.0->chartify) (4.6.1)\n",
            "Requirement already satisfied: olefile in /usr/local/lib/python3.6/dist-packages (from Pillow>=4.3.0->chartify) (0.46)\n",
            "Requirement already satisfied: python-dateutil>=2.5.0 in /usr/local/lib/python3.6/dist-packages (from pandas<1.0.0,>=0.21.0->chartify) (2.5.3)\n",
            "Requirement already satisfied: pytz>=2011k in /usr/local/lib/python3.6/dist-packages (from pandas<1.0.0,>=0.21.0->chartify) (2018.9)\n",
            "Requirement already satisfied: numpy>=1.12.0 in /usr/local/lib/python3.6/dist-packages (from pandas<1.0.0,>=0.21.0->chartify) (1.16.3)\n",
            "Requirement already satisfied: six>=1.5.2 in /usr/local/lib/python3.6/dist-packages (from bokeh<2.0.0,>=0.12.16->chartify) (1.12.0)\n",
            "Requirement already satisfied: PyYAML>=3.10 in /usr/local/lib/python3.6/dist-packages (from bokeh<2.0.0,>=0.12.16->chartify) (3.13)\n",
            "Requirement already satisfied: Jinja2>=2.7 in /usr/local/lib/python3.6/dist-packages (from bokeh<2.0.0,>=0.12.16->chartify) (2.10.1)\n",
            "Requirement already satisfied: packaging>=16.8 in /usr/local/lib/python3.6/dist-packages (from bokeh<2.0.0,>=0.12.16->chartify) (19.0)\n",
            "Requirement already satisfied: tornado>=4.3 in /usr/local/lib/python3.6/dist-packages (from bokeh<2.0.0,>=0.12.16->chartify) (4.5.3)\n",
            "Requirement already satisfied: pygments in /usr/local/lib/python3.6/dist-packages (from jupyter-console->jupyter<2.0.0,>=1.0.0->chartify) (2.1.3)\n",
            "Requirement already satisfied: jupyter-client in /usr/local/lib/python3.6/dist-packages (from jupyter-console->jupyter<2.0.0,>=1.0.0->chartify) (5.2.4)\n",
            "Requirement already satisfied: ipython in /usr/local/lib/python3.6/dist-packages (from jupyter-console->jupyter<2.0.0,>=1.0.0->chartify) (5.5.0)\n",
            "Requirement already satisfied: prompt-toolkit<2.1.0,>=2.0.0 in /usr/local/lib/python3.6/dist-packages (from jupyter-console->jupyter<2.0.0,>=1.0.0->chartify) (2.0.9)\n",
            "Requirement already satisfied: terminado>=0.3.3; sys_platform != \"win32\" in /usr/local/lib/python3.6/dist-packages (from notebook->jupyter<2.0.0,>=1.0.0->chartify) (0.8.2)\n",
            "Requirement already satisfied: ipython-genutils in /usr/local/lib/python3.6/dist-packages (from notebook->jupyter<2.0.0,>=1.0.0->chartify) (0.2.0)\n",
            "Requirement already satisfied: traitlets>=4.2.1 in /usr/local/lib/python3.6/dist-packages (from notebook->jupyter<2.0.0,>=1.0.0->chartify) (4.3.2)\n",
            "Requirement already satisfied: nbformat in /usr/local/lib/python3.6/dist-packages (from notebook->jupyter<2.0.0,>=1.0.0->chartify) (4.4.0)\n",
            "Requirement already satisfied: jupyter-core in /usr/local/lib/python3.6/dist-packages (from notebook->jupyter<2.0.0,>=1.0.0->chartify) (4.4.0)\n",
            "Requirement already satisfied: widgetsnbextension~=3.4.0 in /usr/local/lib/python3.6/dist-packages (from ipywidgets->jupyter<2.0.0,>=1.0.0->chartify) (3.4.2)\n",
            "Requirement already satisfied: mistune>=0.8.1 in /usr/local/lib/python3.6/dist-packages (from nbconvert->jupyter<2.0.0,>=1.0.0->chartify) (0.8.4)\n",
            "Requirement already satisfied: bleach in /usr/local/lib/python3.6/dist-packages (from nbconvert->jupyter<2.0.0,>=1.0.0->chartify) (3.1.0)\n",
            "Requirement already satisfied: entrypoints>=0.2.2 in /usr/local/lib/python3.6/dist-packages (from nbconvert->jupyter<2.0.0,>=1.0.0->chartify) (0.3)\n",
            "Requirement already satisfied: testpath in /usr/local/lib/python3.6/dist-packages (from nbconvert->jupyter<2.0.0,>=1.0.0->chartify) (0.4.2)\n",
            "Requirement already satisfied: pandocfilters>=1.4.1 in /usr/local/lib/python3.6/dist-packages (from nbconvert->jupyter<2.0.0,>=1.0.0->chartify) (1.4.2)\n",
            "Requirement already satisfied: defusedxml in /usr/local/lib/python3.6/dist-packages (from nbconvert->jupyter<2.0.0,>=1.0.0->chartify) (0.6.0)\n",
            "Requirement already satisfied: MarkupSafe>=0.23 in /usr/local/lib/python3.6/dist-packages (from Jinja2>=2.7->bokeh<2.0.0,>=0.12.16->chartify) (1.1.1)\n",
            "Requirement already satisfied: pyparsing>=2.0.2 in /usr/local/lib/python3.6/dist-packages (from packaging>=16.8->bokeh<2.0.0,>=0.12.16->chartify) (2.4.0)\n",
            "Requirement already satisfied: pyzmq>=13 in /usr/local/lib/python3.6/dist-packages (from jupyter-client->jupyter-console->jupyter<2.0.0,>=1.0.0->chartify) (17.0.0)\n",
            "Requirement already satisfied: pexpect; sys_platform != \"win32\" in /usr/local/lib/python3.6/dist-packages (from ipython->jupyter-console->jupyter<2.0.0,>=1.0.0->chartify) (4.7.0)\n",
            "Requirement already satisfied: simplegeneric>0.8 in /usr/local/lib/python3.6/dist-packages (from ipython->jupyter-console->jupyter<2.0.0,>=1.0.0->chartify) (0.8.1)\n",
            "Requirement already satisfied: setuptools>=18.5 in /usr/local/lib/python3.6/dist-packages (from ipython->jupyter-console->jupyter<2.0.0,>=1.0.0->chartify) (41.0.1)\n",
            "Requirement already satisfied: decorator in /usr/local/lib/python3.6/dist-packages (from ipython->jupyter-console->jupyter<2.0.0,>=1.0.0->chartify) (4.4.0)\n",
            "Requirement already satisfied: pickleshare in /usr/local/lib/python3.6/dist-packages (from ipython->jupyter-console->jupyter<2.0.0,>=1.0.0->chartify) (0.7.5)\n",
            "Requirement already satisfied: wcwidth in /usr/local/lib/python3.6/dist-packages (from prompt-toolkit<2.1.0,>=2.0.0->jupyter-console->jupyter<2.0.0,>=1.0.0->chartify) (0.1.7)\n",
            "Requirement already satisfied: ptyprocess; os_name != \"nt\" in /usr/local/lib/python3.6/dist-packages (from terminado>=0.3.3; sys_platform != \"win32\"->notebook->jupyter<2.0.0,>=1.0.0->chartify) (0.6.0)\n",
            "Requirement already satisfied: jsonschema!=2.5.0,>=2.4 in /usr/local/lib/python3.6/dist-packages (from nbformat->notebook->jupyter<2.0.0,>=1.0.0->chartify) (2.6.0)\n",
            "Requirement already satisfied: webencodings in /usr/local/lib/python3.6/dist-packages (from bleach->nbconvert->jupyter<2.0.0,>=1.0.0->chartify) (0.5.1)\n"
          ],
          "name": "stdout"
        }
      ]
    },
    {
      "cell_type": "code",
      "metadata": {
        "id": "aa1ZWDK6FD-3",
        "colab_type": "code",
        "colab": {}
      },
      "source": [
        "import pandas as pd\n",
        "import chartify\n",
        "import numpy as np\n",
        "import seaborn as sns\n",
        "import matplotlib.pyplot as plt\n",
        "import matplotlib.animation as animation\n",
        "%matplotlib inline"
      ],
      "execution_count": 0,
      "outputs": []
    },
    {
      "cell_type": "code",
      "metadata": {
        "id": "445SVfg0N5pL",
        "colab_type": "code",
        "colab": {}
      },
      "source": [
        "#importando os dados para o Colab\n",
        "url = \"https://raw.githubusercontent.com/lorransr/CAT/master/ACT-uf.csv\""
      ],
      "execution_count": 0,
      "outputs": []
    },
    {
      "cell_type": "code",
      "metadata": {
        "id": "to53TQN6FR0Z",
        "colab_type": "code",
        "colab": {}
      },
      "source": [
        "#Salvando o dataframe\n",
        "df_uf = pd.read_csv(url, sep=\",\", encoding = \"latin-1\")"
      ],
      "execution_count": 0,
      "outputs": []
    },
    {
      "cell_type": "code",
      "metadata": {
        "id": "71H5ZeK2FgCb",
        "colab_type": "code",
        "outputId": "d572bd4c-891d-4c45-9169-035d877599fe",
        "colab": {
          "base_uri": "https://localhost:8080/",
          "height": 206
        }
      },
      "source": [
        "#renomeando as colunas\n",
        "df_uf.columns = ['ano','estado','motivo/situação','qtd_acidentes']\n",
        "df_uf.head()"
      ],
      "execution_count": 0,
      "outputs": [
        {
          "output_type": "execute_result",
          "data": {
            "text/html": [
              "<div>\n",
              "<style scoped>\n",
              "    .dataframe tbody tr th:only-of-type {\n",
              "        vertical-align: middle;\n",
              "    }\n",
              "\n",
              "    .dataframe tbody tr th {\n",
              "        vertical-align: top;\n",
              "    }\n",
              "\n",
              "    .dataframe thead th {\n",
              "        text-align: right;\n",
              "    }\n",
              "</style>\n",
              "<table border=\"1\" class=\"dataframe\">\n",
              "  <thead>\n",
              "    <tr style=\"text-align: right;\">\n",
              "      <th></th>\n",
              "      <th>ano</th>\n",
              "      <th>estado</th>\n",
              "      <th>motivo/situação</th>\n",
              "      <th>qtd_acidentes</th>\n",
              "    </tr>\n",
              "  </thead>\n",
              "  <tbody>\n",
              "    <tr>\n",
              "      <th>0</th>\n",
              "      <td>1988</td>\n",
              "      <td>Rondônia</td>\n",
              "      <td>Típico-Com Cat</td>\n",
              "      <td>592.0</td>\n",
              "    </tr>\n",
              "    <tr>\n",
              "      <th>1</th>\n",
              "      <td>1988</td>\n",
              "      <td>Acre</td>\n",
              "      <td>Típico-Com Cat</td>\n",
              "      <td>115.0</td>\n",
              "    </tr>\n",
              "    <tr>\n",
              "      <th>2</th>\n",
              "      <td>1988</td>\n",
              "      <td>Amazonas</td>\n",
              "      <td>Típico-Com Cat</td>\n",
              "      <td>5173.0</td>\n",
              "    </tr>\n",
              "    <tr>\n",
              "      <th>3</th>\n",
              "      <td>1988</td>\n",
              "      <td>Pará</td>\n",
              "      <td>Típico-Com Cat</td>\n",
              "      <td>12172.0</td>\n",
              "    </tr>\n",
              "    <tr>\n",
              "      <th>4</th>\n",
              "      <td>1988</td>\n",
              "      <td>Maranhão</td>\n",
              "      <td>Típico-Com Cat</td>\n",
              "      <td>5916.0</td>\n",
              "    </tr>\n",
              "  </tbody>\n",
              "</table>\n",
              "</div>"
            ],
            "text/plain": [
              "    ano    estado motivo/situação  qtd_acidentes\n",
              "0  1988  Rondônia  Típico-Com Cat          592.0\n",
              "1  1988      Acre  Típico-Com Cat          115.0\n",
              "2  1988  Amazonas  Típico-Com Cat         5173.0\n",
              "3  1988      Pará  Típico-Com Cat        12172.0\n",
              "4  1988  Maranhão  Típico-Com Cat         5916.0"
            ]
          },
          "metadata": {
            "tags": []
          },
          "execution_count": 74
        }
      ]
    },
    {
      "cell_type": "code",
      "metadata": {
        "id": "JCUh18iNPweK",
        "colab_type": "code",
        "outputId": "d8c24c9b-27b7-4abf-c296-4977f019ff60",
        "colab": {
          "base_uri": "https://localhost:8080/",
          "height": 110
        }
      },
      "source": [
        "#Contando a quantidade de valores nulos\n",
        "df_uf.isna().sum()"
      ],
      "execution_count": 0,
      "outputs": [
        {
          "output_type": "execute_result",
          "data": {
            "text/plain": [
              "ano                0\n",
              "estado             0\n",
              "motivo/situação    0\n",
              "qtd_acidentes      1\n",
              "dtype: int64"
            ]
          },
          "metadata": {
            "tags": []
          },
          "execution_count": 75
        }
      ]
    },
    {
      "cell_type": "markdown",
      "metadata": {
        "id": "7v89eeZqyR4c",
        "colab_type": "text"
      },
      "source": [
        "Uma vez que existe apenas uma linha, em 2893 registros, contendo valores nulos, ela será descartada"
      ]
    },
    {
      "cell_type": "code",
      "metadata": {
        "id": "8cOiVet8IxUO",
        "colab_type": "code",
        "colab": {}
      },
      "source": [
        "#excluindo valores nulos\n",
        "df_uf.dropna(inplace=True) "
      ],
      "execution_count": 0,
      "outputs": []
    },
    {
      "cell_type": "markdown",
      "metadata": {
        "id": "2liqDnJRQoVn",
        "colab_type": "text"
      },
      "source": [
        "Para poder ter uma ideia da distribuição dos acidentes ao redor do pais é preciso primeiro vincular os estados na base de dados a uma latitude e longitude. A partir desse repositório no GitHub, foi possivel encontrar uma base consistente com algumas informações adicionais a respeito dos estados:https://github.com/kelvins/Municipios-Brasileiros/"
      ]
    },
    {
      "cell_type": "code",
      "metadata": {
        "id": "xe5DuY_EGTxj",
        "colab_type": "code",
        "colab": {}
      },
      "source": [
        "url = \"https://raw.githubusercontent.com/lorransr/CAT/master/brasil.csv\"\n",
        "#importando dataframe com lat e lon\n",
        "dim_uf = pd.read_csv(url, sep=\",\")"
      ],
      "execution_count": 0,
      "outputs": []
    },
    {
      "cell_type": "code",
      "metadata": {
        "id": "z1Z523JbH_Bk",
        "colab_type": "code",
        "outputId": "c86add01-8f19-455d-a201-cf6cbac08a24",
        "colab": {
          "base_uri": "https://localhost:8080/",
          "height": 206
        }
      },
      "source": [
        "dim_uf.head()"
      ],
      "execution_count": 0,
      "outputs": [
        {
          "output_type": "execute_result",
          "data": {
            "text/html": [
              "<div>\n",
              "<style scoped>\n",
              "    .dataframe tbody tr th:only-of-type {\n",
              "        vertical-align: middle;\n",
              "    }\n",
              "\n",
              "    .dataframe tbody tr th {\n",
              "        vertical-align: top;\n",
              "    }\n",
              "\n",
              "    .dataframe thead th {\n",
              "        text-align: right;\n",
              "    }\n",
              "</style>\n",
              "<table border=\"1\" class=\"dataframe\">\n",
              "  <thead>\n",
              "    <tr style=\"text-align: right;\">\n",
              "      <th></th>\n",
              "      <th>ibge</th>\n",
              "      <th>municipio</th>\n",
              "      <th>latitude</th>\n",
              "      <th>longitude</th>\n",
              "      <th>cod_estado</th>\n",
              "      <th>estado</th>\n",
              "      <th>uf</th>\n",
              "      <th>regiao</th>\n",
              "      <th>capital</th>\n",
              "    </tr>\n",
              "  </thead>\n",
              "  <tbody>\n",
              "    <tr>\n",
              "      <th>0</th>\n",
              "      <td>520005</td>\n",
              "      <td>Abadia de Goiás</td>\n",
              "      <td>-16.75730</td>\n",
              "      <td>-49.4412</td>\n",
              "      <td>52</td>\n",
              "      <td>Goiás</td>\n",
              "      <td>GO</td>\n",
              "      <td>Centro-Oeste</td>\n",
              "      <td>0</td>\n",
              "    </tr>\n",
              "    <tr>\n",
              "      <th>1</th>\n",
              "      <td>310010</td>\n",
              "      <td>Abadia dos Dourados</td>\n",
              "      <td>-18.48310</td>\n",
              "      <td>-47.3916</td>\n",
              "      <td>31</td>\n",
              "      <td>Minas Gerais</td>\n",
              "      <td>MG</td>\n",
              "      <td>Sudeste</td>\n",
              "      <td>0</td>\n",
              "    </tr>\n",
              "    <tr>\n",
              "      <th>2</th>\n",
              "      <td>520010</td>\n",
              "      <td>Abadiânia</td>\n",
              "      <td>-16.19700</td>\n",
              "      <td>-48.7057</td>\n",
              "      <td>52</td>\n",
              "      <td>Goiás</td>\n",
              "      <td>GO</td>\n",
              "      <td>Centro-Oeste</td>\n",
              "      <td>0</td>\n",
              "    </tr>\n",
              "    <tr>\n",
              "      <th>3</th>\n",
              "      <td>310020</td>\n",
              "      <td>Abaeté</td>\n",
              "      <td>-19.15510</td>\n",
              "      <td>-45.4444</td>\n",
              "      <td>31</td>\n",
              "      <td>Minas Gerais</td>\n",
              "      <td>MG</td>\n",
              "      <td>Sudeste</td>\n",
              "      <td>0</td>\n",
              "    </tr>\n",
              "    <tr>\n",
              "      <th>4</th>\n",
              "      <td>150010</td>\n",
              "      <td>Abaetetuba</td>\n",
              "      <td>-1.72183</td>\n",
              "      <td>-48.8788</td>\n",
              "      <td>15</td>\n",
              "      <td>Pará</td>\n",
              "      <td>PA</td>\n",
              "      <td>Norte</td>\n",
              "      <td>0</td>\n",
              "    </tr>\n",
              "  </tbody>\n",
              "</table>\n",
              "</div>"
            ],
            "text/plain": [
              "     ibge            municipio  latitude  longitude  cod_estado        estado  \\\n",
              "0  520005      Abadia de Goiás -16.75730   -49.4412          52         Goiás   \n",
              "1  310010  Abadia dos Dourados -18.48310   -47.3916          31  Minas Gerais   \n",
              "2  520010            Abadiânia -16.19700   -48.7057          52         Goiás   \n",
              "3  310020               Abaeté -19.15510   -45.4444          31  Minas Gerais   \n",
              "4  150010           Abaetetuba  -1.72183   -48.8788          15          Pará   \n",
              "\n",
              "   uf        regiao  capital  \n",
              "0  GO  Centro-Oeste        0  \n",
              "1  MG       Sudeste        0  \n",
              "2  GO  Centro-Oeste        0  \n",
              "3  MG       Sudeste        0  \n",
              "4  PA         Norte        0  "
            ]
          },
          "metadata": {
            "tags": []
          },
          "execution_count": 78
        }
      ]
    },
    {
      "cell_type": "code",
      "metadata": {
        "id": "JqxDpVFmTaQ5",
        "colab_type": "code",
        "outputId": "c47e556b-6095-4cde-ee5c-73c906077ea1",
        "colab": {
          "base_uri": "https://localhost:8080/",
          "height": 206
        }
      },
      "source": [
        "#selecionando as colunas que firão no df\n",
        "selected_columns=['latitude', 'longitude', 'cod_estado', 'estado',\n",
        "       'uf', 'regiao', 'capital']\n",
        "dim_uf = dim_uf[selected_columns]\n",
        "#selecionando apenas as capitais\n",
        "dim_uf = dim_uf[dim_uf[\"capital\"]==1]\n",
        "#removendo duplicadas\n",
        "dim_uf.drop_duplicates(subset = \"cod_estado\",inplace=True)\n",
        "dim_uf.drop(\"capital\",axis=1,inplace=True)\n",
        "dim_uf.head()"
      ],
      "execution_count": 0,
      "outputs": [
        {
          "output_type": "execute_result",
          "data": {
            "text/html": [
              "<div>\n",
              "<style scoped>\n",
              "    .dataframe tbody tr th:only-of-type {\n",
              "        vertical-align: middle;\n",
              "    }\n",
              "\n",
              "    .dataframe tbody tr th {\n",
              "        vertical-align: top;\n",
              "    }\n",
              "\n",
              "    .dataframe thead th {\n",
              "        text-align: right;\n",
              "    }\n",
              "</style>\n",
              "<table border=\"1\" class=\"dataframe\">\n",
              "  <thead>\n",
              "    <tr style=\"text-align: right;\">\n",
              "      <th></th>\n",
              "      <th>latitude</th>\n",
              "      <th>longitude</th>\n",
              "      <th>cod_estado</th>\n",
              "      <th>estado</th>\n",
              "      <th>uf</th>\n",
              "      <th>regiao</th>\n",
              "    </tr>\n",
              "  </thead>\n",
              "  <tbody>\n",
              "    <tr>\n",
              "      <th>294</th>\n",
              "      <td>-10.90910</td>\n",
              "      <td>-37.0677</td>\n",
              "      <td>28</td>\n",
              "      <td>Sergipe</td>\n",
              "      <td>SE</td>\n",
              "      <td>Nordeste</td>\n",
              "    </tr>\n",
              "    <tr>\n",
              "      <th>580</th>\n",
              "      <td>-1.45540</td>\n",
              "      <td>-48.4898</td>\n",
              "      <td>15</td>\n",
              "      <td>Pará</td>\n",
              "      <td>PA</td>\n",
              "      <td>Norte</td>\n",
              "    </tr>\n",
              "    <tr>\n",
              "      <th>592</th>\n",
              "      <td>-19.91020</td>\n",
              "      <td>-43.9266</td>\n",
              "      <td>31</td>\n",
              "      <td>Minas Gerais</td>\n",
              "      <td>MG</td>\n",
              "      <td>Sudeste</td>\n",
              "    </tr>\n",
              "    <tr>\n",
              "      <th>642</th>\n",
              "      <td>2.82384</td>\n",
              "      <td>-60.6753</td>\n",
              "      <td>14</td>\n",
              "      <td>Roraima</td>\n",
              "      <td>RR</td>\n",
              "      <td>Norte</td>\n",
              "    </tr>\n",
              "    <tr>\n",
              "      <th>755</th>\n",
              "      <td>-15.77950</td>\n",
              "      <td>-47.9297</td>\n",
              "      <td>53</td>\n",
              "      <td>Distrito Federal</td>\n",
              "      <td>DF</td>\n",
              "      <td>Centro-Oeste</td>\n",
              "    </tr>\n",
              "  </tbody>\n",
              "</table>\n",
              "</div>"
            ],
            "text/plain": [
              "     latitude  longitude  cod_estado            estado  uf        regiao\n",
              "294 -10.90910   -37.0677          28           Sergipe  SE      Nordeste\n",
              "580  -1.45540   -48.4898          15              Pará  PA         Norte\n",
              "592 -19.91020   -43.9266          31      Minas Gerais  MG       Sudeste\n",
              "642   2.82384   -60.6753          14           Roraima  RR         Norte\n",
              "755 -15.77950   -47.9297          53  Distrito Federal  DF  Centro-Oeste"
            ]
          },
          "metadata": {
            "tags": []
          },
          "execution_count": 79
        }
      ]
    },
    {
      "cell_type": "code",
      "metadata": {
        "id": "9fGTOePRQfDQ",
        "colab_type": "code",
        "outputId": "33b2507c-8ba7-43fd-c170-92fe84faa16b",
        "colab": {
          "base_uri": "https://localhost:8080/",
          "height": 206
        }
      },
      "source": [
        "#Juntando os dataframes\n",
        "df_uf = pd.merge(df_uf,dim_uf, how =\"inner\", on=\"estado\")\n",
        "df_uf.head()"
      ],
      "execution_count": 0,
      "outputs": [
        {
          "output_type": "execute_result",
          "data": {
            "text/html": [
              "<div>\n",
              "<style scoped>\n",
              "    .dataframe tbody tr th:only-of-type {\n",
              "        vertical-align: middle;\n",
              "    }\n",
              "\n",
              "    .dataframe tbody tr th {\n",
              "        vertical-align: top;\n",
              "    }\n",
              "\n",
              "    .dataframe thead th {\n",
              "        text-align: right;\n",
              "    }\n",
              "</style>\n",
              "<table border=\"1\" class=\"dataframe\">\n",
              "  <thead>\n",
              "    <tr style=\"text-align: right;\">\n",
              "      <th></th>\n",
              "      <th>ano</th>\n",
              "      <th>estado</th>\n",
              "      <th>motivo/situação</th>\n",
              "      <th>qtd_acidentes</th>\n",
              "      <th>latitude</th>\n",
              "      <th>longitude</th>\n",
              "      <th>cod_estado</th>\n",
              "      <th>uf</th>\n",
              "      <th>regiao</th>\n",
              "    </tr>\n",
              "  </thead>\n",
              "  <tbody>\n",
              "    <tr>\n",
              "      <th>0</th>\n",
              "      <td>1988</td>\n",
              "      <td>Rondônia</td>\n",
              "      <td>Típico-Com Cat</td>\n",
              "      <td>592.0</td>\n",
              "      <td>-8.76077</td>\n",
              "      <td>-63.8999</td>\n",
              "      <td>11</td>\n",
              "      <td>RO</td>\n",
              "      <td>Norte</td>\n",
              "    </tr>\n",
              "    <tr>\n",
              "      <th>1</th>\n",
              "      <td>1988</td>\n",
              "      <td>Rondônia</td>\n",
              "      <td>Trajeto-Com Cat</td>\n",
              "      <td>78.0</td>\n",
              "      <td>-8.76077</td>\n",
              "      <td>-63.8999</td>\n",
              "      <td>11</td>\n",
              "      <td>RO</td>\n",
              "      <td>Norte</td>\n",
              "    </tr>\n",
              "    <tr>\n",
              "      <th>2</th>\n",
              "      <td>1988</td>\n",
              "      <td>Rondônia</td>\n",
              "      <td>Doença do Trabalho-Com Cat</td>\n",
              "      <td>9.0</td>\n",
              "      <td>-8.76077</td>\n",
              "      <td>-63.8999</td>\n",
              "      <td>11</td>\n",
              "      <td>RO</td>\n",
              "      <td>Norte</td>\n",
              "    </tr>\n",
              "    <tr>\n",
              "      <th>3</th>\n",
              "      <td>1989</td>\n",
              "      <td>Rondônia</td>\n",
              "      <td>Típico-Com Cat</td>\n",
              "      <td>558.0</td>\n",
              "      <td>-8.76077</td>\n",
              "      <td>-63.8999</td>\n",
              "      <td>11</td>\n",
              "      <td>RO</td>\n",
              "      <td>Norte</td>\n",
              "    </tr>\n",
              "    <tr>\n",
              "      <th>4</th>\n",
              "      <td>1989</td>\n",
              "      <td>Rondônia</td>\n",
              "      <td>Trajeto-Com Cat</td>\n",
              "      <td>52.0</td>\n",
              "      <td>-8.76077</td>\n",
              "      <td>-63.8999</td>\n",
              "      <td>11</td>\n",
              "      <td>RO</td>\n",
              "      <td>Norte</td>\n",
              "    </tr>\n",
              "  </tbody>\n",
              "</table>\n",
              "</div>"
            ],
            "text/plain": [
              "    ano    estado             motivo/situação  qtd_acidentes  latitude  \\\n",
              "0  1988  Rondônia              Típico-Com Cat          592.0  -8.76077   \n",
              "1  1988  Rondônia             Trajeto-Com Cat           78.0  -8.76077   \n",
              "2  1988  Rondônia  Doença do Trabalho-Com Cat            9.0  -8.76077   \n",
              "3  1989  Rondônia              Típico-Com Cat          558.0  -8.76077   \n",
              "4  1989  Rondônia             Trajeto-Com Cat           52.0  -8.76077   \n",
              "\n",
              "   longitude  cod_estado  uf regiao  \n",
              "0   -63.8999          11  RO  Norte  \n",
              "1   -63.8999          11  RO  Norte  \n",
              "2   -63.8999          11  RO  Norte  \n",
              "3   -63.8999          11  RO  Norte  \n",
              "4   -63.8999          11  RO  Norte  "
            ]
          },
          "metadata": {
            "tags": []
          },
          "execution_count": 80
        }
      ]
    },
    {
      "cell_type": "markdown",
      "metadata": {
        "id": "3880mwmX0Scg",
        "colab_type": "text"
      },
      "source": [
        "Foi necessário pegar apenas a localização das capitais pois dessa forma o mapa teria latitudes e longitudes que fariam mais sentido geograficamente. Do contrário os acidentes do RJ, poderiam estar vinculados a uma latitude e longitude na fronteira do estado, o que dificultaria a visualização."
      ]
    },
    {
      "cell_type": "code",
      "metadata": {
        "id": "mSDHPfh5aFbM",
        "colab_type": "code",
        "outputId": "813f3a37-ec7a-42f8-ea3c-70f45c523f44",
        "colab": {
          "base_uri": "https://localhost:8080/",
          "height": 204
        }
      },
      "source": [
        "#lista dos tipos de dados\n",
        "df_uf.dtypes"
      ],
      "execution_count": 0,
      "outputs": [
        {
          "output_type": "execute_result",
          "data": {
            "text/plain": [
              "ano                 object\n",
              "estado              object\n",
              "motivo/situação     object\n",
              "qtd_acidentes      float64\n",
              "latitude           float64\n",
              "longitude          float64\n",
              "cod_estado           int64\n",
              "uf                  object\n",
              "regiao              object\n",
              "dtype: object"
            ]
          },
          "metadata": {
            "tags": []
          },
          "execution_count": 81
        }
      ]
    },
    {
      "cell_type": "markdown",
      "metadata": {
        "id": "3fKxqUQ-1Ai4",
        "colab_type": "text"
      },
      "source": [
        "o campo ano deve ser alterado para representar um número inteiro"
      ]
    },
    {
      "cell_type": "code",
      "metadata": {
        "id": "3M0n6dTsaFig",
        "colab_type": "code",
        "colab": {}
      },
      "source": [
        "df_uf.ano = df_uf.ano.astype('int64')"
      ],
      "execution_count": 0,
      "outputs": []
    },
    {
      "cell_type": "code",
      "metadata": {
        "id": "oXuZHfkA5ist",
        "colab_type": "code",
        "colab": {}
      },
      "source": [
        "df_uf = df_uf[df_uf[\"ano\"] >= 2001 ]"
      ],
      "execution_count": 0,
      "outputs": []
    },
    {
      "cell_type": "markdown",
      "metadata": {
        "id": "HzxBBN6Q45EC",
        "colab_type": "text"
      },
      "source": [
        "Uma vez que a proposta é analisar os anos mais recentes, foi acordado apenas analisar de 2001 até 2016."
      ]
    },
    {
      "cell_type": "code",
      "metadata": {
        "id": "wbVG4iSM_7K0",
        "colab_type": "code",
        "outputId": "96a9d755-df5f-4f36-81ae-b74e47fa8aed",
        "colab": {
          "base_uri": "https://localhost:8080/",
          "height": 206
        }
      },
      "source": [
        "url = \"https://raw.githubusercontent.com/lorransr/CAT/master/estimativa_populacao.csv\"\n",
        "dim_pop = pd.read_csv(url, sep=\";\",skiprows=1)\n",
        "dim_pop.head()"
      ],
      "execution_count": 0,
      "outputs": [
        {
          "output_type": "execute_result",
          "data": {
            "text/html": [
              "<div>\n",
              "<style scoped>\n",
              "    .dataframe tbody tr th:only-of-type {\n",
              "        vertical-align: middle;\n",
              "    }\n",
              "\n",
              "    .dataframe tbody tr th {\n",
              "        vertical-align: top;\n",
              "    }\n",
              "\n",
              "    .dataframe thead th {\n",
              "        text-align: right;\n",
              "    }\n",
              "</style>\n",
              "<table border=\"1\" class=\"dataframe\">\n",
              "  <thead>\n",
              "    <tr style=\"text-align: right;\">\n",
              "      <th></th>\n",
              "      <th>Unidade da Federação</th>\n",
              "      <th>Ano</th>\n",
              "      <th>Variável</th>\n",
              "      <th>Unnamed: 3</th>\n",
              "    </tr>\n",
              "  </thead>\n",
              "  <tbody>\n",
              "    <tr>\n",
              "      <th>0</th>\n",
              "      <td>Rondônia</td>\n",
              "      <td>2001</td>\n",
              "      <td>População residente estimada (Pessoas)</td>\n",
              "      <td>1407886.0</td>\n",
              "    </tr>\n",
              "    <tr>\n",
              "      <th>1</th>\n",
              "      <td>Rondônia</td>\n",
              "      <td>2002</td>\n",
              "      <td>População residente estimada (Pessoas)</td>\n",
              "      <td>1431777.0</td>\n",
              "    </tr>\n",
              "    <tr>\n",
              "      <th>2</th>\n",
              "      <td>Rondônia</td>\n",
              "      <td>2003</td>\n",
              "      <td>População residente estimada (Pessoas)</td>\n",
              "      <td>1455907.0</td>\n",
              "    </tr>\n",
              "    <tr>\n",
              "      <th>3</th>\n",
              "      <td>Rondônia</td>\n",
              "      <td>2004</td>\n",
              "      <td>População residente estimada (Pessoas)</td>\n",
              "      <td>1562085.0</td>\n",
              "    </tr>\n",
              "    <tr>\n",
              "      <th>4</th>\n",
              "      <td>Rondônia</td>\n",
              "      <td>2005</td>\n",
              "      <td>População residente estimada (Pessoas)</td>\n",
              "      <td>1534594.0</td>\n",
              "    </tr>\n",
              "  </tbody>\n",
              "</table>\n",
              "</div>"
            ],
            "text/plain": [
              "  Unidade da Federação   Ano                                Variável  \\\n",
              "0             Rondônia  2001  População residente estimada (Pessoas)   \n",
              "1             Rondônia  2002  População residente estimada (Pessoas)   \n",
              "2             Rondônia  2003  População residente estimada (Pessoas)   \n",
              "3             Rondônia  2004  População residente estimada (Pessoas)   \n",
              "4             Rondônia  2005  População residente estimada (Pessoas)   \n",
              "\n",
              "   Unnamed: 3  \n",
              "0   1407886.0  \n",
              "1   1431777.0  \n",
              "2   1455907.0  \n",
              "3   1562085.0  \n",
              "4   1534594.0  "
            ]
          },
          "metadata": {
            "tags": []
          },
          "execution_count": 84
        }
      ]
    },
    {
      "cell_type": "code",
      "metadata": {
        "id": "t6QLi32NBROR",
        "colab_type": "code",
        "colab": {}
      },
      "source": [
        "dim_pop.columns=[\"estado\",\"ano\",\"tipo\",\"populacao\"]"
      ],
      "execution_count": 0,
      "outputs": []
    },
    {
      "cell_type": "code",
      "metadata": {
        "id": "UtV0uWAABu7K",
        "colab_type": "code",
        "colab": {}
      },
      "source": [
        "dim_pop = dim_pop[dim_pop.populacao.notnull()]"
      ],
      "execution_count": 0,
      "outputs": []
    },
    {
      "cell_type": "code",
      "metadata": {
        "id": "rP8bxWNkGIBG",
        "colab_type": "code",
        "colab": {}
      },
      "source": [
        "dim_pop.ano=dim_pop.ano.astype(\"int64\")"
      ],
      "execution_count": 0,
      "outputs": []
    },
    {
      "cell_type": "code",
      "metadata": {
        "id": "v1SCINrOGcD3",
        "colab_type": "code",
        "colab": {}
      },
      "source": [
        "dim_pop.drop(\"tipo\",axis = 1,inplace=True)"
      ],
      "execution_count": 0,
      "outputs": []
    },
    {
      "cell_type": "code",
      "metadata": {
        "id": "-sD_jWAKCIVs",
        "colab_type": "code",
        "outputId": "22292414-4c17-478f-8074-5795f366ef12",
        "colab": {
          "base_uri": "https://localhost:8080/",
          "height": 92
        }
      },
      "source": [
        "dim_pop.isna().sum()"
      ],
      "execution_count": 0,
      "outputs": [
        {
          "output_type": "execute_result",
          "data": {
            "text/plain": [
              "estado       0\n",
              "ano          0\n",
              "populacao    0\n",
              "dtype: int64"
            ]
          },
          "metadata": {
            "tags": []
          },
          "execution_count": 89
        }
      ]
    },
    {
      "cell_type": "code",
      "metadata": {
        "id": "WUfsyeh0ovFT",
        "colab_type": "code",
        "outputId": "107f1d1d-c0fe-44fa-dc1f-2c72a26dd54b",
        "colab": {
          "base_uri": "https://localhost:8080/",
          "height": 1138
        }
      },
      "source": [
        "df_uf.groupby(\"ano\")[\"motivo/situação\"].value_counts()"
      ],
      "execution_count": 0,
      "outputs": [
        {
          "output_type": "execute_result",
          "data": {
            "text/plain": [
              "ano   motivo/situação           \n",
              "2001  Doença do Trabalho-Com Cat    27\n",
              "      Trajeto-Com Cat               27\n",
              "      Típico-Com Cat                27\n",
              "2002  Doença do Trabalho-Com Cat    27\n",
              "      Trajeto-Com Cat               27\n",
              "      Típico-Com Cat                27\n",
              "2003  Doença do Trabalho-Com Cat    27\n",
              "      Trajeto-Com Cat               27\n",
              "      Típico-Com Cat                27\n",
              "2004  Doença do Trabalho-Com Cat    27\n",
              "      Trajeto-Com Cat               27\n",
              "      Típico-Com Cat                27\n",
              "2005  Doença do Trabalho-Com Cat    27\n",
              "      Trajeto-Com Cat               27\n",
              "      Típico-Com Cat                27\n",
              "2006  Doença do Trabalho-Com Cat    27\n",
              "      Trajeto-Com Cat               27\n",
              "      Típico-Com Cat                27\n",
              "2007  Sem Cat                       76\n",
              "      Doença do Trabalho-Com Cat    27\n",
              "      Trajeto-Com Cat               27\n",
              "      Típico-Com Cat                27\n",
              "2008  Sem Cat                       79\n",
              "      Doença do Trabalho-Com Cat    27\n",
              "      Trajeto-Com Cat               27\n",
              "      Típico-Com Cat                27\n",
              "2009  Sem Cat                       72\n",
              "      Doença do Trabalho-Com Cat    27\n",
              "      Trajeto-Com Cat               27\n",
              "      Típico-Com Cat                27\n",
              "2010  Sem Cat                       67\n",
              "      Doença do Trabalho-Com Cat    27\n",
              "      Trajeto-Com Cat               27\n",
              "      Típico-Com Cat                27\n",
              "2011  Sem Cat                       67\n",
              "      Doença do Trabalho-Com Cat    27\n",
              "      Trajeto-Com Cat               27\n",
              "      Típico-Com Cat                27\n",
              "2012  Doença do Trabalho-Com Cat    27\n",
              "      Sem Cat                       27\n",
              "      Trajeto-Com Cat               27\n",
              "      Típico-Com Cat                27\n",
              "2013  Doença do Trabalho-Com Cat    27\n",
              "      Sem Cat                       27\n",
              "      Trajeto-Com Cat               27\n",
              "      Típico-Com Cat                27\n",
              "2014  Sem Cat                       68\n",
              "      Doença do Trabalho-Com Cat    27\n",
              "      Trajeto-Com Cat               27\n",
              "      Típico-Com Cat                27\n",
              "2015  Sem Cat                       65\n",
              "      Doença do Trabalho-Com Cat    27\n",
              "      Trajeto-Com Cat               27\n",
              "      Típico-Com Cat                27\n",
              "2016  Sem Cat                       59\n",
              "      Doença do Trabalho-Com Cat    27\n",
              "      Trajeto-Com Cat               27\n",
              "      Típico-Com Cat                27\n",
              "Name: motivo/situação, dtype: int64"
            ]
          },
          "metadata": {
            "tags": []
          },
          "execution_count": 90
        }
      ]
    },
    {
      "cell_type": "markdown",
      "metadata": {
        "id": "qZ6QB0uJotfH",
        "colab_type": "text"
      },
      "source": [
        "era esperado que tivessemos o mesmo número de linhas para motivo do acidente. Acontece que infelizmente, para algumas linhas da base de dados todos os acidentes são contabilizados como \"sem cat\""
      ]
    },
    {
      "cell_type": "code",
      "metadata": {
        "id": "7Q8mhk-zzwlf",
        "colab_type": "code",
        "outputId": "323a2bdf-2cdf-486b-f5cd-fe9ac71733db",
        "colab": {
          "base_uri": "https://localhost:8080/",
          "height": 1194
        }
      },
      "source": [
        "df_uf[df_uf[\"ano\"]==2007].groupby([\"estado\",\"motivo/situação\"])[\"qtd_acidentes\"].value_counts()"
      ],
      "execution_count": 0,
      "outputs": [
        {
          "output_type": "execute_result",
          "data": {
            "text/plain": [
              "estado          motivo/situação             qtd_acidentes\n",
              "Acre            Doença do Trabalho-Com Cat  21.0             1\n",
              "                Sem Cat                     1.0              1\n",
              "                                            246.0            1\n",
              "                Trajeto-Com Cat             82.0             1\n",
              "                Típico-Com Cat              302.0            1\n",
              "Alagoas         Doença do Trabalho-Com Cat  124.0            1\n",
              "                Sem Cat                     1.0              1\n",
              "                                            803.0            1\n",
              "                Trajeto-Com Cat             507.0            1\n",
              "                Típico-Com Cat              6192.0           1\n",
              "Amapá           Doença do Trabalho-Com Cat  13.0             1\n",
              "                Sem Cat                     72.0             1\n",
              "                Trajeto-Com Cat             143.0            1\n",
              "                Típico-Com Cat              508.0            1\n",
              "Amazonas        Doença do Trabalho-Com Cat  794.0            1\n",
              "                Sem Cat                     3.0              1\n",
              "                                            1617.0           1\n",
              "                Trajeto-Com Cat             806.0            1\n",
              "                Típico-Com Cat              5316.0           1\n",
              "Bahia           Doença do Trabalho-Com Cat  1744.0           1\n",
              "                Sem Cat                     2.0              1\n",
              "                                            4.0              1\n",
              "                                            21.0             1\n",
              "                                            7552.0           1\n",
              "                Trajeto-Com Cat             1989.0           1\n",
              "                Típico-Com Cat              12167.0          1\n",
              "Ceará           Doença do Trabalho-Com Cat  482.0            1\n",
              "                Sem Cat                     2.0              1\n",
              "                                            4.0              1\n",
              "                                            2174.0           1\n",
              "                                                            ..\n",
              "Rondônia        Típico-Com Cat              1723.0           1\n",
              "Roraima         Doença do Trabalho-Com Cat  8.0              1\n",
              "                Sem Cat                     206.0            1\n",
              "                Trajeto-Com Cat             58.0             1\n",
              "                Típico-Com Cat              157.0            1\n",
              "Santa Catarina  Doença do Trabalho-Com Cat  1047.0           1\n",
              "                Sem Cat                     7.0              1\n",
              "                                            32.0             1\n",
              "                                            381.0            1\n",
              "                                            12860.0          1\n",
              "                Trajeto-Com Cat             4855.0           1\n",
              "                Típico-Com Cat              22739.0          1\n",
              "Sergipe         Doença do Trabalho-Com Cat  177.0            1\n",
              "                Sem Cat                     1.0              1\n",
              "                                            5.0              1\n",
              "                                            554.0            1\n",
              "                Trajeto-Com Cat             311.0            1\n",
              "                Típico-Com Cat              1841.0           1\n",
              "São Paulo       Doença do Trabalho-Com Cat  7365.0           1\n",
              "                Sem Cat                     1.0              1\n",
              "                                            4.0              1\n",
              "                                            46.0             1\n",
              "                                            42066.0          1\n",
              "                Trajeto-Com Cat             31061.0          1\n",
              "                Típico-Com Cat              154200.0         1\n",
              "Tocantins       Doença do Trabalho-Com Cat  168.0            1\n",
              "                Sem Cat                     1.0              1\n",
              "                                            578.0            1\n",
              "                Trajeto-Com Cat             242.0            1\n",
              "                Típico-Com Cat              1134.0           1\n",
              "Name: qtd_acidentes, Length: 155, dtype: int64"
            ]
          },
          "metadata": {
            "tags": []
          },
          "execution_count": 91
        }
      ]
    },
    {
      "cell_type": "markdown",
      "metadata": {
        "id": "AApxPfTi1MxI",
        "colab_type": "text"
      },
      "source": [
        "Neste caso, a soluçã foi aglomerar todos os acidentes sem CAT em um grupo só."
      ]
    },
    {
      "cell_type": "code",
      "metadata": {
        "id": "NyLZJ0pIxEXA",
        "colab_type": "code",
        "colab": {}
      },
      "source": [
        "df_uf = df_uf.groupby([\"ano\",\"estado\",\"motivo/situação\",\"latitude\",\"longitude\",\"cod_estado\",\"uf\",\"regiao\"])[[\"qtd_acidentes\"]].sum().reset_index()"
      ],
      "execution_count": 0,
      "outputs": []
    },
    {
      "cell_type": "code",
      "metadata": {
        "id": "TRf53f8MvTJ9",
        "colab_type": "code",
        "outputId": "f96ac59a-f213-4906-c956-949a23d1c3ba",
        "colab": {
          "base_uri": "https://localhost:8080/",
          "height": 1138
        }
      },
      "source": [
        "df_uf.groupby(\"ano\")[\"motivo/situação\"].value_counts()"
      ],
      "execution_count": 0,
      "outputs": [
        {
          "output_type": "execute_result",
          "data": {
            "text/plain": [
              "ano   motivo/situação           \n",
              "2001  Doença do Trabalho-Com Cat    27\n",
              "      Trajeto-Com Cat               27\n",
              "      Típico-Com Cat                27\n",
              "2002  Doença do Trabalho-Com Cat    27\n",
              "      Trajeto-Com Cat               27\n",
              "      Típico-Com Cat                27\n",
              "2003  Doença do Trabalho-Com Cat    27\n",
              "      Trajeto-Com Cat               27\n",
              "      Típico-Com Cat                27\n",
              "2004  Doença do Trabalho-Com Cat    27\n",
              "      Trajeto-Com Cat               27\n",
              "      Típico-Com Cat                27\n",
              "2005  Doença do Trabalho-Com Cat    27\n",
              "      Trajeto-Com Cat               27\n",
              "      Típico-Com Cat                27\n",
              "2006  Doença do Trabalho-Com Cat    27\n",
              "      Trajeto-Com Cat               27\n",
              "      Típico-Com Cat                27\n",
              "2007  Doença do Trabalho-Com Cat    27\n",
              "      Sem Cat                       27\n",
              "      Trajeto-Com Cat               27\n",
              "      Típico-Com Cat                27\n",
              "2008  Doença do Trabalho-Com Cat    27\n",
              "      Sem Cat                       27\n",
              "      Trajeto-Com Cat               27\n",
              "      Típico-Com Cat                27\n",
              "2009  Doença do Trabalho-Com Cat    27\n",
              "      Sem Cat                       27\n",
              "      Trajeto-Com Cat               27\n",
              "      Típico-Com Cat                27\n",
              "2010  Doença do Trabalho-Com Cat    27\n",
              "      Sem Cat                       27\n",
              "      Trajeto-Com Cat               27\n",
              "      Típico-Com Cat                27\n",
              "2011  Doença do Trabalho-Com Cat    27\n",
              "      Sem Cat                       27\n",
              "      Trajeto-Com Cat               27\n",
              "      Típico-Com Cat                27\n",
              "2012  Doença do Trabalho-Com Cat    27\n",
              "      Sem Cat                       27\n",
              "      Trajeto-Com Cat               27\n",
              "      Típico-Com Cat                27\n",
              "2013  Doença do Trabalho-Com Cat    27\n",
              "      Sem Cat                       27\n",
              "      Trajeto-Com Cat               27\n",
              "      Típico-Com Cat                27\n",
              "2014  Doença do Trabalho-Com Cat    27\n",
              "      Sem Cat                       27\n",
              "      Trajeto-Com Cat               27\n",
              "      Típico-Com Cat                27\n",
              "2015  Doença do Trabalho-Com Cat    27\n",
              "      Sem Cat                       27\n",
              "      Trajeto-Com Cat               27\n",
              "      Típico-Com Cat                27\n",
              "2016  Doença do Trabalho-Com Cat    27\n",
              "      Sem Cat                       27\n",
              "      Trajeto-Com Cat               27\n",
              "      Típico-Com Cat                27\n",
              "Name: motivo/situação, dtype: int64"
            ]
          },
          "metadata": {
            "tags": []
          },
          "execution_count": 93
        }
      ]
    },
    {
      "cell_type": "code",
      "metadata": {
        "id": "fCNq7vV9Dd2y",
        "colab_type": "code",
        "colab": {}
      },
      "source": [
        "#adicionando os dados populacionais\n",
        "df_uf = df_uf.merge(dim_pop[[\"ano\",\"estado\",\"populacao\"]],\n",
        "                    on =[\"ano\",\"estado\"], how=\"left\") "
      ],
      "execution_count": 0,
      "outputs": []
    },
    {
      "cell_type": "markdown",
      "metadata": {
        "id": "EBiustEeKxN5",
        "colab_type": "text"
      },
      "source": [
        "A princípio foram substituidos os campos vazios, com a população referente ao ano anterior"
      ]
    },
    {
      "cell_type": "code",
      "metadata": {
        "id": "30WU8f2UHMhZ",
        "colab_type": "code",
        "colab": {}
      },
      "source": [
        "df_uf[\"populacao\"] = df_uf.sort_values(by=[\"estado\",\"ano\"]).groupby([\"estado\"])[\"populacao\"].ffill()"
      ],
      "execution_count": 0,
      "outputs": []
    },
    {
      "cell_type": "code",
      "metadata": {
        "colab_type": "code",
        "outputId": "f0ad2593-4a13-4dd4-b59c-3e3d5ef152a1",
        "id": "OkIm4-2p19X1",
        "colab": {
          "base_uri": "https://localhost:8080/",
          "height": 1618
        }
      },
      "source": [
        "df_uf.tail()"
      ],
      "execution_count": 0,
      "outputs": [
        {
          "output_type": "execute_result",
          "data": {
            "text/html": [
              "<div>\n",
              "<style scoped>\n",
              "    .dataframe tbody tr th:only-of-type {\n",
              "        vertical-align: middle;\n",
              "    }\n",
              "\n",
              "    .dataframe tbody tr th {\n",
              "        vertical-align: top;\n",
              "    }\n",
              "\n",
              "    .dataframe thead th {\n",
              "        text-align: right;\n",
              "    }\n",
              "</style>\n",
              "<table border=\"1\" class=\"dataframe\">\n",
              "  <thead>\n",
              "    <tr style=\"text-align: right;\">\n",
              "      <th></th>\n",
              "      <th>ano</th>\n",
              "      <th>estado</th>\n",
              "      <th>motivo/situação</th>\n",
              "      <th>latitude</th>\n",
              "      <th>longitude</th>\n",
              "      <th>cod_estado</th>\n",
              "      <th>uf</th>\n",
              "      <th>regiao</th>\n",
              "      <th>qtd_acidentes</th>\n",
              "      <th>populacao</th>\n",
              "    </tr>\n",
              "  </thead>\n",
              "  <tbody>\n",
              "    <tr>\n",
              "      <th>1516</th>\n",
              "      <td>2016</td>\n",
              "      <td>Paraíba</td>\n",
              "      <td>Trajeto-Com Cat</td>\n",
              "      <td>-7.11509</td>\n",
              "      <td>-34.8641</td>\n",
              "      <td>25</td>\n",
              "      <td>PB</td>\n",
              "      <td>Nordeste</td>\n",
              "      <td>840.0</td>\n",
              "      <td>3999415.0</td>\n",
              "    </tr>\n",
              "    <tr>\n",
              "      <th>1517</th>\n",
              "      <td>2016</td>\n",
              "      <td>Paraíba</td>\n",
              "      <td>Típico-Com Cat</td>\n",
              "      <td>-7.11509</td>\n",
              "      <td>-34.8641</td>\n",
              "      <td>25</td>\n",
              "      <td>PB</td>\n",
              "      <td>Nordeste</td>\n",
              "      <td>1695.0</td>\n",
              "      <td>3999415.0</td>\n",
              "    </tr>\n",
              "    <tr>\n",
              "      <th>1518</th>\n",
              "      <td>2016</td>\n",
              "      <td>Pará</td>\n",
              "      <td>Doença do Trabalho-Com Cat</td>\n",
              "      <td>-1.45540</td>\n",
              "      <td>-48.4898</td>\n",
              "      <td>15</td>\n",
              "      <td>PA</td>\n",
              "      <td>Norte</td>\n",
              "      <td>137.0</td>\n",
              "      <td>8272724.0</td>\n",
              "    </tr>\n",
              "    <tr>\n",
              "      <th>1519</th>\n",
              "      <td>2016</td>\n",
              "      <td>Pará</td>\n",
              "      <td>Sem Cat</td>\n",
              "      <td>-1.45540</td>\n",
              "      <td>-48.4898</td>\n",
              "      <td>15</td>\n",
              "      <td>PA</td>\n",
              "      <td>Norte</td>\n",
              "      <td>1827.0</td>\n",
              "      <td>8272724.0</td>\n",
              "    </tr>\n",
              "    <tr>\n",
              "      <th>1520</th>\n",
              "      <td>2016</td>\n",
              "      <td>Pará</td>\n",
              "      <td>Trajeto-Com Cat</td>\n",
              "      <td>-1.45540</td>\n",
              "      <td>-48.4898</td>\n",
              "      <td>15</td>\n",
              "      <td>PA</td>\n",
              "      <td>Norte</td>\n",
              "      <td>1501.0</td>\n",
              "      <td>8272724.0</td>\n",
              "    </tr>\n",
              "    <tr>\n",
              "      <th>1521</th>\n",
              "      <td>2016</td>\n",
              "      <td>Pará</td>\n",
              "      <td>Típico-Com Cat</td>\n",
              "      <td>-1.45540</td>\n",
              "      <td>-48.4898</td>\n",
              "      <td>15</td>\n",
              "      <td>PA</td>\n",
              "      <td>Norte</td>\n",
              "      <td>6056.0</td>\n",
              "      <td>8272724.0</td>\n",
              "    </tr>\n",
              "    <tr>\n",
              "      <th>1522</th>\n",
              "      <td>2016</td>\n",
              "      <td>Pernambuco</td>\n",
              "      <td>Doença do Trabalho-Com Cat</td>\n",
              "      <td>-8.04666</td>\n",
              "      <td>-34.8771</td>\n",
              "      <td>26</td>\n",
              "      <td>PE</td>\n",
              "      <td>Nordeste</td>\n",
              "      <td>741.0</td>\n",
              "      <td>9410336.0</td>\n",
              "    </tr>\n",
              "    <tr>\n",
              "      <th>1523</th>\n",
              "      <td>2016</td>\n",
              "      <td>Pernambuco</td>\n",
              "      <td>Sem Cat</td>\n",
              "      <td>-8.04666</td>\n",
              "      <td>-34.8771</td>\n",
              "      <td>26</td>\n",
              "      <td>PE</td>\n",
              "      <td>Nordeste</td>\n",
              "      <td>4599.0</td>\n",
              "      <td>9410336.0</td>\n",
              "    </tr>\n",
              "    <tr>\n",
              "      <th>1524</th>\n",
              "      <td>2016</td>\n",
              "      <td>Pernambuco</td>\n",
              "      <td>Trajeto-Com Cat</td>\n",
              "      <td>-8.04666</td>\n",
              "      <td>-34.8771</td>\n",
              "      <td>26</td>\n",
              "      <td>PE</td>\n",
              "      <td>Nordeste</td>\n",
              "      <td>2726.0</td>\n",
              "      <td>9410336.0</td>\n",
              "    </tr>\n",
              "    <tr>\n",
              "      <th>1525</th>\n",
              "      <td>2016</td>\n",
              "      <td>Pernambuco</td>\n",
              "      <td>Típico-Com Cat</td>\n",
              "      <td>-8.04666</td>\n",
              "      <td>-34.8771</td>\n",
              "      <td>26</td>\n",
              "      <td>PE</td>\n",
              "      <td>Nordeste</td>\n",
              "      <td>7452.0</td>\n",
              "      <td>9410336.0</td>\n",
              "    </tr>\n",
              "    <tr>\n",
              "      <th>1526</th>\n",
              "      <td>2016</td>\n",
              "      <td>Piauí</td>\n",
              "      <td>Doença do Trabalho-Com Cat</td>\n",
              "      <td>-5.09194</td>\n",
              "      <td>-42.8034</td>\n",
              "      <td>22</td>\n",
              "      <td>PI</td>\n",
              "      <td>Nordeste</td>\n",
              "      <td>61.0</td>\n",
              "      <td>3212180.0</td>\n",
              "    </tr>\n",
              "    <tr>\n",
              "      <th>1527</th>\n",
              "      <td>2016</td>\n",
              "      <td>Piauí</td>\n",
              "      <td>Sem Cat</td>\n",
              "      <td>-5.09194</td>\n",
              "      <td>-42.8034</td>\n",
              "      <td>22</td>\n",
              "      <td>PI</td>\n",
              "      <td>Nordeste</td>\n",
              "      <td>2360.0</td>\n",
              "      <td>3212180.0</td>\n",
              "    </tr>\n",
              "    <tr>\n",
              "      <th>1528</th>\n",
              "      <td>2016</td>\n",
              "      <td>Piauí</td>\n",
              "      <td>Trajeto-Com Cat</td>\n",
              "      <td>-5.09194</td>\n",
              "      <td>-42.8034</td>\n",
              "      <td>22</td>\n",
              "      <td>PI</td>\n",
              "      <td>Nordeste</td>\n",
              "      <td>531.0</td>\n",
              "      <td>3212180.0</td>\n",
              "    </tr>\n",
              "    <tr>\n",
              "      <th>1529</th>\n",
              "      <td>2016</td>\n",
              "      <td>Piauí</td>\n",
              "      <td>Típico-Com Cat</td>\n",
              "      <td>-5.09194</td>\n",
              "      <td>-42.8034</td>\n",
              "      <td>22</td>\n",
              "      <td>PI</td>\n",
              "      <td>Nordeste</td>\n",
              "      <td>855.0</td>\n",
              "      <td>3212180.0</td>\n",
              "    </tr>\n",
              "    <tr>\n",
              "      <th>1530</th>\n",
              "      <td>2016</td>\n",
              "      <td>Rio Grande do Norte</td>\n",
              "      <td>Doença do Trabalho-Com Cat</td>\n",
              "      <td>-5.79357</td>\n",
              "      <td>-35.1986</td>\n",
              "      <td>24</td>\n",
              "      <td>RN</td>\n",
              "      <td>Nordeste</td>\n",
              "      <td>279.0</td>\n",
              "      <td>3474998.0</td>\n",
              "    </tr>\n",
              "    <tr>\n",
              "      <th>1531</th>\n",
              "      <td>2016</td>\n",
              "      <td>Rio Grande do Norte</td>\n",
              "      <td>Sem Cat</td>\n",
              "      <td>-5.79357</td>\n",
              "      <td>-35.1986</td>\n",
              "      <td>24</td>\n",
              "      <td>RN</td>\n",
              "      <td>Nordeste</td>\n",
              "      <td>1478.0</td>\n",
              "      <td>3474998.0</td>\n",
              "    </tr>\n",
              "    <tr>\n",
              "      <th>1532</th>\n",
              "      <td>2016</td>\n",
              "      <td>Rio Grande do Norte</td>\n",
              "      <td>Trajeto-Com Cat</td>\n",
              "      <td>-5.79357</td>\n",
              "      <td>-35.1986</td>\n",
              "      <td>24</td>\n",
              "      <td>RN</td>\n",
              "      <td>Nordeste</td>\n",
              "      <td>1131.0</td>\n",
              "      <td>3474998.0</td>\n",
              "    </tr>\n",
              "    <tr>\n",
              "      <th>1533</th>\n",
              "      <td>2016</td>\n",
              "      <td>Rio Grande do Norte</td>\n",
              "      <td>Típico-Com Cat</td>\n",
              "      <td>-5.79357</td>\n",
              "      <td>-35.1986</td>\n",
              "      <td>24</td>\n",
              "      <td>RN</td>\n",
              "      <td>Nordeste</td>\n",
              "      <td>2668.0</td>\n",
              "      <td>3474998.0</td>\n",
              "    </tr>\n",
              "    <tr>\n",
              "      <th>1534</th>\n",
              "      <td>2016</td>\n",
              "      <td>Rio Grande do Sul</td>\n",
              "      <td>Doença do Trabalho-Com Cat</td>\n",
              "      <td>-30.03180</td>\n",
              "      <td>-51.2065</td>\n",
              "      <td>43</td>\n",
              "      <td>RS</td>\n",
              "      <td>Sul</td>\n",
              "      <td>1086.0</td>\n",
              "      <td>11286500.0</td>\n",
              "    </tr>\n",
              "    <tr>\n",
              "      <th>1535</th>\n",
              "      <td>2016</td>\n",
              "      <td>Rio Grande do Sul</td>\n",
              "      <td>Sem Cat</td>\n",
              "      <td>-30.03180</td>\n",
              "      <td>-51.2065</td>\n",
              "      <td>43</td>\n",
              "      <td>RS</td>\n",
              "      <td>Sul</td>\n",
              "      <td>11219.0</td>\n",
              "      <td>11286500.0</td>\n",
              "    </tr>\n",
              "    <tr>\n",
              "      <th>1536</th>\n",
              "      <td>2016</td>\n",
              "      <td>Rio Grande do Sul</td>\n",
              "      <td>Trajeto-Com Cat</td>\n",
              "      <td>-30.03180</td>\n",
              "      <td>-51.2065</td>\n",
              "      <td>43</td>\n",
              "      <td>RS</td>\n",
              "      <td>Sul</td>\n",
              "      <td>6855.0</td>\n",
              "      <td>11286500.0</td>\n",
              "    </tr>\n",
              "    <tr>\n",
              "      <th>1537</th>\n",
              "      <td>2016</td>\n",
              "      <td>Rio Grande do Sul</td>\n",
              "      <td>Típico-Com Cat</td>\n",
              "      <td>-30.03180</td>\n",
              "      <td>-51.2065</td>\n",
              "      <td>43</td>\n",
              "      <td>RS</td>\n",
              "      <td>Sul</td>\n",
              "      <td>31213.0</td>\n",
              "      <td>11286500.0</td>\n",
              "    </tr>\n",
              "    <tr>\n",
              "      <th>1538</th>\n",
              "      <td>2016</td>\n",
              "      <td>Rio de Janeiro</td>\n",
              "      <td>Doença do Trabalho-Com Cat</td>\n",
              "      <td>-22.91290</td>\n",
              "      <td>-43.2003</td>\n",
              "      <td>33</td>\n",
              "      <td>RJ</td>\n",
              "      <td>Sudeste</td>\n",
              "      <td>1357.0</td>\n",
              "      <td>16635996.0</td>\n",
              "    </tr>\n",
              "    <tr>\n",
              "      <th>1539</th>\n",
              "      <td>2016</td>\n",
              "      <td>Rio de Janeiro</td>\n",
              "      <td>Sem Cat</td>\n",
              "      <td>-22.91290</td>\n",
              "      <td>-43.2003</td>\n",
              "      <td>33</td>\n",
              "      <td>RJ</td>\n",
              "      <td>Sudeste</td>\n",
              "      <td>4457.0</td>\n",
              "      <td>16635996.0</td>\n",
              "    </tr>\n",
              "    <tr>\n",
              "      <th>1540</th>\n",
              "      <td>2016</td>\n",
              "      <td>Rio de Janeiro</td>\n",
              "      <td>Trajeto-Com Cat</td>\n",
              "      <td>-22.91290</td>\n",
              "      <td>-43.2003</td>\n",
              "      <td>33</td>\n",
              "      <td>RJ</td>\n",
              "      <td>Sudeste</td>\n",
              "      <td>8582.0</td>\n",
              "      <td>16635996.0</td>\n",
              "    </tr>\n",
              "    <tr>\n",
              "      <th>1541</th>\n",
              "      <td>2016</td>\n",
              "      <td>Rio de Janeiro</td>\n",
              "      <td>Típico-Com Cat</td>\n",
              "      <td>-22.91290</td>\n",
              "      <td>-43.2003</td>\n",
              "      <td>33</td>\n",
              "      <td>RJ</td>\n",
              "      <td>Sudeste</td>\n",
              "      <td>27463.0</td>\n",
              "      <td>16635996.0</td>\n",
              "    </tr>\n",
              "    <tr>\n",
              "      <th>1542</th>\n",
              "      <td>2016</td>\n",
              "      <td>Rondônia</td>\n",
              "      <td>Doença do Trabalho-Com Cat</td>\n",
              "      <td>-8.76077</td>\n",
              "      <td>-63.8999</td>\n",
              "      <td>11</td>\n",
              "      <td>RO</td>\n",
              "      <td>Norte</td>\n",
              "      <td>119.0</td>\n",
              "      <td>1787279.0</td>\n",
              "    </tr>\n",
              "    <tr>\n",
              "      <th>1543</th>\n",
              "      <td>2016</td>\n",
              "      <td>Rondônia</td>\n",
              "      <td>Sem Cat</td>\n",
              "      <td>-8.76077</td>\n",
              "      <td>-63.8999</td>\n",
              "      <td>11</td>\n",
              "      <td>RO</td>\n",
              "      <td>Norte</td>\n",
              "      <td>1497.0</td>\n",
              "      <td>1787279.0</td>\n",
              "    </tr>\n",
              "    <tr>\n",
              "      <th>1544</th>\n",
              "      <td>2016</td>\n",
              "      <td>Rondônia</td>\n",
              "      <td>Trajeto-Com Cat</td>\n",
              "      <td>-8.76077</td>\n",
              "      <td>-63.8999</td>\n",
              "      <td>11</td>\n",
              "      <td>RO</td>\n",
              "      <td>Norte</td>\n",
              "      <td>849.0</td>\n",
              "      <td>1787279.0</td>\n",
              "    </tr>\n",
              "    <tr>\n",
              "      <th>1545</th>\n",
              "      <td>2016</td>\n",
              "      <td>Rondônia</td>\n",
              "      <td>Típico-Com Cat</td>\n",
              "      <td>-8.76077</td>\n",
              "      <td>-63.8999</td>\n",
              "      <td>11</td>\n",
              "      <td>RO</td>\n",
              "      <td>Norte</td>\n",
              "      <td>2037.0</td>\n",
              "      <td>1787279.0</td>\n",
              "    </tr>\n",
              "    <tr>\n",
              "      <th>1546</th>\n",
              "      <td>2016</td>\n",
              "      <td>Roraima</td>\n",
              "      <td>Doença do Trabalho-Com Cat</td>\n",
              "      <td>2.82384</td>\n",
              "      <td>-60.6753</td>\n",
              "      <td>14</td>\n",
              "      <td>RR</td>\n",
              "      <td>Norte</td>\n",
              "      <td>5.0</td>\n",
              "      <td>514229.0</td>\n",
              "    </tr>\n",
              "    <tr>\n",
              "      <th>1547</th>\n",
              "      <td>2016</td>\n",
              "      <td>Roraima</td>\n",
              "      <td>Sem Cat</td>\n",
              "      <td>2.82384</td>\n",
              "      <td>-60.6753</td>\n",
              "      <td>14</td>\n",
              "      <td>RR</td>\n",
              "      <td>Norte</td>\n",
              "      <td>194.0</td>\n",
              "      <td>514229.0</td>\n",
              "    </tr>\n",
              "    <tr>\n",
              "      <th>1548</th>\n",
              "      <td>2016</td>\n",
              "      <td>Roraima</td>\n",
              "      <td>Trajeto-Com Cat</td>\n",
              "      <td>2.82384</td>\n",
              "      <td>-60.6753</td>\n",
              "      <td>14</td>\n",
              "      <td>RR</td>\n",
              "      <td>Norte</td>\n",
              "      <td>212.0</td>\n",
              "      <td>514229.0</td>\n",
              "    </tr>\n",
              "    <tr>\n",
              "      <th>1549</th>\n",
              "      <td>2016</td>\n",
              "      <td>Roraima</td>\n",
              "      <td>Típico-Com Cat</td>\n",
              "      <td>2.82384</td>\n",
              "      <td>-60.6753</td>\n",
              "      <td>14</td>\n",
              "      <td>RR</td>\n",
              "      <td>Norte</td>\n",
              "      <td>340.0</td>\n",
              "      <td>514229.0</td>\n",
              "    </tr>\n",
              "    <tr>\n",
              "      <th>1550</th>\n",
              "      <td>2016</td>\n",
              "      <td>Santa Catarina</td>\n",
              "      <td>Doença do Trabalho-Com Cat</td>\n",
              "      <td>-27.59450</td>\n",
              "      <td>-48.5477</td>\n",
              "      <td>42</td>\n",
              "      <td>SC</td>\n",
              "      <td>Sul</td>\n",
              "      <td>480.0</td>\n",
              "      <td>6910553.0</td>\n",
              "    </tr>\n",
              "    <tr>\n",
              "      <th>1551</th>\n",
              "      <td>2016</td>\n",
              "      <td>Santa Catarina</td>\n",
              "      <td>Sem Cat</td>\n",
              "      <td>-27.59450</td>\n",
              "      <td>-48.5477</td>\n",
              "      <td>42</td>\n",
              "      <td>SC</td>\n",
              "      <td>Sul</td>\n",
              "      <td>11423.0</td>\n",
              "      <td>6910553.0</td>\n",
              "    </tr>\n",
              "    <tr>\n",
              "      <th>1552</th>\n",
              "      <td>2016</td>\n",
              "      <td>Santa Catarina</td>\n",
              "      <td>Trajeto-Com Cat</td>\n",
              "      <td>-27.59450</td>\n",
              "      <td>-48.5477</td>\n",
              "      <td>42</td>\n",
              "      <td>SC</td>\n",
              "      <td>Sul</td>\n",
              "      <td>5794.0</td>\n",
              "      <td>6910553.0</td>\n",
              "    </tr>\n",
              "    <tr>\n",
              "      <th>1553</th>\n",
              "      <td>2016</td>\n",
              "      <td>Santa Catarina</td>\n",
              "      <td>Típico-Com Cat</td>\n",
              "      <td>-27.59450</td>\n",
              "      <td>-48.5477</td>\n",
              "      <td>42</td>\n",
              "      <td>SC</td>\n",
              "      <td>Sul</td>\n",
              "      <td>18953.0</td>\n",
              "      <td>6910553.0</td>\n",
              "    </tr>\n",
              "    <tr>\n",
              "      <th>1554</th>\n",
              "      <td>2016</td>\n",
              "      <td>Sergipe</td>\n",
              "      <td>Doença do Trabalho-Com Cat</td>\n",
              "      <td>-10.90910</td>\n",
              "      <td>-37.0677</td>\n",
              "      <td>28</td>\n",
              "      <td>SE</td>\n",
              "      <td>Nordeste</td>\n",
              "      <td>49.0</td>\n",
              "      <td>2265779.0</td>\n",
              "    </tr>\n",
              "    <tr>\n",
              "      <th>1555</th>\n",
              "      <td>2016</td>\n",
              "      <td>Sergipe</td>\n",
              "      <td>Sem Cat</td>\n",
              "      <td>-10.90910</td>\n",
              "      <td>-37.0677</td>\n",
              "      <td>28</td>\n",
              "      <td>SE</td>\n",
              "      <td>Nordeste</td>\n",
              "      <td>531.0</td>\n",
              "      <td>2265779.0</td>\n",
              "    </tr>\n",
              "    <tr>\n",
              "      <th>1556</th>\n",
              "      <td>2016</td>\n",
              "      <td>Sergipe</td>\n",
              "      <td>Trajeto-Com Cat</td>\n",
              "      <td>-10.90910</td>\n",
              "      <td>-37.0677</td>\n",
              "      <td>28</td>\n",
              "      <td>SE</td>\n",
              "      <td>Nordeste</td>\n",
              "      <td>498.0</td>\n",
              "      <td>2265779.0</td>\n",
              "    </tr>\n",
              "    <tr>\n",
              "      <th>1557</th>\n",
              "      <td>2016</td>\n",
              "      <td>Sergipe</td>\n",
              "      <td>Típico-Com Cat</td>\n",
              "      <td>-10.90910</td>\n",
              "      <td>-37.0677</td>\n",
              "      <td>28</td>\n",
              "      <td>SE</td>\n",
              "      <td>Nordeste</td>\n",
              "      <td>1589.0</td>\n",
              "      <td>2265779.0</td>\n",
              "    </tr>\n",
              "    <tr>\n",
              "      <th>1558</th>\n",
              "      <td>2016</td>\n",
              "      <td>São Paulo</td>\n",
              "      <td>Doença do Trabalho-Com Cat</td>\n",
              "      <td>-23.53290</td>\n",
              "      <td>-46.6395</td>\n",
              "      <td>35</td>\n",
              "      <td>SP</td>\n",
              "      <td>Sudeste</td>\n",
              "      <td>4204.0</td>\n",
              "      <td>44749699.0</td>\n",
              "    </tr>\n",
              "    <tr>\n",
              "      <th>1559</th>\n",
              "      <td>2016</td>\n",
              "      <td>São Paulo</td>\n",
              "      <td>Sem Cat</td>\n",
              "      <td>-23.53290</td>\n",
              "      <td>-46.6395</td>\n",
              "      <td>35</td>\n",
              "      <td>SP</td>\n",
              "      <td>Sudeste</td>\n",
              "      <td>22765.0</td>\n",
              "      <td>44749699.0</td>\n",
              "    </tr>\n",
              "    <tr>\n",
              "      <th>1560</th>\n",
              "      <td>2016</td>\n",
              "      <td>São Paulo</td>\n",
              "      <td>Trajeto-Com Cat</td>\n",
              "      <td>-23.53290</td>\n",
              "      <td>-46.6395</td>\n",
              "      <td>35</td>\n",
              "      <td>SP</td>\n",
              "      <td>Sudeste</td>\n",
              "      <td>42112.0</td>\n",
              "      <td>44749699.0</td>\n",
              "    </tr>\n",
              "    <tr>\n",
              "      <th>1561</th>\n",
              "      <td>2016</td>\n",
              "      <td>São Paulo</td>\n",
              "      <td>Típico-Com Cat</td>\n",
              "      <td>-23.53290</td>\n",
              "      <td>-46.6395</td>\n",
              "      <td>35</td>\n",
              "      <td>SP</td>\n",
              "      <td>Sudeste</td>\n",
              "      <td>129273.0</td>\n",
              "      <td>44749699.0</td>\n",
              "    </tr>\n",
              "    <tr>\n",
              "      <th>1562</th>\n",
              "      <td>2016</td>\n",
              "      <td>Tocantins</td>\n",
              "      <td>Doença do Trabalho-Com Cat</td>\n",
              "      <td>-10.24000</td>\n",
              "      <td>-48.3558</td>\n",
              "      <td>17</td>\n",
              "      <td>TO</td>\n",
              "      <td>Norte</td>\n",
              "      <td>17.0</td>\n",
              "      <td>1532902.0</td>\n",
              "    </tr>\n",
              "    <tr>\n",
              "      <th>1563</th>\n",
              "      <td>2016</td>\n",
              "      <td>Tocantins</td>\n",
              "      <td>Sem Cat</td>\n",
              "      <td>-10.24000</td>\n",
              "      <td>-48.3558</td>\n",
              "      <td>17</td>\n",
              "      <td>TO</td>\n",
              "      <td>Norte</td>\n",
              "      <td>247.0</td>\n",
              "      <td>1532902.0</td>\n",
              "    </tr>\n",
              "    <tr>\n",
              "      <th>1564</th>\n",
              "      <td>2016</td>\n",
              "      <td>Tocantins</td>\n",
              "      <td>Trajeto-Com Cat</td>\n",
              "      <td>-10.24000</td>\n",
              "      <td>-48.3558</td>\n",
              "      <td>17</td>\n",
              "      <td>TO</td>\n",
              "      <td>Norte</td>\n",
              "      <td>295.0</td>\n",
              "      <td>1532902.0</td>\n",
              "    </tr>\n",
              "    <tr>\n",
              "      <th>1565</th>\n",
              "      <td>2016</td>\n",
              "      <td>Tocantins</td>\n",
              "      <td>Típico-Com Cat</td>\n",
              "      <td>-10.24000</td>\n",
              "      <td>-48.3558</td>\n",
              "      <td>17</td>\n",
              "      <td>TO</td>\n",
              "      <td>Norte</td>\n",
              "      <td>937.0</td>\n",
              "      <td>1532902.0</td>\n",
              "    </tr>\n",
              "  </tbody>\n",
              "</table>\n",
              "</div>"
            ],
            "text/plain": [
              "       ano               estado             motivo/situação  latitude  \\\n",
              "1516  2016              Paraíba             Trajeto-Com Cat  -7.11509   \n",
              "1517  2016              Paraíba              Típico-Com Cat  -7.11509   \n",
              "1518  2016                 Pará  Doença do Trabalho-Com Cat  -1.45540   \n",
              "1519  2016                 Pará                     Sem Cat  -1.45540   \n",
              "1520  2016                 Pará             Trajeto-Com Cat  -1.45540   \n",
              "1521  2016                 Pará              Típico-Com Cat  -1.45540   \n",
              "1522  2016           Pernambuco  Doença do Trabalho-Com Cat  -8.04666   \n",
              "1523  2016           Pernambuco                     Sem Cat  -8.04666   \n",
              "1524  2016           Pernambuco             Trajeto-Com Cat  -8.04666   \n",
              "1525  2016           Pernambuco              Típico-Com Cat  -8.04666   \n",
              "1526  2016                Piauí  Doença do Trabalho-Com Cat  -5.09194   \n",
              "1527  2016                Piauí                     Sem Cat  -5.09194   \n",
              "1528  2016                Piauí             Trajeto-Com Cat  -5.09194   \n",
              "1529  2016                Piauí              Típico-Com Cat  -5.09194   \n",
              "1530  2016  Rio Grande do Norte  Doença do Trabalho-Com Cat  -5.79357   \n",
              "1531  2016  Rio Grande do Norte                     Sem Cat  -5.79357   \n",
              "1532  2016  Rio Grande do Norte             Trajeto-Com Cat  -5.79357   \n",
              "1533  2016  Rio Grande do Norte              Típico-Com Cat  -5.79357   \n",
              "1534  2016    Rio Grande do Sul  Doença do Trabalho-Com Cat -30.03180   \n",
              "1535  2016    Rio Grande do Sul                     Sem Cat -30.03180   \n",
              "1536  2016    Rio Grande do Sul             Trajeto-Com Cat -30.03180   \n",
              "1537  2016    Rio Grande do Sul              Típico-Com Cat -30.03180   \n",
              "1538  2016       Rio de Janeiro  Doença do Trabalho-Com Cat -22.91290   \n",
              "1539  2016       Rio de Janeiro                     Sem Cat -22.91290   \n",
              "1540  2016       Rio de Janeiro             Trajeto-Com Cat -22.91290   \n",
              "1541  2016       Rio de Janeiro              Típico-Com Cat -22.91290   \n",
              "1542  2016             Rondônia  Doença do Trabalho-Com Cat  -8.76077   \n",
              "1543  2016             Rondônia                     Sem Cat  -8.76077   \n",
              "1544  2016             Rondônia             Trajeto-Com Cat  -8.76077   \n",
              "1545  2016             Rondônia              Típico-Com Cat  -8.76077   \n",
              "1546  2016              Roraima  Doença do Trabalho-Com Cat   2.82384   \n",
              "1547  2016              Roraima                     Sem Cat   2.82384   \n",
              "1548  2016              Roraima             Trajeto-Com Cat   2.82384   \n",
              "1549  2016              Roraima              Típico-Com Cat   2.82384   \n",
              "1550  2016       Santa Catarina  Doença do Trabalho-Com Cat -27.59450   \n",
              "1551  2016       Santa Catarina                     Sem Cat -27.59450   \n",
              "1552  2016       Santa Catarina             Trajeto-Com Cat -27.59450   \n",
              "1553  2016       Santa Catarina              Típico-Com Cat -27.59450   \n",
              "1554  2016              Sergipe  Doença do Trabalho-Com Cat -10.90910   \n",
              "1555  2016              Sergipe                     Sem Cat -10.90910   \n",
              "1556  2016              Sergipe             Trajeto-Com Cat -10.90910   \n",
              "1557  2016              Sergipe              Típico-Com Cat -10.90910   \n",
              "1558  2016            São Paulo  Doença do Trabalho-Com Cat -23.53290   \n",
              "1559  2016            São Paulo                     Sem Cat -23.53290   \n",
              "1560  2016            São Paulo             Trajeto-Com Cat -23.53290   \n",
              "1561  2016            São Paulo              Típico-Com Cat -23.53290   \n",
              "1562  2016            Tocantins  Doença do Trabalho-Com Cat -10.24000   \n",
              "1563  2016            Tocantins                     Sem Cat -10.24000   \n",
              "1564  2016            Tocantins             Trajeto-Com Cat -10.24000   \n",
              "1565  2016            Tocantins              Típico-Com Cat -10.24000   \n",
              "\n",
              "      longitude  cod_estado  uf    regiao  qtd_acidentes   populacao  \n",
              "1516   -34.8641          25  PB  Nordeste          840.0   3999415.0  \n",
              "1517   -34.8641          25  PB  Nordeste         1695.0   3999415.0  \n",
              "1518   -48.4898          15  PA     Norte          137.0   8272724.0  \n",
              "1519   -48.4898          15  PA     Norte         1827.0   8272724.0  \n",
              "1520   -48.4898          15  PA     Norte         1501.0   8272724.0  \n",
              "1521   -48.4898          15  PA     Norte         6056.0   8272724.0  \n",
              "1522   -34.8771          26  PE  Nordeste          741.0   9410336.0  \n",
              "1523   -34.8771          26  PE  Nordeste         4599.0   9410336.0  \n",
              "1524   -34.8771          26  PE  Nordeste         2726.0   9410336.0  \n",
              "1525   -34.8771          26  PE  Nordeste         7452.0   9410336.0  \n",
              "1526   -42.8034          22  PI  Nordeste           61.0   3212180.0  \n",
              "1527   -42.8034          22  PI  Nordeste         2360.0   3212180.0  \n",
              "1528   -42.8034          22  PI  Nordeste          531.0   3212180.0  \n",
              "1529   -42.8034          22  PI  Nordeste          855.0   3212180.0  \n",
              "1530   -35.1986          24  RN  Nordeste          279.0   3474998.0  \n",
              "1531   -35.1986          24  RN  Nordeste         1478.0   3474998.0  \n",
              "1532   -35.1986          24  RN  Nordeste         1131.0   3474998.0  \n",
              "1533   -35.1986          24  RN  Nordeste         2668.0   3474998.0  \n",
              "1534   -51.2065          43  RS       Sul         1086.0  11286500.0  \n",
              "1535   -51.2065          43  RS       Sul        11219.0  11286500.0  \n",
              "1536   -51.2065          43  RS       Sul         6855.0  11286500.0  \n",
              "1537   -51.2065          43  RS       Sul        31213.0  11286500.0  \n",
              "1538   -43.2003          33  RJ   Sudeste         1357.0  16635996.0  \n",
              "1539   -43.2003          33  RJ   Sudeste         4457.0  16635996.0  \n",
              "1540   -43.2003          33  RJ   Sudeste         8582.0  16635996.0  \n",
              "1541   -43.2003          33  RJ   Sudeste        27463.0  16635996.0  \n",
              "1542   -63.8999          11  RO     Norte          119.0   1787279.0  \n",
              "1543   -63.8999          11  RO     Norte         1497.0   1787279.0  \n",
              "1544   -63.8999          11  RO     Norte          849.0   1787279.0  \n",
              "1545   -63.8999          11  RO     Norte         2037.0   1787279.0  \n",
              "1546   -60.6753          14  RR     Norte            5.0    514229.0  \n",
              "1547   -60.6753          14  RR     Norte          194.0    514229.0  \n",
              "1548   -60.6753          14  RR     Norte          212.0    514229.0  \n",
              "1549   -60.6753          14  RR     Norte          340.0    514229.0  \n",
              "1550   -48.5477          42  SC       Sul          480.0   6910553.0  \n",
              "1551   -48.5477          42  SC       Sul        11423.0   6910553.0  \n",
              "1552   -48.5477          42  SC       Sul         5794.0   6910553.0  \n",
              "1553   -48.5477          42  SC       Sul        18953.0   6910553.0  \n",
              "1554   -37.0677          28  SE  Nordeste           49.0   2265779.0  \n",
              "1555   -37.0677          28  SE  Nordeste          531.0   2265779.0  \n",
              "1556   -37.0677          28  SE  Nordeste          498.0   2265779.0  \n",
              "1557   -37.0677          28  SE  Nordeste         1589.0   2265779.0  \n",
              "1558   -46.6395          35  SP   Sudeste         4204.0  44749699.0  \n",
              "1559   -46.6395          35  SP   Sudeste        22765.0  44749699.0  \n",
              "1560   -46.6395          35  SP   Sudeste        42112.0  44749699.0  \n",
              "1561   -46.6395          35  SP   Sudeste       129273.0  44749699.0  \n",
              "1562   -48.3558          17  TO     Norte           17.0   1532902.0  \n",
              "1563   -48.3558          17  TO     Norte          247.0   1532902.0  \n",
              "1564   -48.3558          17  TO     Norte          295.0   1532902.0  \n",
              "1565   -48.3558          17  TO     Norte          937.0   1532902.0  "
            ]
          },
          "metadata": {
            "tags": []
          },
          "execution_count": 97
        }
      ]
    },
    {
      "cell_type": "markdown",
      "metadata": {
        "id": "usVOwOZxnu3R",
        "colab_type": "text"
      },
      "source": [
        "Com a base de dados tratada agora é possivel tirar alguns insights dos dados adquiridos"
      ]
    },
    {
      "cell_type": "code",
      "metadata": {
        "id": "gi8y5t0Nn3bW",
        "colab_type": "code",
        "colab": {}
      },
      "source": [
        "df_uf.describe()"
      ],
      "execution_count": 0,
      "outputs": []
    },
    {
      "cell_type": "code",
      "metadata": {
        "id": "31BkLjMk--6R",
        "colab_type": "code",
        "colab": {}
      },
      "source": [
        "df_uf.columns"
      ],
      "execution_count": 0,
      "outputs": []
    },
    {
      "cell_type": "code",
      "metadata": {
        "id": "AveSUUJ5-x5I",
        "colab_type": "code",
        "colab": {}
      },
      "source": [
        "b = sns.boxplot(y='motivo/situação',\n",
        "                x =\"qtd_acidentes\",\n",
        "                data = df_uf)"
      ],
      "execution_count": 0,
      "outputs": []
    },
    {
      "cell_type": "markdown",
      "metadata": {
        "id": "FrdbSxENojXq",
        "colab_type": "text"
      },
      "source": [
        "A princípio é possivel observar alguns pontos interessantes:\n",
        "* Não houve em momento algum um ponto com zero acidentes\n",
        "* O maior númedo de acidentes registrado foi 165179 - o que levanta a questão a respeito do quando e onde isso ocorreu.\n",
        "* Esse número grande de acidentes se trata de um outlier uma vez que a grande maioria dos valores está entre 0 a 3000 acidentes.\n"
      ]
    },
    {
      "cell_type": "code",
      "metadata": {
        "id": "AStoX8ibZjt-",
        "colab_type": "code",
        "colab": {}
      },
      "source": [
        "#numero de estados por região\n",
        "df_uf.groupby(by=[\"regiao\"])[[\"estado\"]].nunique()"
      ],
      "execution_count": 0,
      "outputs": []
    },
    {
      "cell_type": "markdown",
      "metadata": {
        "id": "HyUjufLb66iR",
        "colab_type": "text"
      },
      "source": [
        "Os dados estão destribuidos em 5 regiões. A região do nordeste é a mais representativa no data set por conta justamente do numero grande de estados."
      ]
    },
    {
      "cell_type": "markdown",
      "metadata": {
        "id": "ostNJQV_7uWz",
        "colab_type": "text"
      },
      "source": [
        "###  Top 10 estados com mais acidentes"
      ]
    },
    {
      "cell_type": "code",
      "metadata": {
        "id": "CHyRV5UX7z-J",
        "colab_type": "code",
        "colab": {}
      },
      "source": [
        "agrupado = df_uf.groupby(by=['estado',\"regiao\",\"ano\"])[[\"qtd_acidentes\"]].sum().reset_index()\n",
        "\n",
        "anos = agrupado.ano.unique()"
      ],
      "execution_count": 0,
      "outputs": []
    },
    {
      "cell_type": "code",
      "metadata": {
        "id": "O9N0jJhL71wv",
        "colab_type": "code",
        "colab": {}
      },
      "source": [
        "#media dos anos\n",
        "agrupado_media = agrupado.groupby(by=[\"estado\",\"regiao\"])[[\"qtd_acidentes\"]].mean()\n",
        "agrupado_media.sort_values(by=\"qtd_acidentes\",ascending=False,inplace=True)\n",
        "agrupado_media=agrupado_media.reset_index()\n",
        "agrupado_media.head(10)"
      ],
      "execution_count": 0,
      "outputs": []
    },
    {
      "cell_type": "markdown",
      "metadata": {
        "id": "fNblLHfJ8IW8",
        "colab_type": "text"
      },
      "source": [
        "Mais uma vez São Paulo se mostra como grande outlier da massa de dados. Na verdade, com relação as médias todos os estados do sudeste figuram na lista. Porém a comparação é injusta visto que o Brasil é um pais de dimensões continentais e a região sudeste é a mais populosa. Para avaliar melhor a situação do pais deve ser observado os estados com as maiores médias de acidente e em seguida observar o comportamento deles ao longo dos anos."
      ]
    },
    {
      "cell_type": "code",
      "metadata": {
        "id": "eg2fgLbH787n",
        "colab_type": "code",
        "colab": {}
      },
      "source": [
        "plt.figure(figsize = (16,6))\n",
        "m = sns.barplot(y=\"estado\",\n",
        "                x =\"qtd_acidentes\",\n",
        "                data = agrupado_media);\n",
        "m.set_title(\"Média da quantidade de Acidentes de Trabalho por estado\");\n"
      ],
      "execution_count": 0,
      "outputs": []
    },
    {
      "cell_type": "markdown",
      "metadata": {
        "id": "o0tFjYEA-2JF",
        "colab_type": "text"
      },
      "source": [
        "Os estados foram divididos por regiões de forma a melhorar a visualização do gráfico interativo abaixo."
      ]
    },
    {
      "cell_type": "code",
      "metadata": {
        "id": "KL9ic6gZ8Qhm",
        "colab_type": "code",
        "colab": {}
      },
      "source": [
        "#@title Estados com mais acidentes por região por ano { run: \"auto\" }\n",
        "ano = 2003 #@param {type:\"slider\", min:1988, max:2016, step:1}\n",
        "regiao = \"Centro-Oeste\" #@param [\"Norte\", \"Nordeste\", \"Sudeste\", \"Sul\", \"Centro-Oeste\"]\n",
        "\n",
        "#agrupando o df por regiao\n",
        "agrupado_regiao = agrupado[agrupado[\"regiao\"]==regiao]\n",
        "\n",
        "#criando o df para ser plotado\n",
        "data = agrupado[agrupado[\"regiao\"]==regiao]\n",
        "data = data[data[\"ano\"]==ano]\n",
        "data.sort_values(\"qtd_acidentes\",inplace=True,ascending=False)\n",
        "\n",
        "#plotando\n",
        "plt.figure(figsize =(16,6))\n",
        "p = sns.barplot(y=list(data.estado.unique()),\n",
        "                  x=\"qtd_acidentes\",\n",
        "                  data=data);\n",
        "p.set_xlim(min(agrupado_regiao.qtd_acidentes)\n",
        "           ,max(agrupado_regiao.qtd_acidentes))\n",
        "p.set_title(regiao + \" - \"+str(ano));\n"
      ],
      "execution_count": 0,
      "outputs": []
    },
    {
      "cell_type": "code",
      "metadata": {
        "id": "I9IW0BWhgtQ6",
        "colab_type": "code",
        "colab": {}
      },
      "source": [
        "plt.figure(figsize=(16, 6))\n",
        "g = sns.FacetGrid(agrupado,\n",
        "                  col=\"regiao\",\n",
        "                  size = 5,\n",
        "                  aspect = 3,\n",
        "                  sharey=False,\n",
        "                  hue = \"regiao\");\n",
        "\n",
        "\n",
        "g.map_dataframe(sns.barplot,'ano',\"qtd_acidentes\",ci = None).add_legend()\n"
      ],
      "execution_count": 0,
      "outputs": []
    },
    {
      "cell_type": "markdown",
      "metadata": {
        "id": "_vCYTZjHcks-",
        "colab_type": "text"
      },
      "source": [
        "No que diz respeito as médias. As regiões Norte, Nordeste e Centro-Oeste apresentaram um comportamento parecido ao longo dos anos. O comportamento é descrito como uma queda na quantidade de acidentes no início da decada de 90 e logo seguido por uma crescente até 2016. Este comportamento não foi observado nas regiões, Sul e Sudeste. A região Sudeste vinha em queda até 2001. de 2002 a 2013, o Sudeste experimentou um aumento de mais de 40000 acidentes. Desde então a região têm presenciado um progresso na área. A história é parecida para a região Sul."
      ]
    },
    {
      "cell_type": "markdown",
      "metadata": {
        "id": "iLrpWyODpnJf",
        "colab_type": "text"
      },
      "source": [
        "### Zero Acidentes\n",
        "\n",
        "Onde será que tivemos zero acidentes?"
      ]
    },
    {
      "cell_type": "code",
      "metadata": {
        "id": "swE5MmQtqSaD",
        "colab_type": "code",
        "colab": {}
      },
      "source": [
        "#Criando a tabela de zero acidentes\n",
        "zero_acidentes = df_uf[df_uf['qtd_acidentes']==0]\n",
        "zero_acidentes.sort_values([\"regiao\",\n",
        "                            \"estado\",\n",
        "                            \"ano\"]).drop(labels=[\"latitude\",\n",
        "                                                 \"longitude\",\n",
        "                                                 \"cod_estado\",\n",
        "                                                 \"uf\"],axis=1)"
      ],
      "execution_count": 0,
      "outputs": []
    },
    {
      "cell_type": "code",
      "metadata": {
        "id": "nwXpCG5MiuE2",
        "colab_type": "code",
        "colab": {}
      },
      "source": [
        "p = sns.countplot(x=\"ano\",hue=\"regiao\",data=zero_acidentes)\n",
        "p.set_title(\"Qtd de estados com zero acidentes por região e por ano\");"
      ],
      "execution_count": 0,
      "outputs": []
    },
    {
      "cell_type": "markdown",
      "metadata": {
        "id": "dS9Q-CQcscHc",
        "colab_type": "text"
      },
      "source": [
        "Os estados do norte apresentam a maior prevalência de anos sem acidente de qualquer tipo. Porém nenhum estado passou um ano sem acidente desde 1998, como mostra o grafico acima. Fica evidenciado também que o sudeste não teve  nenhum ano sem acidentes.\n",
        "\n",
        "No entanto na maioria dos anos em que não ocorreram acidentes de trabalho, a não ocorrência diz respeito ao motivo de doença de trabalho. Os anos em que tivemos zero acidentes de qualquer tipo são mostrados na tabela abaixo:"
      ]
    },
    {
      "cell_type": "code",
      "metadata": {
        "id": "SAf8AUhnWkaK",
        "colab_type": "code",
        "colab": {}
      },
      "source": [
        "zero_acidentes.groupby(['regiao','ano'])[[\"motivo/situação\"]].nunique()"
      ],
      "execution_count": 0,
      "outputs": []
    },
    {
      "cell_type": "markdown",
      "metadata": {
        "id": "meP0kpymaX3H",
        "colab_type": "text"
      },
      "source": [
        "Infelizmente, não tivemos nenhum ano com nenhum tipo de acidente, em região nenhuma do país(se tivessemos encontrariamos alguma linha da tabela indicando as 4 categorias da coluna \"motivo/situação\")."
      ]
    },
    {
      "cell_type": "code",
      "metadata": {
        "id": "ju4CGcqzj7La",
        "colab_type": "code",
        "colab": {}
      },
      "source": [
        "p = sns.countplot(y=\"estado\",\n",
        "                  data = zero_acidentes,\n",
        "                  hue = \"regiao\",\n",
        "              order = zero_acidentes['estado'].value_counts().index)\n",
        "p.set_title(\"Qtd de anos com zero acidentes por estado\");"
      ],
      "execution_count": 0,
      "outputs": []
    },
    {
      "cell_type": "markdown",
      "metadata": {
        "id": "JL_RJvLhllrx",
        "colab_type": "text"
      },
      "source": [
        "O Acre foi, de longe, o estado que teve a maior quantidade de anos sem registrar acidentes. \n",
        "\n",
        "---\n",
        "\n",
        "(cruzar essa informação com quantidade de postos de trabalho, população e postos de trabalho irregular )"
      ]
    },
    {
      "cell_type": "markdown",
      "metadata": {
        "id": "mtW9cVkUty0f",
        "colab_type": "text"
      },
      "source": [
        "### O maior número de acidentes registrado\n",
        "\n",
        "Onde será que tivemos a maior quantidade de acidentes registrados?"
      ]
    },
    {
      "cell_type": "code",
      "metadata": {
        "id": "ZLvab6PFtqen",
        "colab_type": "code",
        "colab": {}
      },
      "source": [
        "#selecionando a linha com o maior número de acidentes registrado\n",
        "df_uf[df_uf['qtd_acidentes']==419981]"
      ],
      "execution_count": 0,
      "outputs": []
    },
    {
      "cell_type": "markdown",
      "metadata": {
        "id": "LaHeJ7F_uOjJ",
        "colab_type": "text"
      },
      "source": [
        "1988 foi um ano tenso para São Paulo, que chegou a registrar um número tão expressivo de acidentes. O que traz o questionamento a respeito de como é a série histórica da maior metrópole brasileira. "
      ]
    },
    {
      "cell_type": "code",
      "metadata": {
        "id": "k-wECG2DudOG",
        "colab_type": "code",
        "colab": {}
      },
      "source": [
        "p = sns.lineplot(x=\"ano\",\n",
        "             y = \"qtd_acidentes\",\n",
        "             hue = \"motivo/situação\",\n",
        "             style =\"motivo/situação\" ,\n",
        "             markers =True ,\n",
        "             data=df_uf[df_uf[\"estado\"]==\"São Paulo\"])\n",
        "p.set_title(\"Qtd de Acidentes de SP por ano e motivo\");"
      ],
      "execution_count": 0,
      "outputs": []
    },
    {
      "cell_type": "markdown",
      "metadata": {
        "id": "aCPdwVV6wrzR",
        "colab_type": "text"
      },
      "source": [
        "É possivel observar uma tendência de queda na quantidade de acidentes Típicos-com Cat(que são maioria) até os anos 2000. O que levanta uma outra questão. Como se comporta a queda de São Paulo com relação a média regional?"
      ]
    },
    {
      "cell_type": "code",
      "metadata": {
        "id": "YLClNESwGovn",
        "colab_type": "code",
        "colab": {}
      },
      "source": [
        "#fazendo a média da região\n",
        "mean_regiao = df_uf[df_uf[\"estado\"]!=\"São Paulo\"].groupby(by = [\"regiao\",\"motivo/situação\",\"ano\"])[[\"qtd_acidentes\"]].mean()\n",
        "mean_regiao.reset_index(inplace = True)\n"
      ],
      "execution_count": 0,
      "outputs": []
    },
    {
      "cell_type": "code",
      "metadata": {
        "id": "ZKtL7Q1Drw_z",
        "colab_type": "code",
        "colab": {}
      },
      "source": [
        "\n",
        "#plotando os dados\n",
        "p = sns.lineplot(x=\"ano\",\n",
        "             y = \"qtd_acidentes\",\n",
        "             hue = \"motivo/situação\",\n",
        "             style =\"motivo/situação\" ,\n",
        "             markers =True ,\n",
        "             data=mean_regiao[(mean_regiao[\"regiao\"]==\"Sudeste\")&\n",
        "                             (mean_regiao[\"motivo/situação\"]==\"Típico-Com Cat\")])\n",
        "p.set_title(\"Média de Acidentes da Região Sudeste por ano\");"
      ],
      "execution_count": 0,
      "outputs": []
    },
    {
      "cell_type": "code",
      "metadata": {
        "id": "Kdr0U8SA2GzM",
        "colab_type": "code",
        "colab": {}
      },
      "source": [
        "#Criar gráfico que sobreponha a média da região com os valores de sp"
      ],
      "execution_count": 0,
      "outputs": []
    },
    {
      "cell_type": "markdown",
      "metadata": {
        "id": "sRZl6mQTwD5h",
        "colab_type": "text"
      },
      "source": [
        "### Distribuição da quantidade de acidentes por região"
      ]
    },
    {
      "cell_type": "markdown",
      "metadata": {
        "id": "G5UrsdGO9thK",
        "colab_type": "text"
      },
      "source": [
        "Observando a série histórica de todas as regiões do país é necessário se fazer uma analise em função do Log da quantidade de acidentes. Isso decorre do fato que a quantidade de acidentes é muito discrepante de região para região, como pode ser observado no gráfico abaixo"
      ]
    },
    {
      "cell_type": "code",
      "metadata": {
        "id": "thRdXtKSGPtU",
        "colab_type": "code",
        "colab": {}
      },
      "source": [
        "g = sns.FacetGrid(df_uf, col=\"regiao\") \n",
        "g.map(sns.boxplot, \"qtd_acidentes\")\n",
        "plt.xscale(\"log\");"
      ],
      "execution_count": 0,
      "outputs": []
    },
    {
      "cell_type": "markdown",
      "metadata": {
        "id": "K-b3M9GoHisp",
        "colab_type": "text"
      },
      "source": [
        "A região sudeste apresenta a distribuição mais concentrada nos valores entre $10^3$ e $10^4$, assim como a região sul. O que não é verdade para as outras regiões do pais que possuem os valores mais próximos da ordem de $10^2$ e $10^3$\n"
      ]
    },
    {
      "cell_type": "markdown",
      "metadata": {
        "id": "o_uanMqXwSSc",
        "colab_type": "text"
      },
      "source": [
        "### O mapa dos acidentes de trabalho"
      ]
    },
    {
      "cell_type": "markdown",
      "metadata": {
        "id": "A3L_5ZOdW0rV",
        "colab_type": "text"
      },
      "source": [
        "Agora com uma base de dados com as informações de latitude e longitude, meu objetivo é tentar retirar algumas informações com base na leitura de alguns mapas. Para isso usarei a biblioteca do Python Folium"
      ]
    },
    {
      "cell_type": "code",
      "metadata": {
        "id": "ooIgZur7V1H1",
        "colab_type": "code",
        "colab": {}
      },
      "source": [
        "import folium"
      ],
      "execution_count": 0,
      "outputs": []
    },
    {
      "cell_type": "code",
      "metadata": {
        "id": "AYJj-GFeiOxu",
        "colab_type": "code",
        "colab": {}
      },
      "source": [
        "#@title  { run: \"auto\" }\n",
        "ano = 2010 #@param {type:\"slider\", min:1988, max:2016, step:1}\n",
        "df_uf_map = df_uf[df_uf[\"ano\"]==ano]\n",
        "df_uf_map = df_uf_map.groupby(['estado',\n",
        "                                 'latitude',\n",
        "                                 'longitude'],\n",
        "                                as_index=False)[['qtd_acidentes']].sum()\n",
        "df_uf_map.qtd_acidentes = df_uf_map.qtd_acidentes.astype(\"int64\")\n",
        "\n",
        "\n",
        "\n",
        "\n",
        "ac_map = folium.Map(location=[-16.1237611, -59.9219642],\n",
        "                    zoom_start=4)\n",
        "for i in range(0,len(df_uf_map)):\n",
        "  folium.CircleMarker(\n",
        "      location =[df_uf_map.iloc[i]['latitude'],\n",
        "                 df_uf_map.iloc[i]['longitude']],\n",
        "      popup = df_uf_map.iloc[i]['estado']+' ; '+df_uf_map.iloc[i]['qtd_acidentes'].astype('str'),\n",
        "      radius=int(df_uf_map.iloc[i]['qtd_acidentes']/5000),\n",
        "      fill_color=\"crimson\"\n",
        "  ).add_to(ac_map)\n",
        "\n",
        "\n",
        "ac_map\n",
        "\n"
      ],
      "execution_count": 0,
      "outputs": []
    },
    {
      "cell_type": "markdown",
      "metadata": {
        "id": "j1Y52BUkglLE",
        "colab_type": "text"
      },
      "source": [
        "O mapa nos da um melhor compreendimento do que vem acontecendo ao longo dos anos com relação aos acidentes de trabalho"
      ]
    },
    {
      "cell_type": "code",
      "metadata": {
        "id": "z9d_M43RMnmb",
        "colab_type": "code",
        "colab": {}
      },
      "source": [
        "from folium.plugins import HeatMap\n",
        "heat_map = folium.Map(location=[-16.1237611, -59.9219642],\n",
        "                    zoom_start=4)\n",
        "\n",
        "heat_data = df_uf_map.drop([\"estado\"],axis=1)\n",
        "\n",
        "media_acidentes = heat_data.qtd_acidentes.mean()\n",
        "desvio_acidentes = heat_data.qtd_acidentes.std()\n",
        "\n",
        "heat_data[\"qtd_acidentes\"]=(heat_data.qtd_acidentes-media_acidentes)/desvio_acidentes\n",
        "\n",
        "\n",
        "HeatMap( list(zip(heat_data.latitude.values, heat_data.longitude.values,heat_data.qtd_acidentes.values)),\n",
        "        max_zoom=1).add_to(heat_map)\n",
        "\n",
        "heat_map"
      ],
      "execution_count": 0,
      "outputs": []
    },
    {
      "cell_type": "markdown",
      "metadata": {
        "id": "7wg-EXgDM1hq",
        "colab_type": "text"
      },
      "source": [
        "## Acidentes de Trabalho por Sexo e Faixa Etária"
      ]
    },
    {
      "cell_type": "code",
      "metadata": {
        "id": "_fqd76_KM7oF",
        "colab_type": "code",
        "colab": {}
      },
      "source": [
        "url = \"https://raw.githubusercontent.com/lorransr/CAT/master/ACT-faixaetaria-sexo.csv\""
      ],
      "execution_count": 0,
      "outputs": []
    },
    {
      "cell_type": "code",
      "metadata": {
        "id": "7sb5QwVpsnoA",
        "colab_type": "code",
        "colab": {}
      },
      "source": [
        "df_agesex = pd.read_csv(url, sep=\",\", encoding = \"latin-1\")"
      ],
      "execution_count": 0,
      "outputs": []
    },
    {
      "cell_type": "code",
      "metadata": {
        "id": "ERQmX-4rs37C",
        "colab_type": "code",
        "colab": {}
      },
      "source": [
        "df_agesex.head()"
      ],
      "execution_count": 0,
      "outputs": []
    },
    {
      "cell_type": "markdown",
      "metadata": {
        "id": "FHIODggQs9xQ",
        "colab_type": "text"
      },
      "source": [
        "O dataframe em questão agora contém os registros de acidente de trabalho por faixa etaria e sexo."
      ]
    },
    {
      "cell_type": "code",
      "metadata": {
        "id": "QmaTBqSl0XQo",
        "colab_type": "code",
        "colab": {}
      },
      "source": [
        "df_agesex.columns = [\"ano\",\n",
        "                     \"idade\",\n",
        "                     \"motivo/situacao\",\n",
        "                     \"sexo\",\n",
        "                     \"qtd_acidentes\",\n",
        "                     \"situacao\"]"
      ],
      "execution_count": 0,
      "outputs": []
    },
    {
      "cell_type": "code",
      "metadata": {
        "id": "MbLhnrpY3llr",
        "colab_type": "code",
        "colab": {}
      },
      "source": [
        "df_agesex.sexo.value_counts()"
      ],
      "execution_count": 0,
      "outputs": []
    },
    {
      "cell_type": "code",
      "metadata": {
        "id": "CDqFPtKns5sU",
        "colab_type": "code",
        "colab": {}
      },
      "source": [
        "df_agesex.idade.value_counts()"
      ],
      "execution_count": 0,
      "outputs": []
    },
    {
      "cell_type": "markdown",
      "metadata": {
        "id": "_9hWBeGbt3c3",
        "colab_type": "text"
      },
      "source": [
        "No que diz respeito a idade, existe um valor sem registro, que pode ser ignorado."
      ]
    },
    {
      "cell_type": "code",
      "metadata": {
        "id": "9ElBkipBuBGf",
        "colab_type": "code",
        "colab": {}
      },
      "source": [
        "df_agesex = df_agesex[df_agesex.idade != \"-\"]"
      ],
      "execution_count": 0,
      "outputs": []
    },
    {
      "cell_type": "code",
      "metadata": {
        "id": "d6XxryACukyN",
        "colab_type": "code",
        "colab": {}
      },
      "source": [
        "df_agesex.situacao.value_counts()"
      ],
      "execution_count": 0,
      "outputs": []
    },
    {
      "cell_type": "markdown",
      "metadata": {
        "id": "KOTtAOsWvafg",
        "colab_type": "text"
      },
      "source": [
        "A princípio era de se esperar que a maior quantidade de acidentes de trabalho possuissem a CAT registrada, em vista da obrigação legal da empresa em emiti-la"
      ]
    },
    {
      "cell_type": "code",
      "metadata": {
        "id": "0Dfly2MouocP",
        "colab_type": "code",
        "colab": {}
      },
      "source": [
        "#checando se existem valores nulos em alguma coluna\n",
        "df_agesex.isnull().values.any()"
      ],
      "execution_count": 0,
      "outputs": []
    },
    {
      "cell_type": "code",
      "metadata": {
        "id": "BvdSDwzVxuAT",
        "colab_type": "code",
        "colab": {}
      },
      "source": [
        "df_agesex.dtypes"
      ],
      "execution_count": 0,
      "outputs": []
    },
    {
      "cell_type": "code",
      "metadata": {
        "id": "YdGttwvSv358",
        "colab_type": "code",
        "colab": {}
      },
      "source": [
        "df_agesex[[\"ano\",\"qtd_acidentes\"]] = df_agesex[[\"ano\",\"qtd_acidentes\"]].astype(\"int\")"
      ],
      "execution_count": 0,
      "outputs": []
    },
    {
      "cell_type": "code",
      "metadata": {
        "id": "Ov6WTni6NJ9K",
        "colab_type": "code",
        "colab": {}
      },
      "source": [
        "df_agesex=df_agesex[df_agesex[\"sexo\"]!=\"Ignorado\"]\n",
        "df_agesex=df_agesex[df_agesex[\"idade\"]!=\"Ignorada\"]"
      ],
      "execution_count": 0,
      "outputs": []
    },
    {
      "cell_type": "code",
      "metadata": {
        "id": "UFtysfVtORyT",
        "colab_type": "code",
        "colab": {}
      },
      "source": [
        "df_agesex.shape"
      ],
      "execution_count": 0,
      "outputs": []
    },
    {
      "cell_type": "code",
      "metadata": {
        "id": "9LXZc4RuVDTQ",
        "colab_type": "code",
        "colab": {}
      },
      "source": [
        "df_agesex.describe()"
      ],
      "execution_count": 0,
      "outputs": []
    },
    {
      "cell_type": "code",
      "metadata": {
        "id": "YAyq6w2NzWhE",
        "colab_type": "code",
        "colab": {}
      },
      "source": [
        "df_agesex.groupby(by = \"idade\")[[\"qtd_acidentes\"]].describe()"
      ],
      "execution_count": 0,
      "outputs": []
    },
    {
      "cell_type": "code",
      "metadata": {
        "id": "MbNTC7DDy7AT",
        "colab_type": "code",
        "colab": {}
      },
      "source": [
        "plt.figure(figsize = (18,8))\n",
        "g = sns.barplot(data = df_agesex,\n",
        "                x = \"idade\",\n",
        "                y = \"qtd_acidentes\")\n",
        "g.set_title(\"Media de Quantidade de Acidentes por Faixa Etaria\");\n"
      ],
      "execution_count": 0,
      "outputs": []
    },
    {
      "cell_type": "markdown",
      "metadata": {
        "id": "26Z4uJX13PVu",
        "colab_type": "text"
      },
      "source": [
        "A princípio é possivel se observar que em média, os acidentes acontecem em sua grande maioria na faixa dos 19 até os 39 anos. O que chama bastante a atenção é o fato de que até os 19 anos possuir uma quantidade tão alta de acidentes. Menores de idade não podem trabalhar, estagiários possuem diversas limitações em suas atividades, assim como jovens aprendizes. No entanto, a quantidade de acidentes registrado pra essa faixa etaria tão pequena (apenas 2 anos) é tão representativa quanto a média dos trabalhadores de 55 a 59 anos.."
      ]
    },
    {
      "cell_type": "code",
      "metadata": {
        "id": "N4k5ppXWM9Ig",
        "colab_type": "code",
        "colab": {}
      },
      "source": [
        "df_agesex.groupby(by = \"sexo\")[[\"qtd_acidentes\"]].describe()"
      ],
      "execution_count": 0,
      "outputs": []
    },
    {
      "cell_type": "code",
      "metadata": {
        "id": "6f876Jp3MlWk",
        "colab_type": "code",
        "colab": {}
      },
      "source": [
        "plt.figure(figsize = (18,8))\n",
        "g = sns.barplot(data = df_agesex,\n",
        "                x = \"sexo\",\n",
        "                y = \"qtd_acidentes\")\n",
        "g.set_title(\"Media de Quantidade de Acidentes por Sexo\");"
      ],
      "execution_count": 0,
      "outputs": []
    },
    {
      "cell_type": "markdown",
      "metadata": {
        "id": "MKYY_FCwNDhv",
        "colab_type": "text"
      },
      "source": [
        "Em média os homens se acidentam 25,x mais que as mulheres. No entanto, Ate o terceiro quartil (75%) a quantidade de acidentes para os dois sexos é parecida. Nesse sentido é interessante observar, também, que a distribuição dos acidentes de trabalho que ocorrem com mulheres ao longo dos anos possuem  uma distribuição mais apertada, em relação aos homens."
      ]
    },
    {
      "cell_type": "code",
      "metadata": {
        "id": "ozZws9JJzFyu",
        "colab_type": "code",
        "colab": {}
      },
      "source": [
        "plt.figure(figsize = (18,8))\n",
        "\n",
        "g = sns.boxplot(data = df_agesex,\n",
        "                y = \"idade\",\n",
        "                x = \"qtd_acidentes\")\n",
        "g.set_title(\"boxplot da Quantidade de Acidentes por Faixa Etaria\");\n"
      ],
      "execution_count": 0,
      "outputs": []
    },
    {
      "cell_type": "markdown",
      "metadata": {
        "id": "rh7GevK5MHiD",
        "colab_type": "text"
      },
      "source": [
        "Como pode ser observado, os acidentes por faixa etaria tem uma natureza desperça com diversos outliers. Para entender melhor os dados será necessária a observação da faixa etaria e contrasta-la por sexo."
      ]
    },
    {
      "cell_type": "code",
      "metadata": {
        "id": "0QpVcN6tcb7V",
        "colab_type": "code",
        "colab": {}
      },
      "source": [
        ""
      ],
      "execution_count": 0,
      "outputs": []
    },
    {
      "cell_type": "code",
      "metadata": {
        "id": "u52OHmnQedTb",
        "colab_type": "code",
        "colab": {}
      },
      "source": [
        "g = sns.catplot(x = \"sexo\",\n",
        "                y = \"qtd_acidentes\",\n",
        "                data = df_agesex,\n",
        "                col = \"idade\",\n",
        "                kind = \"violin\",\n",
        "                hue = \"sexo\",\n",
        "                split = True,\n",
        "                inner = \"quartile\")"
      ],
      "execution_count": 0,
      "outputs": []
    },
    {
      "cell_type": "code",
      "metadata": {
        "id": "HtlTYfzEXCnE",
        "colab_type": "code",
        "colab": {}
      },
      "source": [
        "ax = sns.catplot(x = \"sexo\",\n",
        "                y = \"qtd_acidentes\",\n",
        "                data = df_agesex,\n",
        "                col = \"idade\",\n",
        "                kind = \"boxen\",\n",
        "                hue = \"sexo\")\n"
      ],
      "execution_count": 0,
      "outputs": []
    },
    {
      "cell_type": "code",
      "metadata": {
        "id": "IE71JIrmxRSM",
        "colab_type": "code",
        "colab": {}
      },
      "source": [
        "df_agesex_agg = df_agesex.groupby(by=[\"ano\",\"idade\",\"sexo\"])[[\"qtd_acidentes\"]].sum()\n",
        "df_agesex_agg.reset_index(inplace=True)\n",
        "df_agesex_agg.sort_values(by=[\"ano\",\"idade\"])"
      ],
      "execution_count": 0,
      "outputs": []
    },
    {
      "cell_type": "code",
      "metadata": {
        "id": "PhAgpwPh0A8E",
        "colab_type": "code",
        "colab": {}
      },
      "source": [
        "df_agesex_agg.idade.unique()"
      ],
      "execution_count": 0,
      "outputs": []
    },
    {
      "cell_type": "code",
      "metadata": {
        "id": "o0kLtXBMz9p_",
        "colab_type": "code",
        "colab": {}
      },
      "source": [
        "ordered_age = ['Até 19 Anos','20 a 24 Anos', '25 a 29 Anos',\n",
        "               '30 a 34 Anos', '35 a 39 Anos','40 a 44 Anos',\n",
        "               '45 a 49 Anos', '50 a 54 Anos', '55 a 59 Anos',\n",
        "               '60 a 64 Anos', '65 a 69 Anos', '70 Anos e Mais']\n",
        "df_agesex_agg[\"idade_code\"]=df_agesex_agg.idade.astype(\"category\",\n",
        "                                                        ordered=True,\n",
        "                                                        categories = ordered_age).cat.codes\n",
        "df_agesex_agg.sort_values(by=\"idade_code\",inplace=True)"
      ],
      "execution_count": 0,
      "outputs": []
    },
    {
      "cell_type": "code",
      "metadata": {
        "id": "E4MUFUVloOWl",
        "colab_type": "code",
        "colab": {}
      },
      "source": [
        "df_agesex_agg[\"piram\"]=df_agesex_agg[[\"qtd_acidentes\",\"sexo\"]].apply(lambda x:\n",
        "                                                              x[\"qtd_acidentes\"] if x[\"sexo\"]==\"Feminino\" else x[\"qtd_acidentes\"]*(-1),\n",
        "                                                              axis =1)"
      ],
      "execution_count": 0,
      "outputs": []
    },
    {
      "cell_type": "code",
      "metadata": {
        "id": "XTALnaUCSJqa",
        "colab_type": "code",
        "colab": {}
      },
      "source": [
        "#desenhando a figura\n",
        "plt.figure(figsize=(13,10), dpi= 80)\n",
        "group_col = 'sexo'\n",
        "order_of_bars = df_agesex_agg.idade.unique()[::-1]\n",
        "colors = [plt.cm.Wistia(i/float(len(df_agesex_agg[group_col].unique())-1)) for i in range(len(df_agesex_agg[group_col].unique()))]\n",
        "\n",
        "for c, group in zip(colors, df_agesex_agg[group_col].unique()):\n",
        "    sns.barplot(x='piram', y='idade', data=df_agesex_agg.loc[df_agesex_agg[group_col]==group, :], order=order_of_bars, color=c, label=group)\n",
        "    \n",
        "#decorativo\n",
        "plt.xlabel(\"Quantidade de Acidentes\")\n",
        "plt.ylabel(\"Faixa Etária\")\n",
        "plt.yticks(fontsize=12)\n",
        "plt.title(\"Piramide etária dos acidentes de trabalho\", fontsize=22)\n",
        "plt.legend()\n",
        "plt.show()\n"
      ],
      "execution_count": 0,
      "outputs": []
    },
    {
      "cell_type": "markdown",
      "metadata": {
        "id": "zYRFKXBw8Wgg",
        "colab_type": "text"
      },
      "source": [
        "Essa pirâmide nos mostra que em média as mulheres se acidentam menos que os homens em todas as faixas etárias. Mostra também que a quantidade de acidentes possui um pico na faixa dos 25 aos 29 anos tanto para homens como para mulheres. Pelas barras de erro, vemos que as mulheres possuem a média de quantidade de acidentes menos dispersa na distribuição, em contraste com a dos homens. Por fim, Com os dados em questão, é possível também comparar essa pirâmide ano a ano e ir observando sua evolução."
      ]
    },
    {
      "cell_type": "code",
      "metadata": {
        "id": "pTcy709p2vX7",
        "colab_type": "code",
        "colab": {}
      },
      "source": [
        "anos = df_agesex_agg.sort_values(\"ano\").ano.unique()"
      ],
      "execution_count": 0,
      "outputs": []
    },
    {
      "cell_type": "code",
      "metadata": {
        "id": "O50Bmief2mS1",
        "colab_type": "code",
        "colab": {}
      },
      "source": [
        "for i in anos:\n",
        "  df_ano = df_agesex_agg[df_agesex_agg[\"ano\"]==i]\n",
        "#desenhando a figura\n",
        "  plt.figure(figsize=(13,10), dpi= 80)\n",
        "  group_col = 'sexo'\n",
        "  order_of_bars = df_ano.idade.unique()[::-1]\n",
        "  colors = [\"C1\",\"C2\"]\n",
        "  \n",
        "  \n",
        "  for c, group in zip(colors, df_ano[group_col].unique()):\n",
        "      sns.barplot(x='piram', y='idade', data=df_ano.loc[df_ano[group_col]==group, :], order=order_of_bars, color=c, label=group)\n",
        "    \n",
        "#decorativo\n",
        "  plt.xlabel(\"Quantidade de Acidentes\")\n",
        "  plt.xlim((-110000,50000))\n",
        "  plt.ylabel(\"Faixa Etária\")\n",
        "  plt.yticks(fontsize=12)\n",
        "  plt.title(\"Piramide etária dos acidentes de trabalho em {}\".format(i), fontsize=22)\n",
        "  plt.legend()\n",
        "  plt.show()"
      ],
      "execution_count": 0,
      "outputs": []
    },
    {
      "cell_type": "code",
      "metadata": {
        "id": "ou_gGJLn8tSn",
        "colab_type": "code",
        "colab": {}
      },
      "source": [
        "plt.figure(figsize=(16,10))\n",
        "sns.boxplot(x=\"ano\",y=\"qtd_acidentes\",data = df_agesex_agg)"
      ],
      "execution_count": 0,
      "outputs": []
    },
    {
      "cell_type": "markdown",
      "metadata": {
        "id": "dIvrqN5M-i8X",
        "colab_type": "text"
      },
      "source": [
        "Tendo em vista os dois gráficos, podemos observar que o número de acidentes de trabalho até meados de 2012 vinha se tornando mais disperso em relação a mediana. Com distribuições cada vez mais espaçadas. Isso decorre do fato de que os acidentes se concentram mais nos grupos etários jovens (dos 20 aos 44) os outros grupos po"
      ]
    },
    {
      "cell_type": "code",
      "metadata": {
        "id": "99mmUC46_iYP",
        "colab_type": "code",
        "colab": {}
      },
      "source": [
        ""
      ],
      "execution_count": 0,
      "outputs": []
    }
  ]
}