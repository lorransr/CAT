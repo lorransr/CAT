{
  "nbformat": 4,
  "nbformat_minor": 0,
  "metadata": {
    "colab": {
      "name": "Acidentes de Trabalho.ipynb",
      "version": "0.3.2",
      "provenance": [],
      "collapsed_sections": [],
      "toc_visible": true,
      "include_colab_link": true
    },
    "kernelspec": {
      "name": "python3",
      "display_name": "Python 3"
    }
  },
  "cells": [
    {
      "cell_type": "markdown",
      "metadata": {
        "id": "view-in-github",
        "colab_type": "text"
      },
      "source": [
        "<a href=\"https://colab.research.google.com/github/lorransr/CAT/blob/master/Acidentes_de_Trabalho.ipynb\" target=\"_parent\"><img src=\"https://colab.research.google.com/assets/colab-badge.svg\" alt=\"Open In Colab\"/></a>"
      ]
    },
    {
      "metadata": {
        "id": "BkUDqfi5-yMs",
        "colab_type": "text"
      },
      "cell_type": "markdown",
      "source": [
        "# Raio X dos acidentes de Trabalho no Brasil\n",
        "\n",
        "O observatório geral da saude e segurança  do trabalho estima que do periodo de 2017 até maio de 2019, são registrados 1 acidente a cada 54s no país. Desse valor, estima-se também que 1 morte aconteça a cada 4h. Entender onde, com quem, quando e como ocorrem os acidentes de trabalho são os primeiros passos para nortearmos políticas públicas de prevenção de acidentes.\n",
        "\n",
        "Com isso em mente minha proposta é realizar uma analise, a partir das bases de dados disponibilizadas, através do portal da transparência, pela previdência social a respeito dos Acidentes do Trabalho ocorridos no pais.\n",
        "\n",
        "A princípio foram adquiridas 8 bases de dados, com diferentes recortes a respeito do tema. Elas são:\n",
        "1. Acidentes de Trabalho por UF\n",
        "2. Acidentes de Trabalho por mês\n",
        "3. Acidentes de Trabalho por faixa-etaria e sexo\n",
        "4. Acidentes de Trabalho por parte do corpo atingida\n",
        "5. Acidentes de Trabalho por CNAE (95)\n",
        "6. Acidentes de Trabalho por CNAE (2.0)\n",
        "7. Acidentes de Trabalho por CID\n",
        "8. Acidentes de Trabalho por CBO\n",
        "\n",
        "Todas as bases de dados estão segmentadas por ano. Todas contêm algum indicativo da situação de haver ou não CAT registrada. Igualmente, todas possuem um campo com a tipificação do acidente, seja ele típico, de trajeto ou uma doença de trabalho."
      ]
    },
    {
      "metadata": {
        "id": "HZ3ZzOuR_3v6",
        "colab_type": "text"
      },
      "cell_type": "markdown",
      "source": [
        "### Mas Afinal, o que é a CAT?\n",
        "\n",
        "A comunicação de acidente de trabalho (CAT) é um documento emitido para reconhecer tanto um **acidente de trabalho** ou **de trajeto** bem como uma **doença ocupacional**.\n",
        "Aqui vale a definição desses termos:\n",
        "\n",
        "* Acidente de trabalho ou de trajeto:é o acidente ocorrido no exercício da atividade profissional a serviço da empresa ou no deslocamento residência -> trabalho -> residência. \n",
        "\n",
        "*  Doença ocupacional: é aquela produzida ou desencadeada pelo exercício do trabalho peculiar a determinada atividade e constante da respectiva relação elaborada pelo Ministério do Trabalho e da Previdência Social.\n",
        "\n",
        "A CAT é um documento obrigatório e possui um prazo de emissão curto. Mesmo que não haja afastamento, a CAT deve ser emitida até o primeiro dia útil seguinte ao da ocorrência. Sob o risco de multa. Por conta desta característica a base de dados do INSS é extramemente útil e pouco defasada da realidade brasileira, portanto um bom instrumento para análise."
      ]
    },
    {
      "metadata": {
        "id": "tqJQbvCdBWa8",
        "colab_type": "text"
      },
      "cell_type": "markdown",
      "source": [
        "explicar melhor os seguintes termos:\n",
        "* CNAE \n",
        "* CID\n",
        "* CBO"
      ]
    },
    {
      "metadata": {
        "id": "JoPYEcpjBzie",
        "colab_type": "text"
      },
      "cell_type": "markdown",
      "source": [
        "## Acidentes de Trabalho por UF\n",
        "\n",
        "O primeiro dataset a ser estudado será o que diz respeito aos acidentes de trabalho por unidade federal. Com essa base de dados pretendo responder a pergunta: \"Onde ocorrem os acidentes de trabalho?\". Também sera mostrado a evolução ao longo do tempo para as principais regiões."
      ]
    },
    {
      "metadata": {
        "id": "aa1ZWDK6FD-3",
        "colab_type": "code",
        "colab": {}
      },
      "cell_type": "code",
      "source": [
        "import pandas as pd\n",
        "import numpy as np\n",
        "import seaborn as sns\n",
        "import matplotlib.pyplot as plt\n",
        "%matplotlib inline"
      ],
      "execution_count": 0,
      "outputs": []
    },
    {
      "metadata": {
        "id": "445SVfg0N5pL",
        "colab_type": "code",
        "colab": {}
      },
      "cell_type": "code",
      "source": [
        "#importando os dados para o Colab\n",
        "url = \"https://raw.githubusercontent.com/lorransr/CAT/master/ACT-uf.csv\""
      ],
      "execution_count": 0,
      "outputs": []
    },
    {
      "metadata": {
        "id": "to53TQN6FR0Z",
        "colab_type": "code",
        "colab": {}
      },
      "cell_type": "code",
      "source": [
        "#Salvando o dataframe\n",
        "df_uf = pd.read_csv(url, sep=\",\", encoding = \"latin-1\")"
      ],
      "execution_count": 0,
      "outputs": []
    },
    {
      "metadata": {
        "id": "71H5ZeK2FgCb",
        "colab_type": "code",
        "outputId": "b7dc827c-19b1-47ba-8f2d-4592616b2cb5",
        "colab": {
          "base_uri": "https://localhost:8080/",
          "height": 206
        }
      },
      "cell_type": "code",
      "source": [
        "#renomeando as colunas\n",
        "df_uf.columns = ['ano','estado','motivo/situação','qtd_acidentes']\n",
        "df_uf.head()"
      ],
      "execution_count": 182,
      "outputs": [
        {
          "output_type": "execute_result",
          "data": {
            "text/html": [
              "<div>\n",
              "<style scoped>\n",
              "    .dataframe tbody tr th:only-of-type {\n",
              "        vertical-align: middle;\n",
              "    }\n",
              "\n",
              "    .dataframe tbody tr th {\n",
              "        vertical-align: top;\n",
              "    }\n",
              "\n",
              "    .dataframe thead th {\n",
              "        text-align: right;\n",
              "    }\n",
              "</style>\n",
              "<table border=\"1\" class=\"dataframe\">\n",
              "  <thead>\n",
              "    <tr style=\"text-align: right;\">\n",
              "      <th></th>\n",
              "      <th>ano</th>\n",
              "      <th>estado</th>\n",
              "      <th>motivo/situação</th>\n",
              "      <th>qtd_acidentes</th>\n",
              "    </tr>\n",
              "  </thead>\n",
              "  <tbody>\n",
              "    <tr>\n",
              "      <th>0</th>\n",
              "      <td>1988</td>\n",
              "      <td>Rondônia</td>\n",
              "      <td>Típico-Com Cat</td>\n",
              "      <td>592.0</td>\n",
              "    </tr>\n",
              "    <tr>\n",
              "      <th>1</th>\n",
              "      <td>1988</td>\n",
              "      <td>Acre</td>\n",
              "      <td>Típico-Com Cat</td>\n",
              "      <td>115.0</td>\n",
              "    </tr>\n",
              "    <tr>\n",
              "      <th>2</th>\n",
              "      <td>1988</td>\n",
              "      <td>Amazonas</td>\n",
              "      <td>Típico-Com Cat</td>\n",
              "      <td>5173.0</td>\n",
              "    </tr>\n",
              "    <tr>\n",
              "      <th>3</th>\n",
              "      <td>1988</td>\n",
              "      <td>Pará</td>\n",
              "      <td>Típico-Com Cat</td>\n",
              "      <td>12172.0</td>\n",
              "    </tr>\n",
              "    <tr>\n",
              "      <th>4</th>\n",
              "      <td>1988</td>\n",
              "      <td>Maranhão</td>\n",
              "      <td>Típico-Com Cat</td>\n",
              "      <td>5916.0</td>\n",
              "    </tr>\n",
              "  </tbody>\n",
              "</table>\n",
              "</div>"
            ],
            "text/plain": [
              "    ano    estado motivo/situação  qtd_acidentes\n",
              "0  1988  Rondônia  Típico-Com Cat          592.0\n",
              "1  1988      Acre  Típico-Com Cat          115.0\n",
              "2  1988  Amazonas  Típico-Com Cat         5173.0\n",
              "3  1988      Pará  Típico-Com Cat        12172.0\n",
              "4  1988  Maranhão  Típico-Com Cat         5916.0"
            ]
          },
          "metadata": {
            "tags": []
          },
          "execution_count": 182
        }
      ]
    },
    {
      "metadata": {
        "id": "JCUh18iNPweK",
        "colab_type": "code",
        "outputId": "32b26e52-e6d0-4afd-86bc-6ecc65fcd3ae",
        "colab": {
          "base_uri": "https://localhost:8080/",
          "height": 110
        }
      },
      "cell_type": "code",
      "source": [
        "#Contando a quantidade de valores nulos\n",
        "df_uf.isna().sum()"
      ],
      "execution_count": 183,
      "outputs": [
        {
          "output_type": "execute_result",
          "data": {
            "text/plain": [
              "ano                0\n",
              "estado             0\n",
              "motivo/situação    0\n",
              "qtd_acidentes      1\n",
              "dtype: int64"
            ]
          },
          "metadata": {
            "tags": []
          },
          "execution_count": 183
        }
      ]
    },
    {
      "metadata": {
        "id": "7v89eeZqyR4c",
        "colab_type": "text"
      },
      "cell_type": "markdown",
      "source": [
        "Uma vez que existe apenas uma linha, em 2893 registros, contendo valores nulos, ela será descartada"
      ]
    },
    {
      "metadata": {
        "id": "8cOiVet8IxUO",
        "colab_type": "code",
        "colab": {}
      },
      "cell_type": "code",
      "source": [
        "#excluindo valores nulos\n",
        "df_uf.dropna(inplace=True) "
      ],
      "execution_count": 0,
      "outputs": []
    },
    {
      "metadata": {
        "id": "2liqDnJRQoVn",
        "colab_type": "text"
      },
      "cell_type": "markdown",
      "source": [
        "Para poder ter uma ideia da distribuição dos acidentes ao redor do pais é preciso primeiro vincular os estados na base de dados a uma latitude e longitude. A partir desse repositório no GitHub, foi possivel encontrar uma base consistente com algumas informações adicionais a respeito dos estados:https://github.com/kelvins/Municipios-Brasileiros/"
      ]
    },
    {
      "metadata": {
        "id": "xe5DuY_EGTxj",
        "colab_type": "code",
        "colab": {}
      },
      "cell_type": "code",
      "source": [
        "url = \"https://raw.githubusercontent.com/lorransr/CAT/master/brasil.csv\"\n",
        "#importando dataframe com lat e lon\n",
        "dim_uf = pd.read_csv(url, sep=\",\")"
      ],
      "execution_count": 0,
      "outputs": []
    },
    {
      "metadata": {
        "id": "z1Z523JbH_Bk",
        "colab_type": "code",
        "outputId": "e93b2d9d-87a7-4704-b6db-64ae51a8bcb8",
        "colab": {
          "base_uri": "https://localhost:8080/",
          "height": 206
        }
      },
      "cell_type": "code",
      "source": [
        "dim_uf.head()"
      ],
      "execution_count": 186,
      "outputs": [
        {
          "output_type": "execute_result",
          "data": {
            "text/html": [
              "<div>\n",
              "<style scoped>\n",
              "    .dataframe tbody tr th:only-of-type {\n",
              "        vertical-align: middle;\n",
              "    }\n",
              "\n",
              "    .dataframe tbody tr th {\n",
              "        vertical-align: top;\n",
              "    }\n",
              "\n",
              "    .dataframe thead th {\n",
              "        text-align: right;\n",
              "    }\n",
              "</style>\n",
              "<table border=\"1\" class=\"dataframe\">\n",
              "  <thead>\n",
              "    <tr style=\"text-align: right;\">\n",
              "      <th></th>\n",
              "      <th>ibge</th>\n",
              "      <th>municipio</th>\n",
              "      <th>latitude</th>\n",
              "      <th>longitude</th>\n",
              "      <th>cod_estado</th>\n",
              "      <th>estado</th>\n",
              "      <th>uf</th>\n",
              "      <th>regiao</th>\n",
              "      <th>capital</th>\n",
              "    </tr>\n",
              "  </thead>\n",
              "  <tbody>\n",
              "    <tr>\n",
              "      <th>0</th>\n",
              "      <td>520005</td>\n",
              "      <td>Abadia de Goiás</td>\n",
              "      <td>-16.75730</td>\n",
              "      <td>-49.4412</td>\n",
              "      <td>52</td>\n",
              "      <td>Goiás</td>\n",
              "      <td>GO</td>\n",
              "      <td>Centro-Oeste</td>\n",
              "      <td>0</td>\n",
              "    </tr>\n",
              "    <tr>\n",
              "      <th>1</th>\n",
              "      <td>310010</td>\n",
              "      <td>Abadia dos Dourados</td>\n",
              "      <td>-18.48310</td>\n",
              "      <td>-47.3916</td>\n",
              "      <td>31</td>\n",
              "      <td>Minas Gerais</td>\n",
              "      <td>MG</td>\n",
              "      <td>Sudeste</td>\n",
              "      <td>0</td>\n",
              "    </tr>\n",
              "    <tr>\n",
              "      <th>2</th>\n",
              "      <td>520010</td>\n",
              "      <td>Abadiânia</td>\n",
              "      <td>-16.19700</td>\n",
              "      <td>-48.7057</td>\n",
              "      <td>52</td>\n",
              "      <td>Goiás</td>\n",
              "      <td>GO</td>\n",
              "      <td>Centro-Oeste</td>\n",
              "      <td>0</td>\n",
              "    </tr>\n",
              "    <tr>\n",
              "      <th>3</th>\n",
              "      <td>310020</td>\n",
              "      <td>Abaeté</td>\n",
              "      <td>-19.15510</td>\n",
              "      <td>-45.4444</td>\n",
              "      <td>31</td>\n",
              "      <td>Minas Gerais</td>\n",
              "      <td>MG</td>\n",
              "      <td>Sudeste</td>\n",
              "      <td>0</td>\n",
              "    </tr>\n",
              "    <tr>\n",
              "      <th>4</th>\n",
              "      <td>150010</td>\n",
              "      <td>Abaetetuba</td>\n",
              "      <td>-1.72183</td>\n",
              "      <td>-48.8788</td>\n",
              "      <td>15</td>\n",
              "      <td>Pará</td>\n",
              "      <td>PA</td>\n",
              "      <td>Norte</td>\n",
              "      <td>0</td>\n",
              "    </tr>\n",
              "  </tbody>\n",
              "</table>\n",
              "</div>"
            ],
            "text/plain": [
              "     ibge            municipio  latitude  longitude  cod_estado        estado  \\\n",
              "0  520005      Abadia de Goiás -16.75730   -49.4412          52         Goiás   \n",
              "1  310010  Abadia dos Dourados -18.48310   -47.3916          31  Minas Gerais   \n",
              "2  520010            Abadiânia -16.19700   -48.7057          52         Goiás   \n",
              "3  310020               Abaeté -19.15510   -45.4444          31  Minas Gerais   \n",
              "4  150010           Abaetetuba  -1.72183   -48.8788          15          Pará   \n",
              "\n",
              "   uf        regiao  capital  \n",
              "0  GO  Centro-Oeste        0  \n",
              "1  MG       Sudeste        0  \n",
              "2  GO  Centro-Oeste        0  \n",
              "3  MG       Sudeste        0  \n",
              "4  PA         Norte        0  "
            ]
          },
          "metadata": {
            "tags": []
          },
          "execution_count": 186
        }
      ]
    },
    {
      "metadata": {
        "id": "JqxDpVFmTaQ5",
        "colab_type": "code",
        "outputId": "5e1abc0c-c792-425a-9394-bbd8468cf650",
        "colab": {
          "base_uri": "https://localhost:8080/",
          "height": 206
        }
      },
      "cell_type": "code",
      "source": [
        "#selecionando as colunas que firão no df\n",
        "selected_columns=['latitude', 'longitude', 'cod_estado', 'estado',\n",
        "       'uf', 'regiao', 'capital']\n",
        "dim_uf = dim_uf[selected_columns]\n",
        "#selecionando apenas as capitais\n",
        "dim_uf = dim_uf[dim_uf[\"capital\"]==1]\n",
        "#removendo duplicadas\n",
        "dim_uf.drop_duplicates(subset = \"cod_estado\",inplace=True)\n",
        "dim_uf.drop(\"capital\",axis=1,inplace=True)\n",
        "dim_uf.head()"
      ],
      "execution_count": 187,
      "outputs": [
        {
          "output_type": "execute_result",
          "data": {
            "text/html": [
              "<div>\n",
              "<style scoped>\n",
              "    .dataframe tbody tr th:only-of-type {\n",
              "        vertical-align: middle;\n",
              "    }\n",
              "\n",
              "    .dataframe tbody tr th {\n",
              "        vertical-align: top;\n",
              "    }\n",
              "\n",
              "    .dataframe thead th {\n",
              "        text-align: right;\n",
              "    }\n",
              "</style>\n",
              "<table border=\"1\" class=\"dataframe\">\n",
              "  <thead>\n",
              "    <tr style=\"text-align: right;\">\n",
              "      <th></th>\n",
              "      <th>latitude</th>\n",
              "      <th>longitude</th>\n",
              "      <th>cod_estado</th>\n",
              "      <th>estado</th>\n",
              "      <th>uf</th>\n",
              "      <th>regiao</th>\n",
              "    </tr>\n",
              "  </thead>\n",
              "  <tbody>\n",
              "    <tr>\n",
              "      <th>294</th>\n",
              "      <td>-10.90910</td>\n",
              "      <td>-37.0677</td>\n",
              "      <td>28</td>\n",
              "      <td>Sergipe</td>\n",
              "      <td>SE</td>\n",
              "      <td>Nordeste</td>\n",
              "    </tr>\n",
              "    <tr>\n",
              "      <th>580</th>\n",
              "      <td>-1.45540</td>\n",
              "      <td>-48.4898</td>\n",
              "      <td>15</td>\n",
              "      <td>Pará</td>\n",
              "      <td>PA</td>\n",
              "      <td>Norte</td>\n",
              "    </tr>\n",
              "    <tr>\n",
              "      <th>592</th>\n",
              "      <td>-19.91020</td>\n",
              "      <td>-43.9266</td>\n",
              "      <td>31</td>\n",
              "      <td>Minas Gerais</td>\n",
              "      <td>MG</td>\n",
              "      <td>Sudeste</td>\n",
              "    </tr>\n",
              "    <tr>\n",
              "      <th>642</th>\n",
              "      <td>2.82384</td>\n",
              "      <td>-60.6753</td>\n",
              "      <td>14</td>\n",
              "      <td>Roraima</td>\n",
              "      <td>RR</td>\n",
              "      <td>Norte</td>\n",
              "    </tr>\n",
              "    <tr>\n",
              "      <th>755</th>\n",
              "      <td>-15.77950</td>\n",
              "      <td>-47.9297</td>\n",
              "      <td>53</td>\n",
              "      <td>Distrito Federal</td>\n",
              "      <td>DF</td>\n",
              "      <td>Centro-Oeste</td>\n",
              "    </tr>\n",
              "  </tbody>\n",
              "</table>\n",
              "</div>"
            ],
            "text/plain": [
              "     latitude  longitude  cod_estado            estado  uf        regiao\n",
              "294 -10.90910   -37.0677          28           Sergipe  SE      Nordeste\n",
              "580  -1.45540   -48.4898          15              Pará  PA         Norte\n",
              "592 -19.91020   -43.9266          31      Minas Gerais  MG       Sudeste\n",
              "642   2.82384   -60.6753          14           Roraima  RR         Norte\n",
              "755 -15.77950   -47.9297          53  Distrito Federal  DF  Centro-Oeste"
            ]
          },
          "metadata": {
            "tags": []
          },
          "execution_count": 187
        }
      ]
    },
    {
      "metadata": {
        "id": "9fGTOePRQfDQ",
        "colab_type": "code",
        "outputId": "86a7ead0-6a47-4c63-d066-9b27fdc727a9",
        "colab": {
          "base_uri": "https://localhost:8080/",
          "height": 206
        }
      },
      "cell_type": "code",
      "source": [
        "#Juntando os dataframes\n",
        "df_uf = pd.merge(df_uf,dim_uf, how =\"inner\", on=\"estado\")\n",
        "df_uf.head()"
      ],
      "execution_count": 188,
      "outputs": [
        {
          "output_type": "execute_result",
          "data": {
            "text/html": [
              "<div>\n",
              "<style scoped>\n",
              "    .dataframe tbody tr th:only-of-type {\n",
              "        vertical-align: middle;\n",
              "    }\n",
              "\n",
              "    .dataframe tbody tr th {\n",
              "        vertical-align: top;\n",
              "    }\n",
              "\n",
              "    .dataframe thead th {\n",
              "        text-align: right;\n",
              "    }\n",
              "</style>\n",
              "<table border=\"1\" class=\"dataframe\">\n",
              "  <thead>\n",
              "    <tr style=\"text-align: right;\">\n",
              "      <th></th>\n",
              "      <th>ano</th>\n",
              "      <th>estado</th>\n",
              "      <th>motivo/situação</th>\n",
              "      <th>qtd_acidentes</th>\n",
              "      <th>latitude</th>\n",
              "      <th>longitude</th>\n",
              "      <th>cod_estado</th>\n",
              "      <th>uf</th>\n",
              "      <th>regiao</th>\n",
              "    </tr>\n",
              "  </thead>\n",
              "  <tbody>\n",
              "    <tr>\n",
              "      <th>0</th>\n",
              "      <td>1988</td>\n",
              "      <td>Rondônia</td>\n",
              "      <td>Típico-Com Cat</td>\n",
              "      <td>592.0</td>\n",
              "      <td>-8.76077</td>\n",
              "      <td>-63.8999</td>\n",
              "      <td>11</td>\n",
              "      <td>RO</td>\n",
              "      <td>Norte</td>\n",
              "    </tr>\n",
              "    <tr>\n",
              "      <th>1</th>\n",
              "      <td>1988</td>\n",
              "      <td>Rondônia</td>\n",
              "      <td>Trajeto-Com Cat</td>\n",
              "      <td>78.0</td>\n",
              "      <td>-8.76077</td>\n",
              "      <td>-63.8999</td>\n",
              "      <td>11</td>\n",
              "      <td>RO</td>\n",
              "      <td>Norte</td>\n",
              "    </tr>\n",
              "    <tr>\n",
              "      <th>2</th>\n",
              "      <td>1988</td>\n",
              "      <td>Rondônia</td>\n",
              "      <td>Doença do Trabalho-Com Cat</td>\n",
              "      <td>9.0</td>\n",
              "      <td>-8.76077</td>\n",
              "      <td>-63.8999</td>\n",
              "      <td>11</td>\n",
              "      <td>RO</td>\n",
              "      <td>Norte</td>\n",
              "    </tr>\n",
              "    <tr>\n",
              "      <th>3</th>\n",
              "      <td>1989</td>\n",
              "      <td>Rondônia</td>\n",
              "      <td>Típico-Com Cat</td>\n",
              "      <td>558.0</td>\n",
              "      <td>-8.76077</td>\n",
              "      <td>-63.8999</td>\n",
              "      <td>11</td>\n",
              "      <td>RO</td>\n",
              "      <td>Norte</td>\n",
              "    </tr>\n",
              "    <tr>\n",
              "      <th>4</th>\n",
              "      <td>1989</td>\n",
              "      <td>Rondônia</td>\n",
              "      <td>Trajeto-Com Cat</td>\n",
              "      <td>52.0</td>\n",
              "      <td>-8.76077</td>\n",
              "      <td>-63.8999</td>\n",
              "      <td>11</td>\n",
              "      <td>RO</td>\n",
              "      <td>Norte</td>\n",
              "    </tr>\n",
              "  </tbody>\n",
              "</table>\n",
              "</div>"
            ],
            "text/plain": [
              "    ano    estado             motivo/situação  qtd_acidentes  latitude  \\\n",
              "0  1988  Rondônia              Típico-Com Cat          592.0  -8.76077   \n",
              "1  1988  Rondônia             Trajeto-Com Cat           78.0  -8.76077   \n",
              "2  1988  Rondônia  Doença do Trabalho-Com Cat            9.0  -8.76077   \n",
              "3  1989  Rondônia              Típico-Com Cat          558.0  -8.76077   \n",
              "4  1989  Rondônia             Trajeto-Com Cat           52.0  -8.76077   \n",
              "\n",
              "   longitude  cod_estado  uf regiao  \n",
              "0   -63.8999          11  RO  Norte  \n",
              "1   -63.8999          11  RO  Norte  \n",
              "2   -63.8999          11  RO  Norte  \n",
              "3   -63.8999          11  RO  Norte  \n",
              "4   -63.8999          11  RO  Norte  "
            ]
          },
          "metadata": {
            "tags": []
          },
          "execution_count": 188
        }
      ]
    },
    {
      "metadata": {
        "id": "3880mwmX0Scg",
        "colab_type": "text"
      },
      "cell_type": "markdown",
      "source": [
        "Foi necessário pegar apenas a localização das capitais pois dessa forma o mapa teria latitudes e longitudes que fariam mais sentido geograficamente. Do contrário os acidentes do RJ, poderiam estar vinculados a uma latitude e longitude na fronteira do estado, o que dificultaria a visualização."
      ]
    },
    {
      "metadata": {
        "id": "mSDHPfh5aFbM",
        "colab_type": "code",
        "outputId": "71c0f194-bbb0-4713-8bd4-31713b7bb6fb",
        "colab": {
          "base_uri": "https://localhost:8080/",
          "height": 204
        }
      },
      "cell_type": "code",
      "source": [
        "#lista dos tipos de dados\n",
        "df_uf.dtypes"
      ],
      "execution_count": 189,
      "outputs": [
        {
          "output_type": "execute_result",
          "data": {
            "text/plain": [
              "ano                 object\n",
              "estado              object\n",
              "motivo/situação     object\n",
              "qtd_acidentes      float64\n",
              "latitude           float64\n",
              "longitude          float64\n",
              "cod_estado           int64\n",
              "uf                  object\n",
              "regiao              object\n",
              "dtype: object"
            ]
          },
          "metadata": {
            "tags": []
          },
          "execution_count": 189
        }
      ]
    },
    {
      "metadata": {
        "id": "3fKxqUQ-1Ai4",
        "colab_type": "text"
      },
      "cell_type": "markdown",
      "source": [
        "o campo ano deve ser alterado para representar um número inteiro"
      ]
    },
    {
      "metadata": {
        "id": "3M0n6dTsaFig",
        "colab_type": "code",
        "colab": {}
      },
      "cell_type": "code",
      "source": [
        "df_uf.ano = df_uf.ano.astype('int64')"
      ],
      "execution_count": 0,
      "outputs": []
    },
    {
      "metadata": {
        "id": "usVOwOZxnu3R",
        "colab_type": "text"
      },
      "cell_type": "markdown",
      "source": [
        "Com a base de dados tratada agora é possivel tirar alguns insights dos dados adquiridos"
      ]
    },
    {
      "metadata": {
        "id": "gi8y5t0Nn3bW",
        "colab_type": "code",
        "outputId": "7d4d6797-b110-4d22-f65e-0b8a0f51de8e",
        "colab": {
          "base_uri": "https://localhost:8080/",
          "height": 300
        }
      },
      "cell_type": "code",
      "source": [
        "df_uf.describe()"
      ],
      "execution_count": 191,
      "outputs": [
        {
          "output_type": "execute_result",
          "data": {
            "text/html": [
              "<div>\n",
              "<style scoped>\n",
              "    .dataframe tbody tr th:only-of-type {\n",
              "        vertical-align: middle;\n",
              "    }\n",
              "\n",
              "    .dataframe tbody tr th {\n",
              "        vertical-align: top;\n",
              "    }\n",
              "\n",
              "    .dataframe thead th {\n",
              "        text-align: right;\n",
              "    }\n",
              "</style>\n",
              "<table border=\"1\" class=\"dataframe\">\n",
              "  <thead>\n",
              "    <tr style=\"text-align: right;\">\n",
              "      <th></th>\n",
              "      <th>ano</th>\n",
              "      <th>qtd_acidentes</th>\n",
              "      <th>latitude</th>\n",
              "      <th>longitude</th>\n",
              "      <th>cod_estado</th>\n",
              "    </tr>\n",
              "  </thead>\n",
              "  <tbody>\n",
              "    <tr>\n",
              "      <th>count</th>\n",
              "      <td>2893.000000</td>\n",
              "      <td>2893.000000</td>\n",
              "      <td>2893.000000</td>\n",
              "      <td>2893.000000</td>\n",
              "      <td>2893.000000</td>\n",
              "    </tr>\n",
              "    <tr>\n",
              "      <th>mean</th>\n",
              "      <td>2004.155202</td>\n",
              "      <td>5699.356723</td>\n",
              "      <td>-13.057547</td>\n",
              "      <td>-46.855375</td>\n",
              "      <td>29.812306</td>\n",
              "    </tr>\n",
              "    <tr>\n",
              "      <th>std</th>\n",
              "      <td>8.306485</td>\n",
              "      <td>21516.599192</td>\n",
              "      <td>8.788195</td>\n",
              "      <td>8.878290</td>\n",
              "      <td>12.667073</td>\n",
              "    </tr>\n",
              "    <tr>\n",
              "      <th>min</th>\n",
              "      <td>1988.000000</td>\n",
              "      <td>0.000000</td>\n",
              "      <td>-30.031800</td>\n",
              "      <td>-67.824300</td>\n",
              "      <td>11.000000</td>\n",
              "    </tr>\n",
              "    <tr>\n",
              "      <th>25%</th>\n",
              "      <td>1997.000000</td>\n",
              "      <td>97.000000</td>\n",
              "      <td>-20.315500</td>\n",
              "      <td>-51.206500</td>\n",
              "      <td>21.000000</td>\n",
              "    </tr>\n",
              "    <tr>\n",
              "      <th>50%</th>\n",
              "      <td>2006.000000</td>\n",
              "      <td>633.000000</td>\n",
              "      <td>-10.909100</td>\n",
              "      <td>-47.929700</td>\n",
              "      <td>28.000000</td>\n",
              "    </tr>\n",
              "    <tr>\n",
              "      <th>75%</th>\n",
              "      <td>2011.000000</td>\n",
              "      <td>3013.000000</td>\n",
              "      <td>-5.793570</td>\n",
              "      <td>-38.542300</td>\n",
              "      <td>41.000000</td>\n",
              "    </tr>\n",
              "    <tr>\n",
              "      <th>max</th>\n",
              "      <td>2016.000000</td>\n",
              "      <td>419981.000000</td>\n",
              "      <td>2.823840</td>\n",
              "      <td>-34.864100</td>\n",
              "      <td>53.000000</td>\n",
              "    </tr>\n",
              "  </tbody>\n",
              "</table>\n",
              "</div>"
            ],
            "text/plain": [
              "               ano  qtd_acidentes     latitude    longitude   cod_estado\n",
              "count  2893.000000    2893.000000  2893.000000  2893.000000  2893.000000\n",
              "mean   2004.155202    5699.356723   -13.057547   -46.855375    29.812306\n",
              "std       8.306485   21516.599192     8.788195     8.878290    12.667073\n",
              "min    1988.000000       0.000000   -30.031800   -67.824300    11.000000\n",
              "25%    1997.000000      97.000000   -20.315500   -51.206500    21.000000\n",
              "50%    2006.000000     633.000000   -10.909100   -47.929700    28.000000\n",
              "75%    2011.000000    3013.000000    -5.793570   -38.542300    41.000000\n",
              "max    2016.000000  419981.000000     2.823840   -34.864100    53.000000"
            ]
          },
          "metadata": {
            "tags": []
          },
          "execution_count": 191
        }
      ]
    },
    {
      "metadata": {
        "id": "FrdbSxENojXq",
        "colab_type": "text"
      },
      "cell_type": "markdown",
      "source": [
        "A princípio é possivel observar alguns pontos interessantes:\n",
        "* Existe em algum lugar dos dados linha(s) com zero acidentes\n",
        "* O maior númedo de acidentes registrado foi 419981 - o que levanta a questão a respeito do quando e onde isso ocorreu.\n",
        "* Esse número gigantesco de acidentes se trata de um outlier uma vez que a grande maioria dos valores está entre 0 a 3000 acidentes.\n",
        "* Nossa dataset abrange desde 1988 até 2016\n"
      ]
    },
    {
      "metadata": {
        "id": "iLrpWyODpnJf",
        "colab_type": "text"
      },
      "cell_type": "markdown",
      "source": [
        "### Zero Acidentes\n",
        "\n",
        "Onde será que tivemos zero acidentes?"
      ]
    },
    {
      "metadata": {
        "id": "swE5MmQtqSaD",
        "colab_type": "code",
        "outputId": "0aec2720-179e-4a41-d57d-3e76edab80f0",
        "colab": {
          "base_uri": "https://localhost:8080/",
          "height": 1178
        }
      },
      "cell_type": "code",
      "source": [
        "#Criando a tabela de zero acidentes\n",
        "zero_acidentes = df_uf[df_uf['qtd_acidentes']==0]\n",
        "zero_acidentes.sort_values([\"regiao\",\n",
        "                            \"estado\",\n",
        "                            \"ano\"]).drop(labels=[\"latitude\",\n",
        "                                                 \"longitude\",\n",
        "                                                 \"cod_estado\",\n",
        "                                                 \"uf\"],axis=1)"
      ],
      "execution_count": 192,
      "outputs": [
        {
          "output_type": "execute_result",
          "data": {
            "text/html": [
              "<div>\n",
              "<style scoped>\n",
              "    .dataframe tbody tr th:only-of-type {\n",
              "        vertical-align: middle;\n",
              "    }\n",
              "\n",
              "    .dataframe tbody tr th {\n",
              "        vertical-align: top;\n",
              "    }\n",
              "\n",
              "    .dataframe thead th {\n",
              "        text-align: right;\n",
              "    }\n",
              "</style>\n",
              "<table border=\"1\" class=\"dataframe\">\n",
              "  <thead>\n",
              "    <tr style=\"text-align: right;\">\n",
              "      <th></th>\n",
              "      <th>ano</th>\n",
              "      <th>estado</th>\n",
              "      <th>motivo/situação</th>\n",
              "      <th>qtd_acidentes</th>\n",
              "      <th>regiao</th>\n",
              "    </tr>\n",
              "  </thead>\n",
              "  <tbody>\n",
              "    <tr>\n",
              "      <th>2347</th>\n",
              "      <td>1993</td>\n",
              "      <td>Mato Grosso</td>\n",
              "      <td>Trajeto-Com Cat</td>\n",
              "      <td>0.0</td>\n",
              "      <td>Centro-Oeste</td>\n",
              "    </tr>\n",
              "    <tr>\n",
              "      <th>1075</th>\n",
              "      <td>1989</td>\n",
              "      <td>Alagoas</td>\n",
              "      <td>Doença do Trabalho-Com Cat</td>\n",
              "      <td>0.0</td>\n",
              "      <td>Nordeste</td>\n",
              "    </tr>\n",
              "    <tr>\n",
              "      <th>1078</th>\n",
              "      <td>1990</td>\n",
              "      <td>Alagoas</td>\n",
              "      <td>Doença do Trabalho-Com Cat</td>\n",
              "      <td>0.0</td>\n",
              "      <td>Nordeste</td>\n",
              "    </tr>\n",
              "    <tr>\n",
              "      <th>434</th>\n",
              "      <td>1990</td>\n",
              "      <td>Maranhão</td>\n",
              "      <td>Doença do Trabalho-Com Cat</td>\n",
              "      <td>0.0</td>\n",
              "      <td>Nordeste</td>\n",
              "    </tr>\n",
              "    <tr>\n",
              "      <th>437</th>\n",
              "      <td>1991</td>\n",
              "      <td>Maranhão</td>\n",
              "      <td>Doença do Trabalho-Com Cat</td>\n",
              "      <td>0.0</td>\n",
              "      <td>Nordeste</td>\n",
              "    </tr>\n",
              "    <tr>\n",
              "      <th>446</th>\n",
              "      <td>1994</td>\n",
              "      <td>Maranhão</td>\n",
              "      <td>Doença do Trabalho-Com Cat</td>\n",
              "      <td>0.0</td>\n",
              "      <td>Nordeste</td>\n",
              "    </tr>\n",
              "    <tr>\n",
              "      <th>449</th>\n",
              "      <td>1995</td>\n",
              "      <td>Maranhão</td>\n",
              "      <td>Doença do Trabalho-Com Cat</td>\n",
              "      <td>0.0</td>\n",
              "      <td>Nordeste</td>\n",
              "    </tr>\n",
              "    <tr>\n",
              "      <th>527</th>\n",
              "      <td>1988</td>\n",
              "      <td>Piauí</td>\n",
              "      <td>Doença do Trabalho-Com Cat</td>\n",
              "      <td>0.0</td>\n",
              "      <td>Nordeste</td>\n",
              "    </tr>\n",
              "    <tr>\n",
              "      <th>539</th>\n",
              "      <td>1992</td>\n",
              "      <td>Piauí</td>\n",
              "      <td>Doença do Trabalho-Com Cat</td>\n",
              "      <td>0.0</td>\n",
              "      <td>Nordeste</td>\n",
              "    </tr>\n",
              "    <tr>\n",
              "      <th>548</th>\n",
              "      <td>1995</td>\n",
              "      <td>Piauí</td>\n",
              "      <td>Doença do Trabalho-Com Cat</td>\n",
              "      <td>0.0</td>\n",
              "      <td>Nordeste</td>\n",
              "    </tr>\n",
              "    <tr>\n",
              "      <th>115</th>\n",
              "      <td>1988</td>\n",
              "      <td>Acre</td>\n",
              "      <td>Doença do Trabalho-Com Cat</td>\n",
              "      <td>0.0</td>\n",
              "      <td>Norte</td>\n",
              "    </tr>\n",
              "    <tr>\n",
              "      <th>121</th>\n",
              "      <td>1990</td>\n",
              "      <td>Acre</td>\n",
              "      <td>Doença do Trabalho-Com Cat</td>\n",
              "      <td>0.0</td>\n",
              "      <td>Norte</td>\n",
              "    </tr>\n",
              "    <tr>\n",
              "      <th>124</th>\n",
              "      <td>1991</td>\n",
              "      <td>Acre</td>\n",
              "      <td>Doença do Trabalho-Com Cat</td>\n",
              "      <td>0.0</td>\n",
              "      <td>Norte</td>\n",
              "    </tr>\n",
              "    <tr>\n",
              "      <th>127</th>\n",
              "      <td>1992</td>\n",
              "      <td>Acre</td>\n",
              "      <td>Doença do Trabalho-Com Cat</td>\n",
              "      <td>0.0</td>\n",
              "      <td>Norte</td>\n",
              "    </tr>\n",
              "    <tr>\n",
              "      <th>130</th>\n",
              "      <td>1993</td>\n",
              "      <td>Acre</td>\n",
              "      <td>Doença do Trabalho-Com Cat</td>\n",
              "      <td>0.0</td>\n",
              "      <td>Norte</td>\n",
              "    </tr>\n",
              "    <tr>\n",
              "      <th>131</th>\n",
              "      <td>1994</td>\n",
              "      <td>Acre</td>\n",
              "      <td>Típico-Com Cat</td>\n",
              "      <td>0.0</td>\n",
              "      <td>Norte</td>\n",
              "    </tr>\n",
              "    <tr>\n",
              "      <th>132</th>\n",
              "      <td>1994</td>\n",
              "      <td>Acre</td>\n",
              "      <td>Trajeto-Com Cat</td>\n",
              "      <td>0.0</td>\n",
              "      <td>Norte</td>\n",
              "    </tr>\n",
              "    <tr>\n",
              "      <th>133</th>\n",
              "      <td>1994</td>\n",
              "      <td>Acre</td>\n",
              "      <td>Doença do Trabalho-Com Cat</td>\n",
              "      <td>0.0</td>\n",
              "      <td>Norte</td>\n",
              "    </tr>\n",
              "    <tr>\n",
              "      <th>136</th>\n",
              "      <td>1995</td>\n",
              "      <td>Acre</td>\n",
              "      <td>Doença do Trabalho-Com Cat</td>\n",
              "      <td>0.0</td>\n",
              "      <td>Norte</td>\n",
              "    </tr>\n",
              "    <tr>\n",
              "      <th>138</th>\n",
              "      <td>1996</td>\n",
              "      <td>Acre</td>\n",
              "      <td>Trajeto-Com Cat</td>\n",
              "      <td>0.0</td>\n",
              "      <td>Norte</td>\n",
              "    </tr>\n",
              "    <tr>\n",
              "      <th>2659</th>\n",
              "      <td>1994</td>\n",
              "      <td>Amapá</td>\n",
              "      <td>Típico-Com Cat</td>\n",
              "      <td>0.0</td>\n",
              "      <td>Norte</td>\n",
              "    </tr>\n",
              "    <tr>\n",
              "      <th>2660</th>\n",
              "      <td>1994</td>\n",
              "      <td>Amapá</td>\n",
              "      <td>Trajeto-Com Cat</td>\n",
              "      <td>0.0</td>\n",
              "      <td>Norte</td>\n",
              "    </tr>\n",
              "    <tr>\n",
              "      <th>2661</th>\n",
              "      <td>1994</td>\n",
              "      <td>Amapá</td>\n",
              "      <td>Doença do Trabalho-Com Cat</td>\n",
              "      <td>0.0</td>\n",
              "      <td>Norte</td>\n",
              "    </tr>\n",
              "    <tr>\n",
              "      <th>2666</th>\n",
              "      <td>1996</td>\n",
              "      <td>Amapá</td>\n",
              "      <td>Trajeto-Com Cat</td>\n",
              "      <td>0.0</td>\n",
              "      <td>Norte</td>\n",
              "    </tr>\n",
              "    <tr>\n",
              "      <th>326</th>\n",
              "      <td>1989</td>\n",
              "      <td>Pará</td>\n",
              "      <td>Doença do Trabalho-Com Cat</td>\n",
              "      <td>0.0</td>\n",
              "      <td>Norte</td>\n",
              "    </tr>\n",
              "    <tr>\n",
              "      <th>329</th>\n",
              "      <td>1990</td>\n",
              "      <td>Pará</td>\n",
              "      <td>Doença do Trabalho-Com Cat</td>\n",
              "      <td>0.0</td>\n",
              "      <td>Norte</td>\n",
              "    </tr>\n",
              "    <tr>\n",
              "      <th>18</th>\n",
              "      <td>1994</td>\n",
              "      <td>Rondônia</td>\n",
              "      <td>Típico-Com Cat</td>\n",
              "      <td>0.0</td>\n",
              "      <td>Norte</td>\n",
              "    </tr>\n",
              "    <tr>\n",
              "      <th>19</th>\n",
              "      <td>1994</td>\n",
              "      <td>Rondônia</td>\n",
              "      <td>Trajeto-Com Cat</td>\n",
              "      <td>0.0</td>\n",
              "      <td>Norte</td>\n",
              "    </tr>\n",
              "    <tr>\n",
              "      <th>20</th>\n",
              "      <td>1994</td>\n",
              "      <td>Rondônia</td>\n",
              "      <td>Doença do Trabalho-Com Cat</td>\n",
              "      <td>0.0</td>\n",
              "      <td>Norte</td>\n",
              "    </tr>\n",
              "    <tr>\n",
              "      <th>2825</th>\n",
              "      <td>1998</td>\n",
              "      <td>Roraima</td>\n",
              "      <td>Doença do Trabalho-Com Cat</td>\n",
              "      <td>0.0</td>\n",
              "      <td>Norte</td>\n",
              "    </tr>\n",
              "    <tr>\n",
              "      <th>2739</th>\n",
              "      <td>1994</td>\n",
              "      <td>Tocantins</td>\n",
              "      <td>Típico-Com Cat</td>\n",
              "      <td>0.0</td>\n",
              "      <td>Norte</td>\n",
              "    </tr>\n",
              "    <tr>\n",
              "      <th>2740</th>\n",
              "      <td>1994</td>\n",
              "      <td>Tocantins</td>\n",
              "      <td>Trajeto-Com Cat</td>\n",
              "      <td>0.0</td>\n",
              "      <td>Norte</td>\n",
              "    </tr>\n",
              "    <tr>\n",
              "      <th>2741</th>\n",
              "      <td>1994</td>\n",
              "      <td>Tocantins</td>\n",
              "      <td>Doença do Trabalho-Com Cat</td>\n",
              "      <td>0.0</td>\n",
              "      <td>Norte</td>\n",
              "    </tr>\n",
              "    <tr>\n",
              "      <th>2125</th>\n",
              "      <td>1995</td>\n",
              "      <td>Rio Grande do Sul</td>\n",
              "      <td>Típico-Com Cat</td>\n",
              "      <td>0.0</td>\n",
              "      <td>Sul</td>\n",
              "    </tr>\n",
              "    <tr>\n",
              "      <th>2126</th>\n",
              "      <td>1995</td>\n",
              "      <td>Rio Grande do Sul</td>\n",
              "      <td>Trajeto-Com Cat</td>\n",
              "      <td>0.0</td>\n",
              "      <td>Sul</td>\n",
              "    </tr>\n",
              "    <tr>\n",
              "      <th>2127</th>\n",
              "      <td>1995</td>\n",
              "      <td>Rio Grande do Sul</td>\n",
              "      <td>Doença do Trabalho-Com Cat</td>\n",
              "      <td>0.0</td>\n",
              "      <td>Sul</td>\n",
              "    </tr>\n",
              "  </tbody>\n",
              "</table>\n",
              "</div>"
            ],
            "text/plain": [
              "       ano             estado             motivo/situação  qtd_acidentes  \\\n",
              "2347  1993        Mato Grosso             Trajeto-Com Cat            0.0   \n",
              "1075  1989            Alagoas  Doença do Trabalho-Com Cat            0.0   \n",
              "1078  1990            Alagoas  Doença do Trabalho-Com Cat            0.0   \n",
              "434   1990           Maranhão  Doença do Trabalho-Com Cat            0.0   \n",
              "437   1991           Maranhão  Doença do Trabalho-Com Cat            0.0   \n",
              "446   1994           Maranhão  Doença do Trabalho-Com Cat            0.0   \n",
              "449   1995           Maranhão  Doença do Trabalho-Com Cat            0.0   \n",
              "527   1988              Piauí  Doença do Trabalho-Com Cat            0.0   \n",
              "539   1992              Piauí  Doença do Trabalho-Com Cat            0.0   \n",
              "548   1995              Piauí  Doença do Trabalho-Com Cat            0.0   \n",
              "115   1988               Acre  Doença do Trabalho-Com Cat            0.0   \n",
              "121   1990               Acre  Doença do Trabalho-Com Cat            0.0   \n",
              "124   1991               Acre  Doença do Trabalho-Com Cat            0.0   \n",
              "127   1992               Acre  Doença do Trabalho-Com Cat            0.0   \n",
              "130   1993               Acre  Doença do Trabalho-Com Cat            0.0   \n",
              "131   1994               Acre              Típico-Com Cat            0.0   \n",
              "132   1994               Acre             Trajeto-Com Cat            0.0   \n",
              "133   1994               Acre  Doença do Trabalho-Com Cat            0.0   \n",
              "136   1995               Acre  Doença do Trabalho-Com Cat            0.0   \n",
              "138   1996               Acre             Trajeto-Com Cat            0.0   \n",
              "2659  1994              Amapá              Típico-Com Cat            0.0   \n",
              "2660  1994              Amapá             Trajeto-Com Cat            0.0   \n",
              "2661  1994              Amapá  Doença do Trabalho-Com Cat            0.0   \n",
              "2666  1996              Amapá             Trajeto-Com Cat            0.0   \n",
              "326   1989               Pará  Doença do Trabalho-Com Cat            0.0   \n",
              "329   1990               Pará  Doença do Trabalho-Com Cat            0.0   \n",
              "18    1994           Rondônia              Típico-Com Cat            0.0   \n",
              "19    1994           Rondônia             Trajeto-Com Cat            0.0   \n",
              "20    1994           Rondônia  Doença do Trabalho-Com Cat            0.0   \n",
              "2825  1998            Roraima  Doença do Trabalho-Com Cat            0.0   \n",
              "2739  1994          Tocantins              Típico-Com Cat            0.0   \n",
              "2740  1994          Tocantins             Trajeto-Com Cat            0.0   \n",
              "2741  1994          Tocantins  Doença do Trabalho-Com Cat            0.0   \n",
              "2125  1995  Rio Grande do Sul              Típico-Com Cat            0.0   \n",
              "2126  1995  Rio Grande do Sul             Trajeto-Com Cat            0.0   \n",
              "2127  1995  Rio Grande do Sul  Doença do Trabalho-Com Cat            0.0   \n",
              "\n",
              "            regiao  \n",
              "2347  Centro-Oeste  \n",
              "1075      Nordeste  \n",
              "1078      Nordeste  \n",
              "434       Nordeste  \n",
              "437       Nordeste  \n",
              "446       Nordeste  \n",
              "449       Nordeste  \n",
              "527       Nordeste  \n",
              "539       Nordeste  \n",
              "548       Nordeste  \n",
              "115          Norte  \n",
              "121          Norte  \n",
              "124          Norte  \n",
              "127          Norte  \n",
              "130          Norte  \n",
              "131          Norte  \n",
              "132          Norte  \n",
              "133          Norte  \n",
              "136          Norte  \n",
              "138          Norte  \n",
              "2659         Norte  \n",
              "2660         Norte  \n",
              "2661         Norte  \n",
              "2666         Norte  \n",
              "326          Norte  \n",
              "329          Norte  \n",
              "18           Norte  \n",
              "19           Norte  \n",
              "20           Norte  \n",
              "2825         Norte  \n",
              "2739         Norte  \n",
              "2740         Norte  \n",
              "2741         Norte  \n",
              "2125           Sul  \n",
              "2126           Sul  \n",
              "2127           Sul  "
            ]
          },
          "metadata": {
            "tags": []
          },
          "execution_count": 192
        }
      ]
    },
    {
      "metadata": {
        "id": "nwXpCG5MiuE2",
        "colab_type": "code",
        "outputId": "1e9e6b10-0f67-457b-bf0b-be64e3d70954",
        "colab": {
          "base_uri": "https://localhost:8080/",
          "height": 314
        }
      },
      "cell_type": "code",
      "source": [
        "p = sns.countplot(x=\"ano\",hue=\"regiao\",data=zero_acidentes)\n",
        "p.set_title(\"Qtd de estados com zero acidentes por região e por ano\")"
      ],
      "execution_count": 193,
      "outputs": [
        {
          "output_type": "execute_result",
          "data": {
            "text/plain": [
              "Text(0.5, 1.0, 'Qtd de estados com zero acidentes por região e por ano')"
            ]
          },
          "metadata": {
            "tags": []
          },
          "execution_count": 193
        },
        {
          "output_type": "display_data",
          "data": {
            "image/png": "[encoded data removed]",
            "text/plain": [
              "<Figure size 432x288 with 1 Axes>"
            ]
          },
          "metadata": {
            "tags": []
          }
        }
      ]
    },
    {
      "metadata": {
        "id": "dS9Q-CQcscHc",
        "colab_type": "text"
      },
      "cell_type": "markdown",
      "source": [
        "Os estados do norte apresentam a maior prevalência de anos sem acidente de qualquer tipo. Porém nenhum estado ficou 1 ano sem acidente de qualquer tipo desde 1998. Como mostra o grafico acima. Fica evidenciado também que o sudeste não teve  nenhum ano sem acidentes.\n",
        "\n",
        "No entanto na maioria dos anos em que não ocorreram acidentes de trabalho, a não ocorrência diz respeito ao motivo de doença de trabalho. Os anos em que tivemos zero acidentes de qualquer tipo são mostrados na tabela abaixo:"
      ]
    },
    {
      "metadata": {
        "id": "SAf8AUhnWkaK",
        "colab_type": "code",
        "colab": {
          "base_uri": "https://localhost:8080/",
          "height": 677
        },
        "outputId": "c8d0b306-91a9-40e7-b404-6b4cea4c861c"
      },
      "cell_type": "code",
      "source": [
        "zero_acidentes.groupby(['regiao','ano'])[[\"motivo/situação\"]].nunique()"
      ],
      "execution_count": 197,
      "outputs": [
        {
          "output_type": "execute_result",
          "data": {
            "text/html": [
              "<div>\n",
              "<style scoped>\n",
              "    .dataframe tbody tr th:only-of-type {\n",
              "        vertical-align: middle;\n",
              "    }\n",
              "\n",
              "    .dataframe tbody tr th {\n",
              "        vertical-align: top;\n",
              "    }\n",
              "\n",
              "    .dataframe thead th {\n",
              "        text-align: right;\n",
              "    }\n",
              "</style>\n",
              "<table border=\"1\" class=\"dataframe\">\n",
              "  <thead>\n",
              "    <tr style=\"text-align: right;\">\n",
              "      <th></th>\n",
              "      <th></th>\n",
              "      <th>motivo/situação</th>\n",
              "    </tr>\n",
              "    <tr>\n",
              "      <th>regiao</th>\n",
              "      <th>ano</th>\n",
              "      <th></th>\n",
              "    </tr>\n",
              "  </thead>\n",
              "  <tbody>\n",
              "    <tr>\n",
              "      <th>Centro-Oeste</th>\n",
              "      <th>1993</th>\n",
              "      <td>1</td>\n",
              "    </tr>\n",
              "    <tr>\n",
              "      <th rowspan=\"7\" valign=\"top\">Nordeste</th>\n",
              "      <th>1988</th>\n",
              "      <td>1</td>\n",
              "    </tr>\n",
              "    <tr>\n",
              "      <th>1989</th>\n",
              "      <td>1</td>\n",
              "    </tr>\n",
              "    <tr>\n",
              "      <th>1990</th>\n",
              "      <td>1</td>\n",
              "    </tr>\n",
              "    <tr>\n",
              "      <th>1991</th>\n",
              "      <td>1</td>\n",
              "    </tr>\n",
              "    <tr>\n",
              "      <th>1992</th>\n",
              "      <td>1</td>\n",
              "    </tr>\n",
              "    <tr>\n",
              "      <th>1994</th>\n",
              "      <td>1</td>\n",
              "    </tr>\n",
              "    <tr>\n",
              "      <th>1995</th>\n",
              "      <td>1</td>\n",
              "    </tr>\n",
              "    <tr>\n",
              "      <th rowspan=\"10\" valign=\"top\">Norte</th>\n",
              "      <th>1988</th>\n",
              "      <td>1</td>\n",
              "    </tr>\n",
              "    <tr>\n",
              "      <th>1989</th>\n",
              "      <td>1</td>\n",
              "    </tr>\n",
              "    <tr>\n",
              "      <th>1990</th>\n",
              "      <td>1</td>\n",
              "    </tr>\n",
              "    <tr>\n",
              "      <th>1991</th>\n",
              "      <td>1</td>\n",
              "    </tr>\n",
              "    <tr>\n",
              "      <th>1992</th>\n",
              "      <td>1</td>\n",
              "    </tr>\n",
              "    <tr>\n",
              "      <th>1993</th>\n",
              "      <td>1</td>\n",
              "    </tr>\n",
              "    <tr>\n",
              "      <th>1994</th>\n",
              "      <td>3</td>\n",
              "    </tr>\n",
              "    <tr>\n",
              "      <th>1995</th>\n",
              "      <td>1</td>\n",
              "    </tr>\n",
              "    <tr>\n",
              "      <th>1996</th>\n",
              "      <td>1</td>\n",
              "    </tr>\n",
              "    <tr>\n",
              "      <th>1998</th>\n",
              "      <td>1</td>\n",
              "    </tr>\n",
              "    <tr>\n",
              "      <th>Sul</th>\n",
              "      <th>1995</th>\n",
              "      <td>3</td>\n",
              "    </tr>\n",
              "  </tbody>\n",
              "</table>\n",
              "</div>"
            ],
            "text/plain": [
              "                   motivo/situação\n",
              "regiao       ano                  \n",
              "Centro-Oeste 1993                1\n",
              "Nordeste     1988                1\n",
              "             1989                1\n",
              "             1990                1\n",
              "             1991                1\n",
              "             1992                1\n",
              "             1994                1\n",
              "             1995                1\n",
              "Norte        1988                1\n",
              "             1989                1\n",
              "             1990                1\n",
              "             1991                1\n",
              "             1992                1\n",
              "             1993                1\n",
              "             1994                3\n",
              "             1995                1\n",
              "             1996                1\n",
              "             1998                1\n",
              "Sul          1995                3"
            ]
          },
          "metadata": {
            "tags": []
          },
          "execution_count": 197
        }
      ]
    },
    {
      "metadata": {
        "id": "meP0kpymaX3H",
        "colab_type": "text"
      },
      "cell_type": "markdown",
      "source": [
        "Infelizmente, não tivemos nenhum ano com nenhum tipo de acidente, em região nenhuma do país(se tivessemos encontrariamos alguma linha da tabela indicando as 4 categorias da coluna \"motivo/situação\")."
      ]
    },
    {
      "metadata": {
        "id": "ju4CGcqzj7La",
        "colab_type": "code",
        "colab": {}
      },
      "cell_type": "code",
      "source": [
        "p = sns.countplot(y=\"estado\",\n",
        "                  data = zero_acidentes,\n",
        "                  hue = \"regiao\",\n",
        "              order = zero_acidentes['estado'].value_counts().index)\n",
        "p.set_title(\"Qtd de anos com zero acidentes por estado\")"
      ],
      "execution_count": 0,
      "outputs": []
    },
    {
      "metadata": {
        "id": "JL_RJvLhllrx",
        "colab_type": "text"
      },
      "cell_type": "markdown",
      "source": [
        "O Acre foi, de longe, o estado que teve a maior quantidade de anos sem registrar acidentes. \n",
        "\n",
        "---\n",
        "\n",
        "(cruzar essa informação com quantidade de postos de trabalho, população e postos de trabalho irregular )"
      ]
    },
    {
      "metadata": {
        "id": "mtW9cVkUty0f",
        "colab_type": "text"
      },
      "cell_type": "markdown",
      "source": [
        "### O maior número de acidentes registrado\n",
        "\n",
        "Onde será que ele ocorreu?"
      ]
    },
    {
      "metadata": {
        "id": "ZLvab6PFtqen",
        "colab_type": "code",
        "colab": {}
      },
      "cell_type": "code",
      "source": [
        "#selecionando a linha com o maior número de acidentes registrado\n",
        "df_uf[df_uf['qtd_acidentes']==419981]"
      ],
      "execution_count": 0,
      "outputs": []
    },
    {
      "metadata": {
        "id": "LaHeJ7F_uOjJ",
        "colab_type": "text"
      },
      "cell_type": "markdown",
      "source": [
        "1988 foi um ano tenso para São Paulo, que chegou a registrar um número tão expressivo de acidentes. O que traz o questionamento a respeito de como é a série histórica da maior metrópole brasileira. "
      ]
    },
    {
      "metadata": {
        "id": "VdYTOvg6FzXw",
        "colab_type": "code",
        "colab": {}
      },
      "cell_type": "code",
      "source": [
        "!pip install seaborn==0.9.0"
      ],
      "execution_count": 0,
      "outputs": []
    },
    {
      "metadata": {
        "id": "k-wECG2DudOG",
        "colab_type": "code",
        "outputId": "39af5df7-5fa7-4615-b708-42ceaeee1f0f",
        "colab": {
          "base_uri": "https://localhost:8080/",
          "height": 314
        }
      },
      "cell_type": "code",
      "source": [
        "p = sns.lineplot(x=\"ano\",\n",
        "             y = \"qtd_acidentes\",\n",
        "             hue = \"motivo/situação\",\n",
        "             style =\"motivo/situação\" ,\n",
        "             markers =True ,\n",
        "             data=df_uf[df_uf[\"estado\"]==\"São Paulo\"])\n",
        "p.set_title(\"Qtd de Acidentes de SP por ano e motivo\")"
      ],
      "execution_count": 198,
      "outputs": [
        {
          "output_type": "execute_result",
          "data": {
            "text/plain": [
              "Text(0.5, 1.0, 'Qtd de Acidentes de SP por ano e motivo')"
            ]
          },
          "metadata": {
            "tags": []
          },
          "execution_count": 198
        },
        {
          "output_type": "display_data",
          "data": {
            "image/png": "[encoded data removed]",
            "text/plain": [
              "<Figure size 432x288 with 1 Axes>"
            ]
          },
          "metadata": {
            "tags": []
          }
        }
      ]
    },
    {
      "metadata": {
        "id": "aCPdwVV6wrzR",
        "colab_type": "text"
      },
      "cell_type": "markdown",
      "source": [
        "É possivel observar uma tendência de queda na quantidade de acidentes Típicos-com Cat(que são maioria) até os anos 2000. O que levanta uma outra questão. Como se comporta a queda de São Paulo com relação a média regional?"
      ]
    },
    {
      "metadata": {
        "id": "YLClNESwGovn",
        "colab_type": "code",
        "colab": {}
      },
      "cell_type": "code",
      "source": [
        "#fazendo a média da região\n",
        "mean_regiao = df_uf[df_uf[\"estado\"]!=\"São Paulo\"].groupby(by = [\"regiao\",\"motivo/situação\",\"ano\"])[[\"qtd_acidentes\"]].mean()\n",
        "mean_regiao.reset_index(inplace = True)\n"
      ],
      "execution_count": 0,
      "outputs": []
    },
    {
      "metadata": {
        "id": "ZKtL7Q1Drw_z",
        "colab_type": "code",
        "outputId": "0c0b369d-18d1-428c-f671-8dfa4608f7ed",
        "colab": {
          "base_uri": "https://localhost:8080/",
          "height": 314
        }
      },
      "cell_type": "code",
      "source": [
        "\n",
        "#plotando os dados\n",
        "p = sns.lineplot(x=\"ano\",\n",
        "             y = \"qtd_acidentes\",\n",
        "             hue = \"motivo/situação\",\n",
        "             style =\"motivo/situação\" ,\n",
        "             markers =True ,\n",
        "             data=mean_regiao[(mean_regiao[\"regiao\"]==\"Sudeste\")&\n",
        "                             (mean_regiao[\"motivo/situação\"]==\"Típico-Com Cat\")])\n",
        "p.set_title(\"Média de Acidentes da Região Sudeste por ano\")\n",
        "                 "
      ],
      "execution_count": 200,
      "outputs": [
        {
          "output_type": "execute_result",
          "data": {
            "text/plain": [
              "Text(0.5, 1.0, 'Média de Acidentes da Região Sudeste por ano')"
            ]
          },
          "metadata": {
            "tags": []
          },
          "execution_count": 200
        },
        {
          "output_type": "display_data",
          "data": {
            "image/png": "[encoded data removed]",
            "text/plain": [
              "<Figure size 432x288 with 1 Axes>"
            ]
          },
          "metadata": {
            "tags": []
          }
        }
      ]
    },
    {
      "metadata": {
        "id": "Kdr0U8SA2GzM",
        "colab_type": "code",
        "colab": {}
      },
      "cell_type": "code",
      "source": [
        "#Criar gráfico que sobreponha a média da região com os valores de sp"
      ],
      "execution_count": 0,
      "outputs": []
    },
    {
      "metadata": {
        "id": "sRZl6mQTwD5h",
        "colab_type": "text"
      },
      "cell_type": "markdown",
      "source": [
        "### Distribuição da quantidade de acidentes por região"
      ]
    },
    {
      "metadata": {
        "id": "G5UrsdGO9thK",
        "colab_type": "text"
      },
      "cell_type": "markdown",
      "source": [
        "Observando a série histórica de todas as regiões do país é necessário se fazer uma analise em função do Log da quantidade de acidentes. Isso decorre do fato que a quantidade de acidentes é muito discrepante de região para região, como pode ser observado no gráfico abaixo"
      ]
    },
    {
      "metadata": {
        "id": "thRdXtKSGPtU",
        "colab_type": "code",
        "outputId": "7d8b2914-14c2-40d9-9582-bf2889d126d5",
        "colab": {
          "base_uri": "https://localhost:8080/",
          "height": 286
        }
      },
      "cell_type": "code",
      "source": [
        "g = sns.FacetGrid(df_uf, col=\"regiao\") \n",
        "g.map(sns.boxplot, \"qtd_acidentes\")\n",
        "plt.xscale(\"log\")"
      ],
      "execution_count": 201,
      "outputs": [
        {
          "output_type": "stream",
          "text": [
            "/usr/local/lib/python3.6/dist-packages/seaborn/axisgrid.py:715: UserWarning: Using the boxplot function without specifying `order` is likely to produce an incorrect plot.\n",
            "  warnings.warn(warning)\n"
          ],
          "name": "stderr"
        },
        {
          "output_type": "display_data",
          "data": {
            "image/png": "[encoded data removed]",
            "text/plain": [
              "<Figure size 1080x216 with 5 Axes>"
            ]
          },
          "metadata": {
            "tags": []
          }
        }
      ]
    },
    {
      "metadata": {
        "id": "K-b3M9GoHisp",
        "colab_type": "text"
      },
      "cell_type": "markdown",
      "source": [
        "A região sudeste apresenta a distribuição mais concentrada nos valores entre $10^3$ e $10^4$, assim como a região sul. O que não é verdade para as outras regiões do pais que possuem os valores mais próximos da ordem de $10^2$ e $10^3$\n"
      ]
    },
    {
      "metadata": {
        "id": "pQGkpNedHmLJ",
        "colab_type": "code",
        "outputId": "e43a3f22-5269-44db-921c-2b3a33021dc2",
        "colab": {
          "base_uri": "https://localhost:8080/",
          "height": 264
        }
      },
      "cell_type": "code",
      "source": [
        "plt.figure(figsize=(20, 30))\n",
        "g = sns.FacetGrid(df_uf, col=\"regiao\",hue=\"motivo/situação\")\n",
        "g.map(sns.lineplot,'ano',\"qtd_acidentes\").add_legend()\n",
        "plt.yscale(\"log\")"
      ],
      "execution_count": 206,
      "outputs": [
        {
          "output_type": "display_data",
          "data": {
            "text/plain": [
              "<Figure size 1440x2160 with 0 Axes>"
            ]
          },
          "metadata": {
            "tags": []
          }
        },
        {
          "output_type": "display_data",
          "data": {
            "image/png": "[encoded data removed]",
            "text/plain": [
              "<Figure size 1262.36x216 with 5 Axes>"
            ]
          },
          "metadata": {
            "tags": []
          }
        }
      ]
    },
    {
      "metadata": {
        "id": "NiQaPY7SAE8j",
        "colab_type": "text"
      },
      "cell_type": "markdown",
      "source": [
        "Em termos de média, a região sudeste foi a que apresentou a maior queda na quatidade de acidentes ao longo dos anos. "
      ]
    },
    {
      "metadata": {
        "id": "o_uanMqXwSSc",
        "colab_type": "text"
      },
      "cell_type": "markdown",
      "source": [
        "### O mapa dos acidentes de trabalho"
      ]
    },
    {
      "metadata": {
        "id": "A3L_5ZOdW0rV",
        "colab_type": "text"
      },
      "cell_type": "markdown",
      "source": [
        "Agora com uma base de dados com as informações de latitude e longitude, meu objetivo é tentar retirar algumas informações com base na leitura de alguns mapas. Para isso usarei a biblioteca do Python Folium"
      ]
    },
    {
      "metadata": {
        "id": "ooIgZur7V1H1",
        "colab_type": "code",
        "colab": {}
      },
      "cell_type": "code",
      "source": [
        "import folium"
      ],
      "execution_count": 0,
      "outputs": []
    },
    {
      "metadata": {
        "id": "AYJj-GFeiOxu",
        "colab_type": "code",
        "colab": {}
      },
      "cell_type": "code",
      "source": [
        "df_uf_2016 = df_uf[df_uf[\"ano\"]==2016]\n",
        "df_uf_2016 = df_uf_2016.groupby(['estado','latitude','longitude'],as_index=False)[['qtd_acidentes']].sum()\n",
        "df_uf_2016.qtd_acidentes = df_uf_2016.qtd_acidentes.astype('int64')"
      ],
      "execution_count": 0,
      "outputs": []
    },
    {
      "metadata": {
        "id": "j1Y52BUkglLE",
        "colab_type": "text"
      },
      "cell_type": "markdown",
      "source": [
        "Então pro ano de 2016 é possivel avaliar a quantidade de acidentes que tivemos por estado"
      ]
    },
    {
      "metadata": {
        "id": "Mr3Qf_JdXJ8i",
        "colab_type": "code",
        "outputId": "06a68d74-4181-4403-b067-0405773076c0",
        "colab": {
          "base_uri": "https://localhost:8080/",
          "height": 773
        }
      },
      "cell_type": "code",
      "source": [
        "\n",
        "ac_map = folium.Map(location=[-16.1237611, -59.9219642],\n",
        "               zoom_start=4)\n",
        "for i in range(0,len(df_uf_2016)):\n",
        "      folium.CircleMarker(\n",
        "      location=[df_uf_2016.iloc[i]['latitude'], df_uf_2016.iloc[i]['longitude']],\n",
        "      popup=df_uf_2016.iloc[i]['estado']+' - '+df_uf_2016.iloc[i]['qtd_acidentes'].astype('str'),\n",
        "      radius=df_uf_2016.iloc[i]['qtd_acidentes'],\n",
        "      color='crimson',\n",
        "      fill_color=\"crimson\",\n",
        "      fill_opacity=0.6\n",
        "   ).add_to(ac_map)\n",
        "ac_map.save('brasil_2016.html')\n",
        "ac_map"
      ],
      "execution_count": 204,
      "outputs": [
        {
          "output_type": "execute_result",
          "data": {
            "text/html": [
              "<div style=\"width:100%;\"><div style=\"position:relative;width:100%;height:0;padding-bottom:60%;\"><iframe src=\"data:text/html;base64,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\" style=\"position:absolute;width:100%;height:100%;left:0;top:0;\"></iframe></div></div>"
            ],
            "text/plain": [
              "<folium.folium.Map at 0x7f710175eac8>"
            ]
          },
          "metadata": {
            "tags": []
          },
          "execution_count": 204
        }
      ]
    },
    {
      "metadata": {
        "id": "7wg-EXgDM1hq",
        "colab_type": "text"
      },
      "cell_type": "markdown",
      "source": [
        "## Acidentes de Trabalho por Sexo e Faixa Etária"
      ]
    },
    {
      "metadata": {
        "id": "_fqd76_KM7oF",
        "colab_type": "code",
        "colab": {}
      },
      "cell_type": "code",
      "source": [
        ""
      ],
      "execution_count": 0,
      "outputs": []
    }
  ]
}