{
  "nbformat": 4,
  "nbformat_minor": 0,
  "metadata": {
    "colab": {
      "name": "Acidentes de Trabalho.ipynb",
      "version": "0.3.2",
      "provenance": [],
      "collapsed_sections": [],
      "include_colab_link": true
    },
    "kernelspec": {
      "name": "python3",
      "display_name": "Python 3"
    }
  },
  "cells": [
    {
      "cell_type": "markdown",
      "metadata": {
        "id": "view-in-github",
        "colab_type": "text"
      },
      "source": [
        "<a href=\"https://colab.research.google.com/github/lorransr/CAT/blob/master/Acidentes_de_Trabalho.ipynb\" target=\"_parent\"><img src=\"https://colab.research.google.com/assets/colab-badge.svg\" alt=\"Open In Colab\"/></a>"
      ]
    },
    {
      "cell_type": "markdown",
      "metadata": {
        "id": "BkUDqfi5-yMs",
        "colab_type": "text"
      },
      "source": [
        "# Panorama dos acidentes de Trabalho no Brasil\n",
        "\n",
        "O observatório geral da saude e segurança  do trabalho estima que do periodo de 2017 até maio de 2019, são registrados 1 acidente a cada 54 segundos no país. Desse valor, estima-se também que 1 morte aconteça a cada 4 horas. Entender onde, com quem, quando e como ocorrem os acidentes de trabalho são os primeiros passos para nortearmos políticas públicas de prevenção de acidentes.\n",
        "\n",
        "Com isso em mente minha proposta é realizar uma analise, a partir das bases de dados disponibilizadas, através do portal da transparência, pela previdência social a respeito dos Acidentes do Trabalho ocorridos no pais.\n",
        "\n",
        "A princípio foram adquiridas 8 bases de dados, com diferentes recortes a respeito do tema. Elas são:\n",
        "1. Acidentes de Trabalho por UF\n",
        "2. Acidentes de Trabalho por mês\n",
        "3. Acidentes de Trabalho por faixa-etaria e sexo\n",
        "4. Acidentes de Trabalho por parte do corpo atingida\n",
        "5. Acidentes de Trabalho por CNAE (95)\n",
        "6. Acidentes de Trabalho por CNAE (2.0)\n",
        "7. Acidentes de Trabalho por CID\n",
        "8. Acidentes de Trabalho por CBO\n",
        "\n",
        "Todas as bases de dados estão segmentadas por ano. Todas contêm algum indicativo da situação de haver ou não CAT registrada. Igualmente, todas possuem um campo com a tipificação do acidente, seja ele típico, de trajeto ou uma doença de trabalho."
      ]
    },
    {
      "cell_type": "markdown",
      "metadata": {
        "id": "HZ3ZzOuR_3v6",
        "colab_type": "text"
      },
      "source": [
        "### Mas Afinal, o que é a CAT?\n",
        "\n",
        "A comunicação de acidente de trabalho (CAT) é um documento emitido para reconhecer tanto um **acidente de trabalho** ou **de trajeto** bem como uma **doença ocupacional**.\n",
        "Aqui vale a definição desses termos:\n",
        "\n",
        "* Acidente de trabalho ou de trajeto:é o acidente ocorrido no exercício da atividade profissional a serviço da empresa ou no deslocamento residência -> trabalho -> residência. \n",
        "\n",
        "*  Doença ocupacional: é aquela produzida ou desencadeada pelo exercício do trabalho peculiar a determinada atividade e constante da respectiva relação elaborada pelo Ministério do Trabalho e da Previdência Social.\n",
        "\n",
        "A CAT é um documento obrigatório e possui um prazo de emissão curto. Mesmo que não haja afastamento, a CAT deve ser emitida até o primeiro dia útil seguinte ao da ocorrência. Sob o risco de multa. Por conta desta característica a base de dados do INSS é extramemente útil e pouco defasada da realidade brasileira, portanto um bom instrumento para análise."
      ]
    },
    {
      "cell_type": "markdown",
      "metadata": {
        "id": "tqJQbvCdBWa8",
        "colab_type": "text"
      },
      "source": [
        "explicar melhor os seguintes termos:\n",
        "* CNAE \n",
        "* CID\n",
        "* CBO"
      ]
    },
    {
      "cell_type": "markdown",
      "metadata": {
        "id": "JoPYEcpjBzie",
        "colab_type": "text"
      },
      "source": [
        "## Acidentes de Trabalho por UF\n",
        "\n",
        "O primeiro dataset a ser estudado será o que diz respeito aos acidentes de trabalho por unidade federal. Com essa base de dados pretendo responder a pergunta: \"Onde ocorrem os acidentes de trabalho?\". Também sera mostrado a evolução ao longo do tempo para as principais regiões."
      ]
    },
    {
      "cell_type": "code",
      "metadata": {
        "id": "VdYTOvg6FzXw",
        "colab_type": "code",
        "outputId": "b0f5304c-cdfb-494c-86e3-c3cf300967ca",
        "colab": {
          "base_uri": "https://localhost:8080/",
          "height": 1108
        }
      },
      "source": [
        "!pip install seaborn==0.9.0\n",
        "!pip install chartify"
      ],
      "execution_count": 393,
      "outputs": [
        {
          "output_type": "stream",
          "text": [
            "Requirement already satisfied: seaborn==0.9.0 in /usr/local/lib/python3.6/dist-packages (0.9.0)\n",
            "Requirement already satisfied: scipy>=0.14.0 in /usr/local/lib/python3.6/dist-packages (from seaborn==0.9.0) (1.2.1)\n",
            "Requirement already satisfied: numpy>=1.9.3 in /usr/local/lib/python3.6/dist-packages (from seaborn==0.9.0) (1.16.3)\n",
            "Requirement already satisfied: matplotlib>=1.4.3 in /usr/local/lib/python3.6/dist-packages (from seaborn==0.9.0) (3.0.3)\n",
            "Requirement already satisfied: pandas>=0.15.2 in /usr/local/lib/python3.6/dist-packages (from seaborn==0.9.0) (0.24.2)\n",
            "Requirement already satisfied: python-dateutil>=2.1 in /usr/local/lib/python3.6/dist-packages (from matplotlib>=1.4.3->seaborn==0.9.0) (2.5.3)\n",
            "Requirement already satisfied: pyparsing!=2.0.4,!=2.1.2,!=2.1.6,>=2.0.1 in /usr/local/lib/python3.6/dist-packages (from matplotlib>=1.4.3->seaborn==0.9.0) (2.4.0)\n",
            "Requirement already satisfied: cycler>=0.10 in /usr/local/lib/python3.6/dist-packages (from matplotlib>=1.4.3->seaborn==0.9.0) (0.10.0)\n",
            "Requirement already satisfied: kiwisolver>=1.0.1 in /usr/local/lib/python3.6/dist-packages (from matplotlib>=1.4.3->seaborn==0.9.0) (1.1.0)\n",
            "Requirement already satisfied: pytz>=2011k in /usr/local/lib/python3.6/dist-packages (from pandas>=0.15.2->seaborn==0.9.0) (2018.9)\n",
            "Requirement already satisfied: six>=1.5 in /usr/local/lib/python3.6/dist-packages (from python-dateutil>=2.1->matplotlib>=1.4.3->seaborn==0.9.0) (1.12.0)\n",
            "Requirement already satisfied: setuptools in /usr/local/lib/python3.6/dist-packages (from kiwisolver>=1.0.1->matplotlib>=1.4.3->seaborn==0.9.0) (41.0.1)\n",
            "Requirement already satisfied: chartify in /usr/local/lib/python3.6/dist-packages (2.6.0)\n",
            "Requirement already satisfied: pandas<1.0.0,>=0.21.0 in /usr/local/lib/python3.6/dist-packages (from chartify) (0.24.2)\n",
            "Requirement already satisfied: Pillow>=4.3.0 in /usr/local/lib/python3.6/dist-packages (from chartify) (4.3.0)\n",
            "Requirement already satisfied: selenium<=3.8.0,>=3.7.0 in /usr/local/lib/python3.6/dist-packages (from chartify) (3.8.0)\n",
            "Requirement already satisfied: bokeh<2.0.0,>=0.12.16 in /usr/local/lib/python3.6/dist-packages (from chartify) (1.0.4)\n",
            "Requirement already satisfied: scipy<2.0.0,>=1.0.0 in /usr/local/lib/python3.6/dist-packages (from chartify) (1.2.1)\n",
            "Requirement already satisfied: colour<1.0.0,>=0.1.5 in /usr/local/lib/python3.6/dist-packages (from chartify) (0.1.5)\n",
            "Requirement already satisfied: jupyter<2.0.0,>=1.0.0 in /usr/local/lib/python3.6/dist-packages (from chartify) (1.0.0)\n",
            "Requirement already satisfied: pytz>=2011k in /usr/local/lib/python3.6/dist-packages (from pandas<1.0.0,>=0.21.0->chartify) (2018.9)\n",
            "Requirement already satisfied: python-dateutil>=2.5.0 in /usr/local/lib/python3.6/dist-packages (from pandas<1.0.0,>=0.21.0->chartify) (2.5.3)\n",
            "Requirement already satisfied: numpy>=1.12.0 in /usr/local/lib/python3.6/dist-packages (from pandas<1.0.0,>=0.21.0->chartify) (1.16.3)\n",
            "Requirement already satisfied: olefile in /usr/local/lib/python3.6/dist-packages (from Pillow>=4.3.0->chartify) (0.46)\n",
            "Requirement already satisfied: six>=1.5.2 in /usr/local/lib/python3.6/dist-packages (from bokeh<2.0.0,>=0.12.16->chartify) (1.12.0)\n",
            "Requirement already satisfied: Jinja2>=2.7 in /usr/local/lib/python3.6/dist-packages (from bokeh<2.0.0,>=0.12.16->chartify) (2.10.1)\n",
            "Requirement already satisfied: PyYAML>=3.10 in /usr/local/lib/python3.6/dist-packages (from bokeh<2.0.0,>=0.12.16->chartify) (3.13)\n",
            "Requirement already satisfied: packaging>=16.8 in /usr/local/lib/python3.6/dist-packages (from bokeh<2.0.0,>=0.12.16->chartify) (19.0)\n",
            "Requirement already satisfied: tornado>=4.3 in /usr/local/lib/python3.6/dist-packages (from bokeh<2.0.0,>=0.12.16->chartify) (4.5.3)\n",
            "Requirement already satisfied: ipywidgets in /usr/local/lib/python3.6/dist-packages (from jupyter<2.0.0,>=1.0.0->chartify) (7.4.2)\n",
            "Requirement already satisfied: nbconvert in /usr/local/lib/python3.6/dist-packages (from jupyter<2.0.0,>=1.0.0->chartify) (5.5.0)\n",
            "Requirement already satisfied: notebook in /usr/local/lib/python3.6/dist-packages (from jupyter<2.0.0,>=1.0.0->chartify) (5.2.2)\n",
            "Requirement already satisfied: ipykernel in /usr/local/lib/python3.6/dist-packages (from jupyter<2.0.0,>=1.0.0->chartify) (4.6.1)\n",
            "Requirement already satisfied: qtconsole in /usr/local/lib/python3.6/dist-packages (from jupyter<2.0.0,>=1.0.0->chartify) (4.4.3)\n",
            "Requirement already satisfied: jupyter-console in /usr/local/lib/python3.6/dist-packages (from jupyter<2.0.0,>=1.0.0->chartify) (6.0.0)\n",
            "Requirement already satisfied: MarkupSafe>=0.23 in /usr/local/lib/python3.6/dist-packages (from Jinja2>=2.7->bokeh<2.0.0,>=0.12.16->chartify) (1.1.1)\n",
            "Requirement already satisfied: pyparsing>=2.0.2 in /usr/local/lib/python3.6/dist-packages (from packaging>=16.8->bokeh<2.0.0,>=0.12.16->chartify) (2.4.0)\n",
            "Requirement already satisfied: ipython>=4.0.0; python_version >= \"3.3\" in /usr/local/lib/python3.6/dist-packages (from ipywidgets->jupyter<2.0.0,>=1.0.0->chartify) (5.5.0)\n",
            "Requirement already satisfied: traitlets>=4.3.1 in /usr/local/lib/python3.6/dist-packages (from ipywidgets->jupyter<2.0.0,>=1.0.0->chartify) (4.3.2)\n",
            "Requirement already satisfied: nbformat>=4.2.0 in /usr/local/lib/python3.6/dist-packages (from ipywidgets->jupyter<2.0.0,>=1.0.0->chartify) (4.4.0)\n",
            "Requirement already satisfied: widgetsnbextension~=3.4.0 in /usr/local/lib/python3.6/dist-packages (from ipywidgets->jupyter<2.0.0,>=1.0.0->chartify) (3.4.2)\n",
            "Requirement already satisfied: bleach in /usr/local/lib/python3.6/dist-packages (from nbconvert->jupyter<2.0.0,>=1.0.0->chartify) (3.1.0)\n",
            "Requirement already satisfied: pandocfilters>=1.4.1 in /usr/local/lib/python3.6/dist-packages (from nbconvert->jupyter<2.0.0,>=1.0.0->chartify) (1.4.2)\n",
            "Requirement already satisfied: testpath in /usr/local/lib/python3.6/dist-packages (from nbconvert->jupyter<2.0.0,>=1.0.0->chartify) (0.4.2)\n",
            "Requirement already satisfied: jupyter-core in /usr/local/lib/python3.6/dist-packages (from nbconvert->jupyter<2.0.0,>=1.0.0->chartify) (4.4.0)\n",
            "Requirement already satisfied: defusedxml in /usr/local/lib/python3.6/dist-packages (from nbconvert->jupyter<2.0.0,>=1.0.0->chartify) (0.6.0)\n",
            "Requirement already satisfied: pygments in /usr/local/lib/python3.6/dist-packages (from nbconvert->jupyter<2.0.0,>=1.0.0->chartify) (2.1.3)\n",
            "Requirement already satisfied: entrypoints>=0.2.2 in /usr/local/lib/python3.6/dist-packages (from nbconvert->jupyter<2.0.0,>=1.0.0->chartify) (0.3)\n",
            "Requirement already satisfied: mistune>=0.8.1 in /usr/local/lib/python3.6/dist-packages (from nbconvert->jupyter<2.0.0,>=1.0.0->chartify) (0.8.4)\n",
            "Requirement already satisfied: ipython-genutils in /usr/local/lib/python3.6/dist-packages (from notebook->jupyter<2.0.0,>=1.0.0->chartify) (0.2.0)\n",
            "Requirement already satisfied: jupyter-client in /usr/local/lib/python3.6/dist-packages (from notebook->jupyter<2.0.0,>=1.0.0->chartify) (5.2.4)\n",
            "Requirement already satisfied: terminado>=0.3.3; sys_platform != \"win32\" in /usr/local/lib/python3.6/dist-packages (from notebook->jupyter<2.0.0,>=1.0.0->chartify) (0.8.2)\n",
            "Requirement already satisfied: prompt-toolkit<2.1.0,>=2.0.0 in /usr/local/lib/python3.6/dist-packages (from jupyter-console->jupyter<2.0.0,>=1.0.0->chartify) (2.0.9)\n",
            "Requirement already satisfied: decorator in /usr/local/lib/python3.6/dist-packages (from ipython>=4.0.0; python_version >= \"3.3\"->ipywidgets->jupyter<2.0.0,>=1.0.0->chartify) (4.4.0)\n",
            "Requirement already satisfied: setuptools>=18.5 in /usr/local/lib/python3.6/dist-packages (from ipython>=4.0.0; python_version >= \"3.3\"->ipywidgets->jupyter<2.0.0,>=1.0.0->chartify) (41.0.1)\n",
            "Requirement already satisfied: pickleshare in /usr/local/lib/python3.6/dist-packages (from ipython>=4.0.0; python_version >= \"3.3\"->ipywidgets->jupyter<2.0.0,>=1.0.0->chartify) (0.7.5)\n",
            "Requirement already satisfied: simplegeneric>0.8 in /usr/local/lib/python3.6/dist-packages (from ipython>=4.0.0; python_version >= \"3.3\"->ipywidgets->jupyter<2.0.0,>=1.0.0->chartify) (0.8.1)\n",
            "Requirement already satisfied: pexpect; sys_platform != \"win32\" in /usr/local/lib/python3.6/dist-packages (from ipython>=4.0.0; python_version >= \"3.3\"->ipywidgets->jupyter<2.0.0,>=1.0.0->chartify) (4.7.0)\n",
            "Requirement already satisfied: jsonschema!=2.5.0,>=2.4 in /usr/local/lib/python3.6/dist-packages (from nbformat>=4.2.0->ipywidgets->jupyter<2.0.0,>=1.0.0->chartify) (2.6.0)\n",
            "Requirement already satisfied: webencodings in /usr/local/lib/python3.6/dist-packages (from bleach->nbconvert->jupyter<2.0.0,>=1.0.0->chartify) (0.5.1)\n",
            "Requirement already satisfied: pyzmq>=13 in /usr/local/lib/python3.6/dist-packages (from jupyter-client->notebook->jupyter<2.0.0,>=1.0.0->chartify) (17.0.0)\n",
            "Requirement already satisfied: ptyprocess; os_name != \"nt\" in /usr/local/lib/python3.6/dist-packages (from terminado>=0.3.3; sys_platform != \"win32\"->notebook->jupyter<2.0.0,>=1.0.0->chartify) (0.6.0)\n",
            "Requirement already satisfied: wcwidth in /usr/local/lib/python3.6/dist-packages (from prompt-toolkit<2.1.0,>=2.0.0->jupyter-console->jupyter<2.0.0,>=1.0.0->chartify) (0.1.7)\n"
          ],
          "name": "stdout"
        }
      ]
    },
    {
      "cell_type": "code",
      "metadata": {
        "id": "aa1ZWDK6FD-3",
        "colab_type": "code",
        "colab": {}
      },
      "source": [
        "import pandas as pd\n",
        "import chartify\n",
        "import numpy as np\n",
        "import seaborn as sns\n",
        "import matplotlib.pyplot as plt\n",
        "import matplotlib.animation as animation\n",
        "%matplotlib inline"
      ],
      "execution_count": 0,
      "outputs": []
    },
    {
      "cell_type": "code",
      "metadata": {
        "id": "445SVfg0N5pL",
        "colab_type": "code",
        "colab": {}
      },
      "source": [
        "#importando os dados para o Colab\n",
        "url = \"https://raw.githubusercontent.com/lorransr/CAT/master/ACT-uf.csv\""
      ],
      "execution_count": 0,
      "outputs": []
    },
    {
      "cell_type": "code",
      "metadata": {
        "id": "to53TQN6FR0Z",
        "colab_type": "code",
        "colab": {}
      },
      "source": [
        "#Salvando o dataframe\n",
        "df_uf = pd.read_csv(url, sep=\",\", encoding = \"latin-1\")"
      ],
      "execution_count": 0,
      "outputs": []
    },
    {
      "cell_type": "code",
      "metadata": {
        "id": "71H5ZeK2FgCb",
        "colab_type": "code",
        "outputId": "7b248cb8-9c85-4876-ae21-4d74d0818497",
        "colab": {
          "base_uri": "https://localhost:8080/",
          "height": 204
        }
      },
      "source": [
        "#renomeando as colunas\n",
        "df_uf.columns = ['ano','estado','motivo/situação','qtd_acidentes']\n",
        "df_uf.head()"
      ],
      "execution_count": 397,
      "outputs": [
        {
          "output_type": "execute_result",
          "data": {
            "text/html": [
              "<div>\n",
              "<style scoped>\n",
              "    .dataframe tbody tr th:only-of-type {\n",
              "        vertical-align: middle;\n",
              "    }\n",
              "\n",
              "    .dataframe tbody tr th {\n",
              "        vertical-align: top;\n",
              "    }\n",
              "\n",
              "    .dataframe thead th {\n",
              "        text-align: right;\n",
              "    }\n",
              "</style>\n",
              "<table border=\"1\" class=\"dataframe\">\n",
              "  <thead>\n",
              "    <tr style=\"text-align: right;\">\n",
              "      <th></th>\n",
              "      <th>ano</th>\n",
              "      <th>estado</th>\n",
              "      <th>motivo/situação</th>\n",
              "      <th>qtd_acidentes</th>\n",
              "    </tr>\n",
              "  </thead>\n",
              "  <tbody>\n",
              "    <tr>\n",
              "      <th>0</th>\n",
              "      <td>1988</td>\n",
              "      <td>Rondônia</td>\n",
              "      <td>Típico-Com Cat</td>\n",
              "      <td>592.0</td>\n",
              "    </tr>\n",
              "    <tr>\n",
              "      <th>1</th>\n",
              "      <td>1988</td>\n",
              "      <td>Acre</td>\n",
              "      <td>Típico-Com Cat</td>\n",
              "      <td>115.0</td>\n",
              "    </tr>\n",
              "    <tr>\n",
              "      <th>2</th>\n",
              "      <td>1988</td>\n",
              "      <td>Amazonas</td>\n",
              "      <td>Típico-Com Cat</td>\n",
              "      <td>5173.0</td>\n",
              "    </tr>\n",
              "    <tr>\n",
              "      <th>3</th>\n",
              "      <td>1988</td>\n",
              "      <td>Pará</td>\n",
              "      <td>Típico-Com Cat</td>\n",
              "      <td>12172.0</td>\n",
              "    </tr>\n",
              "    <tr>\n",
              "      <th>4</th>\n",
              "      <td>1988</td>\n",
              "      <td>Maranhão</td>\n",
              "      <td>Típico-Com Cat</td>\n",
              "      <td>5916.0</td>\n",
              "    </tr>\n",
              "  </tbody>\n",
              "</table>\n",
              "</div>"
            ],
            "text/plain": [
              "    ano    estado motivo/situação  qtd_acidentes\n",
              "0  1988  Rondônia  Típico-Com Cat          592.0\n",
              "1  1988      Acre  Típico-Com Cat          115.0\n",
              "2  1988  Amazonas  Típico-Com Cat         5173.0\n",
              "3  1988      Pará  Típico-Com Cat        12172.0\n",
              "4  1988  Maranhão  Típico-Com Cat         5916.0"
            ]
          },
          "metadata": {
            "tags": []
          },
          "execution_count": 397
        }
      ]
    },
    {
      "cell_type": "code",
      "metadata": {
        "id": "JCUh18iNPweK",
        "colab_type": "code",
        "outputId": "89f2cdb1-ba37-46f1-b36b-659bd8e50cc0",
        "colab": {
          "base_uri": "https://localhost:8080/",
          "height": 102
        }
      },
      "source": [
        "#Contando a quantidade de valores nulos\n",
        "df_uf.isna().sum()"
      ],
      "execution_count": 398,
      "outputs": [
        {
          "output_type": "execute_result",
          "data": {
            "text/plain": [
              "ano                0\n",
              "estado             0\n",
              "motivo/situação    0\n",
              "qtd_acidentes      1\n",
              "dtype: int64"
            ]
          },
          "metadata": {
            "tags": []
          },
          "execution_count": 398
        }
      ]
    },
    {
      "cell_type": "markdown",
      "metadata": {
        "id": "7v89eeZqyR4c",
        "colab_type": "text"
      },
      "source": [
        "Uma vez que existe apenas uma linha, em 2893 registros, contendo valores nulos, ela será descartada"
      ]
    },
    {
      "cell_type": "code",
      "metadata": {
        "id": "8cOiVet8IxUO",
        "colab_type": "code",
        "colab": {}
      },
      "source": [
        "#excluindo valores nulos\n",
        "df_uf.dropna(inplace=True) "
      ],
      "execution_count": 0,
      "outputs": []
    },
    {
      "cell_type": "markdown",
      "metadata": {
        "id": "2liqDnJRQoVn",
        "colab_type": "text"
      },
      "source": [
        "Para poder ter uma ideia da distribuição dos acidentes ao redor do pais é preciso primeiro vincular os estados na base de dados a uma latitude e longitude. A partir desse repositório no GitHub, foi possivel encontrar uma base consistente com algumas informações adicionais a respeito dos estados:https://github.com/kelvins/Municipios-Brasileiros/"
      ]
    },
    {
      "cell_type": "code",
      "metadata": {
        "id": "xe5DuY_EGTxj",
        "colab_type": "code",
        "colab": {}
      },
      "source": [
        "url = \"https://raw.githubusercontent.com/lorransr/CAT/master/brasil.csv\"\n",
        "#importando dataframe com lat e lon\n",
        "dim_uf = pd.read_csv(url, sep=\",\")"
      ],
      "execution_count": 0,
      "outputs": []
    },
    {
      "cell_type": "code",
      "metadata": {
        "id": "z1Z523JbH_Bk",
        "colab_type": "code",
        "outputId": "62bd0b4d-4c6b-463e-f6e7-ed1ca28743d2",
        "colab": {
          "base_uri": "https://localhost:8080/",
          "height": 204
        }
      },
      "source": [
        "dim_uf.head()"
      ],
      "execution_count": 401,
      "outputs": [
        {
          "output_type": "execute_result",
          "data": {
            "text/html": [
              "<div>\n",
              "<style scoped>\n",
              "    .dataframe tbody tr th:only-of-type {\n",
              "        vertical-align: middle;\n",
              "    }\n",
              "\n",
              "    .dataframe tbody tr th {\n",
              "        vertical-align: top;\n",
              "    }\n",
              "\n",
              "    .dataframe thead th {\n",
              "        text-align: right;\n",
              "    }\n",
              "</style>\n",
              "<table border=\"1\" class=\"dataframe\">\n",
              "  <thead>\n",
              "    <tr style=\"text-align: right;\">\n",
              "      <th></th>\n",
              "      <th>ibge</th>\n",
              "      <th>municipio</th>\n",
              "      <th>latitude</th>\n",
              "      <th>longitude</th>\n",
              "      <th>cod_estado</th>\n",
              "      <th>estado</th>\n",
              "      <th>uf</th>\n",
              "      <th>regiao</th>\n",
              "      <th>capital</th>\n",
              "    </tr>\n",
              "  </thead>\n",
              "  <tbody>\n",
              "    <tr>\n",
              "      <th>0</th>\n",
              "      <td>520005</td>\n",
              "      <td>Abadia de Goiás</td>\n",
              "      <td>-16.75730</td>\n",
              "      <td>-49.4412</td>\n",
              "      <td>52</td>\n",
              "      <td>Goiás</td>\n",
              "      <td>GO</td>\n",
              "      <td>Centro-Oeste</td>\n",
              "      <td>0</td>\n",
              "    </tr>\n",
              "    <tr>\n",
              "      <th>1</th>\n",
              "      <td>310010</td>\n",
              "      <td>Abadia dos Dourados</td>\n",
              "      <td>-18.48310</td>\n",
              "      <td>-47.3916</td>\n",
              "      <td>31</td>\n",
              "      <td>Minas Gerais</td>\n",
              "      <td>MG</td>\n",
              "      <td>Sudeste</td>\n",
              "      <td>0</td>\n",
              "    </tr>\n",
              "    <tr>\n",
              "      <th>2</th>\n",
              "      <td>520010</td>\n",
              "      <td>Abadiânia</td>\n",
              "      <td>-16.19700</td>\n",
              "      <td>-48.7057</td>\n",
              "      <td>52</td>\n",
              "      <td>Goiás</td>\n",
              "      <td>GO</td>\n",
              "      <td>Centro-Oeste</td>\n",
              "      <td>0</td>\n",
              "    </tr>\n",
              "    <tr>\n",
              "      <th>3</th>\n",
              "      <td>310020</td>\n",
              "      <td>Abaeté</td>\n",
              "      <td>-19.15510</td>\n",
              "      <td>-45.4444</td>\n",
              "      <td>31</td>\n",
              "      <td>Minas Gerais</td>\n",
              "      <td>MG</td>\n",
              "      <td>Sudeste</td>\n",
              "      <td>0</td>\n",
              "    </tr>\n",
              "    <tr>\n",
              "      <th>4</th>\n",
              "      <td>150010</td>\n",
              "      <td>Abaetetuba</td>\n",
              "      <td>-1.72183</td>\n",
              "      <td>-48.8788</td>\n",
              "      <td>15</td>\n",
              "      <td>Pará</td>\n",
              "      <td>PA</td>\n",
              "      <td>Norte</td>\n",
              "      <td>0</td>\n",
              "    </tr>\n",
              "  </tbody>\n",
              "</table>\n",
              "</div>"
            ],
            "text/plain": [
              "     ibge            municipio  latitude  longitude  cod_estado        estado  \\\n",
              "0  520005      Abadia de Goiás -16.75730   -49.4412          52         Goiás   \n",
              "1  310010  Abadia dos Dourados -18.48310   -47.3916          31  Minas Gerais   \n",
              "2  520010            Abadiânia -16.19700   -48.7057          52         Goiás   \n",
              "3  310020               Abaeté -19.15510   -45.4444          31  Minas Gerais   \n",
              "4  150010           Abaetetuba  -1.72183   -48.8788          15          Pará   \n",
              "\n",
              "   uf        regiao  capital  \n",
              "0  GO  Centro-Oeste        0  \n",
              "1  MG       Sudeste        0  \n",
              "2  GO  Centro-Oeste        0  \n",
              "3  MG       Sudeste        0  \n",
              "4  PA         Norte        0  "
            ]
          },
          "metadata": {
            "tags": []
          },
          "execution_count": 401
        }
      ]
    },
    {
      "cell_type": "code",
      "metadata": {
        "id": "JqxDpVFmTaQ5",
        "colab_type": "code",
        "outputId": "8ce889b1-55e8-4ee5-9146-7eedf28c29e4",
        "colab": {
          "base_uri": "https://localhost:8080/",
          "height": 204
        }
      },
      "source": [
        "#selecionando as colunas que firão no df\n",
        "selected_columns=['latitude', 'longitude', 'cod_estado', 'estado',\n",
        "       'uf', 'regiao', 'capital']\n",
        "dim_uf = dim_uf[selected_columns]\n",
        "#selecionando apenas as capitais\n",
        "dim_uf = dim_uf[dim_uf[\"capital\"]==1]\n",
        "#removendo duplicadas\n",
        "dim_uf.drop_duplicates(subset = \"cod_estado\",inplace=True)\n",
        "dim_uf.drop(\"capital\",axis=1,inplace=True)\n",
        "dim_uf.head()"
      ],
      "execution_count": 402,
      "outputs": [
        {
          "output_type": "execute_result",
          "data": {
            "text/html": [
              "<div>\n",
              "<style scoped>\n",
              "    .dataframe tbody tr th:only-of-type {\n",
              "        vertical-align: middle;\n",
              "    }\n",
              "\n",
              "    .dataframe tbody tr th {\n",
              "        vertical-align: top;\n",
              "    }\n",
              "\n",
              "    .dataframe thead th {\n",
              "        text-align: right;\n",
              "    }\n",
              "</style>\n",
              "<table border=\"1\" class=\"dataframe\">\n",
              "  <thead>\n",
              "    <tr style=\"text-align: right;\">\n",
              "      <th></th>\n",
              "      <th>latitude</th>\n",
              "      <th>longitude</th>\n",
              "      <th>cod_estado</th>\n",
              "      <th>estado</th>\n",
              "      <th>uf</th>\n",
              "      <th>regiao</th>\n",
              "    </tr>\n",
              "  </thead>\n",
              "  <tbody>\n",
              "    <tr>\n",
              "      <th>294</th>\n",
              "      <td>-10.90910</td>\n",
              "      <td>-37.0677</td>\n",
              "      <td>28</td>\n",
              "      <td>Sergipe</td>\n",
              "      <td>SE</td>\n",
              "      <td>Nordeste</td>\n",
              "    </tr>\n",
              "    <tr>\n",
              "      <th>580</th>\n",
              "      <td>-1.45540</td>\n",
              "      <td>-48.4898</td>\n",
              "      <td>15</td>\n",
              "      <td>Pará</td>\n",
              "      <td>PA</td>\n",
              "      <td>Norte</td>\n",
              "    </tr>\n",
              "    <tr>\n",
              "      <th>592</th>\n",
              "      <td>-19.91020</td>\n",
              "      <td>-43.9266</td>\n",
              "      <td>31</td>\n",
              "      <td>Minas Gerais</td>\n",
              "      <td>MG</td>\n",
              "      <td>Sudeste</td>\n",
              "    </tr>\n",
              "    <tr>\n",
              "      <th>642</th>\n",
              "      <td>2.82384</td>\n",
              "      <td>-60.6753</td>\n",
              "      <td>14</td>\n",
              "      <td>Roraima</td>\n",
              "      <td>RR</td>\n",
              "      <td>Norte</td>\n",
              "    </tr>\n",
              "    <tr>\n",
              "      <th>755</th>\n",
              "      <td>-15.77950</td>\n",
              "      <td>-47.9297</td>\n",
              "      <td>53</td>\n",
              "      <td>Distrito Federal</td>\n",
              "      <td>DF</td>\n",
              "      <td>Centro-Oeste</td>\n",
              "    </tr>\n",
              "  </tbody>\n",
              "</table>\n",
              "</div>"
            ],
            "text/plain": [
              "     latitude  longitude  cod_estado            estado  uf        regiao\n",
              "294 -10.90910   -37.0677          28           Sergipe  SE      Nordeste\n",
              "580  -1.45540   -48.4898          15              Pará  PA         Norte\n",
              "592 -19.91020   -43.9266          31      Minas Gerais  MG       Sudeste\n",
              "642   2.82384   -60.6753          14           Roraima  RR         Norte\n",
              "755 -15.77950   -47.9297          53  Distrito Federal  DF  Centro-Oeste"
            ]
          },
          "metadata": {
            "tags": []
          },
          "execution_count": 402
        }
      ]
    },
    {
      "cell_type": "code",
      "metadata": {
        "id": "9fGTOePRQfDQ",
        "colab_type": "code",
        "outputId": "27a9423b-a00d-4474-81a2-17b59b6f9d09",
        "colab": {
          "base_uri": "https://localhost:8080/",
          "height": 204
        }
      },
      "source": [
        "#Juntando os dataframes\n",
        "df_uf = pd.merge(df_uf,dim_uf, how =\"inner\", on=\"estado\")\n",
        "df_uf.head()"
      ],
      "execution_count": 403,
      "outputs": [
        {
          "output_type": "execute_result",
          "data": {
            "text/html": [
              "<div>\n",
              "<style scoped>\n",
              "    .dataframe tbody tr th:only-of-type {\n",
              "        vertical-align: middle;\n",
              "    }\n",
              "\n",
              "    .dataframe tbody tr th {\n",
              "        vertical-align: top;\n",
              "    }\n",
              "\n",
              "    .dataframe thead th {\n",
              "        text-align: right;\n",
              "    }\n",
              "</style>\n",
              "<table border=\"1\" class=\"dataframe\">\n",
              "  <thead>\n",
              "    <tr style=\"text-align: right;\">\n",
              "      <th></th>\n",
              "      <th>ano</th>\n",
              "      <th>estado</th>\n",
              "      <th>motivo/situação</th>\n",
              "      <th>qtd_acidentes</th>\n",
              "      <th>latitude</th>\n",
              "      <th>longitude</th>\n",
              "      <th>cod_estado</th>\n",
              "      <th>uf</th>\n",
              "      <th>regiao</th>\n",
              "    </tr>\n",
              "  </thead>\n",
              "  <tbody>\n",
              "    <tr>\n",
              "      <th>0</th>\n",
              "      <td>1988</td>\n",
              "      <td>Rondônia</td>\n",
              "      <td>Típico-Com Cat</td>\n",
              "      <td>592.0</td>\n",
              "      <td>-8.76077</td>\n",
              "      <td>-63.8999</td>\n",
              "      <td>11</td>\n",
              "      <td>RO</td>\n",
              "      <td>Norte</td>\n",
              "    </tr>\n",
              "    <tr>\n",
              "      <th>1</th>\n",
              "      <td>1988</td>\n",
              "      <td>Rondônia</td>\n",
              "      <td>Trajeto-Com Cat</td>\n",
              "      <td>78.0</td>\n",
              "      <td>-8.76077</td>\n",
              "      <td>-63.8999</td>\n",
              "      <td>11</td>\n",
              "      <td>RO</td>\n",
              "      <td>Norte</td>\n",
              "    </tr>\n",
              "    <tr>\n",
              "      <th>2</th>\n",
              "      <td>1988</td>\n",
              "      <td>Rondônia</td>\n",
              "      <td>Doença do Trabalho-Com Cat</td>\n",
              "      <td>9.0</td>\n",
              "      <td>-8.76077</td>\n",
              "      <td>-63.8999</td>\n",
              "      <td>11</td>\n",
              "      <td>RO</td>\n",
              "      <td>Norte</td>\n",
              "    </tr>\n",
              "    <tr>\n",
              "      <th>3</th>\n",
              "      <td>1989</td>\n",
              "      <td>Rondônia</td>\n",
              "      <td>Típico-Com Cat</td>\n",
              "      <td>558.0</td>\n",
              "      <td>-8.76077</td>\n",
              "      <td>-63.8999</td>\n",
              "      <td>11</td>\n",
              "      <td>RO</td>\n",
              "      <td>Norte</td>\n",
              "    </tr>\n",
              "    <tr>\n",
              "      <th>4</th>\n",
              "      <td>1989</td>\n",
              "      <td>Rondônia</td>\n",
              "      <td>Trajeto-Com Cat</td>\n",
              "      <td>52.0</td>\n",
              "      <td>-8.76077</td>\n",
              "      <td>-63.8999</td>\n",
              "      <td>11</td>\n",
              "      <td>RO</td>\n",
              "      <td>Norte</td>\n",
              "    </tr>\n",
              "  </tbody>\n",
              "</table>\n",
              "</div>"
            ],
            "text/plain": [
              "    ano    estado             motivo/situação  qtd_acidentes  latitude  \\\n",
              "0  1988  Rondônia              Típico-Com Cat          592.0  -8.76077   \n",
              "1  1988  Rondônia             Trajeto-Com Cat           78.0  -8.76077   \n",
              "2  1988  Rondônia  Doença do Trabalho-Com Cat            9.0  -8.76077   \n",
              "3  1989  Rondônia              Típico-Com Cat          558.0  -8.76077   \n",
              "4  1989  Rondônia             Trajeto-Com Cat           52.0  -8.76077   \n",
              "\n",
              "   longitude  cod_estado  uf regiao  \n",
              "0   -63.8999          11  RO  Norte  \n",
              "1   -63.8999          11  RO  Norte  \n",
              "2   -63.8999          11  RO  Norte  \n",
              "3   -63.8999          11  RO  Norte  \n",
              "4   -63.8999          11  RO  Norte  "
            ]
          },
          "metadata": {
            "tags": []
          },
          "execution_count": 403
        }
      ]
    },
    {
      "cell_type": "markdown",
      "metadata": {
        "id": "3880mwmX0Scg",
        "colab_type": "text"
      },
      "source": [
        "Foi necessário pegar apenas a localização das capitais pois dessa forma o mapa teria latitudes e longitudes que fariam mais sentido geograficamente. Do contrário os acidentes do RJ, poderiam estar vinculados a uma latitude e longitude na fronteira do estado, o que dificultaria a visualização."
      ]
    },
    {
      "cell_type": "code",
      "metadata": {
        "id": "mSDHPfh5aFbM",
        "colab_type": "code",
        "outputId": "c9d5f2fb-fce1-4aa2-9d84-c74c566be813",
        "colab": {
          "base_uri": "https://localhost:8080/",
          "height": 187
        }
      },
      "source": [
        "#lista dos tipos de dados\n",
        "df_uf.dtypes"
      ],
      "execution_count": 404,
      "outputs": [
        {
          "output_type": "execute_result",
          "data": {
            "text/plain": [
              "ano                 object\n",
              "estado              object\n",
              "motivo/situação     object\n",
              "qtd_acidentes      float64\n",
              "latitude           float64\n",
              "longitude          float64\n",
              "cod_estado           int64\n",
              "uf                  object\n",
              "regiao              object\n",
              "dtype: object"
            ]
          },
          "metadata": {
            "tags": []
          },
          "execution_count": 404
        }
      ]
    },
    {
      "cell_type": "markdown",
      "metadata": {
        "id": "3fKxqUQ-1Ai4",
        "colab_type": "text"
      },
      "source": [
        "o campo ano deve ser alterado para representar um número inteiro"
      ]
    },
    {
      "cell_type": "code",
      "metadata": {
        "id": "3M0n6dTsaFig",
        "colab_type": "code",
        "colab": {}
      },
      "source": [
        "df_uf.ano = df_uf.ano.astype('int64')"
      ],
      "execution_count": 0,
      "outputs": []
    },
    {
      "cell_type": "code",
      "metadata": {
        "id": "oXuZHfkA5ist",
        "colab_type": "code",
        "colab": {}
      },
      "source": [
        "df_uf = df_uf[df_uf[\"ano\"] >= 2001 ]"
      ],
      "execution_count": 0,
      "outputs": []
    },
    {
      "cell_type": "markdown",
      "metadata": {
        "id": "HzxBBN6Q45EC",
        "colab_type": "text"
      },
      "source": [
        "Uma vez que a proposta é analisar os anos mais recentes, foi acordado apenas analisar de 2001 até 2016."
      ]
    },
    {
      "cell_type": "code",
      "metadata": {
        "id": "wbVG4iSM_7K0",
        "colab_type": "code",
        "colab": {
          "base_uri": "https://localhost:8080/",
          "height": 204
        },
        "outputId": "ca550226-a64e-4307-97bb-d2db7001568e"
      },
      "source": [
        "url = \"https://raw.githubusercontent.com/lorransr/CAT/master/estimativa_populacao.csv\"\n",
        "dim_pop = pd.read_csv(url, sep=\";\",skiprows=1)\n",
        "dim_pop.head()"
      ],
      "execution_count": 407,
      "outputs": [
        {
          "output_type": "execute_result",
          "data": {
            "text/html": [
              "<div>\n",
              "<style scoped>\n",
              "    .dataframe tbody tr th:only-of-type {\n",
              "        vertical-align: middle;\n",
              "    }\n",
              "\n",
              "    .dataframe tbody tr th {\n",
              "        vertical-align: top;\n",
              "    }\n",
              "\n",
              "    .dataframe thead th {\n",
              "        text-align: right;\n",
              "    }\n",
              "</style>\n",
              "<table border=\"1\" class=\"dataframe\">\n",
              "  <thead>\n",
              "    <tr style=\"text-align: right;\">\n",
              "      <th></th>\n",
              "      <th>Unidade da Federação</th>\n",
              "      <th>Ano</th>\n",
              "      <th>Variável</th>\n",
              "      <th>Unnamed: 3</th>\n",
              "    </tr>\n",
              "  </thead>\n",
              "  <tbody>\n",
              "    <tr>\n",
              "      <th>0</th>\n",
              "      <td>Rondônia</td>\n",
              "      <td>2001</td>\n",
              "      <td>População residente estimada (Pessoas)</td>\n",
              "      <td>1407886.0</td>\n",
              "    </tr>\n",
              "    <tr>\n",
              "      <th>1</th>\n",
              "      <td>Rondônia</td>\n",
              "      <td>2002</td>\n",
              "      <td>População residente estimada (Pessoas)</td>\n",
              "      <td>1431777.0</td>\n",
              "    </tr>\n",
              "    <tr>\n",
              "      <th>2</th>\n",
              "      <td>Rondônia</td>\n",
              "      <td>2003</td>\n",
              "      <td>População residente estimada (Pessoas)</td>\n",
              "      <td>1455907.0</td>\n",
              "    </tr>\n",
              "    <tr>\n",
              "      <th>3</th>\n",
              "      <td>Rondônia</td>\n",
              "      <td>2004</td>\n",
              "      <td>População residente estimada (Pessoas)</td>\n",
              "      <td>1562085.0</td>\n",
              "    </tr>\n",
              "    <tr>\n",
              "      <th>4</th>\n",
              "      <td>Rondônia</td>\n",
              "      <td>2005</td>\n",
              "      <td>População residente estimada (Pessoas)</td>\n",
              "      <td>1534594.0</td>\n",
              "    </tr>\n",
              "  </tbody>\n",
              "</table>\n",
              "</div>"
            ],
            "text/plain": [
              "  Unidade da Federação   Ano                                Variável  \\\n",
              "0             Rondônia  2001  População residente estimada (Pessoas)   \n",
              "1             Rondônia  2002  População residente estimada (Pessoas)   \n",
              "2             Rondônia  2003  População residente estimada (Pessoas)   \n",
              "3             Rondônia  2004  População residente estimada (Pessoas)   \n",
              "4             Rondônia  2005  População residente estimada (Pessoas)   \n",
              "\n",
              "   Unnamed: 3  \n",
              "0   1407886.0  \n",
              "1   1431777.0  \n",
              "2   1455907.0  \n",
              "3   1562085.0  \n",
              "4   1534594.0  "
            ]
          },
          "metadata": {
            "tags": []
          },
          "execution_count": 407
        }
      ]
    },
    {
      "cell_type": "code",
      "metadata": {
        "id": "t6QLi32NBROR",
        "colab_type": "code",
        "colab": {}
      },
      "source": [
        "dim_pop.columns=[\"estado\",\"ano\",\"tipo\",\"populacao\"]"
      ],
      "execution_count": 0,
      "outputs": []
    },
    {
      "cell_type": "code",
      "metadata": {
        "id": "UtV0uWAABu7K",
        "colab_type": "code",
        "colab": {}
      },
      "source": [
        "dim_pop = dim_pop[dim_pop.populacao.notnull()]"
      ],
      "execution_count": 0,
      "outputs": []
    },
    {
      "cell_type": "code",
      "metadata": {
        "id": "rP8bxWNkGIBG",
        "colab_type": "code",
        "colab": {}
      },
      "source": [
        "dim_pop.ano=dim_pop.ano.astype(\"int64\")"
      ],
      "execution_count": 0,
      "outputs": []
    },
    {
      "cell_type": "code",
      "metadata": {
        "id": "v1SCINrOGcD3",
        "colab_type": "code",
        "colab": {}
      },
      "source": [
        "dim_pop.drop(\"tipo\",axis = 1,inplace=True)"
      ],
      "execution_count": 0,
      "outputs": []
    },
    {
      "cell_type": "code",
      "metadata": {
        "id": "-sD_jWAKCIVs",
        "colab_type": "code",
        "colab": {
          "base_uri": "https://localhost:8080/",
          "height": 85
        },
        "outputId": "89a1cdc5-6357-41d5-8e89-6dcdbb32f2d9"
      },
      "source": [
        "dim_pop.isna().sum()"
      ],
      "execution_count": 412,
      "outputs": [
        {
          "output_type": "execute_result",
          "data": {
            "text/plain": [
              "estado       0\n",
              "ano          0\n",
              "populacao    0\n",
              "dtype: int64"
            ]
          },
          "metadata": {
            "tags": []
          },
          "execution_count": 412
        }
      ]
    },
    {
      "cell_type": "code",
      "metadata": {
        "id": "fCNq7vV9Dd2y",
        "colab_type": "code",
        "colab": {}
      },
      "source": [
        "teste = df_uf.merge(dim_pop[[\"ano\",\"estado\",\"populacao\"]],\n",
        "                    on =[\"ano\",\"estado\"], how=\"left\") "
      ],
      "execution_count": 0,
      "outputs": []
    },
    {
      "cell_type": "code",
      "metadata": {
        "id": "RkLwkyZFPtKf",
        "colab_type": "code",
        "colab": {
          "base_uri": "https://localhost:8080/",
          "height": 979
        },
        "outputId": "f365b797-e3d1-4a73-8e4b-0593cd8291ab"
      },
      "source": [
        "df_uf.head(30)"
      ],
      "execution_count": 423,
      "outputs": [
        {
          "output_type": "execute_result",
          "data": {
            "text/html": [
              "<div>\n",
              "<style scoped>\n",
              "    .dataframe tbody tr th:only-of-type {\n",
              "        vertical-align: middle;\n",
              "    }\n",
              "\n",
              "    .dataframe tbody tr th {\n",
              "        vertical-align: top;\n",
              "    }\n",
              "\n",
              "    .dataframe thead th {\n",
              "        text-align: right;\n",
              "    }\n",
              "</style>\n",
              "<table border=\"1\" class=\"dataframe\">\n",
              "  <thead>\n",
              "    <tr style=\"text-align: right;\">\n",
              "      <th></th>\n",
              "      <th>ano</th>\n",
              "      <th>estado</th>\n",
              "      <th>motivo/situação</th>\n",
              "      <th>qtd_acidentes</th>\n",
              "      <th>latitude</th>\n",
              "      <th>longitude</th>\n",
              "      <th>cod_estado</th>\n",
              "      <th>uf</th>\n",
              "      <th>regiao</th>\n",
              "    </tr>\n",
              "  </thead>\n",
              "  <tbody>\n",
              "    <tr>\n",
              "      <th>39</th>\n",
              "      <td>2001</td>\n",
              "      <td>Rondônia</td>\n",
              "      <td>Típico-Com Cat</td>\n",
              "      <td>1559.0</td>\n",
              "      <td>-8.76077</td>\n",
              "      <td>-63.8999</td>\n",
              "      <td>11</td>\n",
              "      <td>RO</td>\n",
              "      <td>Norte</td>\n",
              "    </tr>\n",
              "    <tr>\n",
              "      <th>40</th>\n",
              "      <td>2001</td>\n",
              "      <td>Rondônia</td>\n",
              "      <td>Trajeto-Com Cat</td>\n",
              "      <td>262.0</td>\n",
              "      <td>-8.76077</td>\n",
              "      <td>-63.8999</td>\n",
              "      <td>11</td>\n",
              "      <td>RO</td>\n",
              "      <td>Norte</td>\n",
              "    </tr>\n",
              "    <tr>\n",
              "      <th>41</th>\n",
              "      <td>2001</td>\n",
              "      <td>Rondônia</td>\n",
              "      <td>Doença do Trabalho-Com Cat</td>\n",
              "      <td>32.0</td>\n",
              "      <td>-8.76077</td>\n",
              "      <td>-63.8999</td>\n",
              "      <td>11</td>\n",
              "      <td>RO</td>\n",
              "      <td>Norte</td>\n",
              "    </tr>\n",
              "    <tr>\n",
              "      <th>42</th>\n",
              "      <td>2002</td>\n",
              "      <td>Rondônia</td>\n",
              "      <td>Típico-Com Cat</td>\n",
              "      <td>1665.0</td>\n",
              "      <td>-8.76077</td>\n",
              "      <td>-63.8999</td>\n",
              "      <td>11</td>\n",
              "      <td>RO</td>\n",
              "      <td>Norte</td>\n",
              "    </tr>\n",
              "    <tr>\n",
              "      <th>43</th>\n",
              "      <td>2002</td>\n",
              "      <td>Rondônia</td>\n",
              "      <td>Trajeto-Com Cat</td>\n",
              "      <td>263.0</td>\n",
              "      <td>-8.76077</td>\n",
              "      <td>-63.8999</td>\n",
              "      <td>11</td>\n",
              "      <td>RO</td>\n",
              "      <td>Norte</td>\n",
              "    </tr>\n",
              "    <tr>\n",
              "      <th>44</th>\n",
              "      <td>2002</td>\n",
              "      <td>Rondônia</td>\n",
              "      <td>Doença do Trabalho-Com Cat</td>\n",
              "      <td>68.0</td>\n",
              "      <td>-8.76077</td>\n",
              "      <td>-63.8999</td>\n",
              "      <td>11</td>\n",
              "      <td>RO</td>\n",
              "      <td>Norte</td>\n",
              "    </tr>\n",
              "    <tr>\n",
              "      <th>45</th>\n",
              "      <td>2003</td>\n",
              "      <td>Rondônia</td>\n",
              "      <td>Típico-Com Cat</td>\n",
              "      <td>1718.0</td>\n",
              "      <td>-8.76077</td>\n",
              "      <td>-63.8999</td>\n",
              "      <td>11</td>\n",
              "      <td>RO</td>\n",
              "      <td>Norte</td>\n",
              "    </tr>\n",
              "    <tr>\n",
              "      <th>46</th>\n",
              "      <td>2003</td>\n",
              "      <td>Rondônia</td>\n",
              "      <td>Trajeto-Com Cat</td>\n",
              "      <td>288.0</td>\n",
              "      <td>-8.76077</td>\n",
              "      <td>-63.8999</td>\n",
              "      <td>11</td>\n",
              "      <td>RO</td>\n",
              "      <td>Norte</td>\n",
              "    </tr>\n",
              "    <tr>\n",
              "      <th>47</th>\n",
              "      <td>2003</td>\n",
              "      <td>Rondônia</td>\n",
              "      <td>Doença do Trabalho-Com Cat</td>\n",
              "      <td>74.0</td>\n",
              "      <td>-8.76077</td>\n",
              "      <td>-63.8999</td>\n",
              "      <td>11</td>\n",
              "      <td>RO</td>\n",
              "      <td>Norte</td>\n",
              "    </tr>\n",
              "    <tr>\n",
              "      <th>48</th>\n",
              "      <td>2004</td>\n",
              "      <td>Rondônia</td>\n",
              "      <td>Típico-Com Cat</td>\n",
              "      <td>1931.0</td>\n",
              "      <td>-8.76077</td>\n",
              "      <td>-63.8999</td>\n",
              "      <td>11</td>\n",
              "      <td>RO</td>\n",
              "      <td>Norte</td>\n",
              "    </tr>\n",
              "    <tr>\n",
              "      <th>49</th>\n",
              "      <td>2004</td>\n",
              "      <td>Rondônia</td>\n",
              "      <td>Trajeto-Com Cat</td>\n",
              "      <td>339.0</td>\n",
              "      <td>-8.76077</td>\n",
              "      <td>-63.8999</td>\n",
              "      <td>11</td>\n",
              "      <td>RO</td>\n",
              "      <td>Norte</td>\n",
              "    </tr>\n",
              "    <tr>\n",
              "      <th>50</th>\n",
              "      <td>2004</td>\n",
              "      <td>Rondônia</td>\n",
              "      <td>Doença do Trabalho-Com Cat</td>\n",
              "      <td>107.0</td>\n",
              "      <td>-8.76077</td>\n",
              "      <td>-63.8999</td>\n",
              "      <td>11</td>\n",
              "      <td>RO</td>\n",
              "      <td>Norte</td>\n",
              "    </tr>\n",
              "    <tr>\n",
              "      <th>51</th>\n",
              "      <td>2005</td>\n",
              "      <td>Rondônia</td>\n",
              "      <td>Típico-Com Cat</td>\n",
              "      <td>1965.0</td>\n",
              "      <td>-8.76077</td>\n",
              "      <td>-63.8999</td>\n",
              "      <td>11</td>\n",
              "      <td>RO</td>\n",
              "      <td>Norte</td>\n",
              "    </tr>\n",
              "    <tr>\n",
              "      <th>52</th>\n",
              "      <td>2005</td>\n",
              "      <td>Rondônia</td>\n",
              "      <td>Doença do Trabalho-Com Cat</td>\n",
              "      <td>169.0</td>\n",
              "      <td>-8.76077</td>\n",
              "      <td>-63.8999</td>\n",
              "      <td>11</td>\n",
              "      <td>RO</td>\n",
              "      <td>Norte</td>\n",
              "    </tr>\n",
              "    <tr>\n",
              "      <th>53</th>\n",
              "      <td>2005</td>\n",
              "      <td>Rondônia</td>\n",
              "      <td>Trajeto-Com Cat</td>\n",
              "      <td>392.0</td>\n",
              "      <td>-8.76077</td>\n",
              "      <td>-63.8999</td>\n",
              "      <td>11</td>\n",
              "      <td>RO</td>\n",
              "      <td>Norte</td>\n",
              "    </tr>\n",
              "    <tr>\n",
              "      <th>54</th>\n",
              "      <td>2006</td>\n",
              "      <td>Rondônia</td>\n",
              "      <td>Típico-Com Cat</td>\n",
              "      <td>1794.0</td>\n",
              "      <td>-8.76077</td>\n",
              "      <td>-63.8999</td>\n",
              "      <td>11</td>\n",
              "      <td>RO</td>\n",
              "      <td>Norte</td>\n",
              "    </tr>\n",
              "    <tr>\n",
              "      <th>55</th>\n",
              "      <td>2006</td>\n",
              "      <td>Rondônia</td>\n",
              "      <td>Doença do Trabalho-Com Cat</td>\n",
              "      <td>178.0</td>\n",
              "      <td>-8.76077</td>\n",
              "      <td>-63.8999</td>\n",
              "      <td>11</td>\n",
              "      <td>RO</td>\n",
              "      <td>Norte</td>\n",
              "    </tr>\n",
              "    <tr>\n",
              "      <th>56</th>\n",
              "      <td>2006</td>\n",
              "      <td>Rondônia</td>\n",
              "      <td>Trajeto-Com Cat</td>\n",
              "      <td>422.0</td>\n",
              "      <td>-8.76077</td>\n",
              "      <td>-63.8999</td>\n",
              "      <td>11</td>\n",
              "      <td>RO</td>\n",
              "      <td>Norte</td>\n",
              "    </tr>\n",
              "    <tr>\n",
              "      <th>57</th>\n",
              "      <td>2007</td>\n",
              "      <td>Rondônia</td>\n",
              "      <td>Típico-Com Cat</td>\n",
              "      <td>1723.0</td>\n",
              "      <td>-8.76077</td>\n",
              "      <td>-63.8999</td>\n",
              "      <td>11</td>\n",
              "      <td>RO</td>\n",
              "      <td>Norte</td>\n",
              "    </tr>\n",
              "    <tr>\n",
              "      <th>58</th>\n",
              "      <td>2007</td>\n",
              "      <td>Rondônia</td>\n",
              "      <td>Doença do Trabalho-Com Cat</td>\n",
              "      <td>140.0</td>\n",
              "      <td>-8.76077</td>\n",
              "      <td>-63.8999</td>\n",
              "      <td>11</td>\n",
              "      <td>RO</td>\n",
              "      <td>Norte</td>\n",
              "    </tr>\n",
              "    <tr>\n",
              "      <th>59</th>\n",
              "      <td>2007</td>\n",
              "      <td>Rondônia</td>\n",
              "      <td>Trajeto-Com Cat</td>\n",
              "      <td>455.0</td>\n",
              "      <td>-8.76077</td>\n",
              "      <td>-63.8999</td>\n",
              "      <td>11</td>\n",
              "      <td>RO</td>\n",
              "      <td>Norte</td>\n",
              "    </tr>\n",
              "    <tr>\n",
              "      <th>60</th>\n",
              "      <td>2007</td>\n",
              "      <td>Rondônia</td>\n",
              "      <td>Sem Cat</td>\n",
              "      <td>1577.0</td>\n",
              "      <td>-8.76077</td>\n",
              "      <td>-63.8999</td>\n",
              "      <td>11</td>\n",
              "      <td>RO</td>\n",
              "      <td>Norte</td>\n",
              "    </tr>\n",
              "    <tr>\n",
              "      <th>61</th>\n",
              "      <td>2007</td>\n",
              "      <td>Rondônia</td>\n",
              "      <td>Sem Cat</td>\n",
              "      <td>30.0</td>\n",
              "      <td>-8.76077</td>\n",
              "      <td>-63.8999</td>\n",
              "      <td>11</td>\n",
              "      <td>RO</td>\n",
              "      <td>Norte</td>\n",
              "    </tr>\n",
              "    <tr>\n",
              "      <th>62</th>\n",
              "      <td>2007</td>\n",
              "      <td>Rondônia</td>\n",
              "      <td>Sem Cat</td>\n",
              "      <td>3.0</td>\n",
              "      <td>-8.76077</td>\n",
              "      <td>-63.8999</td>\n",
              "      <td>11</td>\n",
              "      <td>RO</td>\n",
              "      <td>Norte</td>\n",
              "    </tr>\n",
              "    <tr>\n",
              "      <th>63</th>\n",
              "      <td>2008</td>\n",
              "      <td>Rondônia</td>\n",
              "      <td>Típico-Com Cat</td>\n",
              "      <td>2064.0</td>\n",
              "      <td>-8.76077</td>\n",
              "      <td>-63.8999</td>\n",
              "      <td>11</td>\n",
              "      <td>RO</td>\n",
              "      <td>Norte</td>\n",
              "    </tr>\n",
              "    <tr>\n",
              "      <th>64</th>\n",
              "      <td>2008</td>\n",
              "      <td>Rondônia</td>\n",
              "      <td>Doença do Trabalho-Com Cat</td>\n",
              "      <td>133.0</td>\n",
              "      <td>-8.76077</td>\n",
              "      <td>-63.8999</td>\n",
              "      <td>11</td>\n",
              "      <td>RO</td>\n",
              "      <td>Norte</td>\n",
              "    </tr>\n",
              "    <tr>\n",
              "      <th>65</th>\n",
              "      <td>2008</td>\n",
              "      <td>Rondônia</td>\n",
              "      <td>Trajeto-Com Cat</td>\n",
              "      <td>527.0</td>\n",
              "      <td>-8.76077</td>\n",
              "      <td>-63.8999</td>\n",
              "      <td>11</td>\n",
              "      <td>RO</td>\n",
              "      <td>Norte</td>\n",
              "    </tr>\n",
              "    <tr>\n",
              "      <th>66</th>\n",
              "      <td>2008</td>\n",
              "      <td>Rondônia</td>\n",
              "      <td>Sem Cat</td>\n",
              "      <td>1946.0</td>\n",
              "      <td>-8.76077</td>\n",
              "      <td>-63.8999</td>\n",
              "      <td>11</td>\n",
              "      <td>RO</td>\n",
              "      <td>Norte</td>\n",
              "    </tr>\n",
              "    <tr>\n",
              "      <th>67</th>\n",
              "      <td>2008</td>\n",
              "      <td>Rondônia</td>\n",
              "      <td>Sem Cat</td>\n",
              "      <td>44.0</td>\n",
              "      <td>-8.76077</td>\n",
              "      <td>-63.8999</td>\n",
              "      <td>11</td>\n",
              "      <td>RO</td>\n",
              "      <td>Norte</td>\n",
              "    </tr>\n",
              "    <tr>\n",
              "      <th>68</th>\n",
              "      <td>2008</td>\n",
              "      <td>Rondônia</td>\n",
              "      <td>Sem Cat</td>\n",
              "      <td>1.0</td>\n",
              "      <td>-8.76077</td>\n",
              "      <td>-63.8999</td>\n",
              "      <td>11</td>\n",
              "      <td>RO</td>\n",
              "      <td>Norte</td>\n",
              "    </tr>\n",
              "  </tbody>\n",
              "</table>\n",
              "</div>"
            ],
            "text/plain": [
              "     ano    estado             motivo/situação  qtd_acidentes  latitude  \\\n",
              "39  2001  Rondônia              Típico-Com Cat         1559.0  -8.76077   \n",
              "40  2001  Rondônia             Trajeto-Com Cat          262.0  -8.76077   \n",
              "41  2001  Rondônia  Doença do Trabalho-Com Cat           32.0  -8.76077   \n",
              "42  2002  Rondônia              Típico-Com Cat         1665.0  -8.76077   \n",
              "43  2002  Rondônia             Trajeto-Com Cat          263.0  -8.76077   \n",
              "44  2002  Rondônia  Doença do Trabalho-Com Cat           68.0  -8.76077   \n",
              "45  2003  Rondônia              Típico-Com Cat         1718.0  -8.76077   \n",
              "46  2003  Rondônia             Trajeto-Com Cat          288.0  -8.76077   \n",
              "47  2003  Rondônia  Doença do Trabalho-Com Cat           74.0  -8.76077   \n",
              "48  2004  Rondônia              Típico-Com Cat         1931.0  -8.76077   \n",
              "49  2004  Rondônia             Trajeto-Com Cat          339.0  -8.76077   \n",
              "50  2004  Rondônia  Doença do Trabalho-Com Cat          107.0  -8.76077   \n",
              "51  2005  Rondônia              Típico-Com Cat         1965.0  -8.76077   \n",
              "52  2005  Rondônia  Doença do Trabalho-Com Cat          169.0  -8.76077   \n",
              "53  2005  Rondônia             Trajeto-Com Cat          392.0  -8.76077   \n",
              "54  2006  Rondônia              Típico-Com Cat         1794.0  -8.76077   \n",
              "55  2006  Rondônia  Doença do Trabalho-Com Cat          178.0  -8.76077   \n",
              "56  2006  Rondônia             Trajeto-Com Cat          422.0  -8.76077   \n",
              "57  2007  Rondônia              Típico-Com Cat         1723.0  -8.76077   \n",
              "58  2007  Rondônia  Doença do Trabalho-Com Cat          140.0  -8.76077   \n",
              "59  2007  Rondônia             Trajeto-Com Cat          455.0  -8.76077   \n",
              "60  2007  Rondônia                     Sem Cat         1577.0  -8.76077   \n",
              "61  2007  Rondônia                     Sem Cat           30.0  -8.76077   \n",
              "62  2007  Rondônia                     Sem Cat            3.0  -8.76077   \n",
              "63  2008  Rondônia              Típico-Com Cat         2064.0  -8.76077   \n",
              "64  2008  Rondônia  Doença do Trabalho-Com Cat          133.0  -8.76077   \n",
              "65  2008  Rondônia             Trajeto-Com Cat          527.0  -8.76077   \n",
              "66  2008  Rondônia                     Sem Cat         1946.0  -8.76077   \n",
              "67  2008  Rondônia                     Sem Cat           44.0  -8.76077   \n",
              "68  2008  Rondônia                     Sem Cat            1.0  -8.76077   \n",
              "\n",
              "    longitude  cod_estado  uf regiao  \n",
              "39   -63.8999          11  RO  Norte  \n",
              "40   -63.8999          11  RO  Norte  \n",
              "41   -63.8999          11  RO  Norte  \n",
              "42   -63.8999          11  RO  Norte  \n",
              "43   -63.8999          11  RO  Norte  \n",
              "44   -63.8999          11  RO  Norte  \n",
              "45   -63.8999          11  RO  Norte  \n",
              "46   -63.8999          11  RO  Norte  \n",
              "47   -63.8999          11  RO  Norte  \n",
              "48   -63.8999          11  RO  Norte  \n",
              "49   -63.8999          11  RO  Norte  \n",
              "50   -63.8999          11  RO  Norte  \n",
              "51   -63.8999          11  RO  Norte  \n",
              "52   -63.8999          11  RO  Norte  \n",
              "53   -63.8999          11  RO  Norte  \n",
              "54   -63.8999          11  RO  Norte  \n",
              "55   -63.8999          11  RO  Norte  \n",
              "56   -63.8999          11  RO  Norte  \n",
              "57   -63.8999          11  RO  Norte  \n",
              "58   -63.8999          11  RO  Norte  \n",
              "59   -63.8999          11  RO  Norte  \n",
              "60   -63.8999          11  RO  Norte  \n",
              "61   -63.8999          11  RO  Norte  \n",
              "62   -63.8999          11  RO  Norte  \n",
              "63   -63.8999          11  RO  Norte  \n",
              "64   -63.8999          11  RO  Norte  \n",
              "65   -63.8999          11  RO  Norte  \n",
              "66   -63.8999          11  RO  Norte  \n",
              "67   -63.8999          11  RO  Norte  \n",
              "68   -63.8999          11  RO  Norte  "
            ]
          },
          "metadata": {
            "tags": []
          },
          "execution_count": 423
        }
      ]
    },
    {
      "cell_type": "code",
      "metadata": {
        "id": "x0xNCNh2RGyW",
        "colab_type": "code",
        "colab": {
          "base_uri": "https://localhost:8080/",
          "height": 301
        },
        "outputId": "90a17d36-71e8-4426-a0c7-7ad79c74f110"
      },
      "source": [
        "sns.boxplot(y=\"qtd_acidentes\",data=df_uf)"
      ],
      "execution_count": 426,
      "outputs": [
        {
          "output_type": "execute_result",
          "data": {
            "text/plain": [
              "<matplotlib.axes._subplots.AxesSubplot at 0x7f0d83c69080>"
            ]
          },
          "metadata": {
            "tags": []
          },
          "execution_count": 426
        },
        {
          "output_type": "display_data",
          "data": {
            "image/png": "[encoded data removed]",
            "text/plain": [
              "<Figure size 432x288 with 1 Axes>"
            ]
          },
          "metadata": {
            "tags": []
          }
        }
      ]
    },
    {
      "cell_type": "code",
      "metadata": {
        "id": "hI0qrR-MLgTt",
        "colab_type": "code",
        "colab": {
          "base_uri": "https://localhost:8080/",
          "height": 979
        },
        "outputId": "fccb197e-aa11-4311-cf90-063607ab9c35"
      },
      "source": [
        "teste.head(30)"
      ],
      "execution_count": 424,
      "outputs": [
        {
          "output_type": "execute_result",
          "data": {
            "text/html": [
              "<div>\n",
              "<style scoped>\n",
              "    .dataframe tbody tr th:only-of-type {\n",
              "        vertical-align: middle;\n",
              "    }\n",
              "\n",
              "    .dataframe tbody tr th {\n",
              "        vertical-align: top;\n",
              "    }\n",
              "\n",
              "    .dataframe thead th {\n",
              "        text-align: right;\n",
              "    }\n",
              "</style>\n",
              "<table border=\"1\" class=\"dataframe\">\n",
              "  <thead>\n",
              "    <tr style=\"text-align: right;\">\n",
              "      <th></th>\n",
              "      <th>ano</th>\n",
              "      <th>estado</th>\n",
              "      <th>motivo/situação</th>\n",
              "      <th>qtd_acidentes</th>\n",
              "      <th>latitude</th>\n",
              "      <th>longitude</th>\n",
              "      <th>cod_estado</th>\n",
              "      <th>uf</th>\n",
              "      <th>regiao</th>\n",
              "      <th>populacao</th>\n",
              "    </tr>\n",
              "  </thead>\n",
              "  <tbody>\n",
              "    <tr>\n",
              "      <th>0</th>\n",
              "      <td>2001</td>\n",
              "      <td>Rondônia</td>\n",
              "      <td>Típico-Com Cat</td>\n",
              "      <td>1559.0</td>\n",
              "      <td>-8.76077</td>\n",
              "      <td>-63.8999</td>\n",
              "      <td>11</td>\n",
              "      <td>RO</td>\n",
              "      <td>Norte</td>\n",
              "      <td>1407886.0</td>\n",
              "    </tr>\n",
              "    <tr>\n",
              "      <th>1</th>\n",
              "      <td>2001</td>\n",
              "      <td>Rondônia</td>\n",
              "      <td>Trajeto-Com Cat</td>\n",
              "      <td>262.0</td>\n",
              "      <td>-8.76077</td>\n",
              "      <td>-63.8999</td>\n",
              "      <td>11</td>\n",
              "      <td>RO</td>\n",
              "      <td>Norte</td>\n",
              "      <td>1407886.0</td>\n",
              "    </tr>\n",
              "    <tr>\n",
              "      <th>2</th>\n",
              "      <td>2001</td>\n",
              "      <td>Rondônia</td>\n",
              "      <td>Doença do Trabalho-Com Cat</td>\n",
              "      <td>32.0</td>\n",
              "      <td>-8.76077</td>\n",
              "      <td>-63.8999</td>\n",
              "      <td>11</td>\n",
              "      <td>RO</td>\n",
              "      <td>Norte</td>\n",
              "      <td>1407886.0</td>\n",
              "    </tr>\n",
              "    <tr>\n",
              "      <th>3</th>\n",
              "      <td>2002</td>\n",
              "      <td>Rondônia</td>\n",
              "      <td>Típico-Com Cat</td>\n",
              "      <td>1665.0</td>\n",
              "      <td>-8.76077</td>\n",
              "      <td>-63.8999</td>\n",
              "      <td>11</td>\n",
              "      <td>RO</td>\n",
              "      <td>Norte</td>\n",
              "      <td>1431777.0</td>\n",
              "    </tr>\n",
              "    <tr>\n",
              "      <th>4</th>\n",
              "      <td>2002</td>\n",
              "      <td>Rondônia</td>\n",
              "      <td>Trajeto-Com Cat</td>\n",
              "      <td>263.0</td>\n",
              "      <td>-8.76077</td>\n",
              "      <td>-63.8999</td>\n",
              "      <td>11</td>\n",
              "      <td>RO</td>\n",
              "      <td>Norte</td>\n",
              "      <td>1431777.0</td>\n",
              "    </tr>\n",
              "    <tr>\n",
              "      <th>5</th>\n",
              "      <td>2002</td>\n",
              "      <td>Rondônia</td>\n",
              "      <td>Doença do Trabalho-Com Cat</td>\n",
              "      <td>68.0</td>\n",
              "      <td>-8.76077</td>\n",
              "      <td>-63.8999</td>\n",
              "      <td>11</td>\n",
              "      <td>RO</td>\n",
              "      <td>Norte</td>\n",
              "      <td>1431777.0</td>\n",
              "    </tr>\n",
              "    <tr>\n",
              "      <th>6</th>\n",
              "      <td>2003</td>\n",
              "      <td>Rondônia</td>\n",
              "      <td>Típico-Com Cat</td>\n",
              "      <td>1718.0</td>\n",
              "      <td>-8.76077</td>\n",
              "      <td>-63.8999</td>\n",
              "      <td>11</td>\n",
              "      <td>RO</td>\n",
              "      <td>Norte</td>\n",
              "      <td>1455907.0</td>\n",
              "    </tr>\n",
              "    <tr>\n",
              "      <th>7</th>\n",
              "      <td>2003</td>\n",
              "      <td>Rondônia</td>\n",
              "      <td>Trajeto-Com Cat</td>\n",
              "      <td>288.0</td>\n",
              "      <td>-8.76077</td>\n",
              "      <td>-63.8999</td>\n",
              "      <td>11</td>\n",
              "      <td>RO</td>\n",
              "      <td>Norte</td>\n",
              "      <td>1455907.0</td>\n",
              "    </tr>\n",
              "    <tr>\n",
              "      <th>8</th>\n",
              "      <td>2003</td>\n",
              "      <td>Rondônia</td>\n",
              "      <td>Doença do Trabalho-Com Cat</td>\n",
              "      <td>74.0</td>\n",
              "      <td>-8.76077</td>\n",
              "      <td>-63.8999</td>\n",
              "      <td>11</td>\n",
              "      <td>RO</td>\n",
              "      <td>Norte</td>\n",
              "      <td>1455907.0</td>\n",
              "    </tr>\n",
              "    <tr>\n",
              "      <th>9</th>\n",
              "      <td>2004</td>\n",
              "      <td>Rondônia</td>\n",
              "      <td>Típico-Com Cat</td>\n",
              "      <td>1931.0</td>\n",
              "      <td>-8.76077</td>\n",
              "      <td>-63.8999</td>\n",
              "      <td>11</td>\n",
              "      <td>RO</td>\n",
              "      <td>Norte</td>\n",
              "      <td>1562085.0</td>\n",
              "    </tr>\n",
              "    <tr>\n",
              "      <th>10</th>\n",
              "      <td>2004</td>\n",
              "      <td>Rondônia</td>\n",
              "      <td>Trajeto-Com Cat</td>\n",
              "      <td>339.0</td>\n",
              "      <td>-8.76077</td>\n",
              "      <td>-63.8999</td>\n",
              "      <td>11</td>\n",
              "      <td>RO</td>\n",
              "      <td>Norte</td>\n",
              "      <td>1562085.0</td>\n",
              "    </tr>\n",
              "    <tr>\n",
              "      <th>11</th>\n",
              "      <td>2004</td>\n",
              "      <td>Rondônia</td>\n",
              "      <td>Doença do Trabalho-Com Cat</td>\n",
              "      <td>107.0</td>\n",
              "      <td>-8.76077</td>\n",
              "      <td>-63.8999</td>\n",
              "      <td>11</td>\n",
              "      <td>RO</td>\n",
              "      <td>Norte</td>\n",
              "      <td>1562085.0</td>\n",
              "    </tr>\n",
              "    <tr>\n",
              "      <th>12</th>\n",
              "      <td>2005</td>\n",
              "      <td>Rondônia</td>\n",
              "      <td>Típico-Com Cat</td>\n",
              "      <td>1965.0</td>\n",
              "      <td>-8.76077</td>\n",
              "      <td>-63.8999</td>\n",
              "      <td>11</td>\n",
              "      <td>RO</td>\n",
              "      <td>Norte</td>\n",
              "      <td>1534594.0</td>\n",
              "    </tr>\n",
              "    <tr>\n",
              "      <th>13</th>\n",
              "      <td>2005</td>\n",
              "      <td>Rondônia</td>\n",
              "      <td>Doença do Trabalho-Com Cat</td>\n",
              "      <td>169.0</td>\n",
              "      <td>-8.76077</td>\n",
              "      <td>-63.8999</td>\n",
              "      <td>11</td>\n",
              "      <td>RO</td>\n",
              "      <td>Norte</td>\n",
              "      <td>1534594.0</td>\n",
              "    </tr>\n",
              "    <tr>\n",
              "      <th>14</th>\n",
              "      <td>2005</td>\n",
              "      <td>Rondônia</td>\n",
              "      <td>Trajeto-Com Cat</td>\n",
              "      <td>392.0</td>\n",
              "      <td>-8.76077</td>\n",
              "      <td>-63.8999</td>\n",
              "      <td>11</td>\n",
              "      <td>RO</td>\n",
              "      <td>Norte</td>\n",
              "      <td>1534594.0</td>\n",
              "    </tr>\n",
              "    <tr>\n",
              "      <th>15</th>\n",
              "      <td>2006</td>\n",
              "      <td>Rondônia</td>\n",
              "      <td>Típico-Com Cat</td>\n",
              "      <td>1794.0</td>\n",
              "      <td>-8.76077</td>\n",
              "      <td>-63.8999</td>\n",
              "      <td>11</td>\n",
              "      <td>RO</td>\n",
              "      <td>Norte</td>\n",
              "      <td>1562417.0</td>\n",
              "    </tr>\n",
              "    <tr>\n",
              "      <th>16</th>\n",
              "      <td>2006</td>\n",
              "      <td>Rondônia</td>\n",
              "      <td>Doença do Trabalho-Com Cat</td>\n",
              "      <td>178.0</td>\n",
              "      <td>-8.76077</td>\n",
              "      <td>-63.8999</td>\n",
              "      <td>11</td>\n",
              "      <td>RO</td>\n",
              "      <td>Norte</td>\n",
              "      <td>1562417.0</td>\n",
              "    </tr>\n",
              "    <tr>\n",
              "      <th>17</th>\n",
              "      <td>2006</td>\n",
              "      <td>Rondônia</td>\n",
              "      <td>Trajeto-Com Cat</td>\n",
              "      <td>422.0</td>\n",
              "      <td>-8.76077</td>\n",
              "      <td>-63.8999</td>\n",
              "      <td>11</td>\n",
              "      <td>RO</td>\n",
              "      <td>Norte</td>\n",
              "      <td>1562417.0</td>\n",
              "    </tr>\n",
              "    <tr>\n",
              "      <th>18</th>\n",
              "      <td>2007</td>\n",
              "      <td>Rondônia</td>\n",
              "      <td>Típico-Com Cat</td>\n",
              "      <td>1723.0</td>\n",
              "      <td>-8.76077</td>\n",
              "      <td>-63.8999</td>\n",
              "      <td>11</td>\n",
              "      <td>RO</td>\n",
              "      <td>Norte</td>\n",
              "      <td>NaN</td>\n",
              "    </tr>\n",
              "    <tr>\n",
              "      <th>19</th>\n",
              "      <td>2007</td>\n",
              "      <td>Rondônia</td>\n",
              "      <td>Doença do Trabalho-Com Cat</td>\n",
              "      <td>140.0</td>\n",
              "      <td>-8.76077</td>\n",
              "      <td>-63.8999</td>\n",
              "      <td>11</td>\n",
              "      <td>RO</td>\n",
              "      <td>Norte</td>\n",
              "      <td>NaN</td>\n",
              "    </tr>\n",
              "    <tr>\n",
              "      <th>20</th>\n",
              "      <td>2007</td>\n",
              "      <td>Rondônia</td>\n",
              "      <td>Trajeto-Com Cat</td>\n",
              "      <td>455.0</td>\n",
              "      <td>-8.76077</td>\n",
              "      <td>-63.8999</td>\n",
              "      <td>11</td>\n",
              "      <td>RO</td>\n",
              "      <td>Norte</td>\n",
              "      <td>NaN</td>\n",
              "    </tr>\n",
              "    <tr>\n",
              "      <th>21</th>\n",
              "      <td>2007</td>\n",
              "      <td>Rondônia</td>\n",
              "      <td>Sem Cat</td>\n",
              "      <td>1577.0</td>\n",
              "      <td>-8.76077</td>\n",
              "      <td>-63.8999</td>\n",
              "      <td>11</td>\n",
              "      <td>RO</td>\n",
              "      <td>Norte</td>\n",
              "      <td>NaN</td>\n",
              "    </tr>\n",
              "    <tr>\n",
              "      <th>22</th>\n",
              "      <td>2007</td>\n",
              "      <td>Rondônia</td>\n",
              "      <td>Sem Cat</td>\n",
              "      <td>30.0</td>\n",
              "      <td>-8.76077</td>\n",
              "      <td>-63.8999</td>\n",
              "      <td>11</td>\n",
              "      <td>RO</td>\n",
              "      <td>Norte</td>\n",
              "      <td>NaN</td>\n",
              "    </tr>\n",
              "    <tr>\n",
              "      <th>23</th>\n",
              "      <td>2007</td>\n",
              "      <td>Rondônia</td>\n",
              "      <td>Sem Cat</td>\n",
              "      <td>3.0</td>\n",
              "      <td>-8.76077</td>\n",
              "      <td>-63.8999</td>\n",
              "      <td>11</td>\n",
              "      <td>RO</td>\n",
              "      <td>Norte</td>\n",
              "      <td>NaN</td>\n",
              "    </tr>\n",
              "    <tr>\n",
              "      <th>24</th>\n",
              "      <td>2008</td>\n",
              "      <td>Rondônia</td>\n",
              "      <td>Típico-Com Cat</td>\n",
              "      <td>2064.0</td>\n",
              "      <td>-8.76077</td>\n",
              "      <td>-63.8999</td>\n",
              "      <td>11</td>\n",
              "      <td>RO</td>\n",
              "      <td>Norte</td>\n",
              "      <td>1493565.0</td>\n",
              "    </tr>\n",
              "    <tr>\n",
              "      <th>25</th>\n",
              "      <td>2008</td>\n",
              "      <td>Rondônia</td>\n",
              "      <td>Doença do Trabalho-Com Cat</td>\n",
              "      <td>133.0</td>\n",
              "      <td>-8.76077</td>\n",
              "      <td>-63.8999</td>\n",
              "      <td>11</td>\n",
              "      <td>RO</td>\n",
              "      <td>Norte</td>\n",
              "      <td>1493565.0</td>\n",
              "    </tr>\n",
              "    <tr>\n",
              "      <th>26</th>\n",
              "      <td>2008</td>\n",
              "      <td>Rondônia</td>\n",
              "      <td>Trajeto-Com Cat</td>\n",
              "      <td>527.0</td>\n",
              "      <td>-8.76077</td>\n",
              "      <td>-63.8999</td>\n",
              "      <td>11</td>\n",
              "      <td>RO</td>\n",
              "      <td>Norte</td>\n",
              "      <td>1493565.0</td>\n",
              "    </tr>\n",
              "    <tr>\n",
              "      <th>27</th>\n",
              "      <td>2008</td>\n",
              "      <td>Rondônia</td>\n",
              "      <td>Sem Cat</td>\n",
              "      <td>1946.0</td>\n",
              "      <td>-8.76077</td>\n",
              "      <td>-63.8999</td>\n",
              "      <td>11</td>\n",
              "      <td>RO</td>\n",
              "      <td>Norte</td>\n",
              "      <td>1493565.0</td>\n",
              "    </tr>\n",
              "    <tr>\n",
              "      <th>28</th>\n",
              "      <td>2008</td>\n",
              "      <td>Rondônia</td>\n",
              "      <td>Sem Cat</td>\n",
              "      <td>44.0</td>\n",
              "      <td>-8.76077</td>\n",
              "      <td>-63.8999</td>\n",
              "      <td>11</td>\n",
              "      <td>RO</td>\n",
              "      <td>Norte</td>\n",
              "      <td>1493565.0</td>\n",
              "    </tr>\n",
              "    <tr>\n",
              "      <th>29</th>\n",
              "      <td>2008</td>\n",
              "      <td>Rondônia</td>\n",
              "      <td>Sem Cat</td>\n",
              "      <td>1.0</td>\n",
              "      <td>-8.76077</td>\n",
              "      <td>-63.8999</td>\n",
              "      <td>11</td>\n",
              "      <td>RO</td>\n",
              "      <td>Norte</td>\n",
              "      <td>1493565.0</td>\n",
              "    </tr>\n",
              "  </tbody>\n",
              "</table>\n",
              "</div>"
            ],
            "text/plain": [
              "     ano    estado             motivo/situação  qtd_acidentes  latitude  \\\n",
              "0   2001  Rondônia              Típico-Com Cat         1559.0  -8.76077   \n",
              "1   2001  Rondônia             Trajeto-Com Cat          262.0  -8.76077   \n",
              "2   2001  Rondônia  Doença do Trabalho-Com Cat           32.0  -8.76077   \n",
              "3   2002  Rondônia              Típico-Com Cat         1665.0  -8.76077   \n",
              "4   2002  Rondônia             Trajeto-Com Cat          263.0  -8.76077   \n",
              "5   2002  Rondônia  Doença do Trabalho-Com Cat           68.0  -8.76077   \n",
              "6   2003  Rondônia              Típico-Com Cat         1718.0  -8.76077   \n",
              "7   2003  Rondônia             Trajeto-Com Cat          288.0  -8.76077   \n",
              "8   2003  Rondônia  Doença do Trabalho-Com Cat           74.0  -8.76077   \n",
              "9   2004  Rondônia              Típico-Com Cat         1931.0  -8.76077   \n",
              "10  2004  Rondônia             Trajeto-Com Cat          339.0  -8.76077   \n",
              "11  2004  Rondônia  Doença do Trabalho-Com Cat          107.0  -8.76077   \n",
              "12  2005  Rondônia              Típico-Com Cat         1965.0  -8.76077   \n",
              "13  2005  Rondônia  Doença do Trabalho-Com Cat          169.0  -8.76077   \n",
              "14  2005  Rondônia             Trajeto-Com Cat          392.0  -8.76077   \n",
              "15  2006  Rondônia              Típico-Com Cat         1794.0  -8.76077   \n",
              "16  2006  Rondônia  Doença do Trabalho-Com Cat          178.0  -8.76077   \n",
              "17  2006  Rondônia             Trajeto-Com Cat          422.0  -8.76077   \n",
              "18  2007  Rondônia              Típico-Com Cat         1723.0  -8.76077   \n",
              "19  2007  Rondônia  Doença do Trabalho-Com Cat          140.0  -8.76077   \n",
              "20  2007  Rondônia             Trajeto-Com Cat          455.0  -8.76077   \n",
              "21  2007  Rondônia                     Sem Cat         1577.0  -8.76077   \n",
              "22  2007  Rondônia                     Sem Cat           30.0  -8.76077   \n",
              "23  2007  Rondônia                     Sem Cat            3.0  -8.76077   \n",
              "24  2008  Rondônia              Típico-Com Cat         2064.0  -8.76077   \n",
              "25  2008  Rondônia  Doença do Trabalho-Com Cat          133.0  -8.76077   \n",
              "26  2008  Rondônia             Trajeto-Com Cat          527.0  -8.76077   \n",
              "27  2008  Rondônia                     Sem Cat         1946.0  -8.76077   \n",
              "28  2008  Rondônia                     Sem Cat           44.0  -8.76077   \n",
              "29  2008  Rondônia                     Sem Cat            1.0  -8.76077   \n",
              "\n",
              "    longitude  cod_estado  uf regiao  populacao  \n",
              "0    -63.8999          11  RO  Norte  1407886.0  \n",
              "1    -63.8999          11  RO  Norte  1407886.0  \n",
              "2    -63.8999          11  RO  Norte  1407886.0  \n",
              "3    -63.8999          11  RO  Norte  1431777.0  \n",
              "4    -63.8999          11  RO  Norte  1431777.0  \n",
              "5    -63.8999          11  RO  Norte  1431777.0  \n",
              "6    -63.8999          11  RO  Norte  1455907.0  \n",
              "7    -63.8999          11  RO  Norte  1455907.0  \n",
              "8    -63.8999          11  RO  Norte  1455907.0  \n",
              "9    -63.8999          11  RO  Norte  1562085.0  \n",
              "10   -63.8999          11  RO  Norte  1562085.0  \n",
              "11   -63.8999          11  RO  Norte  1562085.0  \n",
              "12   -63.8999          11  RO  Norte  1534594.0  \n",
              "13   -63.8999          11  RO  Norte  1534594.0  \n",
              "14   -63.8999          11  RO  Norte  1534594.0  \n",
              "15   -63.8999          11  RO  Norte  1562417.0  \n",
              "16   -63.8999          11  RO  Norte  1562417.0  \n",
              "17   -63.8999          11  RO  Norte  1562417.0  \n",
              "18   -63.8999          11  RO  Norte        NaN  \n",
              "19   -63.8999          11  RO  Norte        NaN  \n",
              "20   -63.8999          11  RO  Norte        NaN  \n",
              "21   -63.8999          11  RO  Norte        NaN  \n",
              "22   -63.8999          11  RO  Norte        NaN  \n",
              "23   -63.8999          11  RO  Norte        NaN  \n",
              "24   -63.8999          11  RO  Norte  1493565.0  \n",
              "25   -63.8999          11  RO  Norte  1493565.0  \n",
              "26   -63.8999          11  RO  Norte  1493565.0  \n",
              "27   -63.8999          11  RO  Norte  1493565.0  \n",
              "28   -63.8999          11  RO  Norte  1493565.0  \n",
              "29   -63.8999          11  RO  Norte  1493565.0  "
            ]
          },
          "metadata": {
            "tags": []
          },
          "execution_count": 424
        }
      ]
    },
    {
      "cell_type": "code",
      "metadata": {
        "id": "u6x3HYAkLNHb",
        "colab_type": "code",
        "colab": {}
      },
      "source": [
        "dasdafa"
      ],
      "execution_count": 0,
      "outputs": []
    },
    {
      "cell_type": "markdown",
      "metadata": {
        "id": "EBiustEeKxN5",
        "colab_type": "text"
      },
      "source": [
        "A princípio foram substituidos os campos vazios, com a população referente ao ano anterior"
      ]
    },
    {
      "cell_type": "code",
      "metadata": {
        "id": "30WU8f2UHMhZ",
        "colab_type": "code",
        "colab": {}
      },
      "source": [
        "df_uf[\"populacao\"] = df_uf.groupby([\"estado\"])[\"populacao\"].ffill()"
      ],
      "execution_count": 0,
      "outputs": []
    },
    {
      "cell_type": "code",
      "metadata": {
        "id": "MjheoO1EJJAT",
        "colab_type": "code",
        "colab": {}
      },
      "source": [
        "df_uf.head(50)"
      ],
      "execution_count": 0,
      "outputs": []
    },
    {
      "cell_type": "markdown",
      "metadata": {
        "id": "usVOwOZxnu3R",
        "colab_type": "text"
      },
      "source": [
        "Com a base de dados tratada agora é possivel tirar alguns insights dos dados adquiridos"
      ]
    },
    {
      "cell_type": "code",
      "metadata": {
        "id": "gi8y5t0Nn3bW",
        "colab_type": "code",
        "colab": {}
      },
      "source": [
        "df_uf.describe()"
      ],
      "execution_count": 0,
      "outputs": []
    },
    {
      "cell_type": "code",
      "metadata": {
        "id": "31BkLjMk--6R",
        "colab_type": "code",
        "colab": {}
      },
      "source": [
        "df_uf.columns"
      ],
      "execution_count": 0,
      "outputs": []
    },
    {
      "cell_type": "code",
      "metadata": {
        "id": "AveSUUJ5-x5I",
        "colab_type": "code",
        "colab": {}
      },
      "source": [
        "b = sns.boxplot(y='motivo/situação',\n",
        "                x =\"qtd_acidentes\",\n",
        "                data = df_uf)"
      ],
      "execution_count": 0,
      "outputs": []
    },
    {
      "cell_type": "markdown",
      "metadata": {
        "id": "FrdbSxENojXq",
        "colab_type": "text"
      },
      "source": [
        "A princípio é possivel observar alguns pontos interessantes:\n",
        "* Não houve em momento algum um ponto com zero acidentes\n",
        "* O maior númedo de acidentes registrado foi 165179 - o que levanta a questão a respeito do quando e onde isso ocorreu.\n",
        "* Esse número grande de acidentes se trata de um outlier uma vez que a grande maioria dos valores está entre 0 a 3000 acidentes.\n"
      ]
    },
    {
      "cell_type": "code",
      "metadata": {
        "id": "AStoX8ibZjt-",
        "colab_type": "code",
        "colab": {}
      },
      "source": [
        "#numero de estados por região\n",
        "df_uf.groupby(by=[\"regiao\"])[[\"estado\"]].nunique()"
      ],
      "execution_count": 0,
      "outputs": []
    },
    {
      "cell_type": "markdown",
      "metadata": {
        "id": "HyUjufLb66iR",
        "colab_type": "text"
      },
      "source": [
        "Os dados estão destribuidos em 5 regiões. A região do nordeste é a mais representativa no data set por conta justamente do numero grande de estados."
      ]
    },
    {
      "cell_type": "markdown",
      "metadata": {
        "id": "ostNJQV_7uWz",
        "colab_type": "text"
      },
      "source": [
        "###  Top 10 estados com mais acidentes"
      ]
    },
    {
      "cell_type": "code",
      "metadata": {
        "id": "CHyRV5UX7z-J",
        "colab_type": "code",
        "colab": {}
      },
      "source": [
        "agrupado = df_uf.groupby(by=['estado',\"regiao\",\"ano\"])[[\"qtd_acidentes\"]].sum().reset_index()\n",
        "\n",
        "anos = agrupado.ano.unique()"
      ],
      "execution_count": 0,
      "outputs": []
    },
    {
      "cell_type": "code",
      "metadata": {
        "id": "O9N0jJhL71wv",
        "colab_type": "code",
        "colab": {}
      },
      "source": [
        "#media dos anos\n",
        "agrupado_media = agrupado.groupby(by=[\"estado\",\"regiao\"])[[\"qtd_acidentes\"]].mean()\n",
        "agrupado_media.sort_values(by=\"qtd_acidentes\",ascending=False,inplace=True)\n",
        "agrupado_media=agrupado_media.reset_index()\n",
        "agrupado_media.head(10)"
      ],
      "execution_count": 0,
      "outputs": []
    },
    {
      "cell_type": "markdown",
      "metadata": {
        "id": "fNblLHfJ8IW8",
        "colab_type": "text"
      },
      "source": [
        "Mais uma vez São Paulo se mostra como grande outlier da massa de dados. Na verdade, com relação as médias todos os estados do sudeste figuram na lista. Porém a comparação é injusta visto que o Brasil é um pais de dimensões continentais e a região sudeste é a mais populosa. Para avaliar melhor a situação do pais deve ser observado os estados com as maiores médias de acidente e em seguida observar o comportamento deles ao longo dos anos."
      ]
    },
    {
      "cell_type": "code",
      "metadata": {
        "id": "eg2fgLbH787n",
        "colab_type": "code",
        "colab": {}
      },
      "source": [
        "plt.figure(figsize = (16,6))\n",
        "m = sns.barplot(y=\"estado\",\n",
        "                x =\"qtd_acidentes\",\n",
        "                data = agrupado_media);\n",
        "m.set_title(\"Média da quantidade de Acidentes de Trabalho por estado\");\n"
      ],
      "execution_count": 0,
      "outputs": []
    },
    {
      "cell_type": "markdown",
      "metadata": {
        "id": "o0tFjYEA-2JF",
        "colab_type": "text"
      },
      "source": [
        "Os estados foram divididos por regiões de forma a melhorar a visualização do gráfico interativo abaixo."
      ]
    },
    {
      "cell_type": "code",
      "metadata": {
        "id": "KL9ic6gZ8Qhm",
        "colab_type": "code",
        "colab": {}
      },
      "source": [
        "#@title Estados com mais acidentes por região por ano { run: \"auto\" }\n",
        "ano = 2003 #@param {type:\"slider\", min:1988, max:2016, step:1}\n",
        "regiao = \"Centro-Oeste\" #@param [\"Norte\", \"Nordeste\", \"Sudeste\", \"Sul\", \"Centro-Oeste\"]\n",
        "\n",
        "#agrupando o df por regiao\n",
        "agrupado_regiao = agrupado[agrupado[\"regiao\"]==regiao]\n",
        "\n",
        "#criando o df para ser plotado\n",
        "data = agrupado[agrupado[\"regiao\"]==regiao]\n",
        "data = data[data[\"ano\"]==ano]\n",
        "data.sort_values(\"qtd_acidentes\",inplace=True,ascending=False)\n",
        "\n",
        "#plotando\n",
        "plt.figure(figsize =(16,6))\n",
        "p = sns.barplot(y=list(data.estado.unique()),\n",
        "                  x=\"qtd_acidentes\",\n",
        "                  data=data);\n",
        "p.set_xlim(min(agrupado_regiao.qtd_acidentes)\n",
        "           ,max(agrupado_regiao.qtd_acidentes))\n",
        "p.set_title(regiao + \" - \"+str(ano));\n"
      ],
      "execution_count": 0,
      "outputs": []
    },
    {
      "cell_type": "code",
      "metadata": {
        "id": "I9IW0BWhgtQ6",
        "colab_type": "code",
        "colab": {}
      },
      "source": [
        "plt.figure(figsize=(16, 6))\n",
        "g = sns.FacetGrid(agrupado,\n",
        "                  col=\"regiao\",\n",
        "                  size = 5,\n",
        "                  aspect = 3,\n",
        "                  sharey=False,\n",
        "                  hue = \"regiao\");\n",
        "\n",
        "\n",
        "g.map_dataframe(sns.barplot,'ano',\"qtd_acidentes\",ci = None).add_legend()\n"
      ],
      "execution_count": 0,
      "outputs": []
    },
    {
      "cell_type": "markdown",
      "metadata": {
        "id": "_vCYTZjHcks-",
        "colab_type": "text"
      },
      "source": [
        "No que diz respeito as médias. As regiões Norte, Nordeste e Centro-Oeste apresentaram um comportamento parecido ao longo dos anos. O comportamento é descrito como uma queda na quantidade de acidentes no início da decada de 90 e logo seguido por uma crescente até 2016. Este comportamento não foi observado nas regiões, Sul e Sudeste. A região Sudeste vinha em queda até 2001. de 2002 a 2013, o Sudeste experimentou um aumento de mais de 40000 acidentes. Desde então a região têm presenciado um progresso na área. A história é parecida para a região Sul."
      ]
    },
    {
      "cell_type": "markdown",
      "metadata": {
        "id": "iLrpWyODpnJf",
        "colab_type": "text"
      },
      "source": [
        "### Zero Acidentes\n",
        "\n",
        "Onde será que tivemos zero acidentes?"
      ]
    },
    {
      "cell_type": "code",
      "metadata": {
        "id": "swE5MmQtqSaD",
        "colab_type": "code",
        "colab": {}
      },
      "source": [
        "#Criando a tabela de zero acidentes\n",
        "zero_acidentes = df_uf[df_uf['qtd_acidentes']==0]\n",
        "zero_acidentes.sort_values([\"regiao\",\n",
        "                            \"estado\",\n",
        "                            \"ano\"]).drop(labels=[\"latitude\",\n",
        "                                                 \"longitude\",\n",
        "                                                 \"cod_estado\",\n",
        "                                                 \"uf\"],axis=1)"
      ],
      "execution_count": 0,
      "outputs": []
    },
    {
      "cell_type": "code",
      "metadata": {
        "id": "nwXpCG5MiuE2",
        "colab_type": "code",
        "colab": {}
      },
      "source": [
        "p = sns.countplot(x=\"ano\",hue=\"regiao\",data=zero_acidentes)\n",
        "p.set_title(\"Qtd de estados com zero acidentes por região e por ano\");"
      ],
      "execution_count": 0,
      "outputs": []
    },
    {
      "cell_type": "markdown",
      "metadata": {
        "id": "dS9Q-CQcscHc",
        "colab_type": "text"
      },
      "source": [
        "Os estados do norte apresentam a maior prevalência de anos sem acidente de qualquer tipo. Porém nenhum estado passou um ano sem acidente desde 1998, como mostra o grafico acima. Fica evidenciado também que o sudeste não teve  nenhum ano sem acidentes.\n",
        "\n",
        "No entanto na maioria dos anos em que não ocorreram acidentes de trabalho, a não ocorrência diz respeito ao motivo de doença de trabalho. Os anos em que tivemos zero acidentes de qualquer tipo são mostrados na tabela abaixo:"
      ]
    },
    {
      "cell_type": "code",
      "metadata": {
        "id": "SAf8AUhnWkaK",
        "colab_type": "code",
        "colab": {}
      },
      "source": [
        "zero_acidentes.groupby(['regiao','ano'])[[\"motivo/situação\"]].nunique()"
      ],
      "execution_count": 0,
      "outputs": []
    },
    {
      "cell_type": "markdown",
      "metadata": {
        "id": "meP0kpymaX3H",
        "colab_type": "text"
      },
      "source": [
        "Infelizmente, não tivemos nenhum ano com nenhum tipo de acidente, em região nenhuma do país(se tivessemos encontrariamos alguma linha da tabela indicando as 4 categorias da coluna \"motivo/situação\")."
      ]
    },
    {
      "cell_type": "code",
      "metadata": {
        "id": "ju4CGcqzj7La",
        "colab_type": "code",
        "colab": {}
      },
      "source": [
        "p = sns.countplot(y=\"estado\",\n",
        "                  data = zero_acidentes,\n",
        "                  hue = \"regiao\",\n",
        "              order = zero_acidentes['estado'].value_counts().index)\n",
        "p.set_title(\"Qtd de anos com zero acidentes por estado\");"
      ],
      "execution_count": 0,
      "outputs": []
    },
    {
      "cell_type": "markdown",
      "metadata": {
        "id": "JL_RJvLhllrx",
        "colab_type": "text"
      },
      "source": [
        "O Acre foi, de longe, o estado que teve a maior quantidade de anos sem registrar acidentes. \n",
        "\n",
        "---\n",
        "\n",
        "(cruzar essa informação com quantidade de postos de trabalho, população e postos de trabalho irregular )"
      ]
    },
    {
      "cell_type": "markdown",
      "metadata": {
        "id": "mtW9cVkUty0f",
        "colab_type": "text"
      },
      "source": [
        "### O maior número de acidentes registrado\n",
        "\n",
        "Onde será que tivemos a maior quantidade de acidentes registrados?"
      ]
    },
    {
      "cell_type": "code",
      "metadata": {
        "id": "ZLvab6PFtqen",
        "colab_type": "code",
        "colab": {}
      },
      "source": [
        "#selecionando a linha com o maior número de acidentes registrado\n",
        "df_uf[df_uf['qtd_acidentes']==419981]"
      ],
      "execution_count": 0,
      "outputs": []
    },
    {
      "cell_type": "markdown",
      "metadata": {
        "id": "LaHeJ7F_uOjJ",
        "colab_type": "text"
      },
      "source": [
        "1988 foi um ano tenso para São Paulo, que chegou a registrar um número tão expressivo de acidentes. O que traz o questionamento a respeito de como é a série histórica da maior metrópole brasileira. "
      ]
    },
    {
      "cell_type": "code",
      "metadata": {
        "id": "k-wECG2DudOG",
        "colab_type": "code",
        "colab": {}
      },
      "source": [
        "p = sns.lineplot(x=\"ano\",\n",
        "             y = \"qtd_acidentes\",\n",
        "             hue = \"motivo/situação\",\n",
        "             style =\"motivo/situação\" ,\n",
        "             markers =True ,\n",
        "             data=df_uf[df_uf[\"estado\"]==\"São Paulo\"])\n",
        "p.set_title(\"Qtd de Acidentes de SP por ano e motivo\");"
      ],
      "execution_count": 0,
      "outputs": []
    },
    {
      "cell_type": "markdown",
      "metadata": {
        "id": "aCPdwVV6wrzR",
        "colab_type": "text"
      },
      "source": [
        "É possivel observar uma tendência de queda na quantidade de acidentes Típicos-com Cat(que são maioria) até os anos 2000. O que levanta uma outra questão. Como se comporta a queda de São Paulo com relação a média regional?"
      ]
    },
    {
      "cell_type": "code",
      "metadata": {
        "id": "YLClNESwGovn",
        "colab_type": "code",
        "colab": {}
      },
      "source": [
        "#fazendo a média da região\n",
        "mean_regiao = df_uf[df_uf[\"estado\"]!=\"São Paulo\"].groupby(by = [\"regiao\",\"motivo/situação\",\"ano\"])[[\"qtd_acidentes\"]].mean()\n",
        "mean_regiao.reset_index(inplace = True)\n"
      ],
      "execution_count": 0,
      "outputs": []
    },
    {
      "cell_type": "code",
      "metadata": {
        "id": "ZKtL7Q1Drw_z",
        "colab_type": "code",
        "colab": {}
      },
      "source": [
        "\n",
        "#plotando os dados\n",
        "p = sns.lineplot(x=\"ano\",\n",
        "             y = \"qtd_acidentes\",\n",
        "             hue = \"motivo/situação\",\n",
        "             style =\"motivo/situação\" ,\n",
        "             markers =True ,\n",
        "             data=mean_regiao[(mean_regiao[\"regiao\"]==\"Sudeste\")&\n",
        "                             (mean_regiao[\"motivo/situação\"]==\"Típico-Com Cat\")])\n",
        "p.set_title(\"Média de Acidentes da Região Sudeste por ano\");"
      ],
      "execution_count": 0,
      "outputs": []
    },
    {
      "cell_type": "code",
      "metadata": {
        "id": "Kdr0U8SA2GzM",
        "colab_type": "code",
        "colab": {}
      },
      "source": [
        "#Criar gráfico que sobreponha a média da região com os valores de sp"
      ],
      "execution_count": 0,
      "outputs": []
    },
    {
      "cell_type": "markdown",
      "metadata": {
        "id": "sRZl6mQTwD5h",
        "colab_type": "text"
      },
      "source": [
        "### Distribuição da quantidade de acidentes por região"
      ]
    },
    {
      "cell_type": "markdown",
      "metadata": {
        "id": "G5UrsdGO9thK",
        "colab_type": "text"
      },
      "source": [
        "Observando a série histórica de todas as regiões do país é necessário se fazer uma analise em função do Log da quantidade de acidentes. Isso decorre do fato que a quantidade de acidentes é muito discrepante de região para região, como pode ser observado no gráfico abaixo"
      ]
    },
    {
      "cell_type": "code",
      "metadata": {
        "id": "thRdXtKSGPtU",
        "colab_type": "code",
        "colab": {}
      },
      "source": [
        "g = sns.FacetGrid(df_uf, col=\"regiao\") \n",
        "g.map(sns.boxplot, \"qtd_acidentes\")\n",
        "plt.xscale(\"log\");"
      ],
      "execution_count": 0,
      "outputs": []
    },
    {
      "cell_type": "markdown",
      "metadata": {
        "id": "K-b3M9GoHisp",
        "colab_type": "text"
      },
      "source": [
        "A região sudeste apresenta a distribuição mais concentrada nos valores entre $10^3$ e $10^4$, assim como a região sul. O que não é verdade para as outras regiões do pais que possuem os valores mais próximos da ordem de $10^2$ e $10^3$\n"
      ]
    },
    {
      "cell_type": "markdown",
      "metadata": {
        "id": "o_uanMqXwSSc",
        "colab_type": "text"
      },
      "source": [
        "### O mapa dos acidentes de trabalho"
      ]
    },
    {
      "cell_type": "markdown",
      "metadata": {
        "id": "A3L_5ZOdW0rV",
        "colab_type": "text"
      },
      "source": [
        "Agora com uma base de dados com as informações de latitude e longitude, meu objetivo é tentar retirar algumas informações com base na leitura de alguns mapas. Para isso usarei a biblioteca do Python Folium"
      ]
    },
    {
      "cell_type": "code",
      "metadata": {
        "id": "ooIgZur7V1H1",
        "colab_type": "code",
        "colab": {}
      },
      "source": [
        "import folium"
      ],
      "execution_count": 0,
      "outputs": []
    },
    {
      "cell_type": "code",
      "metadata": {
        "id": "AYJj-GFeiOxu",
        "colab_type": "code",
        "colab": {}
      },
      "source": [
        "#@title  { run: \"auto\" }\n",
        "ano = 2010 #@param {type:\"slider\", min:1988, max:2016, step:1}\n",
        "df_uf_map = df_uf[df_uf[\"ano\"]==ano]\n",
        "df_uf_map = df_uf_map.groupby(['estado',\n",
        "                                 'latitude',\n",
        "                                 'longitude'],\n",
        "                                as_index=False)[['qtd_acidentes']].sum()\n",
        "df_uf_map.qtd_acidentes = df_uf_map.qtd_acidentes.astype(\"int64\")\n",
        "\n",
        "\n",
        "\n",
        "\n",
        "ac_map = folium.Map(location=[-16.1237611, -59.9219642],\n",
        "                    zoom_start=4)\n",
        "for i in range(0,len(df_uf_map)):\n",
        "  folium.CircleMarker(\n",
        "      location =[df_uf_map.iloc[i]['latitude'],\n",
        "                 df_uf_map.iloc[i]['longitude']],\n",
        "      popup = df_uf_map.iloc[i]['estado']+' ; '+df_uf_map.iloc[i]['qtd_acidentes'].astype('str'),\n",
        "      radius=int(df_uf_map.iloc[i]['qtd_acidentes']/5000),\n",
        "      fill_color=\"crimson\"\n",
        "  ).add_to(ac_map)\n",
        "\n",
        "\n",
        "ac_map\n",
        "\n"
      ],
      "execution_count": 0,
      "outputs": []
    },
    {
      "cell_type": "markdown",
      "metadata": {
        "id": "j1Y52BUkglLE",
        "colab_type": "text"
      },
      "source": [
        "O mapa nos da um melhor compreendimento do que vem acontecendo ao longo dos anos com relação aos acidentes de trabalho"
      ]
    },
    {
      "cell_type": "code",
      "metadata": {
        "id": "z9d_M43RMnmb",
        "colab_type": "code",
        "colab": {}
      },
      "source": [
        "from folium.plugins import HeatMap\n",
        "heat_map = folium.Map(location=[-16.1237611, -59.9219642],\n",
        "                    zoom_start=4)\n",
        "\n",
        "heat_data = df_uf_map.drop([\"estado\"],axis=1)\n",
        "\n",
        "media_acidentes = heat_data.qtd_acidentes.mean()\n",
        "desvio_acidentes = heat_data.qtd_acidentes.std()\n",
        "\n",
        "heat_data[\"qtd_acidentes\"]=(heat_data.qtd_acidentes-media_acidentes)/desvio_acidentes\n",
        "\n",
        "\n",
        "HeatMap( list(zip(heat_data.latitude.values, heat_data.longitude.values,heat_data.qtd_acidentes.values)),\n",
        "        max_zoom=1).add_to(heat_map)\n",
        "\n",
        "heat_map"
      ],
      "execution_count": 0,
      "outputs": []
    },
    {
      "cell_type": "markdown",
      "metadata": {
        "id": "7wg-EXgDM1hq",
        "colab_type": "text"
      },
      "source": [
        "## Acidentes de Trabalho por Sexo e Faixa Etária"
      ]
    },
    {
      "cell_type": "code",
      "metadata": {
        "id": "_fqd76_KM7oF",
        "colab_type": "code",
        "colab": {}
      },
      "source": [
        "url = \"https://raw.githubusercontent.com/lorransr/CAT/master/ACT-faixaetaria-sexo.csv\""
      ],
      "execution_count": 0,
      "outputs": []
    },
    {
      "cell_type": "code",
      "metadata": {
        "id": "7sb5QwVpsnoA",
        "colab_type": "code",
        "colab": {}
      },
      "source": [
        "df_agesex = pd.read_csv(url, sep=\",\", encoding = \"latin-1\")"
      ],
      "execution_count": 0,
      "outputs": []
    },
    {
      "cell_type": "code",
      "metadata": {
        "id": "ERQmX-4rs37C",
        "colab_type": "code",
        "colab": {}
      },
      "source": [
        "df_agesex.head()"
      ],
      "execution_count": 0,
      "outputs": []
    },
    {
      "cell_type": "markdown",
      "metadata": {
        "id": "FHIODggQs9xQ",
        "colab_type": "text"
      },
      "source": [
        "O dataframe em questão agora contém os registros de acidente de trabalho por faixa etaria e sexo."
      ]
    },
    {
      "cell_type": "code",
      "metadata": {
        "id": "QmaTBqSl0XQo",
        "colab_type": "code",
        "colab": {}
      },
      "source": [
        "df_agesex.columns = [\"ano\",\n",
        "                     \"idade\",\n",
        "                     \"motivo/situacao\",\n",
        "                     \"sexo\",\n",
        "                     \"qtd_acidentes\",\n",
        "                     \"situacao\"]"
      ],
      "execution_count": 0,
      "outputs": []
    },
    {
      "cell_type": "code",
      "metadata": {
        "id": "MbLhnrpY3llr",
        "colab_type": "code",
        "colab": {}
      },
      "source": [
        "df_agesex.sexo.value_counts()"
      ],
      "execution_count": 0,
      "outputs": []
    },
    {
      "cell_type": "code",
      "metadata": {
        "id": "CDqFPtKns5sU",
        "colab_type": "code",
        "colab": {}
      },
      "source": [
        "df_agesex.idade.value_counts()"
      ],
      "execution_count": 0,
      "outputs": []
    },
    {
      "cell_type": "markdown",
      "metadata": {
        "id": "_9hWBeGbt3c3",
        "colab_type": "text"
      },
      "source": [
        "No que diz respeito a idade, existe um valor sem registro, que pode ser ignorado."
      ]
    },
    {
      "cell_type": "code",
      "metadata": {
        "id": "9ElBkipBuBGf",
        "colab_type": "code",
        "colab": {}
      },
      "source": [
        "df_agesex = df_agesex[df_agesex.idade != \"-\"]"
      ],
      "execution_count": 0,
      "outputs": []
    },
    {
      "cell_type": "code",
      "metadata": {
        "id": "d6XxryACukyN",
        "colab_type": "code",
        "colab": {}
      },
      "source": [
        "df_agesex.situacao.value_counts()"
      ],
      "execution_count": 0,
      "outputs": []
    },
    {
      "cell_type": "markdown",
      "metadata": {
        "id": "KOTtAOsWvafg",
        "colab_type": "text"
      },
      "source": [
        "A princípio era de se esperar que a maior quantidade de acidentes de trabalho possuissem a CAT registrada, em vista da obrigação legal da empresa em emiti-la"
      ]
    },
    {
      "cell_type": "code",
      "metadata": {
        "id": "0Dfly2MouocP",
        "colab_type": "code",
        "colab": {}
      },
      "source": [
        "#checando se existem valores nulos em alguma coluna\n",
        "df_agesex.isnull().values.any()"
      ],
      "execution_count": 0,
      "outputs": []
    },
    {
      "cell_type": "code",
      "metadata": {
        "id": "BvdSDwzVxuAT",
        "colab_type": "code",
        "colab": {}
      },
      "source": [
        "df_agesex.dtypes"
      ],
      "execution_count": 0,
      "outputs": []
    },
    {
      "cell_type": "code",
      "metadata": {
        "id": "YdGttwvSv358",
        "colab_type": "code",
        "colab": {}
      },
      "source": [
        "df_agesex[[\"ano\",\"qtd_acidentes\"]] = df_agesex[[\"ano\",\"qtd_acidentes\"]].astype(\"int\")"
      ],
      "execution_count": 0,
      "outputs": []
    },
    {
      "cell_type": "code",
      "metadata": {
        "id": "Ov6WTni6NJ9K",
        "colab_type": "code",
        "colab": {}
      },
      "source": [
        "df_agesex=df_agesex[df_agesex[\"sexo\"]!=\"Ignorado\"]\n",
        "df_agesex=df_agesex[df_agesex[\"idade\"]!=\"Ignorada\"]"
      ],
      "execution_count": 0,
      "outputs": []
    },
    {
      "cell_type": "code",
      "metadata": {
        "id": "UFtysfVtORyT",
        "colab_type": "code",
        "colab": {}
      },
      "source": [
        "df_agesex.shape"
      ],
      "execution_count": 0,
      "outputs": []
    },
    {
      "cell_type": "code",
      "metadata": {
        "id": "9LXZc4RuVDTQ",
        "colab_type": "code",
        "colab": {}
      },
      "source": [
        "df_agesex.describe()"
      ],
      "execution_count": 0,
      "outputs": []
    },
    {
      "cell_type": "code",
      "metadata": {
        "id": "YAyq6w2NzWhE",
        "colab_type": "code",
        "colab": {}
      },
      "source": [
        "df_agesex.groupby(by = \"idade\")[[\"qtd_acidentes\"]].describe()"
      ],
      "execution_count": 0,
      "outputs": []
    },
    {
      "cell_type": "code",
      "metadata": {
        "id": "MbNTC7DDy7AT",
        "colab_type": "code",
        "colab": {}
      },
      "source": [
        "plt.figure(figsize = (18,8))\n",
        "g = sns.barplot(data = df_agesex,\n",
        "                x = \"idade\",\n",
        "                y = \"qtd_acidentes\")\n",
        "g.set_title(\"Media de Quantidade de Acidentes por Faixa Etaria\");\n"
      ],
      "execution_count": 0,
      "outputs": []
    },
    {
      "cell_type": "markdown",
      "metadata": {
        "id": "26Z4uJX13PVu",
        "colab_type": "text"
      },
      "source": [
        "A princípio é possivel se observar que em média, os acidentes acontecem em sua grande maioria na faixa dos 19 até os 39 anos. O que chama bastante a atenção é o fato de que até os 19 anos possuir uma quantidade tão alta de acidentes. Menores de idade não podem trabalhar, estagiários possuem diversas limitações em suas atividades, assim como jovens aprendizes. No entanto, a quantidade de acidentes registrado pra essa faixa etaria tão pequena (apenas 2 anos) é tão representativa quanto a média dos trabalhadores de 55 a 59 anos.."
      ]
    },
    {
      "cell_type": "code",
      "metadata": {
        "id": "N4k5ppXWM9Ig",
        "colab_type": "code",
        "colab": {}
      },
      "source": [
        "df_agesex.groupby(by = \"sexo\")[[\"qtd_acidentes\"]].describe()"
      ],
      "execution_count": 0,
      "outputs": []
    },
    {
      "cell_type": "code",
      "metadata": {
        "id": "6f876Jp3MlWk",
        "colab_type": "code",
        "colab": {}
      },
      "source": [
        "plt.figure(figsize = (18,8))\n",
        "g = sns.barplot(data = df_agesex,\n",
        "                x = \"sexo\",\n",
        "                y = \"qtd_acidentes\")\n",
        "g.set_title(\"Media de Quantidade de Acidentes por Sexo\");"
      ],
      "execution_count": 0,
      "outputs": []
    },
    {
      "cell_type": "markdown",
      "metadata": {
        "id": "MKYY_FCwNDhv",
        "colab_type": "text"
      },
      "source": [
        "Em média os homens se acidentam 25,x mais que as mulheres. No entanto, Ate o terceiro quartil (75%) a quantidade de acidentes para os dois sexos é parecida. Nesse sentido é interessante observar, também, que a distribuição dos acidentes de trabalho que ocorrem com mulheres ao longo dos anos possuem  uma distribuição mais apertada, em relação aos homens."
      ]
    },
    {
      "cell_type": "code",
      "metadata": {
        "id": "ozZws9JJzFyu",
        "colab_type": "code",
        "colab": {}
      },
      "source": [
        "plt.figure(figsize = (18,8))\n",
        "\n",
        "g = sns.boxplot(data = df_agesex,\n",
        "                y = \"idade\",\n",
        "                x = \"qtd_acidentes\")\n",
        "g.set_title(\"boxplot da Quantidade de Acidentes por Faixa Etaria\");\n"
      ],
      "execution_count": 0,
      "outputs": []
    },
    {
      "cell_type": "markdown",
      "metadata": {
        "id": "rh7GevK5MHiD",
        "colab_type": "text"
      },
      "source": [
        "Como pode ser observado, os acidentes por faixa etaria tem uma natureza desperça com diversos outliers. Para entender melhor os dados será necessária a observação da faixa etaria e contrasta-la por sexo."
      ]
    },
    {
      "cell_type": "code",
      "metadata": {
        "id": "0QpVcN6tcb7V",
        "colab_type": "code",
        "colab": {}
      },
      "source": [
        ""
      ],
      "execution_count": 0,
      "outputs": []
    },
    {
      "cell_type": "code",
      "metadata": {
        "id": "u52OHmnQedTb",
        "colab_type": "code",
        "colab": {}
      },
      "source": [
        "g = sns.catplot(x = \"sexo\",\n",
        "                y = \"qtd_acidentes\",\n",
        "                data = df_agesex,\n",
        "                col = \"idade\",\n",
        "                kind = \"violin\",\n",
        "                hue = \"sexo\",\n",
        "                split = True,\n",
        "                inner = \"quartile\")"
      ],
      "execution_count": 0,
      "outputs": []
    },
    {
      "cell_type": "code",
      "metadata": {
        "id": "HtlTYfzEXCnE",
        "colab_type": "code",
        "colab": {}
      },
      "source": [
        "ax = sns.catplot(x = \"sexo\",\n",
        "                y = \"qtd_acidentes\",\n",
        "                data = df_agesex,\n",
        "                col = \"idade\",\n",
        "                kind = \"boxen\",\n",
        "                hue = \"sexo\")\n"
      ],
      "execution_count": 0,
      "outputs": []
    },
    {
      "cell_type": "code",
      "metadata": {
        "id": "IE71JIrmxRSM",
        "colab_type": "code",
        "colab": {}
      },
      "source": [
        "df_agesex_agg = df_agesex.groupby(by=[\"ano\",\"idade\",\"sexo\"])[[\"qtd_acidentes\"]].sum()\n",
        "df_agesex_agg.reset_index(inplace=True)\n",
        "df_agesex_agg.sort_values(by=[\"ano\",\"idade\"])"
      ],
      "execution_count": 0,
      "outputs": []
    },
    {
      "cell_type": "code",
      "metadata": {
        "id": "PhAgpwPh0A8E",
        "colab_type": "code",
        "colab": {}
      },
      "source": [
        "df_agesex_agg.idade.unique()"
      ],
      "execution_count": 0,
      "outputs": []
    },
    {
      "cell_type": "code",
      "metadata": {
        "id": "o0kLtXBMz9p_",
        "colab_type": "code",
        "colab": {}
      },
      "source": [
        "ordered_age = ['Até 19 Anos','20 a 24 Anos', '25 a 29 Anos',\n",
        "               '30 a 34 Anos', '35 a 39 Anos','40 a 44 Anos',\n",
        "               '45 a 49 Anos', '50 a 54 Anos', '55 a 59 Anos',\n",
        "               '60 a 64 Anos', '65 a 69 Anos', '70 Anos e Mais']\n",
        "df_agesex_agg[\"idade_code\"]=df_agesex_agg.idade.astype(\"category\",\n",
        "                                                        ordered=True,\n",
        "                                                        categories = ordered_age).cat.codes\n",
        "df_agesex_agg.sort_values(by=\"idade_code\",inplace=True)"
      ],
      "execution_count": 0,
      "outputs": []
    },
    {
      "cell_type": "code",
      "metadata": {
        "id": "E4MUFUVloOWl",
        "colab_type": "code",
        "colab": {}
      },
      "source": [
        "df_agesex_agg[\"piram\"]=df_agesex_agg[[\"qtd_acidentes\",\"sexo\"]].apply(lambda x:\n",
        "                                                              x[\"qtd_acidentes\"] if x[\"sexo\"]==\"Feminino\" else x[\"qtd_acidentes\"]*(-1),\n",
        "                                                              axis =1)"
      ],
      "execution_count": 0,
      "outputs": []
    },
    {
      "cell_type": "code",
      "metadata": {
        "id": "XTALnaUCSJqa",
        "colab_type": "code",
        "colab": {}
      },
      "source": [
        "#desenhando a figura\n",
        "plt.figure(figsize=(13,10), dpi= 80)\n",
        "group_col = 'sexo'\n",
        "order_of_bars = df_agesex_agg.idade.unique()[::-1]\n",
        "colors = [plt.cm.Wistia(i/float(len(df_agesex_agg[group_col].unique())-1)) for i in range(len(df_agesex_agg[group_col].unique()))]\n",
        "\n",
        "for c, group in zip(colors, df_agesex_agg[group_col].unique()):\n",
        "    sns.barplot(x='piram', y='idade', data=df_agesex_agg.loc[df_agesex_agg[group_col]==group, :], order=order_of_bars, color=c, label=group)\n",
        "    \n",
        "#decorativo\n",
        "plt.xlabel(\"Quantidade de Acidentes\")\n",
        "plt.ylabel(\"Faixa Etária\")\n",
        "plt.yticks(fontsize=12)\n",
        "plt.title(\"Piramide etária dos acidentes de trabalho\", fontsize=22)\n",
        "plt.legend()\n",
        "plt.show()\n"
      ],
      "execution_count": 0,
      "outputs": []
    },
    {
      "cell_type": "markdown",
      "metadata": {
        "id": "zYRFKXBw8Wgg",
        "colab_type": "text"
      },
      "source": [
        "Essa pirâmide nos mostra que em média as mulheres se acidentam menos que os homens em todas as faixas etárias. Mostra também que a quantidade de acidentes possui um pico na faixa dos 25 aos 29 anos tanto para homens como para mulheres. Pelas barras de erro, vemos que as mulheres possuem a média de quantidade de acidentes menos dispersa na distribuição, em contraste com a dos homens. Por fim, Com os dados em questão, é possível também comparar essa pirâmide ano a ano e ir observando sua evolução."
      ]
    },
    {
      "cell_type": "code",
      "metadata": {
        "id": "pTcy709p2vX7",
        "colab_type": "code",
        "colab": {}
      },
      "source": [
        "anos = df_agesex_agg.sort_values(\"ano\").ano.unique()"
      ],
      "execution_count": 0,
      "outputs": []
    },
    {
      "cell_type": "code",
      "metadata": {
        "id": "O50Bmief2mS1",
        "colab_type": "code",
        "colab": {}
      },
      "source": [
        "for i in anos:\n",
        "  df_ano = df_agesex_agg[df_agesex_agg[\"ano\"]==i]\n",
        "#desenhando a figura\n",
        "  plt.figure(figsize=(13,10), dpi= 80)\n",
        "  group_col = 'sexo'\n",
        "  order_of_bars = df_ano.idade.unique()[::-1]\n",
        "  colors = [\"C1\",\"C2\"]\n",
        "  \n",
        "  \n",
        "  for c, group in zip(colors, df_ano[group_col].unique()):\n",
        "      sns.barplot(x='piram', y='idade', data=df_ano.loc[df_ano[group_col]==group, :], order=order_of_bars, color=c, label=group)\n",
        "    \n",
        "#decorativo\n",
        "  plt.xlabel(\"Quantidade de Acidentes\")\n",
        "  plt.xlim((-110000,50000))\n",
        "  plt.ylabel(\"Faixa Etária\")\n",
        "  plt.yticks(fontsize=12)\n",
        "  plt.title(\"Piramide etária dos acidentes de trabalho em {}\".format(i), fontsize=22)\n",
        "  plt.legend()\n",
        "  plt.show()"
      ],
      "execution_count": 0,
      "outputs": []
    },
    {
      "cell_type": "code",
      "metadata": {
        "id": "ou_gGJLn8tSn",
        "colab_type": "code",
        "colab": {}
      },
      "source": [
        "plt.figure(figsize=(16,10))\n",
        "sns.boxplot(x=\"ano\",y=\"qtd_acidentes\",data = df_agesex_agg)"
      ],
      "execution_count": 0,
      "outputs": []
    },
    {
      "cell_type": "markdown",
      "metadata": {
        "id": "dIvrqN5M-i8X",
        "colab_type": "text"
      },
      "source": [
        "Tendo em vista os dois gráficos, podemos observar que o número de acidentes de trabalho até meados de 2012 vinha se tornando mais disperso em relação a mediana. Com distribuições cada vez mais espaçadas. Isso decorre do fato de que os acidentes se concentram mais nos grupos etários jovens (dos 20 aos 44) os outros grupos po"
      ]
    },
    {
      "cell_type": "code",
      "metadata": {
        "id": "99mmUC46_iYP",
        "colab_type": "code",
        "colab": {}
      },
      "source": [
        ""
      ],
      "execution_count": 0,
      "outputs": []
    }
  ]
}