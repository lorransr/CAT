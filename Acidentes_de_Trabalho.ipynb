{
  "nbformat": 4,
  "nbformat_minor": 0,
  "metadata": {
    "colab": {
      "name": "Acidentes de Trabalho.ipynb",
      "version": "0.3.2",
      "provenance": [],
      "collapsed_sections": [],
      "toc_visible": true,
      "include_colab_link": true
    },
    "kernelspec": {
      "name": "python3",
      "display_name": "Python 3"
    }
  },
  "cells": [
    {
      "cell_type": "markdown",
      "metadata": {
        "id": "view-in-github",
        "colab_type": "text"
      },
      "source": [
        "<a href=\"https://colab.research.google.com/github/lorransr/CAT/blob/master/Acidentes_de_Trabalho.ipynb\" target=\"_parent\"><img src=\"https://colab.research.google.com/assets/colab-badge.svg\" alt=\"Open In Colab\"/></a>"
      ]
    },
    {
      "metadata": {
        "id": "BkUDqfi5-yMs",
        "colab_type": "text"
      },
      "cell_type": "markdown",
      "source": [
        "# Panorama dos acidentes de Trabalho no Brasil\n",
        "\n",
        "O observatório geral da saude e segurança  do trabalho estima que do periodo de 2017 até maio de 2019, são registrados 1 acidente a cada 54 segundos no país. Desse valor, estima-se também que 1 morte aconteça a cada 4 horas. Entender onde, com quem, quando e como ocorrem os acidentes de trabalho são os primeiros passos para nortearmos políticas públicas de prevenção de acidentes.\n",
        "\n",
        "Com isso em mente minha proposta é realizar uma analise, a partir das bases de dados disponibilizadas, através do portal da transparência, pela previdência social a respeito dos Acidentes do Trabalho ocorridos no pais.\n",
        "\n",
        "A princípio foram adquiridas 8 bases de dados, com diferentes recortes a respeito do tema. Elas são:\n",
        "1. Acidentes de Trabalho por UF\n",
        "2. Acidentes de Trabalho por mês\n",
        "3. Acidentes de Trabalho por faixa-etaria e sexo\n",
        "4. Acidentes de Trabalho por parte do corpo atingida\n",
        "5. Acidentes de Trabalho por CNAE (95)\n",
        "6. Acidentes de Trabalho por CNAE (2.0)\n",
        "7. Acidentes de Trabalho por CID\n",
        "8. Acidentes de Trabalho por CBO\n",
        "\n",
        "Todas as bases de dados estão segmentadas por ano. Todas contêm algum indicativo da situação de haver ou não CAT registrada. Igualmente, todas possuem um campo com a tipificação do acidente, seja ele típico, de trajeto ou uma doença de trabalho."
      ]
    },
    {
      "metadata": {
        "id": "HZ3ZzOuR_3v6",
        "colab_type": "text"
      },
      "cell_type": "markdown",
      "source": [
        "### Mas Afinal, o que é a CAT?\n",
        "\n",
        "A comunicação de acidente de trabalho (CAT) é um documento emitido para reconhecer tanto um **acidente de trabalho** ou **de trajeto** bem como uma **doença ocupacional**.\n",
        "Aqui vale a definição desses termos:\n",
        "\n",
        "* Acidente de trabalho ou de trajeto:é o acidente ocorrido no exercício da atividade profissional a serviço da empresa ou no deslocamento residência -> trabalho -> residência. \n",
        "\n",
        "*  Doença ocupacional: é aquela produzida ou desencadeada pelo exercício do trabalho peculiar a determinada atividade e constante da respectiva relação elaborada pelo Ministério do Trabalho e da Previdência Social.\n",
        "\n",
        "A CAT é um documento obrigatório e possui um prazo de emissão curto. Mesmo que não haja afastamento, a CAT deve ser emitida até o primeiro dia útil seguinte ao da ocorrência. Sob o risco de multa. Por conta desta característica a base de dados do INSS é extramemente útil e pouco defasada da realidade brasileira, portanto um bom instrumento para análise."
      ]
    },
    {
      "metadata": {
        "id": "tqJQbvCdBWa8",
        "colab_type": "text"
      },
      "cell_type": "markdown",
      "source": [
        "explicar melhor os seguintes termos:\n",
        "* CNAE \n",
        "* CID\n",
        "* CBO"
      ]
    },
    {
      "metadata": {
        "id": "JoPYEcpjBzie",
        "colab_type": "text"
      },
      "cell_type": "markdown",
      "source": [
        "## Acidentes de Trabalho por UF\n",
        "\n",
        "O primeiro dataset a ser estudado será o que diz respeito aos acidentes de trabalho por unidade federal. Com essa base de dados pretendo responder a pergunta: \"Onde ocorrem os acidentes de trabalho?\". Também sera mostrado a evolução ao longo do tempo para as principais regiões."
      ]
    },
    {
      "metadata": {
        "id": "VdYTOvg6FzXw",
        "colab_type": "code",
        "outputId": "56424754-9212-443c-f880-8159a31be38a",
        "colab": {
          "base_uri": "https://localhost:8080/",
          "height": 261
        }
      },
      "cell_type": "code",
      "source": [
        "!pip install seaborn==0.9.0"
      ],
      "execution_count": 1,
      "outputs": [
        {
          "output_type": "stream",
          "text": [
            "Requirement already satisfied: seaborn==0.9.0 in /usr/local/lib/python3.6/dist-packages (0.9.0)\n",
            "Requirement already satisfied: pandas>=0.15.2 in /usr/local/lib/python3.6/dist-packages (from seaborn==0.9.0) (0.22.0)\n",
            "Requirement already satisfied: matplotlib>=1.4.3 in /usr/local/lib/python3.6/dist-packages (from seaborn==0.9.0) (3.0.3)\n",
            "Requirement already satisfied: numpy>=1.9.3 in /usr/local/lib/python3.6/dist-packages (from seaborn==0.9.0) (1.14.6)\n",
            "Requirement already satisfied: scipy>=0.14.0 in /usr/local/lib/python3.6/dist-packages (from seaborn==0.9.0) (1.1.0)\n",
            "Requirement already satisfied: pytz>=2011k in /usr/local/lib/python3.6/dist-packages (from pandas>=0.15.2->seaborn==0.9.0) (2018.9)\n",
            "Requirement already satisfied: python-dateutil>=2 in /usr/local/lib/python3.6/dist-packages (from pandas>=0.15.2->seaborn==0.9.0) (2.5.3)\n",
            "Requirement already satisfied: cycler>=0.10 in /usr/local/lib/python3.6/dist-packages (from matplotlib>=1.4.3->seaborn==0.9.0) (0.10.0)\n",
            "Requirement already satisfied: kiwisolver>=1.0.1 in /usr/local/lib/python3.6/dist-packages (from matplotlib>=1.4.3->seaborn==0.9.0) (1.0.1)\n",
            "Requirement already satisfied: pyparsing!=2.0.4,!=2.1.2,!=2.1.6,>=2.0.1 in /usr/local/lib/python3.6/dist-packages (from matplotlib>=1.4.3->seaborn==0.9.0) (2.3.1)\n",
            "Requirement already satisfied: six>=1.5 in /usr/local/lib/python3.6/dist-packages (from python-dateutil>=2->pandas>=0.15.2->seaborn==0.9.0) (1.11.0)\n",
            "Requirement already satisfied: setuptools in /usr/local/lib/python3.6/dist-packages (from kiwisolver>=1.0.1->matplotlib>=1.4.3->seaborn==0.9.0) (40.9.0)\n"
          ],
          "name": "stdout"
        }
      ]
    },
    {
      "metadata": {
        "id": "aa1ZWDK6FD-3",
        "colab_type": "code",
        "colab": {}
      },
      "cell_type": "code",
      "source": [
        "import pandas as pd\n",
        "import numpy as np\n",
        "import seaborn as sns\n",
        "import matplotlib.pyplot as plt\n",
        "import matplotlib.animation as animation\n",
        "%matplotlib inline"
      ],
      "execution_count": 0,
      "outputs": []
    },
    {
      "metadata": {
        "id": "445SVfg0N5pL",
        "colab_type": "code",
        "colab": {}
      },
      "cell_type": "code",
      "source": [
        "#importando os dados para o Colab\n",
        "url = \"https://raw.githubusercontent.com/lorransr/CAT/master/ACT-uf.csv\""
      ],
      "execution_count": 0,
      "outputs": []
    },
    {
      "metadata": {
        "id": "to53TQN6FR0Z",
        "colab_type": "code",
        "colab": {}
      },
      "cell_type": "code",
      "source": [
        "#Salvando o dataframe\n",
        "df_uf = pd.read_csv(url, sep=\",\", encoding = \"latin-1\")"
      ],
      "execution_count": 0,
      "outputs": []
    },
    {
      "metadata": {
        "id": "71H5ZeK2FgCb",
        "colab_type": "code",
        "outputId": "15c516c8-89a2-4225-fbc3-fd9170caaa21",
        "colab": {
          "base_uri": "https://localhost:8080/",
          "height": 206
        }
      },
      "cell_type": "code",
      "source": [
        "#renomeando as colunas\n",
        "df_uf.columns = ['ano','estado','motivo/situação','qtd_acidentes']\n",
        "df_uf.head()"
      ],
      "execution_count": 5,
      "outputs": [
        {
          "output_type": "execute_result",
          "data": {
            "text/html": [
              "<div>\n",
              "<style scoped>\n",
              "    .dataframe tbody tr th:only-of-type {\n",
              "        vertical-align: middle;\n",
              "    }\n",
              "\n",
              "    .dataframe tbody tr th {\n",
              "        vertical-align: top;\n",
              "    }\n",
              "\n",
              "    .dataframe thead th {\n",
              "        text-align: right;\n",
              "    }\n",
              "</style>\n",
              "<table border=\"1\" class=\"dataframe\">\n",
              "  <thead>\n",
              "    <tr style=\"text-align: right;\">\n",
              "      <th></th>\n",
              "      <th>ano</th>\n",
              "      <th>estado</th>\n",
              "      <th>motivo/situação</th>\n",
              "      <th>qtd_acidentes</th>\n",
              "    </tr>\n",
              "  </thead>\n",
              "  <tbody>\n",
              "    <tr>\n",
              "      <th>0</th>\n",
              "      <td>1988</td>\n",
              "      <td>Rondônia</td>\n",
              "      <td>Típico-Com Cat</td>\n",
              "      <td>592.0</td>\n",
              "    </tr>\n",
              "    <tr>\n",
              "      <th>1</th>\n",
              "      <td>1988</td>\n",
              "      <td>Acre</td>\n",
              "      <td>Típico-Com Cat</td>\n",
              "      <td>115.0</td>\n",
              "    </tr>\n",
              "    <tr>\n",
              "      <th>2</th>\n",
              "      <td>1988</td>\n",
              "      <td>Amazonas</td>\n",
              "      <td>Típico-Com Cat</td>\n",
              "      <td>5173.0</td>\n",
              "    </tr>\n",
              "    <tr>\n",
              "      <th>3</th>\n",
              "      <td>1988</td>\n",
              "      <td>Pará</td>\n",
              "      <td>Típico-Com Cat</td>\n",
              "      <td>12172.0</td>\n",
              "    </tr>\n",
              "    <tr>\n",
              "      <th>4</th>\n",
              "      <td>1988</td>\n",
              "      <td>Maranhão</td>\n",
              "      <td>Típico-Com Cat</td>\n",
              "      <td>5916.0</td>\n",
              "    </tr>\n",
              "  </tbody>\n",
              "</table>\n",
              "</div>"
            ],
            "text/plain": [
              "    ano    estado motivo/situação  qtd_acidentes\n",
              "0  1988  Rondônia  Típico-Com Cat          592.0\n",
              "1  1988      Acre  Típico-Com Cat          115.0\n",
              "2  1988  Amazonas  Típico-Com Cat         5173.0\n",
              "3  1988      Pará  Típico-Com Cat        12172.0\n",
              "4  1988  Maranhão  Típico-Com Cat         5916.0"
            ]
          },
          "metadata": {
            "tags": []
          },
          "execution_count": 5
        }
      ]
    },
    {
      "metadata": {
        "id": "JCUh18iNPweK",
        "colab_type": "code",
        "outputId": "7a60b225-ca97-4e93-ce14-99228f6e8fed",
        "colab": {
          "base_uri": "https://localhost:8080/",
          "height": 110
        }
      },
      "cell_type": "code",
      "source": [
        "#Contando a quantidade de valores nulos\n",
        "df_uf.isna().sum()"
      ],
      "execution_count": 6,
      "outputs": [
        {
          "output_type": "execute_result",
          "data": {
            "text/plain": [
              "ano                0\n",
              "estado             0\n",
              "motivo/situação    0\n",
              "qtd_acidentes      1\n",
              "dtype: int64"
            ]
          },
          "metadata": {
            "tags": []
          },
          "execution_count": 6
        }
      ]
    },
    {
      "metadata": {
        "id": "7v89eeZqyR4c",
        "colab_type": "text"
      },
      "cell_type": "markdown",
      "source": [
        "Uma vez que existe apenas uma linha, em 2893 registros, contendo valores nulos, ela será descartada"
      ]
    },
    {
      "metadata": {
        "id": "8cOiVet8IxUO",
        "colab_type": "code",
        "colab": {}
      },
      "cell_type": "code",
      "source": [
        "#excluindo valores nulos\n",
        "df_uf.dropna(inplace=True) "
      ],
      "execution_count": 0,
      "outputs": []
    },
    {
      "metadata": {
        "id": "2liqDnJRQoVn",
        "colab_type": "text"
      },
      "cell_type": "markdown",
      "source": [
        "Para poder ter uma ideia da distribuição dos acidentes ao redor do pais é preciso primeiro vincular os estados na base de dados a uma latitude e longitude. A partir desse repositório no GitHub, foi possivel encontrar uma base consistente com algumas informações adicionais a respeito dos estados:https://github.com/kelvins/Municipios-Brasileiros/"
      ]
    },
    {
      "metadata": {
        "id": "xe5DuY_EGTxj",
        "colab_type": "code",
        "colab": {}
      },
      "cell_type": "code",
      "source": [
        "url = \"https://raw.githubusercontent.com/lorransr/CAT/master/brasil.csv\"\n",
        "#importando dataframe com lat e lon\n",
        "dim_uf = pd.read_csv(url, sep=\",\")"
      ],
      "execution_count": 0,
      "outputs": []
    },
    {
      "metadata": {
        "id": "z1Z523JbH_Bk",
        "colab_type": "code",
        "outputId": "47deed5b-5cc4-4751-862e-a6e9e17d4025",
        "colab": {
          "base_uri": "https://localhost:8080/",
          "height": 206
        }
      },
      "cell_type": "code",
      "source": [
        "dim_uf.head()"
      ],
      "execution_count": 9,
      "outputs": [
        {
          "output_type": "execute_result",
          "data": {
            "text/html": [
              "<div>\n",
              "<style scoped>\n",
              "    .dataframe tbody tr th:only-of-type {\n",
              "        vertical-align: middle;\n",
              "    }\n",
              "\n",
              "    .dataframe tbody tr th {\n",
              "        vertical-align: top;\n",
              "    }\n",
              "\n",
              "    .dataframe thead th {\n",
              "        text-align: right;\n",
              "    }\n",
              "</style>\n",
              "<table border=\"1\" class=\"dataframe\">\n",
              "  <thead>\n",
              "    <tr style=\"text-align: right;\">\n",
              "      <th></th>\n",
              "      <th>ibge</th>\n",
              "      <th>municipio</th>\n",
              "      <th>latitude</th>\n",
              "      <th>longitude</th>\n",
              "      <th>cod_estado</th>\n",
              "      <th>estado</th>\n",
              "      <th>uf</th>\n",
              "      <th>regiao</th>\n",
              "      <th>capital</th>\n",
              "    </tr>\n",
              "  </thead>\n",
              "  <tbody>\n",
              "    <tr>\n",
              "      <th>0</th>\n",
              "      <td>520005</td>\n",
              "      <td>Abadia de Goiás</td>\n",
              "      <td>-16.75730</td>\n",
              "      <td>-49.4412</td>\n",
              "      <td>52</td>\n",
              "      <td>Goiás</td>\n",
              "      <td>GO</td>\n",
              "      <td>Centro-Oeste</td>\n",
              "      <td>0</td>\n",
              "    </tr>\n",
              "    <tr>\n",
              "      <th>1</th>\n",
              "      <td>310010</td>\n",
              "      <td>Abadia dos Dourados</td>\n",
              "      <td>-18.48310</td>\n",
              "      <td>-47.3916</td>\n",
              "      <td>31</td>\n",
              "      <td>Minas Gerais</td>\n",
              "      <td>MG</td>\n",
              "      <td>Sudeste</td>\n",
              "      <td>0</td>\n",
              "    </tr>\n",
              "    <tr>\n",
              "      <th>2</th>\n",
              "      <td>520010</td>\n",
              "      <td>Abadiânia</td>\n",
              "      <td>-16.19700</td>\n",
              "      <td>-48.7057</td>\n",
              "      <td>52</td>\n",
              "      <td>Goiás</td>\n",
              "      <td>GO</td>\n",
              "      <td>Centro-Oeste</td>\n",
              "      <td>0</td>\n",
              "    </tr>\n",
              "    <tr>\n",
              "      <th>3</th>\n",
              "      <td>310020</td>\n",
              "      <td>Abaeté</td>\n",
              "      <td>-19.15510</td>\n",
              "      <td>-45.4444</td>\n",
              "      <td>31</td>\n",
              "      <td>Minas Gerais</td>\n",
              "      <td>MG</td>\n",
              "      <td>Sudeste</td>\n",
              "      <td>0</td>\n",
              "    </tr>\n",
              "    <tr>\n",
              "      <th>4</th>\n",
              "      <td>150010</td>\n",
              "      <td>Abaetetuba</td>\n",
              "      <td>-1.72183</td>\n",
              "      <td>-48.8788</td>\n",
              "      <td>15</td>\n",
              "      <td>Pará</td>\n",
              "      <td>PA</td>\n",
              "      <td>Norte</td>\n",
              "      <td>0</td>\n",
              "    </tr>\n",
              "  </tbody>\n",
              "</table>\n",
              "</div>"
            ],
            "text/plain": [
              "     ibge            municipio  latitude  longitude  cod_estado        estado  \\\n",
              "0  520005      Abadia de Goiás -16.75730   -49.4412          52         Goiás   \n",
              "1  310010  Abadia dos Dourados -18.48310   -47.3916          31  Minas Gerais   \n",
              "2  520010            Abadiânia -16.19700   -48.7057          52         Goiás   \n",
              "3  310020               Abaeté -19.15510   -45.4444          31  Minas Gerais   \n",
              "4  150010           Abaetetuba  -1.72183   -48.8788          15          Pará   \n",
              "\n",
              "   uf        regiao  capital  \n",
              "0  GO  Centro-Oeste        0  \n",
              "1  MG       Sudeste        0  \n",
              "2  GO  Centro-Oeste        0  \n",
              "3  MG       Sudeste        0  \n",
              "4  PA         Norte        0  "
            ]
          },
          "metadata": {
            "tags": []
          },
          "execution_count": 9
        }
      ]
    },
    {
      "metadata": {
        "id": "JqxDpVFmTaQ5",
        "colab_type": "code",
        "outputId": "a74fb1a6-b97f-4f6e-c943-ab29ebe99f3a",
        "colab": {
          "base_uri": "https://localhost:8080/",
          "height": 206
        }
      },
      "cell_type": "code",
      "source": [
        "#selecionando as colunas que firão no df\n",
        "selected_columns=['latitude', 'longitude', 'cod_estado', 'estado',\n",
        "       'uf', 'regiao', 'capital']\n",
        "dim_uf = dim_uf[selected_columns]\n",
        "#selecionando apenas as capitais\n",
        "dim_uf = dim_uf[dim_uf[\"capital\"]==1]\n",
        "#removendo duplicadas\n",
        "dim_uf.drop_duplicates(subset = \"cod_estado\",inplace=True)\n",
        "dim_uf.drop(\"capital\",axis=1,inplace=True)\n",
        "dim_uf.head()"
      ],
      "execution_count": 10,
      "outputs": [
        {
          "output_type": "execute_result",
          "data": {
            "text/html": [
              "<div>\n",
              "<style scoped>\n",
              "    .dataframe tbody tr th:only-of-type {\n",
              "        vertical-align: middle;\n",
              "    }\n",
              "\n",
              "    .dataframe tbody tr th {\n",
              "        vertical-align: top;\n",
              "    }\n",
              "\n",
              "    .dataframe thead th {\n",
              "        text-align: right;\n",
              "    }\n",
              "</style>\n",
              "<table border=\"1\" class=\"dataframe\">\n",
              "  <thead>\n",
              "    <tr style=\"text-align: right;\">\n",
              "      <th></th>\n",
              "      <th>latitude</th>\n",
              "      <th>longitude</th>\n",
              "      <th>cod_estado</th>\n",
              "      <th>estado</th>\n",
              "      <th>uf</th>\n",
              "      <th>regiao</th>\n",
              "    </tr>\n",
              "  </thead>\n",
              "  <tbody>\n",
              "    <tr>\n",
              "      <th>294</th>\n",
              "      <td>-10.90910</td>\n",
              "      <td>-37.0677</td>\n",
              "      <td>28</td>\n",
              "      <td>Sergipe</td>\n",
              "      <td>SE</td>\n",
              "      <td>Nordeste</td>\n",
              "    </tr>\n",
              "    <tr>\n",
              "      <th>580</th>\n",
              "      <td>-1.45540</td>\n",
              "      <td>-48.4898</td>\n",
              "      <td>15</td>\n",
              "      <td>Pará</td>\n",
              "      <td>PA</td>\n",
              "      <td>Norte</td>\n",
              "    </tr>\n",
              "    <tr>\n",
              "      <th>592</th>\n",
              "      <td>-19.91020</td>\n",
              "      <td>-43.9266</td>\n",
              "      <td>31</td>\n",
              "      <td>Minas Gerais</td>\n",
              "      <td>MG</td>\n",
              "      <td>Sudeste</td>\n",
              "    </tr>\n",
              "    <tr>\n",
              "      <th>642</th>\n",
              "      <td>2.82384</td>\n",
              "      <td>-60.6753</td>\n",
              "      <td>14</td>\n",
              "      <td>Roraima</td>\n",
              "      <td>RR</td>\n",
              "      <td>Norte</td>\n",
              "    </tr>\n",
              "    <tr>\n",
              "      <th>755</th>\n",
              "      <td>-15.77950</td>\n",
              "      <td>-47.9297</td>\n",
              "      <td>53</td>\n",
              "      <td>Distrito Federal</td>\n",
              "      <td>DF</td>\n",
              "      <td>Centro-Oeste</td>\n",
              "    </tr>\n",
              "  </tbody>\n",
              "</table>\n",
              "</div>"
            ],
            "text/plain": [
              "     latitude  longitude  cod_estado            estado  uf        regiao\n",
              "294 -10.90910   -37.0677          28           Sergipe  SE      Nordeste\n",
              "580  -1.45540   -48.4898          15              Pará  PA         Norte\n",
              "592 -19.91020   -43.9266          31      Minas Gerais  MG       Sudeste\n",
              "642   2.82384   -60.6753          14           Roraima  RR         Norte\n",
              "755 -15.77950   -47.9297          53  Distrito Federal  DF  Centro-Oeste"
            ]
          },
          "metadata": {
            "tags": []
          },
          "execution_count": 10
        }
      ]
    },
    {
      "metadata": {
        "id": "9fGTOePRQfDQ",
        "colab_type": "code",
        "outputId": "d5ed3716-bcad-4b17-c50b-e8b2e21dc9f7",
        "colab": {
          "base_uri": "https://localhost:8080/",
          "height": 206
        }
      },
      "cell_type": "code",
      "source": [
        "#Juntando os dataframes\n",
        "df_uf = pd.merge(df_uf,dim_uf, how =\"inner\", on=\"estado\")\n",
        "df_uf.head()"
      ],
      "execution_count": 11,
      "outputs": [
        {
          "output_type": "execute_result",
          "data": {
            "text/html": [
              "<div>\n",
              "<style scoped>\n",
              "    .dataframe tbody tr th:only-of-type {\n",
              "        vertical-align: middle;\n",
              "    }\n",
              "\n",
              "    .dataframe tbody tr th {\n",
              "        vertical-align: top;\n",
              "    }\n",
              "\n",
              "    .dataframe thead th {\n",
              "        text-align: right;\n",
              "    }\n",
              "</style>\n",
              "<table border=\"1\" class=\"dataframe\">\n",
              "  <thead>\n",
              "    <tr style=\"text-align: right;\">\n",
              "      <th></th>\n",
              "      <th>ano</th>\n",
              "      <th>estado</th>\n",
              "      <th>motivo/situação</th>\n",
              "      <th>qtd_acidentes</th>\n",
              "      <th>latitude</th>\n",
              "      <th>longitude</th>\n",
              "      <th>cod_estado</th>\n",
              "      <th>uf</th>\n",
              "      <th>regiao</th>\n",
              "    </tr>\n",
              "  </thead>\n",
              "  <tbody>\n",
              "    <tr>\n",
              "      <th>0</th>\n",
              "      <td>1988</td>\n",
              "      <td>Rondônia</td>\n",
              "      <td>Típico-Com Cat</td>\n",
              "      <td>592.0</td>\n",
              "      <td>-8.76077</td>\n",
              "      <td>-63.8999</td>\n",
              "      <td>11</td>\n",
              "      <td>RO</td>\n",
              "      <td>Norte</td>\n",
              "    </tr>\n",
              "    <tr>\n",
              "      <th>1</th>\n",
              "      <td>1988</td>\n",
              "      <td>Rondônia</td>\n",
              "      <td>Trajeto-Com Cat</td>\n",
              "      <td>78.0</td>\n",
              "      <td>-8.76077</td>\n",
              "      <td>-63.8999</td>\n",
              "      <td>11</td>\n",
              "      <td>RO</td>\n",
              "      <td>Norte</td>\n",
              "    </tr>\n",
              "    <tr>\n",
              "      <th>2</th>\n",
              "      <td>1988</td>\n",
              "      <td>Rondônia</td>\n",
              "      <td>Doença do Trabalho-Com Cat</td>\n",
              "      <td>9.0</td>\n",
              "      <td>-8.76077</td>\n",
              "      <td>-63.8999</td>\n",
              "      <td>11</td>\n",
              "      <td>RO</td>\n",
              "      <td>Norte</td>\n",
              "    </tr>\n",
              "    <tr>\n",
              "      <th>3</th>\n",
              "      <td>1989</td>\n",
              "      <td>Rondônia</td>\n",
              "      <td>Típico-Com Cat</td>\n",
              "      <td>558.0</td>\n",
              "      <td>-8.76077</td>\n",
              "      <td>-63.8999</td>\n",
              "      <td>11</td>\n",
              "      <td>RO</td>\n",
              "      <td>Norte</td>\n",
              "    </tr>\n",
              "    <tr>\n",
              "      <th>4</th>\n",
              "      <td>1989</td>\n",
              "      <td>Rondônia</td>\n",
              "      <td>Trajeto-Com Cat</td>\n",
              "      <td>52.0</td>\n",
              "      <td>-8.76077</td>\n",
              "      <td>-63.8999</td>\n",
              "      <td>11</td>\n",
              "      <td>RO</td>\n",
              "      <td>Norte</td>\n",
              "    </tr>\n",
              "  </tbody>\n",
              "</table>\n",
              "</div>"
            ],
            "text/plain": [
              "    ano    estado             motivo/situação  qtd_acidentes  latitude  \\\n",
              "0  1988  Rondônia              Típico-Com Cat          592.0  -8.76077   \n",
              "1  1988  Rondônia             Trajeto-Com Cat           78.0  -8.76077   \n",
              "2  1988  Rondônia  Doença do Trabalho-Com Cat            9.0  -8.76077   \n",
              "3  1989  Rondônia              Típico-Com Cat          558.0  -8.76077   \n",
              "4  1989  Rondônia             Trajeto-Com Cat           52.0  -8.76077   \n",
              "\n",
              "   longitude  cod_estado  uf regiao  \n",
              "0   -63.8999          11  RO  Norte  \n",
              "1   -63.8999          11  RO  Norte  \n",
              "2   -63.8999          11  RO  Norte  \n",
              "3   -63.8999          11  RO  Norte  \n",
              "4   -63.8999          11  RO  Norte  "
            ]
          },
          "metadata": {
            "tags": []
          },
          "execution_count": 11
        }
      ]
    },
    {
      "metadata": {
        "id": "3880mwmX0Scg",
        "colab_type": "text"
      },
      "cell_type": "markdown",
      "source": [
        "Foi necessário pegar apenas a localização das capitais pois dessa forma o mapa teria latitudes e longitudes que fariam mais sentido geograficamente. Do contrário os acidentes do RJ, poderiam estar vinculados a uma latitude e longitude na fronteira do estado, o que dificultaria a visualização."
      ]
    },
    {
      "metadata": {
        "id": "mSDHPfh5aFbM",
        "colab_type": "code",
        "outputId": "d7f7279d-f391-48fb-be9c-e126547e2713",
        "colab": {
          "base_uri": "https://localhost:8080/",
          "height": 204
        }
      },
      "cell_type": "code",
      "source": [
        "#lista dos tipos de dados\n",
        "df_uf.dtypes"
      ],
      "execution_count": 12,
      "outputs": [
        {
          "output_type": "execute_result",
          "data": {
            "text/plain": [
              "ano                 object\n",
              "estado              object\n",
              "motivo/situação     object\n",
              "qtd_acidentes      float64\n",
              "latitude           float64\n",
              "longitude          float64\n",
              "cod_estado           int64\n",
              "uf                  object\n",
              "regiao              object\n",
              "dtype: object"
            ]
          },
          "metadata": {
            "tags": []
          },
          "execution_count": 12
        }
      ]
    },
    {
      "metadata": {
        "id": "3fKxqUQ-1Ai4",
        "colab_type": "text"
      },
      "cell_type": "markdown",
      "source": [
        "o campo ano deve ser alterado para representar um número inteiro"
      ]
    },
    {
      "metadata": {
        "id": "3M0n6dTsaFig",
        "colab_type": "code",
        "colab": {}
      },
      "cell_type": "code",
      "source": [
        "df_uf.ano = df_uf.ano.astype('int64')"
      ],
      "execution_count": 0,
      "outputs": []
    },
    {
      "metadata": {
        "id": "usVOwOZxnu3R",
        "colab_type": "text"
      },
      "cell_type": "markdown",
      "source": [
        "Com a base de dados tratada agora é possivel tirar alguns insights dos dados adquiridos"
      ]
    },
    {
      "metadata": {
        "id": "gi8y5t0Nn3bW",
        "colab_type": "code",
        "outputId": "7399a640-5328-4d6f-e472-717f62d62064",
        "colab": {
          "base_uri": "https://localhost:8080/",
          "height": 300
        }
      },
      "cell_type": "code",
      "source": [
        "df_uf.describe()"
      ],
      "execution_count": 14,
      "outputs": [
        {
          "output_type": "execute_result",
          "data": {
            "text/html": [
              "<div>\n",
              "<style scoped>\n",
              "    .dataframe tbody tr th:only-of-type {\n",
              "        vertical-align: middle;\n",
              "    }\n",
              "\n",
              "    .dataframe tbody tr th {\n",
              "        vertical-align: top;\n",
              "    }\n",
              "\n",
              "    .dataframe thead th {\n",
              "        text-align: right;\n",
              "    }\n",
              "</style>\n",
              "<table border=\"1\" class=\"dataframe\">\n",
              "  <thead>\n",
              "    <tr style=\"text-align: right;\">\n",
              "      <th></th>\n",
              "      <th>ano</th>\n",
              "      <th>qtd_acidentes</th>\n",
              "      <th>latitude</th>\n",
              "      <th>longitude</th>\n",
              "      <th>cod_estado</th>\n",
              "    </tr>\n",
              "  </thead>\n",
              "  <tbody>\n",
              "    <tr>\n",
              "      <th>count</th>\n",
              "      <td>2893.000000</td>\n",
              "      <td>2893.000000</td>\n",
              "      <td>2893.000000</td>\n",
              "      <td>2893.000000</td>\n",
              "      <td>2893.000000</td>\n",
              "    </tr>\n",
              "    <tr>\n",
              "      <th>mean</th>\n",
              "      <td>2004.155202</td>\n",
              "      <td>5699.356723</td>\n",
              "      <td>-13.057547</td>\n",
              "      <td>-46.855375</td>\n",
              "      <td>29.812306</td>\n",
              "    </tr>\n",
              "    <tr>\n",
              "      <th>std</th>\n",
              "      <td>8.306485</td>\n",
              "      <td>21516.599192</td>\n",
              "      <td>8.788195</td>\n",
              "      <td>8.878290</td>\n",
              "      <td>12.667073</td>\n",
              "    </tr>\n",
              "    <tr>\n",
              "      <th>min</th>\n",
              "      <td>1988.000000</td>\n",
              "      <td>0.000000</td>\n",
              "      <td>-30.031800</td>\n",
              "      <td>-67.824300</td>\n",
              "      <td>11.000000</td>\n",
              "    </tr>\n",
              "    <tr>\n",
              "      <th>25%</th>\n",
              "      <td>1997.000000</td>\n",
              "      <td>97.000000</td>\n",
              "      <td>-20.315500</td>\n",
              "      <td>-51.206500</td>\n",
              "      <td>21.000000</td>\n",
              "    </tr>\n",
              "    <tr>\n",
              "      <th>50%</th>\n",
              "      <td>2006.000000</td>\n",
              "      <td>633.000000</td>\n",
              "      <td>-10.909100</td>\n",
              "      <td>-47.929700</td>\n",
              "      <td>28.000000</td>\n",
              "    </tr>\n",
              "    <tr>\n",
              "      <th>75%</th>\n",
              "      <td>2011.000000</td>\n",
              "      <td>3013.000000</td>\n",
              "      <td>-5.793570</td>\n",
              "      <td>-38.542300</td>\n",
              "      <td>41.000000</td>\n",
              "    </tr>\n",
              "    <tr>\n",
              "      <th>max</th>\n",
              "      <td>2016.000000</td>\n",
              "      <td>419981.000000</td>\n",
              "      <td>2.823840</td>\n",
              "      <td>-34.864100</td>\n",
              "      <td>53.000000</td>\n",
              "    </tr>\n",
              "  </tbody>\n",
              "</table>\n",
              "</div>"
            ],
            "text/plain": [
              "               ano  qtd_acidentes     latitude    longitude   cod_estado\n",
              "count  2893.000000    2893.000000  2893.000000  2893.000000  2893.000000\n",
              "mean   2004.155202    5699.356723   -13.057547   -46.855375    29.812306\n",
              "std       8.306485   21516.599192     8.788195     8.878290    12.667073\n",
              "min    1988.000000       0.000000   -30.031800   -67.824300    11.000000\n",
              "25%    1997.000000      97.000000   -20.315500   -51.206500    21.000000\n",
              "50%    2006.000000     633.000000   -10.909100   -47.929700    28.000000\n",
              "75%    2011.000000    3013.000000    -5.793570   -38.542300    41.000000\n",
              "max    2016.000000  419981.000000     2.823840   -34.864100    53.000000"
            ]
          },
          "metadata": {
            "tags": []
          },
          "execution_count": 14
        }
      ]
    },
    {
      "metadata": {
        "id": "FrdbSxENojXq",
        "colab_type": "text"
      },
      "cell_type": "markdown",
      "source": [
        "A princípio é possivel observar alguns pontos interessantes:\n",
        "* Existe em algum lugar dos dados linha(s) com zero acidentes\n",
        "* O maior númedo de acidentes registrado foi 419981 - o que levanta a questão a respeito do quando e onde isso ocorreu.\n",
        "* Esse número gigantesco de acidentes se trata de um outlier uma vez que a grande maioria dos valores está entre 0 a 3000 acidentes.\n",
        "* Nossa dataset abrange desde 1988 até 2016\n"
      ]
    },
    {
      "metadata": {
        "id": "AStoX8ibZjt-",
        "colab_type": "code",
        "outputId": "9789ecdd-846a-4fde-e283-b2fa42bf3151",
        "colab": {
          "base_uri": "https://localhost:8080/",
          "height": 237
        }
      },
      "cell_type": "code",
      "source": [
        "#numero de estados por região\n",
        "df_uf.groupby(by=[\"regiao\"])[[\"estado\"]].nunique()"
      ],
      "execution_count": 15,
      "outputs": [
        {
          "output_type": "execute_result",
          "data": {
            "text/html": [
              "<div>\n",
              "<style scoped>\n",
              "    .dataframe tbody tr th:only-of-type {\n",
              "        vertical-align: middle;\n",
              "    }\n",
              "\n",
              "    .dataframe tbody tr th {\n",
              "        vertical-align: top;\n",
              "    }\n",
              "\n",
              "    .dataframe thead th {\n",
              "        text-align: right;\n",
              "    }\n",
              "</style>\n",
              "<table border=\"1\" class=\"dataframe\">\n",
              "  <thead>\n",
              "    <tr style=\"text-align: right;\">\n",
              "      <th></th>\n",
              "      <th>estado</th>\n",
              "    </tr>\n",
              "    <tr>\n",
              "      <th>regiao</th>\n",
              "      <th></th>\n",
              "    </tr>\n",
              "  </thead>\n",
              "  <tbody>\n",
              "    <tr>\n",
              "      <th>Centro-Oeste</th>\n",
              "      <td>4</td>\n",
              "    </tr>\n",
              "    <tr>\n",
              "      <th>Nordeste</th>\n",
              "      <td>9</td>\n",
              "    </tr>\n",
              "    <tr>\n",
              "      <th>Norte</th>\n",
              "      <td>7</td>\n",
              "    </tr>\n",
              "    <tr>\n",
              "      <th>Sudeste</th>\n",
              "      <td>4</td>\n",
              "    </tr>\n",
              "    <tr>\n",
              "      <th>Sul</th>\n",
              "      <td>3</td>\n",
              "    </tr>\n",
              "  </tbody>\n",
              "</table>\n",
              "</div>"
            ],
            "text/plain": [
              "              estado\n",
              "regiao              \n",
              "Centro-Oeste       4\n",
              "Nordeste           9\n",
              "Norte              7\n",
              "Sudeste            4\n",
              "Sul                3"
            ]
          },
          "metadata": {
            "tags": []
          },
          "execution_count": 15
        }
      ]
    },
    {
      "metadata": {
        "id": "HyUjufLb66iR",
        "colab_type": "text"
      },
      "cell_type": "markdown",
      "source": [
        "Os dados estão destribuidos em 5 regiões. A região do nordeste é a mais representativa no data set por conta justamente do numero grande de estados."
      ]
    },
    {
      "metadata": {
        "id": "ostNJQV_7uWz",
        "colab_type": "text"
      },
      "cell_type": "markdown",
      "source": [
        "###  Top 10 estados com mais acidentes"
      ]
    },
    {
      "metadata": {
        "id": "CHyRV5UX7z-J",
        "colab_type": "code",
        "colab": {}
      },
      "cell_type": "code",
      "source": [
        "agrupado = df_uf.groupby(by=['estado',\"regiao\",\"ano\"])[[\"qtd_acidentes\"]].sum().reset_index()\n",
        "\n",
        "anos = agrupado.ano.unique()"
      ],
      "execution_count": 0,
      "outputs": []
    },
    {
      "metadata": {
        "id": "O9N0jJhL71wv",
        "colab_type": "code",
        "outputId": "c7e27eb4-dc24-48a7-ded9-ec1cf2f4c2c6",
        "colab": {
          "base_uri": "https://localhost:8080/",
          "height": 363
        }
      },
      "cell_type": "code",
      "source": [
        "#media dos anos\n",
        "agrupado_media = agrupado.groupby(by=[\"estado\",\"regiao\"])[[\"qtd_acidentes\"]].mean()\n",
        "agrupado_media.sort_values(by=\"qtd_acidentes\",ascending=False,inplace=True)\n",
        "agrupado_media=agrupado_media.reset_index()\n",
        "agrupado_media.head(10)"
      ],
      "execution_count": 17,
      "outputs": [
        {
          "output_type": "execute_result",
          "data": {
            "text/html": [
              "<div>\n",
              "<style scoped>\n",
              "    .dataframe tbody tr th:only-of-type {\n",
              "        vertical-align: middle;\n",
              "    }\n",
              "\n",
              "    .dataframe tbody tr th {\n",
              "        vertical-align: top;\n",
              "    }\n",
              "\n",
              "    .dataframe thead th {\n",
              "        text-align: right;\n",
              "    }\n",
              "</style>\n",
              "<table border=\"1\" class=\"dataframe\">\n",
              "  <thead>\n",
              "    <tr style=\"text-align: right;\">\n",
              "      <th></th>\n",
              "      <th>estado</th>\n",
              "      <th>regiao</th>\n",
              "      <th>qtd_acidentes</th>\n",
              "    </tr>\n",
              "  </thead>\n",
              "  <tbody>\n",
              "    <tr>\n",
              "      <th>0</th>\n",
              "      <td>São Paulo</td>\n",
              "      <td>Sudeste</td>\n",
              "      <td>233079.482759</td>\n",
              "    </tr>\n",
              "    <tr>\n",
              "      <th>1</th>\n",
              "      <td>Minas Gerais</td>\n",
              "      <td>Sudeste</td>\n",
              "      <td>61328.068966</td>\n",
              "    </tr>\n",
              "    <tr>\n",
              "      <th>2</th>\n",
              "      <td>Rio Grande do Sul</td>\n",
              "      <td>Sul</td>\n",
              "      <td>49233.793103</td>\n",
              "    </tr>\n",
              "    <tr>\n",
              "      <th>3</th>\n",
              "      <td>Paraná</td>\n",
              "      <td>Sul</td>\n",
              "      <td>40790.620690</td>\n",
              "    </tr>\n",
              "    <tr>\n",
              "      <th>4</th>\n",
              "      <td>Rio de Janeiro</td>\n",
              "      <td>Sudeste</td>\n",
              "      <td>38621.551724</td>\n",
              "    </tr>\n",
              "    <tr>\n",
              "      <th>5</th>\n",
              "      <td>Santa Catarina</td>\n",
              "      <td>Sul</td>\n",
              "      <td>35255.586207</td>\n",
              "    </tr>\n",
              "    <tr>\n",
              "      <th>6</th>\n",
              "      <td>Bahia</td>\n",
              "      <td>Nordeste</td>\n",
              "      <td>15054.413793</td>\n",
              "    </tr>\n",
              "    <tr>\n",
              "      <th>7</th>\n",
              "      <td>Pernambuco</td>\n",
              "      <td>Nordeste</td>\n",
              "      <td>12210.655172</td>\n",
              "    </tr>\n",
              "    <tr>\n",
              "      <th>8</th>\n",
              "      <td>Goiás</td>\n",
              "      <td>Centro-Oeste</td>\n",
              "      <td>11632.172414</td>\n",
              "    </tr>\n",
              "    <tr>\n",
              "      <th>9</th>\n",
              "      <td>Espírito Santo</td>\n",
              "      <td>Sudeste</td>\n",
              "      <td>10061.896552</td>\n",
              "    </tr>\n",
              "  </tbody>\n",
              "</table>\n",
              "</div>"
            ],
            "text/plain": [
              "              estado        regiao  qtd_acidentes\n",
              "0          São Paulo       Sudeste  233079.482759\n",
              "1       Minas Gerais       Sudeste   61328.068966\n",
              "2  Rio Grande do Sul           Sul   49233.793103\n",
              "3             Paraná           Sul   40790.620690\n",
              "4     Rio de Janeiro       Sudeste   38621.551724\n",
              "5     Santa Catarina           Sul   35255.586207\n",
              "6              Bahia      Nordeste   15054.413793\n",
              "7         Pernambuco      Nordeste   12210.655172\n",
              "8              Goiás  Centro-Oeste   11632.172414\n",
              "9     Espírito Santo       Sudeste   10061.896552"
            ]
          },
          "metadata": {
            "tags": []
          },
          "execution_count": 17
        }
      ]
    },
    {
      "metadata": {
        "id": "fNblLHfJ8IW8",
        "colab_type": "text"
      },
      "cell_type": "markdown",
      "source": [
        "Mais uma vez São Paulo se mostra como grande outlier da massa de dados. Na verdade, com relação as médias todos os estados do sudeste figuram na lista. Porém a comparação é injusta visto que o Brasil é um pais de dimensões continentais e a região sudeste é a mais populosa. Para avaliar melhor a situação do pais deve ser observado os estados com as maiores médias de acidente e em seguida observar o comportamento deles ao longo dos anos."
      ]
    },
    {
      "metadata": {
        "id": "eg2fgLbH787n",
        "colab_type": "code",
        "outputId": "7946399e-eca0-4ee6-a6db-a22e0e3cc7ee",
        "colab": {
          "base_uri": "https://localhost:8080/",
          "height": 405
        }
      },
      "cell_type": "code",
      "source": [
        "plt.figure(figsize = (16,6))\n",
        "m = sns.barplot(y=\"estado\",\n",
        "                x =\"qtd_acidentes\",\n",
        "                data = agrupado_media);\n",
        "m.set_title(\"Média da quantidade de Acidentes de Trabalho por estado\");\n"
      ],
      "execution_count": 18,
      "outputs": [
        {
          "output_type": "display_data",
          "data": {
            "image/png": "[encoded data removed]",
            "text/plain": [
              "<Figure size 1152x432 with 1 Axes>"
            ]
          },
          "metadata": {
            "tags": []
          }
        }
      ]
    },
    {
      "metadata": {
        "id": "o0tFjYEA-2JF",
        "colab_type": "text"
      },
      "cell_type": "markdown",
      "source": [
        "Os estados foram divididos por regiões de forma a melhorar a visualização do gráfico interativo abaixo."
      ]
    },
    {
      "metadata": {
        "id": "KL9ic6gZ8Qhm",
        "colab_type": "code",
        "outputId": "3b13f9f2-a9f6-458f-ac34-0dd5115ee2f4",
        "colab": {
          "base_uri": "https://localhost:8080/",
          "height": 405
        }
      },
      "cell_type": "code",
      "source": [
        "#@title Estados com mais acidentes por região por ano { run: \"auto\" }\n",
        "ano = 2003 #@param {type:\"slider\", min:1988, max:2016, step:1}\n",
        "regiao = \"Centro-Oeste\" #@param [\"Norte\", \"Nordeste\", \"Sudeste\", \"Sul\", \"Centro-Oeste\"]\n",
        "\n",
        "#agrupando o df por regiao\n",
        "agrupado_regiao = agrupado[agrupado[\"regiao\"]==regiao]\n",
        "\n",
        "#criando o df para ser plotado\n",
        "data = agrupado[agrupado[\"regiao\"]==regiao]\n",
        "data = data[data[\"ano\"]==ano]\n",
        "data.sort_values(\"qtd_acidentes\",inplace=True,ascending=False)\n",
        "\n",
        "#plotando\n",
        "plt.figure(figsize =(16,6))\n",
        "p = sns.barplot(y=list(data.estado.unique()),\n",
        "                  x=\"qtd_acidentes\",\n",
        "                  data=data);\n",
        "p.set_xlim(min(agrupado_regiao.qtd_acidentes)\n",
        "           ,max(agrupado_regiao.qtd_acidentes))\n",
        "p.set_title(regiao + \" - \"+str(ano));\n"
      ],
      "execution_count": 19,
      "outputs": [
        {
          "output_type": "display_data",
          "data": {
            "image/png": "[encoded data removed]",
            "text/plain": [
              "<Figure size 1152x432 with 1 Axes>"
            ]
          },
          "metadata": {
            "tags": []
          }
        }
      ]
    },
    {
      "metadata": {
        "id": "I9IW0BWhgtQ6",
        "colab_type": "code",
        "outputId": "ecbf37da-60e7-4bc8-c52a-7ac35432cfdc",
        "colab": {
          "base_uri": "https://localhost:8080/",
          "height": 464
        }
      },
      "cell_type": "code",
      "source": [
        "plt.figure(figsize=(16, 6))\n",
        "g = sns.FacetGrid(agrupado,\n",
        "                  col=\"regiao\",\n",
        "                  size = 5,\n",
        "                  aspect = 3,\n",
        "                  sharey=False,\n",
        "                  hue = \"regiao\");\n",
        "\n",
        "\n",
        "g.map_dataframe(sns.barplot,'ano',\"qtd_acidentes\",ci = None).add_legend()\n"
      ],
      "execution_count": 20,
      "outputs": [
        {
          "output_type": "stream",
          "text": [
            "/usr/local/lib/python3.6/dist-packages/seaborn/axisgrid.py:230: UserWarning: The `size` paramter has been renamed to `height`; please update your code.\n",
            "  warnings.warn(msg, UserWarning)\n"
          ],
          "name": "stderr"
        },
        {
          "output_type": "execute_result",
          "data": {
            "text/plain": [
              "<seaborn.axisgrid.FacetGrid at 0x7fd5847cdc88>"
            ]
          },
          "metadata": {
            "tags": []
          },
          "execution_count": 20
        },
        {
          "output_type": "display_data",
          "data": {
            "text/plain": [
              "<Figure size 1152x432 with 0 Axes>"
            ]
          },
          "metadata": {
            "tags": []
          }
        },
        {
          "output_type": "display_data",
          "data": {
            "image/png": "[encoded data removed]",
            "text/plain": [
              "<Figure size 5502.12x360 with 5 Axes>"
            ]
          },
          "metadata": {
            "tags": []
          }
        }
      ]
    },
    {
      "metadata": {
        "id": "_vCYTZjHcks-",
        "colab_type": "text"
      },
      "cell_type": "markdown",
      "source": [
        "No que diz respeito as médias. As regiões Norte, Nordeste e Centro-Oeste apresentaram um comportamento parecido ao longo dos anos. O comportamento é descrito como uma queda na quantidade de acidentes no início da decada de 90 e logo seguido por uma crescente até 2016. Este comportamento não foi observado nas regiões, Sul e Sudeste. A região Sudeste vinha em queda até 2001. de 2002 a 2013, o Sudeste experimentou um aumento de mais de 40000 acidentes. Desde então a região têm presenciado um progresso na área. A história é parecida para a região Sul."
      ]
    },
    {
      "metadata": {
        "id": "iLrpWyODpnJf",
        "colab_type": "text"
      },
      "cell_type": "markdown",
      "source": [
        "### Zero Acidentes\n",
        "\n",
        "Onde será que tivemos zero acidentes?"
      ]
    },
    {
      "metadata": {
        "id": "swE5MmQtqSaD",
        "colab_type": "code",
        "outputId": "2599ebd2-ce35-4d71-8d00-0e1d6afa6109",
        "colab": {
          "base_uri": "https://localhost:8080/",
          "height": 1178
        }
      },
      "cell_type": "code",
      "source": [
        "#Criando a tabela de zero acidentes\n",
        "zero_acidentes = df_uf[df_uf['qtd_acidentes']==0]\n",
        "zero_acidentes.sort_values([\"regiao\",\n",
        "                            \"estado\",\n",
        "                            \"ano\"]).drop(labels=[\"latitude\",\n",
        "                                                 \"longitude\",\n",
        "                                                 \"cod_estado\",\n",
        "                                                 \"uf\"],axis=1)"
      ],
      "execution_count": 21,
      "outputs": [
        {
          "output_type": "execute_result",
          "data": {
            "text/html": [
              "<div>\n",
              "<style scoped>\n",
              "    .dataframe tbody tr th:only-of-type {\n",
              "        vertical-align: middle;\n",
              "    }\n",
              "\n",
              "    .dataframe tbody tr th {\n",
              "        vertical-align: top;\n",
              "    }\n",
              "\n",
              "    .dataframe thead th {\n",
              "        text-align: right;\n",
              "    }\n",
              "</style>\n",
              "<table border=\"1\" class=\"dataframe\">\n",
              "  <thead>\n",
              "    <tr style=\"text-align: right;\">\n",
              "      <th></th>\n",
              "      <th>ano</th>\n",
              "      <th>estado</th>\n",
              "      <th>motivo/situação</th>\n",
              "      <th>qtd_acidentes</th>\n",
              "      <th>regiao</th>\n",
              "    </tr>\n",
              "  </thead>\n",
              "  <tbody>\n",
              "    <tr>\n",
              "      <th>2347</th>\n",
              "      <td>1993</td>\n",
              "      <td>Mato Grosso</td>\n",
              "      <td>Trajeto-Com Cat</td>\n",
              "      <td>0.0</td>\n",
              "      <td>Centro-Oeste</td>\n",
              "    </tr>\n",
              "    <tr>\n",
              "      <th>1075</th>\n",
              "      <td>1989</td>\n",
              "      <td>Alagoas</td>\n",
              "      <td>Doença do Trabalho-Com Cat</td>\n",
              "      <td>0.0</td>\n",
              "      <td>Nordeste</td>\n",
              "    </tr>\n",
              "    <tr>\n",
              "      <th>1078</th>\n",
              "      <td>1990</td>\n",
              "      <td>Alagoas</td>\n",
              "      <td>Doença do Trabalho-Com Cat</td>\n",
              "      <td>0.0</td>\n",
              "      <td>Nordeste</td>\n",
              "    </tr>\n",
              "    <tr>\n",
              "      <th>434</th>\n",
              "      <td>1990</td>\n",
              "      <td>Maranhão</td>\n",
              "      <td>Doença do Trabalho-Com Cat</td>\n",
              "      <td>0.0</td>\n",
              "      <td>Nordeste</td>\n",
              "    </tr>\n",
              "    <tr>\n",
              "      <th>437</th>\n",
              "      <td>1991</td>\n",
              "      <td>Maranhão</td>\n",
              "      <td>Doença do Trabalho-Com Cat</td>\n",
              "      <td>0.0</td>\n",
              "      <td>Nordeste</td>\n",
              "    </tr>\n",
              "    <tr>\n",
              "      <th>446</th>\n",
              "      <td>1994</td>\n",
              "      <td>Maranhão</td>\n",
              "      <td>Doença do Trabalho-Com Cat</td>\n",
              "      <td>0.0</td>\n",
              "      <td>Nordeste</td>\n",
              "    </tr>\n",
              "    <tr>\n",
              "      <th>449</th>\n",
              "      <td>1995</td>\n",
              "      <td>Maranhão</td>\n",
              "      <td>Doença do Trabalho-Com Cat</td>\n",
              "      <td>0.0</td>\n",
              "      <td>Nordeste</td>\n",
              "    </tr>\n",
              "    <tr>\n",
              "      <th>527</th>\n",
              "      <td>1988</td>\n",
              "      <td>Piauí</td>\n",
              "      <td>Doença do Trabalho-Com Cat</td>\n",
              "      <td>0.0</td>\n",
              "      <td>Nordeste</td>\n",
              "    </tr>\n",
              "    <tr>\n",
              "      <th>539</th>\n",
              "      <td>1992</td>\n",
              "      <td>Piauí</td>\n",
              "      <td>Doença do Trabalho-Com Cat</td>\n",
              "      <td>0.0</td>\n",
              "      <td>Nordeste</td>\n",
              "    </tr>\n",
              "    <tr>\n",
              "      <th>548</th>\n",
              "      <td>1995</td>\n",
              "      <td>Piauí</td>\n",
              "      <td>Doença do Trabalho-Com Cat</td>\n",
              "      <td>0.0</td>\n",
              "      <td>Nordeste</td>\n",
              "    </tr>\n",
              "    <tr>\n",
              "      <th>115</th>\n",
              "      <td>1988</td>\n",
              "      <td>Acre</td>\n",
              "      <td>Doença do Trabalho-Com Cat</td>\n",
              "      <td>0.0</td>\n",
              "      <td>Norte</td>\n",
              "    </tr>\n",
              "    <tr>\n",
              "      <th>121</th>\n",
              "      <td>1990</td>\n",
              "      <td>Acre</td>\n",
              "      <td>Doença do Trabalho-Com Cat</td>\n",
              "      <td>0.0</td>\n",
              "      <td>Norte</td>\n",
              "    </tr>\n",
              "    <tr>\n",
              "      <th>124</th>\n",
              "      <td>1991</td>\n",
              "      <td>Acre</td>\n",
              "      <td>Doença do Trabalho-Com Cat</td>\n",
              "      <td>0.0</td>\n",
              "      <td>Norte</td>\n",
              "    </tr>\n",
              "    <tr>\n",
              "      <th>127</th>\n",
              "      <td>1992</td>\n",
              "      <td>Acre</td>\n",
              "      <td>Doença do Trabalho-Com Cat</td>\n",
              "      <td>0.0</td>\n",
              "      <td>Norte</td>\n",
              "    </tr>\n",
              "    <tr>\n",
              "      <th>130</th>\n",
              "      <td>1993</td>\n",
              "      <td>Acre</td>\n",
              "      <td>Doença do Trabalho-Com Cat</td>\n",
              "      <td>0.0</td>\n",
              "      <td>Norte</td>\n",
              "    </tr>\n",
              "    <tr>\n",
              "      <th>131</th>\n",
              "      <td>1994</td>\n",
              "      <td>Acre</td>\n",
              "      <td>Típico-Com Cat</td>\n",
              "      <td>0.0</td>\n",
              "      <td>Norte</td>\n",
              "    </tr>\n",
              "    <tr>\n",
              "      <th>132</th>\n",
              "      <td>1994</td>\n",
              "      <td>Acre</td>\n",
              "      <td>Trajeto-Com Cat</td>\n",
              "      <td>0.0</td>\n",
              "      <td>Norte</td>\n",
              "    </tr>\n",
              "    <tr>\n",
              "      <th>133</th>\n",
              "      <td>1994</td>\n",
              "      <td>Acre</td>\n",
              "      <td>Doença do Trabalho-Com Cat</td>\n",
              "      <td>0.0</td>\n",
              "      <td>Norte</td>\n",
              "    </tr>\n",
              "    <tr>\n",
              "      <th>136</th>\n",
              "      <td>1995</td>\n",
              "      <td>Acre</td>\n",
              "      <td>Doença do Trabalho-Com Cat</td>\n",
              "      <td>0.0</td>\n",
              "      <td>Norte</td>\n",
              "    </tr>\n",
              "    <tr>\n",
              "      <th>138</th>\n",
              "      <td>1996</td>\n",
              "      <td>Acre</td>\n",
              "      <td>Trajeto-Com Cat</td>\n",
              "      <td>0.0</td>\n",
              "      <td>Norte</td>\n",
              "    </tr>\n",
              "    <tr>\n",
              "      <th>2659</th>\n",
              "      <td>1994</td>\n",
              "      <td>Amapá</td>\n",
              "      <td>Típico-Com Cat</td>\n",
              "      <td>0.0</td>\n",
              "      <td>Norte</td>\n",
              "    </tr>\n",
              "    <tr>\n",
              "      <th>2660</th>\n",
              "      <td>1994</td>\n",
              "      <td>Amapá</td>\n",
              "      <td>Trajeto-Com Cat</td>\n",
              "      <td>0.0</td>\n",
              "      <td>Norte</td>\n",
              "    </tr>\n",
              "    <tr>\n",
              "      <th>2661</th>\n",
              "      <td>1994</td>\n",
              "      <td>Amapá</td>\n",
              "      <td>Doença do Trabalho-Com Cat</td>\n",
              "      <td>0.0</td>\n",
              "      <td>Norte</td>\n",
              "    </tr>\n",
              "    <tr>\n",
              "      <th>2666</th>\n",
              "      <td>1996</td>\n",
              "      <td>Amapá</td>\n",
              "      <td>Trajeto-Com Cat</td>\n",
              "      <td>0.0</td>\n",
              "      <td>Norte</td>\n",
              "    </tr>\n",
              "    <tr>\n",
              "      <th>326</th>\n",
              "      <td>1989</td>\n",
              "      <td>Pará</td>\n",
              "      <td>Doença do Trabalho-Com Cat</td>\n",
              "      <td>0.0</td>\n",
              "      <td>Norte</td>\n",
              "    </tr>\n",
              "    <tr>\n",
              "      <th>329</th>\n",
              "      <td>1990</td>\n",
              "      <td>Pará</td>\n",
              "      <td>Doença do Trabalho-Com Cat</td>\n",
              "      <td>0.0</td>\n",
              "      <td>Norte</td>\n",
              "    </tr>\n",
              "    <tr>\n",
              "      <th>18</th>\n",
              "      <td>1994</td>\n",
              "      <td>Rondônia</td>\n",
              "      <td>Típico-Com Cat</td>\n",
              "      <td>0.0</td>\n",
              "      <td>Norte</td>\n",
              "    </tr>\n",
              "    <tr>\n",
              "      <th>19</th>\n",
              "      <td>1994</td>\n",
              "      <td>Rondônia</td>\n",
              "      <td>Trajeto-Com Cat</td>\n",
              "      <td>0.0</td>\n",
              "      <td>Norte</td>\n",
              "    </tr>\n",
              "    <tr>\n",
              "      <th>20</th>\n",
              "      <td>1994</td>\n",
              "      <td>Rondônia</td>\n",
              "      <td>Doença do Trabalho-Com Cat</td>\n",
              "      <td>0.0</td>\n",
              "      <td>Norte</td>\n",
              "    </tr>\n",
              "    <tr>\n",
              "      <th>2825</th>\n",
              "      <td>1998</td>\n",
              "      <td>Roraima</td>\n",
              "      <td>Doença do Trabalho-Com Cat</td>\n",
              "      <td>0.0</td>\n",
              "      <td>Norte</td>\n",
              "    </tr>\n",
              "    <tr>\n",
              "      <th>2739</th>\n",
              "      <td>1994</td>\n",
              "      <td>Tocantins</td>\n",
              "      <td>Típico-Com Cat</td>\n",
              "      <td>0.0</td>\n",
              "      <td>Norte</td>\n",
              "    </tr>\n",
              "    <tr>\n",
              "      <th>2740</th>\n",
              "      <td>1994</td>\n",
              "      <td>Tocantins</td>\n",
              "      <td>Trajeto-Com Cat</td>\n",
              "      <td>0.0</td>\n",
              "      <td>Norte</td>\n",
              "    </tr>\n",
              "    <tr>\n",
              "      <th>2741</th>\n",
              "      <td>1994</td>\n",
              "      <td>Tocantins</td>\n",
              "      <td>Doença do Trabalho-Com Cat</td>\n",
              "      <td>0.0</td>\n",
              "      <td>Norte</td>\n",
              "    </tr>\n",
              "    <tr>\n",
              "      <th>2125</th>\n",
              "      <td>1995</td>\n",
              "      <td>Rio Grande do Sul</td>\n",
              "      <td>Típico-Com Cat</td>\n",
              "      <td>0.0</td>\n",
              "      <td>Sul</td>\n",
              "    </tr>\n",
              "    <tr>\n",
              "      <th>2126</th>\n",
              "      <td>1995</td>\n",
              "      <td>Rio Grande do Sul</td>\n",
              "      <td>Trajeto-Com Cat</td>\n",
              "      <td>0.0</td>\n",
              "      <td>Sul</td>\n",
              "    </tr>\n",
              "    <tr>\n",
              "      <th>2127</th>\n",
              "      <td>1995</td>\n",
              "      <td>Rio Grande do Sul</td>\n",
              "      <td>Doença do Trabalho-Com Cat</td>\n",
              "      <td>0.0</td>\n",
              "      <td>Sul</td>\n",
              "    </tr>\n",
              "  </tbody>\n",
              "</table>\n",
              "</div>"
            ],
            "text/plain": [
              "       ano             estado             motivo/situação  qtd_acidentes  \\\n",
              "2347  1993        Mato Grosso             Trajeto-Com Cat            0.0   \n",
              "1075  1989            Alagoas  Doença do Trabalho-Com Cat            0.0   \n",
              "1078  1990            Alagoas  Doença do Trabalho-Com Cat            0.0   \n",
              "434   1990           Maranhão  Doença do Trabalho-Com Cat            0.0   \n",
              "437   1991           Maranhão  Doença do Trabalho-Com Cat            0.0   \n",
              "446   1994           Maranhão  Doença do Trabalho-Com Cat            0.0   \n",
              "449   1995           Maranhão  Doença do Trabalho-Com Cat            0.0   \n",
              "527   1988              Piauí  Doença do Trabalho-Com Cat            0.0   \n",
              "539   1992              Piauí  Doença do Trabalho-Com Cat            0.0   \n",
              "548   1995              Piauí  Doença do Trabalho-Com Cat            0.0   \n",
              "115   1988               Acre  Doença do Trabalho-Com Cat            0.0   \n",
              "121   1990               Acre  Doença do Trabalho-Com Cat            0.0   \n",
              "124   1991               Acre  Doença do Trabalho-Com Cat            0.0   \n",
              "127   1992               Acre  Doença do Trabalho-Com Cat            0.0   \n",
              "130   1993               Acre  Doença do Trabalho-Com Cat            0.0   \n",
              "131   1994               Acre              Típico-Com Cat            0.0   \n",
              "132   1994               Acre             Trajeto-Com Cat            0.0   \n",
              "133   1994               Acre  Doença do Trabalho-Com Cat            0.0   \n",
              "136   1995               Acre  Doença do Trabalho-Com Cat            0.0   \n",
              "138   1996               Acre             Trajeto-Com Cat            0.0   \n",
              "2659  1994              Amapá              Típico-Com Cat            0.0   \n",
              "2660  1994              Amapá             Trajeto-Com Cat            0.0   \n",
              "2661  1994              Amapá  Doença do Trabalho-Com Cat            0.0   \n",
              "2666  1996              Amapá             Trajeto-Com Cat            0.0   \n",
              "326   1989               Pará  Doença do Trabalho-Com Cat            0.0   \n",
              "329   1990               Pará  Doença do Trabalho-Com Cat            0.0   \n",
              "18    1994           Rondônia              Típico-Com Cat            0.0   \n",
              "19    1994           Rondônia             Trajeto-Com Cat            0.0   \n",
              "20    1994           Rondônia  Doença do Trabalho-Com Cat            0.0   \n",
              "2825  1998            Roraima  Doença do Trabalho-Com Cat            0.0   \n",
              "2739  1994          Tocantins              Típico-Com Cat            0.0   \n",
              "2740  1994          Tocantins             Trajeto-Com Cat            0.0   \n",
              "2741  1994          Tocantins  Doença do Trabalho-Com Cat            0.0   \n",
              "2125  1995  Rio Grande do Sul              Típico-Com Cat            0.0   \n",
              "2126  1995  Rio Grande do Sul             Trajeto-Com Cat            0.0   \n",
              "2127  1995  Rio Grande do Sul  Doença do Trabalho-Com Cat            0.0   \n",
              "\n",
              "            regiao  \n",
              "2347  Centro-Oeste  \n",
              "1075      Nordeste  \n",
              "1078      Nordeste  \n",
              "434       Nordeste  \n",
              "437       Nordeste  \n",
              "446       Nordeste  \n",
              "449       Nordeste  \n",
              "527       Nordeste  \n",
              "539       Nordeste  \n",
              "548       Nordeste  \n",
              "115          Norte  \n",
              "121          Norte  \n",
              "124          Norte  \n",
              "127          Norte  \n",
              "130          Norte  \n",
              "131          Norte  \n",
              "132          Norte  \n",
              "133          Norte  \n",
              "136          Norte  \n",
              "138          Norte  \n",
              "2659         Norte  \n",
              "2660         Norte  \n",
              "2661         Norte  \n",
              "2666         Norte  \n",
              "326          Norte  \n",
              "329          Norte  \n",
              "18           Norte  \n",
              "19           Norte  \n",
              "20           Norte  \n",
              "2825         Norte  \n",
              "2739         Norte  \n",
              "2740         Norte  \n",
              "2741         Norte  \n",
              "2125           Sul  \n",
              "2126           Sul  \n",
              "2127           Sul  "
            ]
          },
          "metadata": {
            "tags": []
          },
          "execution_count": 21
        }
      ]
    },
    {
      "metadata": {
        "id": "nwXpCG5MiuE2",
        "colab_type": "code",
        "outputId": "2ce730ba-518f-456b-9352-26cfdc9fb113",
        "colab": {
          "base_uri": "https://localhost:8080/",
          "height": 295
        }
      },
      "cell_type": "code",
      "source": [
        "p = sns.countplot(x=\"ano\",hue=\"regiao\",data=zero_acidentes)\n",
        "p.set_title(\"Qtd de estados com zero acidentes por região e por ano\");"
      ],
      "execution_count": 22,
      "outputs": [
        {
          "output_type": "display_data",
          "data": {
            "image/png": "[encoded data removed]",
            "text/plain": [
              "<Figure size 432x288 with 1 Axes>"
            ]
          },
          "metadata": {
            "tags": []
          }
        }
      ]
    },
    {
      "metadata": {
        "id": "dS9Q-CQcscHc",
        "colab_type": "text"
      },
      "cell_type": "markdown",
      "source": [
        "Os estados do norte apresentam a maior prevalência de anos sem acidente de qualquer tipo. Porém nenhum estado passou um ano sem acidente desde 1998, como mostra o grafico acima. Fica evidenciado também que o sudeste não teve  nenhum ano sem acidentes.\n",
        "\n",
        "No entanto na maioria dos anos em que não ocorreram acidentes de trabalho, a não ocorrência diz respeito ao motivo de doença de trabalho. Os anos em que tivemos zero acidentes de qualquer tipo são mostrados na tabela abaixo:"
      ]
    },
    {
      "metadata": {
        "id": "SAf8AUhnWkaK",
        "colab_type": "code",
        "outputId": "bec9594e-cc4a-4809-b25d-78cb54461973",
        "colab": {
          "base_uri": "https://localhost:8080/",
          "height": 677
        }
      },
      "cell_type": "code",
      "source": [
        "zero_acidentes.groupby(['regiao','ano'])[[\"motivo/situação\"]].nunique()"
      ],
      "execution_count": 23,
      "outputs": [
        {
          "output_type": "execute_result",
          "data": {
            "text/html": [
              "<div>\n",
              "<style scoped>\n",
              "    .dataframe tbody tr th:only-of-type {\n",
              "        vertical-align: middle;\n",
              "    }\n",
              "\n",
              "    .dataframe tbody tr th {\n",
              "        vertical-align: top;\n",
              "    }\n",
              "\n",
              "    .dataframe thead th {\n",
              "        text-align: right;\n",
              "    }\n",
              "</style>\n",
              "<table border=\"1\" class=\"dataframe\">\n",
              "  <thead>\n",
              "    <tr style=\"text-align: right;\">\n",
              "      <th></th>\n",
              "      <th></th>\n",
              "      <th>motivo/situação</th>\n",
              "    </tr>\n",
              "    <tr>\n",
              "      <th>regiao</th>\n",
              "      <th>ano</th>\n",
              "      <th></th>\n",
              "    </tr>\n",
              "  </thead>\n",
              "  <tbody>\n",
              "    <tr>\n",
              "      <th>Centro-Oeste</th>\n",
              "      <th>1993</th>\n",
              "      <td>1</td>\n",
              "    </tr>\n",
              "    <tr>\n",
              "      <th rowspan=\"7\" valign=\"top\">Nordeste</th>\n",
              "      <th>1988</th>\n",
              "      <td>1</td>\n",
              "    </tr>\n",
              "    <tr>\n",
              "      <th>1989</th>\n",
              "      <td>1</td>\n",
              "    </tr>\n",
              "    <tr>\n",
              "      <th>1990</th>\n",
              "      <td>1</td>\n",
              "    </tr>\n",
              "    <tr>\n",
              "      <th>1991</th>\n",
              "      <td>1</td>\n",
              "    </tr>\n",
              "    <tr>\n",
              "      <th>1992</th>\n",
              "      <td>1</td>\n",
              "    </tr>\n",
              "    <tr>\n",
              "      <th>1994</th>\n",
              "      <td>1</td>\n",
              "    </tr>\n",
              "    <tr>\n",
              "      <th>1995</th>\n",
              "      <td>1</td>\n",
              "    </tr>\n",
              "    <tr>\n",
              "      <th rowspan=\"10\" valign=\"top\">Norte</th>\n",
              "      <th>1988</th>\n",
              "      <td>1</td>\n",
              "    </tr>\n",
              "    <tr>\n",
              "      <th>1989</th>\n",
              "      <td>1</td>\n",
              "    </tr>\n",
              "    <tr>\n",
              "      <th>1990</th>\n",
              "      <td>1</td>\n",
              "    </tr>\n",
              "    <tr>\n",
              "      <th>1991</th>\n",
              "      <td>1</td>\n",
              "    </tr>\n",
              "    <tr>\n",
              "      <th>1992</th>\n",
              "      <td>1</td>\n",
              "    </tr>\n",
              "    <tr>\n",
              "      <th>1993</th>\n",
              "      <td>1</td>\n",
              "    </tr>\n",
              "    <tr>\n",
              "      <th>1994</th>\n",
              "      <td>3</td>\n",
              "    </tr>\n",
              "    <tr>\n",
              "      <th>1995</th>\n",
              "      <td>1</td>\n",
              "    </tr>\n",
              "    <tr>\n",
              "      <th>1996</th>\n",
              "      <td>1</td>\n",
              "    </tr>\n",
              "    <tr>\n",
              "      <th>1998</th>\n",
              "      <td>1</td>\n",
              "    </tr>\n",
              "    <tr>\n",
              "      <th>Sul</th>\n",
              "      <th>1995</th>\n",
              "      <td>3</td>\n",
              "    </tr>\n",
              "  </tbody>\n",
              "</table>\n",
              "</div>"
            ],
            "text/plain": [
              "                   motivo/situação\n",
              "regiao       ano                  \n",
              "Centro-Oeste 1993                1\n",
              "Nordeste     1988                1\n",
              "             1989                1\n",
              "             1990                1\n",
              "             1991                1\n",
              "             1992                1\n",
              "             1994                1\n",
              "             1995                1\n",
              "Norte        1988                1\n",
              "             1989                1\n",
              "             1990                1\n",
              "             1991                1\n",
              "             1992                1\n",
              "             1993                1\n",
              "             1994                3\n",
              "             1995                1\n",
              "             1996                1\n",
              "             1998                1\n",
              "Sul          1995                3"
            ]
          },
          "metadata": {
            "tags": []
          },
          "execution_count": 23
        }
      ]
    },
    {
      "metadata": {
        "id": "meP0kpymaX3H",
        "colab_type": "text"
      },
      "cell_type": "markdown",
      "source": [
        "Infelizmente, não tivemos nenhum ano com nenhum tipo de acidente, em região nenhuma do país(se tivessemos encontrariamos alguma linha da tabela indicando as 4 categorias da coluna \"motivo/situação\")."
      ]
    },
    {
      "metadata": {
        "id": "ju4CGcqzj7La",
        "colab_type": "code",
        "outputId": "fcfaeef8-581d-4de9-9f15-e0568a564b5f",
        "colab": {
          "base_uri": "https://localhost:8080/",
          "height": 295
        }
      },
      "cell_type": "code",
      "source": [
        "p = sns.countplot(y=\"estado\",\n",
        "                  data = zero_acidentes,\n",
        "                  hue = \"regiao\",\n",
        "              order = zero_acidentes['estado'].value_counts().index)\n",
        "p.set_title(\"Qtd de anos com zero acidentes por estado\");"
      ],
      "execution_count": 24,
      "outputs": [
        {
          "output_type": "display_data",
          "data": {
            "image/png": "[encoded data removed]",
            "text/plain": [
              "<Figure size 432x288 with 1 Axes>"
            ]
          },
          "metadata": {
            "tags": []
          }
        }
      ]
    },
    {
      "metadata": {
        "id": "JL_RJvLhllrx",
        "colab_type": "text"
      },
      "cell_type": "markdown",
      "source": [
        "O Acre foi, de longe, o estado que teve a maior quantidade de anos sem registrar acidentes. \n",
        "\n",
        "---\n",
        "\n",
        "(cruzar essa informação com quantidade de postos de trabalho, população e postos de trabalho irregular )"
      ]
    },
    {
      "metadata": {
        "id": "mtW9cVkUty0f",
        "colab_type": "text"
      },
      "cell_type": "markdown",
      "source": [
        "### O maior número de acidentes registrado\n",
        "\n",
        "Onde será que tivemos a maior quantidade de acidentes registrados?"
      ]
    },
    {
      "metadata": {
        "id": "ZLvab6PFtqen",
        "colab_type": "code",
        "outputId": "a92f5984-fd51-4498-e925-dee12c602900",
        "colab": {
          "base_uri": "https://localhost:8080/",
          "height": 81
        }
      },
      "cell_type": "code",
      "source": [
        "#selecionando a linha com o maior número de acidentes registrado\n",
        "df_uf[df_uf['qtd_acidentes']==419981]"
      ],
      "execution_count": 25,
      "outputs": [
        {
          "output_type": "execute_result",
          "data": {
            "text/html": [
              "<div>\n",
              "<style scoped>\n",
              "    .dataframe tbody tr th:only-of-type {\n",
              "        vertical-align: middle;\n",
              "    }\n",
              "\n",
              "    .dataframe tbody tr th {\n",
              "        vertical-align: top;\n",
              "    }\n",
              "\n",
              "    .dataframe thead th {\n",
              "        text-align: right;\n",
              "    }\n",
              "</style>\n",
              "<table border=\"1\" class=\"dataframe\">\n",
              "  <thead>\n",
              "    <tr style=\"text-align: right;\">\n",
              "      <th></th>\n",
              "      <th>ano</th>\n",
              "      <th>estado</th>\n",
              "      <th>motivo/situação</th>\n",
              "      <th>qtd_acidentes</th>\n",
              "      <th>latitude</th>\n",
              "      <th>longitude</th>\n",
              "      <th>cod_estado</th>\n",
              "      <th>uf</th>\n",
              "      <th>regiao</th>\n",
              "    </tr>\n",
              "  </thead>\n",
              "  <tbody>\n",
              "    <tr>\n",
              "      <th>1749</th>\n",
              "      <td>1988</td>\n",
              "      <td>São Paulo</td>\n",
              "      <td>Típico-Com Cat</td>\n",
              "      <td>419981.0</td>\n",
              "      <td>-23.5329</td>\n",
              "      <td>-46.6395</td>\n",
              "      <td>35</td>\n",
              "      <td>SP</td>\n",
              "      <td>Sudeste</td>\n",
              "    </tr>\n",
              "  </tbody>\n",
              "</table>\n",
              "</div>"
            ],
            "text/plain": [
              "       ano     estado motivo/situação  qtd_acidentes  latitude  longitude  \\\n",
              "1749  1988  São Paulo  Típico-Com Cat       419981.0  -23.5329   -46.6395   \n",
              "\n",
              "      cod_estado  uf   regiao  \n",
              "1749          35  SP  Sudeste  "
            ]
          },
          "metadata": {
            "tags": []
          },
          "execution_count": 25
        }
      ]
    },
    {
      "metadata": {
        "id": "LaHeJ7F_uOjJ",
        "colab_type": "text"
      },
      "cell_type": "markdown",
      "source": [
        "1988 foi um ano tenso para São Paulo, que chegou a registrar um número tão expressivo de acidentes. O que traz o questionamento a respeito de como é a série histórica da maior metrópole brasileira. "
      ]
    },
    {
      "metadata": {
        "id": "k-wECG2DudOG",
        "colab_type": "code",
        "outputId": "5eb79587-eee1-41c2-f9a2-d5a7f0f9d217",
        "colab": {
          "base_uri": "https://localhost:8080/",
          "height": 295
        }
      },
      "cell_type": "code",
      "source": [
        "p = sns.lineplot(x=\"ano\",\n",
        "             y = \"qtd_acidentes\",\n",
        "             hue = \"motivo/situação\",\n",
        "             style =\"motivo/situação\" ,\n",
        "             markers =True ,\n",
        "             data=df_uf[df_uf[\"estado\"]==\"São Paulo\"])\n",
        "p.set_title(\"Qtd de Acidentes de SP por ano e motivo\");"
      ],
      "execution_count": 26,
      "outputs": [
        {
          "output_type": "display_data",
          "data": {
            "image/png": "[encoded data removed]",
            "text/plain": [
              "<Figure size 432x288 with 1 Axes>"
            ]
          },
          "metadata": {
            "tags": []
          }
        }
      ]
    },
    {
      "metadata": {
        "id": "aCPdwVV6wrzR",
        "colab_type": "text"
      },
      "cell_type": "markdown",
      "source": [
        "É possivel observar uma tendência de queda na quantidade de acidentes Típicos-com Cat(que são maioria) até os anos 2000. O que levanta uma outra questão. Como se comporta a queda de São Paulo com relação a média regional?"
      ]
    },
    {
      "metadata": {
        "id": "YLClNESwGovn",
        "colab_type": "code",
        "colab": {}
      },
      "cell_type": "code",
      "source": [
        "#fazendo a média da região\n",
        "mean_regiao = df_uf[df_uf[\"estado\"]!=\"São Paulo\"].groupby(by = [\"regiao\",\"motivo/situação\",\"ano\"])[[\"qtd_acidentes\"]].mean()\n",
        "mean_regiao.reset_index(inplace = True)\n"
      ],
      "execution_count": 0,
      "outputs": []
    },
    {
      "metadata": {
        "id": "ZKtL7Q1Drw_z",
        "colab_type": "code",
        "outputId": "ae918b38-6b82-47f1-8f09-ad2605ef92f8",
        "colab": {
          "base_uri": "https://localhost:8080/",
          "height": 295
        }
      },
      "cell_type": "code",
      "source": [
        "\n",
        "#plotando os dados\n",
        "p = sns.lineplot(x=\"ano\",\n",
        "             y = \"qtd_acidentes\",\n",
        "             hue = \"motivo/situação\",\n",
        "             style =\"motivo/situação\" ,\n",
        "             markers =True ,\n",
        "             data=mean_regiao[(mean_regiao[\"regiao\"]==\"Sudeste\")&\n",
        "                             (mean_regiao[\"motivo/situação\"]==\"Típico-Com Cat\")])\n",
        "p.set_title(\"Média de Acidentes da Região Sudeste por ano\");"
      ],
      "execution_count": 28,
      "outputs": [
        {
          "output_type": "display_data",
          "data": {
            "image/png": "[encoded data removed]",
            "text/plain": [
              "<Figure size 432x288 with 1 Axes>"
            ]
          },
          "metadata": {
            "tags": []
          }
        }
      ]
    },
    {
      "metadata": {
        "id": "Kdr0U8SA2GzM",
        "colab_type": "code",
        "colab": {}
      },
      "cell_type": "code",
      "source": [
        "#Criar gráfico que sobreponha a média da região com os valores de sp"
      ],
      "execution_count": 0,
      "outputs": []
    },
    {
      "metadata": {
        "id": "sRZl6mQTwD5h",
        "colab_type": "text"
      },
      "cell_type": "markdown",
      "source": [
        "### Distribuição da quantidade de acidentes por região"
      ]
    },
    {
      "metadata": {
        "id": "G5UrsdGO9thK",
        "colab_type": "text"
      },
      "cell_type": "markdown",
      "source": [
        "Observando a série histórica de todas as regiões do país é necessário se fazer uma analise em função do Log da quantidade de acidentes. Isso decorre do fato que a quantidade de acidentes é muito discrepante de região para região, como pode ser observado no gráfico abaixo"
      ]
    },
    {
      "metadata": {
        "id": "thRdXtKSGPtU",
        "colab_type": "code",
        "outputId": "2836ab29-e9c9-4c9f-d3fa-ed15a11a8d6b",
        "colab": {
          "base_uri": "https://localhost:8080/",
          "height": 286
        }
      },
      "cell_type": "code",
      "source": [
        "g = sns.FacetGrid(df_uf, col=\"regiao\") \n",
        "g.map(sns.boxplot, \"qtd_acidentes\")\n",
        "plt.xscale(\"log\");"
      ],
      "execution_count": 30,
      "outputs": [
        {
          "output_type": "stream",
          "text": [
            "/usr/local/lib/python3.6/dist-packages/seaborn/axisgrid.py:715: UserWarning: Using the boxplot function without specifying `order` is likely to produce an incorrect plot.\n",
            "  warnings.warn(warning)\n"
          ],
          "name": "stderr"
        },
        {
          "output_type": "display_data",
          "data": {
            "image/png": "[encoded data removed]",
            "text/plain": [
              "<Figure size 1080x216 with 5 Axes>"
            ]
          },
          "metadata": {
            "tags": []
          }
        }
      ]
    },
    {
      "metadata": {
        "id": "K-b3M9GoHisp",
        "colab_type": "text"
      },
      "cell_type": "markdown",
      "source": [
        "A região sudeste apresenta a distribuição mais concentrada nos valores entre $10^3$ e $10^4$, assim como a região sul. O que não é verdade para as outras regiões do pais que possuem os valores mais próximos da ordem de $10^2$ e $10^3$\n"
      ]
    },
    {
      "metadata": {
        "id": "o_uanMqXwSSc",
        "colab_type": "text"
      },
      "cell_type": "markdown",
      "source": [
        "### O mapa dos acidentes de trabalho"
      ]
    },
    {
      "metadata": {
        "id": "A3L_5ZOdW0rV",
        "colab_type": "text"
      },
      "cell_type": "markdown",
      "source": [
        "Agora com uma base de dados com as informações de latitude e longitude, meu objetivo é tentar retirar algumas informações com base na leitura de alguns mapas. Para isso usarei a biblioteca do Python Folium"
      ]
    },
    {
      "metadata": {
        "id": "ooIgZur7V1H1",
        "colab_type": "code",
        "colab": {}
      },
      "cell_type": "code",
      "source": [
        "import folium"
      ],
      "execution_count": 0,
      "outputs": []
    },
    {
      "metadata": {
        "id": "AYJj-GFeiOxu",
        "colab_type": "code",
        "outputId": "2a484f29-3514-498d-8a94-53fbf66783cc",
        "colab": {
          "base_uri": "https://localhost:8080/",
          "height": 742
        }
      },
      "cell_type": "code",
      "source": [
        "#@title  { run: \"auto\" }\n",
        "ano = 2010 #@param {type:\"slider\", min:1988, max:2016, step:1}\n",
        "df_uf_map = df_uf[df_uf[\"ano\"]==ano]\n",
        "df_uf_map = df_uf_map.groupby(['estado',\n",
        "                                 'latitude',\n",
        "                                 'longitude'],\n",
        "                                as_index=False)[['qtd_acidentes']].sum()\n",
        "df_uf_map.qtd_acidentes = df_uf_map.qtd_acidentes.astype(\"int64\")\n",
        "\n",
        "\n",
        "\n",
        "\n",
        "ac_map = folium.Map(location=[-16.1237611, -59.9219642],\n",
        "                    zoom_start=4)\n",
        "for i in range(0,len(df_uf_map)):\n",
        "  folium.CircleMarker(\n",
        "      location =[df_uf_map.iloc[i]['latitude'],\n",
        "                 df_uf_map.iloc[i]['longitude']],\n",
        "      popup = df_uf_map.iloc[i]['estado']+' ; '+df_uf_map.iloc[i]['qtd_acidentes'].astype('str'),\n",
        "      radius=int(df_uf_map.iloc[i]['qtd_acidentes']/5000),\n",
        "      fill_color=\"crimson\"\n",
        "  ).add_to(ac_map)\n",
        "\n",
        "\n",
        "ac_map\n",
        "\n"
      ],
      "execution_count": 32,
      "outputs": [
        {
          "output_type": "execute_result",
          "data": {
            "text/html": [
              "<div style=\"width:100%;\"><div style=\"position:relative;width:100%;height:0;padding-bottom:60%;\"><iframe src=\"data:text/html;charset=utf-8;base64,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\" style=\"position:absolute;width:100%;height:100%;left:0;top:0;border:none !important;\" allowfullscreen webkitallowfullscreen mozallowfullscreen></iframe></div></div>"
            ],
            "text/plain": [
              "<folium.folium.Map at 0x7fd5835442e8>"
            ]
          },
          "metadata": {
            "tags": []
          },
          "execution_count": 32
        }
      ]
    },
    {
      "metadata": {
        "id": "j1Y52BUkglLE",
        "colab_type": "text"
      },
      "cell_type": "markdown",
      "source": [
        "O mapa nos da um melhor compreendimento do que vem acontecendo ao longo dos anos com relação aos acidentes de trabalho"
      ]
    },
    {
      "metadata": {
        "id": "z9d_M43RMnmb",
        "colab_type": "code",
        "outputId": "9291b561-a86c-46dc-f1ab-4601d7909697",
        "colab": {
          "base_uri": "https://localhost:8080/",
          "height": 742
        }
      },
      "cell_type": "code",
      "source": [
        "from folium.plugins import HeatMap\n",
        "heat_map = folium.Map(location=[-16.1237611, -59.9219642],\n",
        "                    zoom_start=4)\n",
        "\n",
        "heat_data = df_uf_map.drop([\"estado\"],axis=1)\n",
        "\n",
        "media_acidentes = heat_data.qtd_acidentes.mean()\n",
        "desvio_acidentes = heat_data.qtd_acidentes.std()\n",
        "\n",
        "heat_data[\"qtd_acidentes\"]=(heat_data.qtd_acidentes-media_acidentes)/desvio_acidentes\n",
        "\n",
        "\n",
        "HeatMap( list(zip(heat_data.latitude.values, heat_data.longitude.values,heat_data.qtd_acidentes.values)),\n",
        "        max_zoom=1).add_to(heat_map)\n",
        "\n",
        "heat_map"
      ],
      "execution_count": 33,
      "outputs": [
        {
          "output_type": "execute_result",
          "data": {
            "text/html": [
              "<div style=\"width:100%;\"><div style=\"position:relative;width:100%;height:0;padding-bottom:60%;\"><iframe src=\"data:text/html;charset=utf-8;base64,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\" style=\"position:absolute;width:100%;height:100%;left:0;top:0;border:none !important;\" allowfullscreen webkitallowfullscreen mozallowfullscreen></iframe></div></div>"
            ],
            "text/plain": [
              "<folium.folium.Map at 0x7fd5835aefd0>"
            ]
          },
          "metadata": {
            "tags": []
          },
          "execution_count": 33
        }
      ]
    },
    {
      "metadata": {
        "id": "7wg-EXgDM1hq",
        "colab_type": "text"
      },
      "cell_type": "markdown",
      "source": [
        "## Acidentes de Trabalho por Sexo e Faixa Etária"
      ]
    },
    {
      "metadata": {
        "id": "_fqd76_KM7oF",
        "colab_type": "code",
        "colab": {}
      },
      "cell_type": "code",
      "source": [
        "url = \"https://raw.githubusercontent.com/lorransr/CAT/master/ACT-faixaetaria-sexo.csv\""
      ],
      "execution_count": 0,
      "outputs": []
    },
    {
      "metadata": {
        "id": "7sb5QwVpsnoA",
        "colab_type": "code",
        "colab": {}
      },
      "cell_type": "code",
      "source": [
        "df_agesex = pd.read_csv(url, sep=\",\", encoding = \"latin-1\")"
      ],
      "execution_count": 0,
      "outputs": []
    },
    {
      "metadata": {
        "id": "ERQmX-4rs37C",
        "colab_type": "code",
        "outputId": "79ab8486-e668-4bd8-c499-809db412a718",
        "colab": {
          "base_uri": "https://localhost:8080/",
          "height": 206
        }
      },
      "cell_type": "code",
      "source": [
        "df_agesex.head()"
      ],
      "execution_count": 90,
      "outputs": [
        {
          "output_type": "execute_result",
          "data": {
            "text/html": [
              "<div>\n",
              "<style scoped>\n",
              "    .dataframe tbody tr th:only-of-type {\n",
              "        vertical-align: middle;\n",
              "    }\n",
              "\n",
              "    .dataframe tbody tr th {\n",
              "        vertical-align: top;\n",
              "    }\n",
              "\n",
              "    .dataframe thead th {\n",
              "        text-align: right;\n",
              "    }\n",
              "</style>\n",
              "<table border=\"1\" class=\"dataframe\">\n",
              "  <thead>\n",
              "    <tr style=\"text-align: right;\">\n",
              "      <th></th>\n",
              "      <th>Ano</th>\n",
              "      <th>Idade</th>\n",
              "      <th>Motivo/Situação</th>\n",
              "      <th>Sexo</th>\n",
              "      <th>Qte Acidentes</th>\n",
              "      <th>Situação</th>\n",
              "    </tr>\n",
              "  </thead>\n",
              "  <tbody>\n",
              "    <tr>\n",
              "      <th>0</th>\n",
              "      <td>1997</td>\n",
              "      <td>Até 19 Anos</td>\n",
              "      <td>Típico-Com Cat</td>\n",
              "      <td>Masculino</td>\n",
              "      <td>7581</td>\n",
              "      <td>Com Cat Registrada</td>\n",
              "    </tr>\n",
              "    <tr>\n",
              "      <th>1</th>\n",
              "      <td>1997</td>\n",
              "      <td>Até 19 Anos</td>\n",
              "      <td>Típico-Com Cat</td>\n",
              "      <td>Feminino</td>\n",
              "      <td>1061</td>\n",
              "      <td>Com Cat Registrada</td>\n",
              "    </tr>\n",
              "    <tr>\n",
              "      <th>2</th>\n",
              "      <td>1997</td>\n",
              "      <td>Até 19 Anos</td>\n",
              "      <td>Típico-Com Cat</td>\n",
              "      <td>Ignorado</td>\n",
              "      <td>18851</td>\n",
              "      <td>Com Cat Registrada</td>\n",
              "    </tr>\n",
              "    <tr>\n",
              "      <th>3</th>\n",
              "      <td>1997</td>\n",
              "      <td>20 a 24 Anos</td>\n",
              "      <td>Típico-Com Cat</td>\n",
              "      <td>Masculino</td>\n",
              "      <td>15847</td>\n",
              "      <td>Com Cat Registrada</td>\n",
              "    </tr>\n",
              "    <tr>\n",
              "      <th>4</th>\n",
              "      <td>1997</td>\n",
              "      <td>20 a 24 Anos</td>\n",
              "      <td>Típico-Com Cat</td>\n",
              "      <td>Feminino</td>\n",
              "      <td>1934</td>\n",
              "      <td>Com Cat Registrada</td>\n",
              "    </tr>\n",
              "  </tbody>\n",
              "</table>\n",
              "</div>"
            ],
            "text/plain": [
              "    Ano         Idade Motivo/Situação       Sexo Qte Acidentes  \\\n",
              "0  1997   Até 19 Anos  Típico-Com Cat  Masculino          7581   \n",
              "1  1997   Até 19 Anos  Típico-Com Cat   Feminino          1061   \n",
              "2  1997   Até 19 Anos  Típico-Com Cat   Ignorado         18851   \n",
              "3  1997  20 a 24 Anos  Típico-Com Cat  Masculino         15847   \n",
              "4  1997  20 a 24 Anos  Típico-Com Cat   Feminino          1934   \n",
              "\n",
              "             Situação  \n",
              "0  Com Cat Registrada  \n",
              "1  Com Cat Registrada  \n",
              "2  Com Cat Registrada  \n",
              "3  Com Cat Registrada  \n",
              "4  Com Cat Registrada  "
            ]
          },
          "metadata": {
            "tags": []
          },
          "execution_count": 90
        }
      ]
    },
    {
      "metadata": {
        "id": "FHIODggQs9xQ",
        "colab_type": "text"
      },
      "cell_type": "markdown",
      "source": [
        "O dataframe em questão agora contém os registros de acidente de trabalho por faixa etaria e sexo."
      ]
    },
    {
      "metadata": {
        "id": "QmaTBqSl0XQo",
        "colab_type": "code",
        "colab": {}
      },
      "cell_type": "code",
      "source": [
        "df_agesex.columns = [\"ano\",\n",
        "                     \"idade\",\n",
        "                     \"motivo/situacao\",\n",
        "                     \"sexo\",\n",
        "                     \"qtd_acidentes\",\n",
        "                     \"situacao\"]"
      ],
      "execution_count": 0,
      "outputs": []
    },
    {
      "metadata": {
        "id": "CDqFPtKns5sU",
        "colab_type": "code",
        "outputId": "5f5769d2-4790-45f8-b6ae-a620f16cd8e3",
        "colab": {
          "base_uri": "https://localhost:8080/",
          "height": 297
        }
      },
      "cell_type": "code",
      "source": [
        "df_agesex.idade.value_counts()"
      ],
      "execution_count": 92,
      "outputs": [
        {
          "output_type": "execute_result",
          "data": {
            "text/plain": [
              "70 Anos e Mais    1073\n",
              "40 a 44 Anos       719\n",
              "45 a 49 Anos       716\n",
              "35 a 39 Anos       715\n",
              "25 a 29 Anos       706\n",
              "50 a 54 Anos       705\n",
              "20 a 24 Anos       703\n",
              "30 a 34 Anos       703\n",
              "55 a 59 Anos       673\n",
              "Até 19 Anos        655\n",
              "60 a 64 Anos       606\n",
              "65 a 69 Anos       526\n",
              "Ignorada           234\n",
              "-                    1\n",
              "Name: idade, dtype: int64"
            ]
          },
          "metadata": {
            "tags": []
          },
          "execution_count": 92
        }
      ]
    },
    {
      "metadata": {
        "id": "_9hWBeGbt3c3",
        "colab_type": "text"
      },
      "cell_type": "markdown",
      "source": [
        "No que diz respeito a idade, existe um valor sem registro, que pode ser ignorado."
      ]
    },
    {
      "metadata": {
        "id": "9ElBkipBuBGf",
        "colab_type": "code",
        "colab": {}
      },
      "cell_type": "code",
      "source": [
        "df_agesex = df_agesex[df_agesex.idade != \"-\"]"
      ],
      "execution_count": 0,
      "outputs": []
    },
    {
      "metadata": {
        "id": "d6XxryACukyN",
        "colab_type": "code",
        "outputId": "a680415c-566c-4695-ceee-6696f2d53228",
        "colab": {
          "base_uri": "https://localhost:8080/",
          "height": 73
        }
      },
      "cell_type": "code",
      "source": [
        "df_agesex.situacao.value_counts()"
      ],
      "execution_count": 94,
      "outputs": [
        {
          "output_type": "execute_result",
          "data": {
            "text/plain": [
              "Com Cat Registrada    5991\n",
              "Sem Cat Registrada    2743\n",
              "Name: situacao, dtype: int64"
            ]
          },
          "metadata": {
            "tags": []
          },
          "execution_count": 94
        }
      ]
    },
    {
      "metadata": {
        "id": "KOTtAOsWvafg",
        "colab_type": "text"
      },
      "cell_type": "markdown",
      "source": [
        "A princípio era de se esperar que a maior quantidade de acidentes de trabalho possuissem a CAT registrada, em vista da obrigação legal da empresa em emiti-la"
      ]
    },
    {
      "metadata": {
        "id": "0Dfly2MouocP",
        "colab_type": "code",
        "outputId": "53cc6d75-0ccc-44e0-9514-298a80e7c146",
        "colab": {
          "base_uri": "https://localhost:8080/",
          "height": 36
        }
      },
      "cell_type": "code",
      "source": [
        "#checando se existem valores nulos em alguma coluna\n",
        "df_agesex.isnull().values.any()"
      ],
      "execution_count": 95,
      "outputs": [
        {
          "output_type": "execute_result",
          "data": {
            "text/plain": [
              "False"
            ]
          },
          "metadata": {
            "tags": []
          },
          "execution_count": 95
        }
      ]
    },
    {
      "metadata": {
        "id": "BvdSDwzVxuAT",
        "colab_type": "code",
        "outputId": "60933a7c-0b3d-46f5-8405-bf9c074145cc",
        "colab": {
          "base_uri": "https://localhost:8080/",
          "height": 148
        }
      },
      "cell_type": "code",
      "source": [
        "df_agesex.dtypes"
      ],
      "execution_count": 96,
      "outputs": [
        {
          "output_type": "execute_result",
          "data": {
            "text/plain": [
              "ano                object\n",
              "idade              object\n",
              "motivo/situacao    object\n",
              "sexo               object\n",
              "qtd_acidentes      object\n",
              "situacao           object\n",
              "dtype: object"
            ]
          },
          "metadata": {
            "tags": []
          },
          "execution_count": 96
        }
      ]
    },
    {
      "metadata": {
        "id": "YdGttwvSv358",
        "colab_type": "code",
        "colab": {}
      },
      "cell_type": "code",
      "source": [
        "df_agesex[[\"ano\",\"qtd_acidentes\"]] = df_agesex[[\"ano\",\"qtd_acidentes\"]].astype(\"int\")"
      ],
      "execution_count": 0,
      "outputs": []
    },
    {
      "metadata": {
        "id": "Ov6WTni6NJ9K",
        "colab_type": "code",
        "colab": {}
      },
      "cell_type": "code",
      "source": [
        "df_agesex=df_agesex[df_agesex[\"sexo\"]!=\"Ignorado\"]\n",
        "df_agesex=df_agesex[df_agesex[\"idade\"]!=\"Ignorada\"]"
      ],
      "execution_count": 0,
      "outputs": []
    },
    {
      "metadata": {
        "id": "UFtysfVtORyT",
        "colab_type": "code",
        "colab": {
          "base_uri": "https://localhost:8080/",
          "height": 36
        },
        "outputId": "245a8da1-677c-4ae9-8f22-20f46cda1e1c"
      },
      "cell_type": "code",
      "source": [
        "df_agesex.shape"
      ],
      "execution_count": 109,
      "outputs": [
        {
          "output_type": "execute_result",
          "data": {
            "text/plain": [
              "(8131, 6)"
            ]
          },
          "metadata": {
            "tags": []
          },
          "execution_count": 109
        }
      ]
    },
    {
      "metadata": {
        "id": "YAyq6w2NzWhE",
        "colab_type": "code",
        "colab": {
          "base_uri": "https://localhost:8080/",
          "height": 488
        },
        "outputId": "2f18dd91-2782-4f10-8be6-1d382d4473eb"
      },
      "cell_type": "code",
      "source": [
        "df_agesex.groupby(by = \"idade\")[[\"qtd_acidentes\"]].describe()"
      ],
      "execution_count": 110,
      "outputs": [
        {
          "output_type": "execute_result",
          "data": {
            "text/html": [
              "<div>\n",
              "<style scoped>\n",
              "    .dataframe tbody tr th:only-of-type {\n",
              "        vertical-align: middle;\n",
              "    }\n",
              "\n",
              "    .dataframe tbody tr th {\n",
              "        vertical-align: top;\n",
              "    }\n",
              "\n",
              "    .dataframe thead tr th {\n",
              "        text-align: left;\n",
              "    }\n",
              "\n",
              "    .dataframe thead tr:last-of-type th {\n",
              "        text-align: right;\n",
              "    }\n",
              "</style>\n",
              "<table border=\"1\" class=\"dataframe\">\n",
              "  <thead>\n",
              "    <tr>\n",
              "      <th></th>\n",
              "      <th colspan=\"8\" halign=\"left\">qtd_acidentes</th>\n",
              "    </tr>\n",
              "    <tr>\n",
              "      <th></th>\n",
              "      <th>count</th>\n",
              "      <th>mean</th>\n",
              "      <th>std</th>\n",
              "      <th>min</th>\n",
              "      <th>25%</th>\n",
              "      <th>50%</th>\n",
              "      <th>75%</th>\n",
              "      <th>max</th>\n",
              "    </tr>\n",
              "    <tr>\n",
              "      <th>idade</th>\n",
              "      <th></th>\n",
              "      <th></th>\n",
              "      <th></th>\n",
              "      <th></th>\n",
              "      <th></th>\n",
              "      <th></th>\n",
              "      <th></th>\n",
              "      <th></th>\n",
              "    </tr>\n",
              "  </thead>\n",
              "  <tbody>\n",
              "    <tr>\n",
              "      <th>20 a 24 Anos</th>\n",
              "      <td>661.0</td>\n",
              "      <td>2651.131619</td>\n",
              "      <td>6181.044315</td>\n",
              "      <td>1.0</td>\n",
              "      <td>53.00</td>\n",
              "      <td>939.0</td>\n",
              "      <td>2470.00</td>\n",
              "      <td>61309.0</td>\n",
              "    </tr>\n",
              "    <tr>\n",
              "      <th>25 a 29 Anos</th>\n",
              "      <td>667.0</td>\n",
              "      <td>2885.683658</td>\n",
              "      <td>5950.099509</td>\n",
              "      <td>1.0</td>\n",
              "      <td>133.00</td>\n",
              "      <td>1353.0</td>\n",
              "      <td>2816.50</td>\n",
              "      <td>59787.0</td>\n",
              "    </tr>\n",
              "    <tr>\n",
              "      <th>30 a 34 Anos</th>\n",
              "      <td>668.0</td>\n",
              "      <td>2622.146707</td>\n",
              "      <td>5048.744877</td>\n",
              "      <td>1.0</td>\n",
              "      <td>208.00</td>\n",
              "      <td>1433.0</td>\n",
              "      <td>2684.75</td>\n",
              "      <td>48054.0</td>\n",
              "    </tr>\n",
              "    <tr>\n",
              "      <th>35 a 39 Anos</th>\n",
              "      <td>680.0</td>\n",
              "      <td>2187.830882</td>\n",
              "      <td>4201.590026</td>\n",
              "      <td>1.0</td>\n",
              "      <td>38.25</td>\n",
              "      <td>1112.5</td>\n",
              "      <td>2459.25</td>\n",
              "      <td>40561.0</td>\n",
              "    </tr>\n",
              "    <tr>\n",
              "      <th>40 a 44 Anos</th>\n",
              "      <td>686.0</td>\n",
              "      <td>1804.112245</td>\n",
              "      <td>3333.370382</td>\n",
              "      <td>1.0</td>\n",
              "      <td>40.25</td>\n",
              "      <td>816.5</td>\n",
              "      <td>2212.00</td>\n",
              "      <td>32276.0</td>\n",
              "    </tr>\n",
              "    <tr>\n",
              "      <th>45 a 49 Anos</th>\n",
              "      <td>688.0</td>\n",
              "      <td>1439.876453</td>\n",
              "      <td>2440.726048</td>\n",
              "      <td>1.0</td>\n",
              "      <td>37.50</td>\n",
              "      <td>648.0</td>\n",
              "      <td>1889.00</td>\n",
              "      <td>23760.0</td>\n",
              "    </tr>\n",
              "    <tr>\n",
              "      <th>50 a 54 Anos</th>\n",
              "      <td>675.0</td>\n",
              "      <td>1027.051852</td>\n",
              "      <td>1570.484413</td>\n",
              "      <td>1.0</td>\n",
              "      <td>77.50</td>\n",
              "      <td>452.0</td>\n",
              "      <td>1436.50</td>\n",
              "      <td>14567.0</td>\n",
              "    </tr>\n",
              "    <tr>\n",
              "      <th>55 a 59 Anos</th>\n",
              "      <td>646.0</td>\n",
              "      <td>595.404025</td>\n",
              "      <td>897.823103</td>\n",
              "      <td>1.0</td>\n",
              "      <td>40.25</td>\n",
              "      <td>270.0</td>\n",
              "      <td>762.75</td>\n",
              "      <td>7300.0</td>\n",
              "    </tr>\n",
              "    <tr>\n",
              "      <th>60 a 64 Anos</th>\n",
              "      <td>582.0</td>\n",
              "      <td>240.125430</td>\n",
              "      <td>386.493842</td>\n",
              "      <td>1.0</td>\n",
              "      <td>22.00</td>\n",
              "      <td>90.0</td>\n",
              "      <td>288.50</td>\n",
              "      <td>2836.0</td>\n",
              "    </tr>\n",
              "    <tr>\n",
              "      <th>65 a 69 Anos</th>\n",
              "      <td>502.0</td>\n",
              "      <td>58.970120</td>\n",
              "      <td>104.799348</td>\n",
              "      <td>1.0</td>\n",
              "      <td>10.00</td>\n",
              "      <td>24.0</td>\n",
              "      <td>54.00</td>\n",
              "      <td>740.0</td>\n",
              "    </tr>\n",
              "    <tr>\n",
              "      <th>70 Anos e Mais</th>\n",
              "      <td>1049.0</td>\n",
              "      <td>8.307912</td>\n",
              "      <td>20.398874</td>\n",
              "      <td>0.0</td>\n",
              "      <td>1.00</td>\n",
              "      <td>3.0</td>\n",
              "      <td>7.00</td>\n",
              "      <td>242.0</td>\n",
              "    </tr>\n",
              "    <tr>\n",
              "      <th>Até 19 Anos</th>\n",
              "      <td>627.0</td>\n",
              "      <td>625.923445</td>\n",
              "      <td>1865.610937</td>\n",
              "      <td>1.0</td>\n",
              "      <td>5.00</td>\n",
              "      <td>52.0</td>\n",
              "      <td>386.00</td>\n",
              "      <td>19839.0</td>\n",
              "    </tr>\n",
              "  </tbody>\n",
              "</table>\n",
              "</div>"
            ],
            "text/plain": [
              "               qtd_acidentes                                                 \\\n",
              "                       count         mean          std  min     25%     50%   \n",
              "idade                                                                         \n",
              "20 a 24 Anos           661.0  2651.131619  6181.044315  1.0   53.00   939.0   \n",
              "25 a 29 Anos           667.0  2885.683658  5950.099509  1.0  133.00  1353.0   \n",
              "30 a 34 Anos           668.0  2622.146707  5048.744877  1.0  208.00  1433.0   \n",
              "35 a 39 Anos           680.0  2187.830882  4201.590026  1.0   38.25  1112.5   \n",
              "40 a 44 Anos           686.0  1804.112245  3333.370382  1.0   40.25   816.5   \n",
              "45 a 49 Anos           688.0  1439.876453  2440.726048  1.0   37.50   648.0   \n",
              "50 a 54 Anos           675.0  1027.051852  1570.484413  1.0   77.50   452.0   \n",
              "55 a 59 Anos           646.0   595.404025   897.823103  1.0   40.25   270.0   \n",
              "60 a 64 Anos           582.0   240.125430   386.493842  1.0   22.00    90.0   \n",
              "65 a 69 Anos           502.0    58.970120   104.799348  1.0   10.00    24.0   \n",
              "70 Anos e Mais        1049.0     8.307912    20.398874  0.0    1.00     3.0   \n",
              "Até 19 Anos            627.0   625.923445  1865.610937  1.0    5.00    52.0   \n",
              "\n",
              "                                  \n",
              "                    75%      max  \n",
              "idade                             \n",
              "20 a 24 Anos    2470.00  61309.0  \n",
              "25 a 29 Anos    2816.50  59787.0  \n",
              "30 a 34 Anos    2684.75  48054.0  \n",
              "35 a 39 Anos    2459.25  40561.0  \n",
              "40 a 44 Anos    2212.00  32276.0  \n",
              "45 a 49 Anos    1889.00  23760.0  \n",
              "50 a 54 Anos    1436.50  14567.0  \n",
              "55 a 59 Anos     762.75   7300.0  \n",
              "60 a 64 Anos     288.50   2836.0  \n",
              "65 a 69 Anos      54.00    740.0  \n",
              "70 Anos e Mais     7.00    242.0  \n",
              "Até 19 Anos      386.00  19839.0  "
            ]
          },
          "metadata": {
            "tags": []
          },
          "execution_count": 110
        }
      ]
    },
    {
      "metadata": {
        "id": "MbNTC7DDy7AT",
        "colab_type": "code",
        "outputId": "4ab26ec8-aa2f-44cb-b7fa-d4d86e790b5c",
        "colab": {
          "base_uri": "https://localhost:8080/",
          "height": 513
        }
      },
      "cell_type": "code",
      "source": [
        "plt.figure(figsize = (18,8))\n",
        "g = sns.barplot(data = df_agesex,\n",
        "                x = \"idade\",\n",
        "                y = \"qtd_acidentes\")\n",
        "g.set_title(\"Media de Quantidade de Acidentes por Faixa Etaria\");\n"
      ],
      "execution_count": 111,
      "outputs": [
        {
          "output_type": "display_data",
          "data": {
            "image/png": "[encoded data removed]",
            "text/plain": [
              "<Figure size 1296x576 with 1 Axes>"
            ]
          },
          "metadata": {
            "tags": []
          }
        }
      ]
    },
    {
      "metadata": {
        "id": "26Z4uJX13PVu",
        "colab_type": "text"
      },
      "cell_type": "markdown",
      "source": [
        "A princípio é possivel se observar que em média, os acidentes acontecem em sua grande maioria na faixa dos 19 até os 39 anos. O que chama bastante a atenção é o fato de que até os 19 anos possuir uma quantidade tão alta de acidentes. Menores de idade não podem trabalhar, estagiários possuem diversas limitações em suas atividades, assim como jovens aprendizes. No entanto, a quantidade de acidentes registrado pra essa faixa etaria tão pequena (apenas 2 anos) é tão representativa quanto a média dos trabalhadores de 55 a 59 anos.."
      ]
    },
    {
      "metadata": {
        "id": "N4k5ppXWM9Ig",
        "colab_type": "code",
        "colab": {
          "base_uri": "https://localhost:8080/",
          "height": 175
        },
        "outputId": "6f6590ff-e24b-4b12-dbdc-5bc757d2561c"
      },
      "cell_type": "code",
      "source": [
        "df_agesex.groupby(by = \"sexo\")[[\"qtd_acidentes\"]].describe()"
      ],
      "execution_count": 112,
      "outputs": [
        {
          "output_type": "execute_result",
          "data": {
            "text/html": [
              "<div>\n",
              "<style scoped>\n",
              "    .dataframe tbody tr th:only-of-type {\n",
              "        vertical-align: middle;\n",
              "    }\n",
              "\n",
              "    .dataframe tbody tr th {\n",
              "        vertical-align: top;\n",
              "    }\n",
              "\n",
              "    .dataframe thead tr th {\n",
              "        text-align: left;\n",
              "    }\n",
              "\n",
              "    .dataframe thead tr:last-of-type th {\n",
              "        text-align: right;\n",
              "    }\n",
              "</style>\n",
              "<table border=\"1\" class=\"dataframe\">\n",
              "  <thead>\n",
              "    <tr>\n",
              "      <th></th>\n",
              "      <th colspan=\"8\" halign=\"left\">qtd_acidentes</th>\n",
              "    </tr>\n",
              "    <tr>\n",
              "      <th></th>\n",
              "      <th>count</th>\n",
              "      <th>mean</th>\n",
              "      <th>std</th>\n",
              "      <th>min</th>\n",
              "      <th>25%</th>\n",
              "      <th>50%</th>\n",
              "      <th>75%</th>\n",
              "      <th>max</th>\n",
              "    </tr>\n",
              "    <tr>\n",
              "      <th>sexo</th>\n",
              "      <th></th>\n",
              "      <th></th>\n",
              "      <th></th>\n",
              "      <th></th>\n",
              "      <th></th>\n",
              "      <th></th>\n",
              "      <th></th>\n",
              "      <th></th>\n",
              "    </tr>\n",
              "  </thead>\n",
              "  <tbody>\n",
              "    <tr>\n",
              "      <th>Feminino</th>\n",
              "      <td>3797.0</td>\n",
              "      <td>765.427443</td>\n",
              "      <td>1261.500448</td>\n",
              "      <td>0.0</td>\n",
              "      <td>7.0</td>\n",
              "      <td>212.0</td>\n",
              "      <td>1173.0</td>\n",
              "      <td>13023.0</td>\n",
              "    </tr>\n",
              "    <tr>\n",
              "      <th>Masculino</th>\n",
              "      <td>4334.0</td>\n",
              "      <td>1819.753576</td>\n",
              "      <td>4663.917412</td>\n",
              "      <td>0.0</td>\n",
              "      <td>7.0</td>\n",
              "      <td>202.5</td>\n",
              "      <td>1851.0</td>\n",
              "      <td>61309.0</td>\n",
              "    </tr>\n",
              "  </tbody>\n",
              "</table>\n",
              "</div>"
            ],
            "text/plain": [
              "          qtd_acidentes                                                     \\\n",
              "                  count         mean          std  min  25%    50%     75%   \n",
              "sexo                                                                         \n",
              "Feminino         3797.0   765.427443  1261.500448  0.0  7.0  212.0  1173.0   \n",
              "Masculino        4334.0  1819.753576  4663.917412  0.0  7.0  202.5  1851.0   \n",
              "\n",
              "                    \n",
              "               max  \n",
              "sexo                \n",
              "Feminino   13023.0  \n",
              "Masculino  61309.0  "
            ]
          },
          "metadata": {
            "tags": []
          },
          "execution_count": 112
        }
      ]
    },
    {
      "metadata": {
        "id": "6f876Jp3MlWk",
        "colab_type": "code",
        "colab": {
          "base_uri": "https://localhost:8080/",
          "height": 513
        },
        "outputId": "824c24af-8c8e-47f9-9b07-6b26d81972a9"
      },
      "cell_type": "code",
      "source": [
        "plt.figure(figsize = (18,8))\n",
        "g = sns.barplot(data = df_agesex,\n",
        "                x = \"sexo\",\n",
        "                y = \"qtd_acidentes\")\n",
        "g.set_title(\"Media de Quantidade de Acidentes por Sexo\");"
      ],
      "execution_count": 113,
      "outputs": [
        {
          "output_type": "display_data",
          "data": {
            "image/png": "[encoded data removed]",
            "text/plain": [
              "<Figure size 1296x576 with 1 Axes>"
            ]
          },
          "metadata": {
            "tags": []
          }
        }
      ]
    },
    {
      "metadata": {
        "id": "MKYY_FCwNDhv",
        "colab_type": "text"
      },
      "cell_type": "markdown",
      "source": [
        "Em média os homens se acidentam 25,x mais que as mulheres. No entanto, Ate o terceiro quartil (75%) a quantidade de acidentes para os dois sexos é parecida. Nesse sentido é interessante observar, também, que a distribuição dos acidentes de trabalho que ocorrem com mulheres ao longo dos anos possuem  uma distribuição mais apertada, em relação aos homens."
      ]
    },
    {
      "metadata": {
        "id": "ozZws9JJzFyu",
        "colab_type": "code",
        "colab": {
          "base_uri": "https://localhost:8080/",
          "height": 514
        },
        "outputId": "17126db8-cf6a-4f03-f88d-de6d32eba8e0"
      },
      "cell_type": "code",
      "source": [
        "plt.figure(figsize = (18,8))\n",
        "\n",
        "g = sns.boxplot(data = df_agesex,\n",
        "                y = \"idade\",\n",
        "                x = \"qtd_acidentes\")\n",
        "g.set_title(\"boxplot da Quantidade de Acidentes por Faixa Etaria\");\n"
      ],
      "execution_count": 116,
      "outputs": [
        {
          "output_type": "display_data",
          "data": {
            "image/png": "[encoded data removed]",
            "text/plain": [
              "<Figure size 1296x576 with 1 Axes>"
            ]
          },
          "metadata": {
            "tags": []
          }
        }
      ]
    },
    {
      "metadata": {
        "id": "rh7GevK5MHiD",
        "colab_type": "text"
      },
      "cell_type": "markdown",
      "source": [
        "Como pode ser observado, os acidentes por faixa etaria tem uma natureza desperça com diversos outliers. Para entender melhor os dados será necessária a observação da faixa etaria e contrasta-la por sexo."
      ]
    },
    {
      "metadata": {
        "id": "0QpVcN6tcb7V",
        "colab_type": "code",
        "colab": {
          "base_uri": "https://localhost:8080/",
          "height": 36
        },
        "outputId": "4b9da6d7-7a0f-4bfd-8cfc-77a725c8b8e5"
      },
      "cell_type": "code",
      "source": [
        ""
      ],
      "execution_count": 176,
      "outputs": [
        {
          "output_type": "execute_result",
          "data": {
            "text/plain": [
              "0"
            ]
          },
          "metadata": {
            "tags": []
          },
          "execution_count": 176
        }
      ]
    },
    {
      "metadata": {
        "id": "u52OHmnQedTb",
        "colab_type": "code",
        "colab": {
          "base_uri": "https://localhost:8080/",
          "height": 389
        },
        "outputId": "d6990a64-7c47-45f9-c965-5bdabc2fa022"
      },
      "cell_type": "code",
      "source": [
        "g = sns.catplot(x = \"sexo\",\n",
        "                y = \"qtd_acidentes\",\n",
        "                data = df_agesex,\n",
        "                col = \"idade\",\n",
        "                kind = \"violin\",\n",
        "                hue = \"sexo\",\n",
        "                split = True,\n",
        "                inner = \"quartile\")"
      ],
      "execution_count": 193,
      "outputs": [
        {
          "output_type": "display_data",
          "data": {
            "image/png": "[encoded data removed]",
            "text/plain": [
              "<Figure size 4320x360 with 12 Axes>"
            ]
          },
          "metadata": {
            "tags": []
          }
        }
      ]
    },
    {
      "metadata": {
        "id": "HtlTYfzEXCnE",
        "colab_type": "code",
        "colab": {
          "base_uri": "https://localhost:8080/",
          "height": 389
        },
        "outputId": "a4f5bff7-46c1-49ae-b495-34e2e4a1be5c"
      },
      "cell_type": "code",
      "source": [
        "ax = sns.catplot(x = \"sexo\",\n",
        "                y = \"qtd_acidentes\",\n",
        "                data = df_agesex,\n",
        "                col = \"idade\",\n",
        "                kind = \"boxen\",\n",
        "                hue = \"sexo\")\n"
      ],
      "execution_count": 203,
      "outputs": [
        {
          "output_type": "display_data",
          "data": {
            "image/png": "[encoded data removed]",
            "text/plain": [
              "<Figure size 4320x360 with 12 Axes>"
            ]
          },
          "metadata": {
            "tags": []
          }
        }
      ]
    },
    {
      "metadata": {
        "id": "Ot7k4Xk935lF",
        "colab_type": "code",
        "colab": {
          "base_uri": "https://localhost:8080/",
          "height": 501
        },
        "outputId": "81e03d82-970a-47de-b102-cfaca9755c35"
      },
      "cell_type": "code",
      "source": [
        "g = sns.FacetGrid(data = df_agesex,\n",
        "                 row = \"idade\")\n",
        "g = sns.violinplot(x=\"idade\",\n",
        "                   y=\"qtd_acidentes\",\n",
        "                   hue=\"sexo\",\n",
        "                   data=df_agesex,\n",
        "                   palette=\"Set2\",\n",
        "                   split=True,\n",
        "                   inner=\"quartile\")\n"
      ],
      "execution_count": 140,
      "outputs": [
        {
          "output_type": "display_data",
          "data": {
            "image/png": "[encoded data removed]",
            "text/plain": [
              "<Figure size 1152x576 with 1 Axes>"
            ]
          },
          "metadata": {
            "tags": []
          }
        }
      ]
    },
    {
      "metadata": {
        "id": "9Kd4IBFWjs9c",
        "colab_type": "code",
        "colab": {
          "base_uri": "https://localhost:8080/",
          "height": 305
        },
        "outputId": "e5c2579c-42c5-40f0-fe13-5faa49866cad"
      },
      "cell_type": "code",
      "source": [
        "df_agesex.unique()"
      ],
      "execution_count": 205,
      "outputs": [
        {
          "output_type": "error",
          "ename": "AttributeError",
          "evalue": "ignored",
          "traceback": [
            "\u001b[0;31m---------------------------------------------------------------------------\u001b[0m",
            "\u001b[0;31mAttributeError\u001b[0m                            Traceback (most recent call last)",
            "\u001b[0;32m<ipython-input-205-720ee9178b9e>\u001b[0m in \u001b[0;36m<module>\u001b[0;34m()\u001b[0m\n\u001b[0;32m----> 1\u001b[0;31m \u001b[0mdf_agesex\u001b[0m\u001b[0;34m.\u001b[0m\u001b[0munique\u001b[0m\u001b[0;34m(\u001b[0m\u001b[0;34m)\u001b[0m\u001b[0;34m\u001b[0m\u001b[0;34m\u001b[0m\u001b[0m\n\u001b[0m",
            "\u001b[0;32m/usr/local/lib/python3.6/dist-packages/pandas/core/generic.py\u001b[0m in \u001b[0;36m__getattr__\u001b[0;34m(self, name)\u001b[0m\n\u001b[1;32m   3612\u001b[0m             \u001b[0;32mif\u001b[0m \u001b[0mname\u001b[0m \u001b[0;32min\u001b[0m \u001b[0mself\u001b[0m\u001b[0;34m.\u001b[0m\u001b[0m_info_axis\u001b[0m\u001b[0;34m:\u001b[0m\u001b[0;34m\u001b[0m\u001b[0;34m\u001b[0m\u001b[0m\n\u001b[1;32m   3613\u001b[0m                 \u001b[0;32mreturn\u001b[0m \u001b[0mself\u001b[0m\u001b[0;34m[\u001b[0m\u001b[0mname\u001b[0m\u001b[0;34m]\u001b[0m\u001b[0;34m\u001b[0m\u001b[0;34m\u001b[0m\u001b[0m\n\u001b[0;32m-> 3614\u001b[0;31m             \u001b[0;32mreturn\u001b[0m \u001b[0mobject\u001b[0m\u001b[0;34m.\u001b[0m\u001b[0m__getattribute__\u001b[0m\u001b[0;34m(\u001b[0m\u001b[0mself\u001b[0m\u001b[0;34m,\u001b[0m \u001b[0mname\u001b[0m\u001b[0;34m)\u001b[0m\u001b[0;34m\u001b[0m\u001b[0;34m\u001b[0m\u001b[0m\n\u001b[0m\u001b[1;32m   3615\u001b[0m \u001b[0;34m\u001b[0m\u001b[0m\n\u001b[1;32m   3616\u001b[0m     \u001b[0;32mdef\u001b[0m \u001b[0m__setattr__\u001b[0m\u001b[0;34m(\u001b[0m\u001b[0mself\u001b[0m\u001b[0;34m,\u001b[0m \u001b[0mname\u001b[0m\u001b[0;34m,\u001b[0m \u001b[0mvalue\u001b[0m\u001b[0;34m)\u001b[0m\u001b[0;34m:\u001b[0m\u001b[0;34m\u001b[0m\u001b[0;34m\u001b[0m\u001b[0m\n",
            "\u001b[0;31mAttributeError\u001b[0m: 'DataFrame' object has no attribute 'unique'"
          ]
        }
      ]
    },
    {
      "metadata": {
        "id": "E4MUFUVloOWl",
        "colab_type": "code",
        "colab": {}
      },
      "cell_type": "code",
      "source": [
        "df_agesex[\"piram\"]=df_agesex[[\"qtd_acidentes\",\"sexo\"]].apply(lambda x:\n",
        "                                                             x[\"qtd_acidentes\"] if x[\"sexo\"]==\"Feminino\" else x[\"qtd_acidentes\"]*(-1),\n",
        "                                                             axis =1)"
      ],
      "execution_count": 0,
      "outputs": []
    },
    {
      "metadata": {
        "id": "XTALnaUCSJqa",
        "colab_type": "code",
        "colab": {
          "base_uri": "https://localhost:8080/",
          "height": 694
        },
        "outputId": "17801f1d-7643-491f-c05f-49891550266a"
      },
      "cell_type": "code",
      "source": [
        "#desenhando a figura\n",
        "plt.figure(figsize=(13,10), dpi= 80)\n",
        "group_col = 'sexo'\n",
        "order_of_bars = df_agesex.idade.unique()[::-1]\n",
        "colors = [plt.cm.Spectral(i/float(len(df_agesex[group_col].unique())-1)) for i in range(len(df_agesex[group_col].unique()))]\n",
        "\n",
        "for c, group in zip(colors, df_agesex[group_col].unique()):\n",
        "    sns.barplot(x='piram', y='idade', data=df_agesex.loc[df_agesex[group_col]==group, :], order=order_of_bars, color=c, label=group)\n",
        "    \n",
        "#decorativo\n",
        "plt.xlabel(\"Quantidade de Acidentes\")\n",
        "plt.ylabel(\"Faixa Etária\")\n",
        "plt.yticks(fontsize=12)\n",
        "plt.title(\"Piramide etária dos acidentes de trabalho\", fontsize=22)\n",
        "plt.legend()\n",
        "plt.show()\n"
      ],
      "execution_count": 219,
      "outputs": [
        {
          "output_type": "display_data",
          "data": {
            "image/png": "[encoded data removed]",
            "text/plain": [
              "<Figure size 1040x800 with 1 Axes>"
            ]
          },
          "metadata": {
            "tags": []
          }
        }
      ]
    }
  ]
}