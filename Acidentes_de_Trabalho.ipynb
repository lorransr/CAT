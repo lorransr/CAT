{
  "nbformat": 4,
  "nbformat_minor": 0,
  "metadata": {
    "colab": {
      "name": "Acidentes de Trabalho.ipynb",
      "version": "0.3.2",
      "provenance": [],
      "toc_visible": true,
      "include_colab_link": true
    },
    "kernelspec": {
      "name": "python3",
      "display_name": "Python 3"
    }
  },
  "cells": [
    {
      "cell_type": "markdown",
      "metadata": {
        "id": "view-in-github",
        "colab_type": "text"
      },
      "source": [
        "<a href=\"https://colab.research.google.com/github/lorransr/CAT/blob/master/Acidentes_de_Trabalho.ipynb\" target=\"_parent\"><img src=\"https://colab.research.google.com/assets/colab-badge.svg\" alt=\"Open In Colab\"/></a>"
      ]
    },
    {
      "metadata": {
        "id": "BkUDqfi5-yMs",
        "colab_type": "text"
      },
      "cell_type": "markdown",
      "source": [
        "# Raio X dos acidentes de Trabalho no Brasil\n",
        "\n",
        "Minha proposta é realizar uma analise, a partir das bases de dados disponibilizadas, através do portal da transparência, pela previdência social a respeito dos Acidentes do Trabalho ocorridos no pais.\n",
        "\n",
        "A princípio foram adquiridas 8 bases de dados, com diferentes recortes a respeito do tema. Elas são:\n",
        "1. Acidentes de Trabalho por UF\n",
        "2. Acidentes de Trabalho por mês\n",
        "3. Acidentes de Trabalho por faixa-etaria e sexo\n",
        "4. Acidentes de Trabalho por parte do corpo atingida\n",
        "5. Acidentes de Trabalho por CNAE (95)\n",
        "6. Acidentes de Trabalho por CNAE (2.0)\n",
        "7. Acidentes de Trabalho por CID\n",
        "8. Acidentes de Trabalho por CBO\n",
        "\n",
        "Todas as bases de dados estão segmentadas por ano. Todas contêm algum indicativo da situação de haver ou não CAT registrada. Igualmente, todas possuem um campo com a tipificação do acidente, seja ele típico, de trajeto ou uma doença de trabalho."
      ]
    },
    {
      "metadata": {
        "id": "HZ3ZzOuR_3v6",
        "colab_type": "text"
      },
      "cell_type": "markdown",
      "source": [
        "### Mas Afinal, o que é a CAT?\n",
        "\n",
        "A comunicação de acidente de trabalho (CAT) é um documento emitido para reconhecer tanto um **acidente de trabalho** ou **de trajeto** bem como uma **doença ocupacional**.\n",
        "Aqui vale a definição desses termos:\n",
        "\n",
        "* Acidente de trabalho ou de trajeto:é o acidente ocorrido no exercício da atividade profissional a serviço da empresa ou no deslocamento residência -> trabalho -> residência. \n",
        "\n",
        "*  Doença ocupacional: é aquela produzida ou desencadeada pelo exercício do trabalho peculiar a determinada atividade e constante da respectiva relação elaborada pelo Ministério do Trabalho e da Previdência Social.\n",
        "\n",
        "A CAT é um documento obrigatório e possui um prazo de emissão curto. Mesmo que não haja afastamento, a CAT deve ser emitida até o primeiro dia útil seguinte ao da ocorrência. Sob o risco de multa. Por conta desta característica a base de dados do INSS é extramemente útil e pouco defasada da realidade brasileira, portanto um bom instrumento para análise."
      ]
    },
    {
      "metadata": {
        "id": "tqJQbvCdBWa8",
        "colab_type": "text"
      },
      "cell_type": "markdown",
      "source": [
        "explicar melhor os seguintes termos:\n",
        "* CNAE \n",
        "* CID\n",
        "* CBO\n",
        "* CAT\n",
        "* O que é a tipificação do acidente e cada uma delas"
      ]
    },
    {
      "metadata": {
        "id": "JoPYEcpjBzie",
        "colab_type": "text"
      },
      "cell_type": "markdown",
      "source": [
        "## Acidentes de Trabalho por UF\n",
        "\n",
        "A primeira base a ser dessecada será a que diz respeito dos acidentes de trabalho por unidade federal. Com essa base de dados pretendo mapear as regiões do pais e suas respectivas quantidades de acidentes de trabalho. Também sera mostrado a evolução ao longo do tempo para as principais regiões."
      ]
    },
    {
      "metadata": {
        "id": "aa1ZWDK6FD-3",
        "colab_type": "code",
        "colab": {}
      },
      "cell_type": "code",
      "source": [
        "import pandas as pd\n",
        "import numpy as np\n",
        "import seaborn as sns\n",
        "import matplotlib as plt"
      ],
      "execution_count": 0,
      "outputs": []
    },
    {
      "metadata": {
        "id": "445SVfg0N5pL",
        "colab_type": "code",
        "outputId": "4e425f4a-15bc-4006-e103-e238e4820568",
        "colab": {
          "resources": {
            "http://localhost:8080/nbextensions/google.colab/files.js": {
              "data": "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",
              "ok": true,
              "headers": [
                [
                  "content-type",
                  "application/javascript"
                ]
              ],
              "status": 200,
              "status_text": "OK"
            }
          },
          "base_uri": "https://localhost:8080/",
          "height": 39
        }
      },
      "cell_type": "code",
      "source": [
        "from google.colab import files\n",
        "\n",
        "uploaded = files.upload()\n",
        "\n",
        "for fn in uploaded.keys():\n",
        "  print('User uploaded file \"{name}\" with length {length} bytes'.format(\n",
        "      name=fn, length=len(uploaded[fn])))"
      ],
      "execution_count": 2,
      "outputs": [
        {
          "output_type": "display_data",
          "data": {
            "text/html": [
              "\n",
              "     <input type=\"file\" id=\"files-8ba4a9be-7f5d-4c63-9c9d-9544e13ee1c6\" name=\"files[]\" multiple disabled />\n",
              "     <output id=\"result-8ba4a9be-7f5d-4c63-9c9d-9544e13ee1c6\">\n",
              "      Upload widget is only available when the cell has been executed in the\n",
              "      current browser session. Please rerun this cell to enable.\n",
              "      </output>\n",
              "      <script src=\"/nbextensions/google.colab/files.js\"></script> "
            ],
            "text/plain": [
              "<IPython.core.display.HTML object>"
            ]
          },
          "metadata": {
            "tags": []
          }
        }
      ]
    },
    {
      "metadata": {
        "id": "to53TQN6FR0Z",
        "colab_type": "code",
        "colab": {}
      },
      "cell_type": "code",
      "source": [
        "df_uf = pd.read_csv(\"ACT-uf.csv\", sep=\",\", encoding = \"latin-1\")"
      ],
      "execution_count": 0,
      "outputs": []
    },
    {
      "metadata": {
        "id": "71H5ZeK2FgCb",
        "colab_type": "code",
        "outputId": "79715791-a63c-4030-a7f1-b417a0540121",
        "colab": {
          "base_uri": "https://localhost:8080/",
          "height": 206
        }
      },
      "cell_type": "code",
      "source": [
        "df_uf.columns = ['ano','estado','motivo/situação','qtd_acidentes']\n",
        "df_uf.head()"
      ],
      "execution_count": 4,
      "outputs": [
        {
          "output_type": "execute_result",
          "data": {
            "text/html": [
              "<div>\n",
              "<style scoped>\n",
              "    .dataframe tbody tr th:only-of-type {\n",
              "        vertical-align: middle;\n",
              "    }\n",
              "\n",
              "    .dataframe tbody tr th {\n",
              "        vertical-align: top;\n",
              "    }\n",
              "\n",
              "    .dataframe thead th {\n",
              "        text-align: right;\n",
              "    }\n",
              "</style>\n",
              "<table border=\"1\" class=\"dataframe\">\n",
              "  <thead>\n",
              "    <tr style=\"text-align: right;\">\n",
              "      <th></th>\n",
              "      <th>ano</th>\n",
              "      <th>estado</th>\n",
              "      <th>motivo/situação</th>\n",
              "      <th>qtd_acidentes</th>\n",
              "    </tr>\n",
              "  </thead>\n",
              "  <tbody>\n",
              "    <tr>\n",
              "      <th>0</th>\n",
              "      <td>1988</td>\n",
              "      <td>Rondônia</td>\n",
              "      <td>Típico-Com Cat</td>\n",
              "      <td>592.0</td>\n",
              "    </tr>\n",
              "    <tr>\n",
              "      <th>1</th>\n",
              "      <td>1988</td>\n",
              "      <td>Acre</td>\n",
              "      <td>Típico-Com Cat</td>\n",
              "      <td>115.0</td>\n",
              "    </tr>\n",
              "    <tr>\n",
              "      <th>2</th>\n",
              "      <td>1988</td>\n",
              "      <td>Amazonas</td>\n",
              "      <td>Típico-Com Cat</td>\n",
              "      <td>5173.0</td>\n",
              "    </tr>\n",
              "    <tr>\n",
              "      <th>3</th>\n",
              "      <td>1988</td>\n",
              "      <td>Pará</td>\n",
              "      <td>Típico-Com Cat</td>\n",
              "      <td>12172.0</td>\n",
              "    </tr>\n",
              "    <tr>\n",
              "      <th>4</th>\n",
              "      <td>1988</td>\n",
              "      <td>Maranhão</td>\n",
              "      <td>Típico-Com Cat</td>\n",
              "      <td>5916.0</td>\n",
              "    </tr>\n",
              "  </tbody>\n",
              "</table>\n",
              "</div>"
            ],
            "text/plain": [
              "    ano    estado motivo/situação  qtd_acidentes\n",
              "0  1988  Rondônia  Típico-Com Cat          592.0\n",
              "1  1988      Acre  Típico-Com Cat          115.0\n",
              "2  1988  Amazonas  Típico-Com Cat         5173.0\n",
              "3  1988      Pará  Típico-Com Cat        12172.0\n",
              "4  1988  Maranhão  Típico-Com Cat         5916.0"
            ]
          },
          "metadata": {
            "tags": []
          },
          "execution_count": 4
        }
      ]
    },
    {
      "metadata": {
        "id": "JCUh18iNPweK",
        "colab_type": "code",
        "outputId": "fac30388-054f-469c-aecf-44003afe69f3",
        "colab": {
          "base_uri": "https://localhost:8080/",
          "height": 108
        }
      },
      "cell_type": "code",
      "source": [
        "df_uf.isna().sum()"
      ],
      "execution_count": 5,
      "outputs": [
        {
          "output_type": "execute_result",
          "data": {
            "text/plain": [
              "ano                0\n",
              "estado             0\n",
              "motivo/situação    0\n",
              "qtd_acidentes      1\n",
              "dtype: int64"
            ]
          },
          "metadata": {
            "tags": []
          },
          "execution_count": 5
        }
      ]
    },
    {
      "metadata": {
        "id": "8cOiVet8IxUO",
        "colab_type": "code",
        "colab": {}
      },
      "cell_type": "code",
      "source": [
        "df_uf.dropna(inplace=True)"
      ],
      "execution_count": 0,
      "outputs": []
    },
    {
      "metadata": {
        "id": "2liqDnJRQoVn",
        "colab_type": "text"
      },
      "cell_type": "markdown",
      "source": [
        "Para poder ter uma ideia da distribuição dos acidentes ao redor do pais é preciso primeiro vincular os estados na base de dados a uma latitude e longitude. A partir desse repositório no GitHub, foi possivel encontrar uma base consistente com algumas informações adicionais a respeito dos estados:https://github.com/kelvins/Municipios-Brasileiros/"
      ]
    },
    {
      "metadata": {
        "id": "xe5DuY_EGTxj",
        "colab_type": "code",
        "colab": {}
      },
      "cell_type": "code",
      "source": [
        "dim_uf = pd.read_csv(\"brasil.csv\", sep=\",\")"
      ],
      "execution_count": 0,
      "outputs": []
    },
    {
      "metadata": {
        "id": "z1Z523JbH_Bk",
        "colab_type": "code",
        "outputId": "dbef8f7c-9e69-4548-b9b7-97d8d3431071",
        "colab": {
          "base_uri": "https://localhost:8080/",
          "height": 206
        }
      },
      "cell_type": "code",
      "source": [
        "dim_uf.head()"
      ],
      "execution_count": 8,
      "outputs": [
        {
          "output_type": "execute_result",
          "data": {
            "text/html": [
              "<div>\n",
              "<style scoped>\n",
              "    .dataframe tbody tr th:only-of-type {\n",
              "        vertical-align: middle;\n",
              "    }\n",
              "\n",
              "    .dataframe tbody tr th {\n",
              "        vertical-align: top;\n",
              "    }\n",
              "\n",
              "    .dataframe thead th {\n",
              "        text-align: right;\n",
              "    }\n",
              "</style>\n",
              "<table border=\"1\" class=\"dataframe\">\n",
              "  <thead>\n",
              "    <tr style=\"text-align: right;\">\n",
              "      <th></th>\n",
              "      <th>ibge</th>\n",
              "      <th>municipio</th>\n",
              "      <th>latitude</th>\n",
              "      <th>longitude</th>\n",
              "      <th>cod_estado</th>\n",
              "      <th>estado</th>\n",
              "      <th>uf</th>\n",
              "      <th>regiao</th>\n",
              "      <th>capital</th>\n",
              "    </tr>\n",
              "  </thead>\n",
              "  <tbody>\n",
              "    <tr>\n",
              "      <th>0</th>\n",
              "      <td>520005</td>\n",
              "      <td>Abadia de Goiás</td>\n",
              "      <td>-16.75730</td>\n",
              "      <td>-49.4412</td>\n",
              "      <td>52</td>\n",
              "      <td>Goiás</td>\n",
              "      <td>GO</td>\n",
              "      <td>Centro-Oeste</td>\n",
              "      <td>0</td>\n",
              "    </tr>\n",
              "    <tr>\n",
              "      <th>1</th>\n",
              "      <td>310010</td>\n",
              "      <td>Abadia dos Dourados</td>\n",
              "      <td>-18.48310</td>\n",
              "      <td>-47.3916</td>\n",
              "      <td>31</td>\n",
              "      <td>Minas Gerais</td>\n",
              "      <td>MG</td>\n",
              "      <td>Sudeste</td>\n",
              "      <td>0</td>\n",
              "    </tr>\n",
              "    <tr>\n",
              "      <th>2</th>\n",
              "      <td>520010</td>\n",
              "      <td>Abadiânia</td>\n",
              "      <td>-16.19700</td>\n",
              "      <td>-48.7057</td>\n",
              "      <td>52</td>\n",
              "      <td>Goiás</td>\n",
              "      <td>GO</td>\n",
              "      <td>Centro-Oeste</td>\n",
              "      <td>0</td>\n",
              "    </tr>\n",
              "    <tr>\n",
              "      <th>3</th>\n",
              "      <td>310020</td>\n",
              "      <td>Abaeté</td>\n",
              "      <td>-19.15510</td>\n",
              "      <td>-45.4444</td>\n",
              "      <td>31</td>\n",
              "      <td>Minas Gerais</td>\n",
              "      <td>MG</td>\n",
              "      <td>Sudeste</td>\n",
              "      <td>0</td>\n",
              "    </tr>\n",
              "    <tr>\n",
              "      <th>4</th>\n",
              "      <td>150010</td>\n",
              "      <td>Abaetetuba</td>\n",
              "      <td>-1.72183</td>\n",
              "      <td>-48.8788</td>\n",
              "      <td>15</td>\n",
              "      <td>Pará</td>\n",
              "      <td>PA</td>\n",
              "      <td>Norte</td>\n",
              "      <td>0</td>\n",
              "    </tr>\n",
              "  </tbody>\n",
              "</table>\n",
              "</div>"
            ],
            "text/plain": [
              "     ibge            municipio  latitude  longitude  cod_estado        estado  \\\n",
              "0  520005      Abadia de Goiás -16.75730   -49.4412          52         Goiás   \n",
              "1  310010  Abadia dos Dourados -18.48310   -47.3916          31  Minas Gerais   \n",
              "2  520010            Abadiânia -16.19700   -48.7057          52         Goiás   \n",
              "3  310020               Abaeté -19.15510   -45.4444          31  Minas Gerais   \n",
              "4  150010           Abaetetuba  -1.72183   -48.8788          15          Pará   \n",
              "\n",
              "   uf        regiao  capital  \n",
              "0  GO  Centro-Oeste        0  \n",
              "1  MG       Sudeste        0  \n",
              "2  GO  Centro-Oeste        0  \n",
              "3  MG       Sudeste        0  \n",
              "4  PA         Norte        0  "
            ]
          },
          "metadata": {
            "tags": []
          },
          "execution_count": 8
        }
      ]
    },
    {
      "metadata": {
        "id": "tFhj9w8UUHs8",
        "colab_type": "code",
        "outputId": "e4da365a-dd0c-428d-9271-a63496865af5",
        "colab": {
          "base_uri": "https://localhost:8080/",
          "height": 72
        }
      },
      "cell_type": "code",
      "source": [
        "dim_uf.columns"
      ],
      "execution_count": 9,
      "outputs": [
        {
          "output_type": "execute_result",
          "data": {
            "text/plain": [
              "Index(['ibge', 'municipio', 'latitude', 'longitude', 'cod_estado', 'estado',\n",
              "       'uf', 'regiao', 'capital'],\n",
              "      dtype='object')"
            ]
          },
          "metadata": {
            "tags": []
          },
          "execution_count": 9
        }
      ]
    },
    {
      "metadata": {
        "id": "JqxDpVFmTaQ5",
        "colab_type": "code",
        "outputId": "9d2ab854-4e88-45a1-e3a4-5a857eefd144",
        "colab": {
          "base_uri": "https://localhost:8080/",
          "height": 206
        }
      },
      "cell_type": "code",
      "source": [
        "selected_columns=['latitude', 'longitude', 'cod_estado', 'estado',\n",
        "       'uf', 'regiao', 'capital']\n",
        "dim_uf = dim_uf[selected_columns]\n",
        "dim_uf = dim_uf[dim_uf[\"capital\"]==1]\n",
        "dim_uf.drop_duplicates(subset = \"cod_estado\",inplace=True)\n",
        "dim_uf.head()"
      ],
      "execution_count": 10,
      "outputs": [
        {
          "output_type": "execute_result",
          "data": {
            "text/html": [
              "<div>\n",
              "<style scoped>\n",
              "    .dataframe tbody tr th:only-of-type {\n",
              "        vertical-align: middle;\n",
              "    }\n",
              "\n",
              "    .dataframe tbody tr th {\n",
              "        vertical-align: top;\n",
              "    }\n",
              "\n",
              "    .dataframe thead th {\n",
              "        text-align: right;\n",
              "    }\n",
              "</style>\n",
              "<table border=\"1\" class=\"dataframe\">\n",
              "  <thead>\n",
              "    <tr style=\"text-align: right;\">\n",
              "      <th></th>\n",
              "      <th>latitude</th>\n",
              "      <th>longitude</th>\n",
              "      <th>cod_estado</th>\n",
              "      <th>estado</th>\n",
              "      <th>uf</th>\n",
              "      <th>regiao</th>\n",
              "      <th>capital</th>\n",
              "    </tr>\n",
              "  </thead>\n",
              "  <tbody>\n",
              "    <tr>\n",
              "      <th>294</th>\n",
              "      <td>-10.90910</td>\n",
              "      <td>-37.0677</td>\n",
              "      <td>28</td>\n",
              "      <td>Sergipe</td>\n",
              "      <td>SE</td>\n",
              "      <td>Nordeste</td>\n",
              "      <td>1</td>\n",
              "    </tr>\n",
              "    <tr>\n",
              "      <th>580</th>\n",
              "      <td>-1.45540</td>\n",
              "      <td>-48.4898</td>\n",
              "      <td>15</td>\n",
              "      <td>Pará</td>\n",
              "      <td>PA</td>\n",
              "      <td>Norte</td>\n",
              "      <td>1</td>\n",
              "    </tr>\n",
              "    <tr>\n",
              "      <th>592</th>\n",
              "      <td>-19.91020</td>\n",
              "      <td>-43.9266</td>\n",
              "      <td>31</td>\n",
              "      <td>Minas Gerais</td>\n",
              "      <td>MG</td>\n",
              "      <td>Sudeste</td>\n",
              "      <td>1</td>\n",
              "    </tr>\n",
              "    <tr>\n",
              "      <th>642</th>\n",
              "      <td>2.82384</td>\n",
              "      <td>-60.6753</td>\n",
              "      <td>14</td>\n",
              "      <td>Roraima</td>\n",
              "      <td>RR</td>\n",
              "      <td>Norte</td>\n",
              "      <td>1</td>\n",
              "    </tr>\n",
              "    <tr>\n",
              "      <th>755</th>\n",
              "      <td>-15.77950</td>\n",
              "      <td>-47.9297</td>\n",
              "      <td>53</td>\n",
              "      <td>Distrito Federal</td>\n",
              "      <td>DF</td>\n",
              "      <td>Centro-Oeste</td>\n",
              "      <td>1</td>\n",
              "    </tr>\n",
              "  </tbody>\n",
              "</table>\n",
              "</div>"
            ],
            "text/plain": [
              "     latitude  longitude  cod_estado            estado  uf        regiao  \\\n",
              "294 -10.90910   -37.0677          28           Sergipe  SE      Nordeste   \n",
              "580  -1.45540   -48.4898          15              Pará  PA         Norte   \n",
              "592 -19.91020   -43.9266          31      Minas Gerais  MG       Sudeste   \n",
              "642   2.82384   -60.6753          14           Roraima  RR         Norte   \n",
              "755 -15.77950   -47.9297          53  Distrito Federal  DF  Centro-Oeste   \n",
              "\n",
              "     capital  \n",
              "294        1  \n",
              "580        1  \n",
              "592        1  \n",
              "642        1  \n",
              "755        1  "
            ]
          },
          "metadata": {
            "tags": []
          },
          "execution_count": 10
        }
      ]
    },
    {
      "metadata": {
        "id": "9fGTOePRQfDQ",
        "colab_type": "code",
        "outputId": "57839875-c6f4-44b9-8929-883dfcc36ed5",
        "colab": {
          "base_uri": "https://localhost:8080/",
          "height": 206
        }
      },
      "cell_type": "code",
      "source": [
        "df_uf = pd.merge(df_uf,dim_uf, how =\"inner\", on=\"estado\")\n",
        "df_uf.head()"
      ],
      "execution_count": 11,
      "outputs": [
        {
          "output_type": "execute_result",
          "data": {
            "text/html": [
              "<div>\n",
              "<style scoped>\n",
              "    .dataframe tbody tr th:only-of-type {\n",
              "        vertical-align: middle;\n",
              "    }\n",
              "\n",
              "    .dataframe tbody tr th {\n",
              "        vertical-align: top;\n",
              "    }\n",
              "\n",
              "    .dataframe thead th {\n",
              "        text-align: right;\n",
              "    }\n",
              "</style>\n",
              "<table border=\"1\" class=\"dataframe\">\n",
              "  <thead>\n",
              "    <tr style=\"text-align: right;\">\n",
              "      <th></th>\n",
              "      <th>ano</th>\n",
              "      <th>estado</th>\n",
              "      <th>motivo/situação</th>\n",
              "      <th>qtd_acidentes</th>\n",
              "      <th>latitude</th>\n",
              "      <th>longitude</th>\n",
              "      <th>cod_estado</th>\n",
              "      <th>uf</th>\n",
              "      <th>regiao</th>\n",
              "      <th>capital</th>\n",
              "    </tr>\n",
              "  </thead>\n",
              "  <tbody>\n",
              "    <tr>\n",
              "      <th>0</th>\n",
              "      <td>1988</td>\n",
              "      <td>Rondônia</td>\n",
              "      <td>Típico-Com Cat</td>\n",
              "      <td>592.0</td>\n",
              "      <td>-8.76077</td>\n",
              "      <td>-63.8999</td>\n",
              "      <td>11</td>\n",
              "      <td>RO</td>\n",
              "      <td>Norte</td>\n",
              "      <td>1</td>\n",
              "    </tr>\n",
              "    <tr>\n",
              "      <th>1</th>\n",
              "      <td>1988</td>\n",
              "      <td>Rondônia</td>\n",
              "      <td>Trajeto-Com Cat</td>\n",
              "      <td>78.0</td>\n",
              "      <td>-8.76077</td>\n",
              "      <td>-63.8999</td>\n",
              "      <td>11</td>\n",
              "      <td>RO</td>\n",
              "      <td>Norte</td>\n",
              "      <td>1</td>\n",
              "    </tr>\n",
              "    <tr>\n",
              "      <th>2</th>\n",
              "      <td>1988</td>\n",
              "      <td>Rondônia</td>\n",
              "      <td>Doença do Trabalho-Com Cat</td>\n",
              "      <td>9.0</td>\n",
              "      <td>-8.76077</td>\n",
              "      <td>-63.8999</td>\n",
              "      <td>11</td>\n",
              "      <td>RO</td>\n",
              "      <td>Norte</td>\n",
              "      <td>1</td>\n",
              "    </tr>\n",
              "    <tr>\n",
              "      <th>3</th>\n",
              "      <td>1989</td>\n",
              "      <td>Rondônia</td>\n",
              "      <td>Típico-Com Cat</td>\n",
              "      <td>558.0</td>\n",
              "      <td>-8.76077</td>\n",
              "      <td>-63.8999</td>\n",
              "      <td>11</td>\n",
              "      <td>RO</td>\n",
              "      <td>Norte</td>\n",
              "      <td>1</td>\n",
              "    </tr>\n",
              "    <tr>\n",
              "      <th>4</th>\n",
              "      <td>1989</td>\n",
              "      <td>Rondônia</td>\n",
              "      <td>Trajeto-Com Cat</td>\n",
              "      <td>52.0</td>\n",
              "      <td>-8.76077</td>\n",
              "      <td>-63.8999</td>\n",
              "      <td>11</td>\n",
              "      <td>RO</td>\n",
              "      <td>Norte</td>\n",
              "      <td>1</td>\n",
              "    </tr>\n",
              "  </tbody>\n",
              "</table>\n",
              "</div>"
            ],
            "text/plain": [
              "    ano    estado             motivo/situação  qtd_acidentes  latitude  \\\n",
              "0  1988  Rondônia              Típico-Com Cat          592.0  -8.76077   \n",
              "1  1988  Rondônia             Trajeto-Com Cat           78.0  -8.76077   \n",
              "2  1988  Rondônia  Doença do Trabalho-Com Cat            9.0  -8.76077   \n",
              "3  1989  Rondônia              Típico-Com Cat          558.0  -8.76077   \n",
              "4  1989  Rondônia             Trajeto-Com Cat           52.0  -8.76077   \n",
              "\n",
              "   longitude  cod_estado  uf regiao  capital  \n",
              "0   -63.8999          11  RO  Norte        1  \n",
              "1   -63.8999          11  RO  Norte        1  \n",
              "2   -63.8999          11  RO  Norte        1  \n",
              "3   -63.8999          11  RO  Norte        1  \n",
              "4   -63.8999          11  RO  Norte        1  "
            ]
          },
          "metadata": {
            "tags": []
          },
          "execution_count": 11
        }
      ]
    },
    {
      "metadata": {
        "id": "mSDHPfh5aFbM",
        "colab_type": "code",
        "outputId": "8e6f4389-c66e-4905-b221-7e4124350a06",
        "colab": {
          "base_uri": "https://localhost:8080/",
          "height": 217
        }
      },
      "cell_type": "code",
      "source": [
        "df_uf.dtypes"
      ],
      "execution_count": 12,
      "outputs": [
        {
          "output_type": "execute_result",
          "data": {
            "text/plain": [
              "ano                 object\n",
              "estado              object\n",
              "motivo/situação     object\n",
              "qtd_acidentes      float64\n",
              "latitude           float64\n",
              "longitude          float64\n",
              "cod_estado           int64\n",
              "uf                  object\n",
              "regiao              object\n",
              "capital              int64\n",
              "dtype: object"
            ]
          },
          "metadata": {
            "tags": []
          },
          "execution_count": 12
        }
      ]
    },
    {
      "metadata": {
        "id": "3M0n6dTsaFig",
        "colab_type": "code",
        "colab": {}
      },
      "cell_type": "code",
      "source": [
        "df_uf.ano = df_uf.ano.astype('int64')"
      ],
      "execution_count": 0,
      "outputs": []
    },
    {
      "metadata": {
        "id": "usVOwOZxnu3R",
        "colab_type": "text"
      },
      "cell_type": "markdown",
      "source": [
        "Com a base de dados tratada agora é possivel tirar alguns insights dos dados adquiridos"
      ]
    },
    {
      "metadata": {
        "id": "gi8y5t0Nn3bW",
        "colab_type": "code",
        "outputId": "ac696da6-4570-4d55-e252-618c28ff9fa4",
        "colab": {
          "base_uri": "https://localhost:8080/",
          "height": 300
        }
      },
      "cell_type": "code",
      "source": [
        "df_uf.describe()"
      ],
      "execution_count": 14,
      "outputs": [
        {
          "output_type": "execute_result",
          "data": {
            "text/html": [
              "<div>\n",
              "<style scoped>\n",
              "    .dataframe tbody tr th:only-of-type {\n",
              "        vertical-align: middle;\n",
              "    }\n",
              "\n",
              "    .dataframe tbody tr th {\n",
              "        vertical-align: top;\n",
              "    }\n",
              "\n",
              "    .dataframe thead th {\n",
              "        text-align: right;\n",
              "    }\n",
              "</style>\n",
              "<table border=\"1\" class=\"dataframe\">\n",
              "  <thead>\n",
              "    <tr style=\"text-align: right;\">\n",
              "      <th></th>\n",
              "      <th>ano</th>\n",
              "      <th>qtd_acidentes</th>\n",
              "      <th>latitude</th>\n",
              "      <th>longitude</th>\n",
              "      <th>cod_estado</th>\n",
              "      <th>capital</th>\n",
              "    </tr>\n",
              "  </thead>\n",
              "  <tbody>\n",
              "    <tr>\n",
              "      <th>count</th>\n",
              "      <td>2893.000000</td>\n",
              "      <td>2893.000000</td>\n",
              "      <td>2893.000000</td>\n",
              "      <td>2893.000000</td>\n",
              "      <td>2893.000000</td>\n",
              "      <td>2893.0</td>\n",
              "    </tr>\n",
              "    <tr>\n",
              "      <th>mean</th>\n",
              "      <td>2004.155202</td>\n",
              "      <td>5699.356723</td>\n",
              "      <td>-13.057547</td>\n",
              "      <td>-46.855375</td>\n",
              "      <td>29.812306</td>\n",
              "      <td>1.0</td>\n",
              "    </tr>\n",
              "    <tr>\n",
              "      <th>std</th>\n",
              "      <td>8.306485</td>\n",
              "      <td>21516.599192</td>\n",
              "      <td>8.788195</td>\n",
              "      <td>8.878290</td>\n",
              "      <td>12.667073</td>\n",
              "      <td>0.0</td>\n",
              "    </tr>\n",
              "    <tr>\n",
              "      <th>min</th>\n",
              "      <td>1988.000000</td>\n",
              "      <td>0.000000</td>\n",
              "      <td>-30.031800</td>\n",
              "      <td>-67.824300</td>\n",
              "      <td>11.000000</td>\n",
              "      <td>1.0</td>\n",
              "    </tr>\n",
              "    <tr>\n",
              "      <th>25%</th>\n",
              "      <td>1997.000000</td>\n",
              "      <td>97.000000</td>\n",
              "      <td>-20.315500</td>\n",
              "      <td>-51.206500</td>\n",
              "      <td>21.000000</td>\n",
              "      <td>1.0</td>\n",
              "    </tr>\n",
              "    <tr>\n",
              "      <th>50%</th>\n",
              "      <td>2006.000000</td>\n",
              "      <td>633.000000</td>\n",
              "      <td>-10.909100</td>\n",
              "      <td>-47.929700</td>\n",
              "      <td>28.000000</td>\n",
              "      <td>1.0</td>\n",
              "    </tr>\n",
              "    <tr>\n",
              "      <th>75%</th>\n",
              "      <td>2011.000000</td>\n",
              "      <td>3013.000000</td>\n",
              "      <td>-5.793570</td>\n",
              "      <td>-38.542300</td>\n",
              "      <td>41.000000</td>\n",
              "      <td>1.0</td>\n",
              "    </tr>\n",
              "    <tr>\n",
              "      <th>max</th>\n",
              "      <td>2016.000000</td>\n",
              "      <td>419981.000000</td>\n",
              "      <td>2.823840</td>\n",
              "      <td>-34.864100</td>\n",
              "      <td>53.000000</td>\n",
              "      <td>1.0</td>\n",
              "    </tr>\n",
              "  </tbody>\n",
              "</table>\n",
              "</div>"
            ],
            "text/plain": [
              "               ano  qtd_acidentes     latitude    longitude   cod_estado  \\\n",
              "count  2893.000000    2893.000000  2893.000000  2893.000000  2893.000000   \n",
              "mean   2004.155202    5699.356723   -13.057547   -46.855375    29.812306   \n",
              "std       8.306485   21516.599192     8.788195     8.878290    12.667073   \n",
              "min    1988.000000       0.000000   -30.031800   -67.824300    11.000000   \n",
              "25%    1997.000000      97.000000   -20.315500   -51.206500    21.000000   \n",
              "50%    2006.000000     633.000000   -10.909100   -47.929700    28.000000   \n",
              "75%    2011.000000    3013.000000    -5.793570   -38.542300    41.000000   \n",
              "max    2016.000000  419981.000000     2.823840   -34.864100    53.000000   \n",
              "\n",
              "       capital  \n",
              "count   2893.0  \n",
              "mean       1.0  \n",
              "std        0.0  \n",
              "min        1.0  \n",
              "25%        1.0  \n",
              "50%        1.0  \n",
              "75%        1.0  \n",
              "max        1.0  "
            ]
          },
          "metadata": {
            "tags": []
          },
          "execution_count": 14
        }
      ]
    },
    {
      "metadata": {
        "id": "FrdbSxENojXq",
        "colab_type": "text"
      },
      "cell_type": "markdown",
      "source": [
        "A princípio é possivel observar alguns pontos interessantes:\n",
        "* Existe em algum lugar dos dados linha(s) com zero acidentes\n",
        "* O maior númedo de acidentes registrado foi 419981 - o que levanta a questão a respeito do quando e onde isso ocorreu.\n",
        "* Esse número gigantesco de acidentes se trata de um outlier uma vez que a grande maioria dos valores está entre 0 a 3000 acidentes."
      ]
    },
    {
      "metadata": {
        "id": "iLrpWyODpnJf",
        "colab_type": "text"
      },
      "cell_type": "markdown",
      "source": [
        "### Zero Acidentes\n",
        "\n",
        "Onde será que tivemos zero acidentes?"
      ]
    },
    {
      "metadata": {
        "id": "swE5MmQtqSaD",
        "colab_type": "code",
        "outputId": "6903dee1-b97d-4e41-dec7-e56899b806a7",
        "colab": {
          "base_uri": "https://localhost:8080/",
          "height": 1178
        }
      },
      "cell_type": "code",
      "source": [
        "zero_acidentes = df_uf[df_uf['qtd_acidentes']==0]\n",
        "zero_acidentes.sort_values([\"regiao\",\"estado\",\"ano\"]).drop(labels=[\"latitude\",\"longitude\",\"cod_estado\",\"uf\",\"capital\"],axis=1)"
      ],
      "execution_count": 15,
      "outputs": [
        {
          "output_type": "execute_result",
          "data": {
            "text/html": [
              "<div>\n",
              "<style scoped>\n",
              "    .dataframe tbody tr th:only-of-type {\n",
              "        vertical-align: middle;\n",
              "    }\n",
              "\n",
              "    .dataframe tbody tr th {\n",
              "        vertical-align: top;\n",
              "    }\n",
              "\n",
              "    .dataframe thead th {\n",
              "        text-align: right;\n",
              "    }\n",
              "</style>\n",
              "<table border=\"1\" class=\"dataframe\">\n",
              "  <thead>\n",
              "    <tr style=\"text-align: right;\">\n",
              "      <th></th>\n",
              "      <th>ano</th>\n",
              "      <th>estado</th>\n",
              "      <th>motivo/situação</th>\n",
              "      <th>qtd_acidentes</th>\n",
              "      <th>regiao</th>\n",
              "    </tr>\n",
              "  </thead>\n",
              "  <tbody>\n",
              "    <tr>\n",
              "      <th>2347</th>\n",
              "      <td>1993</td>\n",
              "      <td>Mato Grosso</td>\n",
              "      <td>Trajeto-Com Cat</td>\n",
              "      <td>0.0</td>\n",
              "      <td>Centro-Oeste</td>\n",
              "    </tr>\n",
              "    <tr>\n",
              "      <th>1075</th>\n",
              "      <td>1989</td>\n",
              "      <td>Alagoas</td>\n",
              "      <td>Doença do Trabalho-Com Cat</td>\n",
              "      <td>0.0</td>\n",
              "      <td>Nordeste</td>\n",
              "    </tr>\n",
              "    <tr>\n",
              "      <th>1078</th>\n",
              "      <td>1990</td>\n",
              "      <td>Alagoas</td>\n",
              "      <td>Doença do Trabalho-Com Cat</td>\n",
              "      <td>0.0</td>\n",
              "      <td>Nordeste</td>\n",
              "    </tr>\n",
              "    <tr>\n",
              "      <th>434</th>\n",
              "      <td>1990</td>\n",
              "      <td>Maranhão</td>\n",
              "      <td>Doença do Trabalho-Com Cat</td>\n",
              "      <td>0.0</td>\n",
              "      <td>Nordeste</td>\n",
              "    </tr>\n",
              "    <tr>\n",
              "      <th>437</th>\n",
              "      <td>1991</td>\n",
              "      <td>Maranhão</td>\n",
              "      <td>Doença do Trabalho-Com Cat</td>\n",
              "      <td>0.0</td>\n",
              "      <td>Nordeste</td>\n",
              "    </tr>\n",
              "    <tr>\n",
              "      <th>446</th>\n",
              "      <td>1994</td>\n",
              "      <td>Maranhão</td>\n",
              "      <td>Doença do Trabalho-Com Cat</td>\n",
              "      <td>0.0</td>\n",
              "      <td>Nordeste</td>\n",
              "    </tr>\n",
              "    <tr>\n",
              "      <th>449</th>\n",
              "      <td>1995</td>\n",
              "      <td>Maranhão</td>\n",
              "      <td>Doença do Trabalho-Com Cat</td>\n",
              "      <td>0.0</td>\n",
              "      <td>Nordeste</td>\n",
              "    </tr>\n",
              "    <tr>\n",
              "      <th>527</th>\n",
              "      <td>1988</td>\n",
              "      <td>Piauí</td>\n",
              "      <td>Doença do Trabalho-Com Cat</td>\n",
              "      <td>0.0</td>\n",
              "      <td>Nordeste</td>\n",
              "    </tr>\n",
              "    <tr>\n",
              "      <th>539</th>\n",
              "      <td>1992</td>\n",
              "      <td>Piauí</td>\n",
              "      <td>Doença do Trabalho-Com Cat</td>\n",
              "      <td>0.0</td>\n",
              "      <td>Nordeste</td>\n",
              "    </tr>\n",
              "    <tr>\n",
              "      <th>548</th>\n",
              "      <td>1995</td>\n",
              "      <td>Piauí</td>\n",
              "      <td>Doença do Trabalho-Com Cat</td>\n",
              "      <td>0.0</td>\n",
              "      <td>Nordeste</td>\n",
              "    </tr>\n",
              "    <tr>\n",
              "      <th>115</th>\n",
              "      <td>1988</td>\n",
              "      <td>Acre</td>\n",
              "      <td>Doença do Trabalho-Com Cat</td>\n",
              "      <td>0.0</td>\n",
              "      <td>Norte</td>\n",
              "    </tr>\n",
              "    <tr>\n",
              "      <th>121</th>\n",
              "      <td>1990</td>\n",
              "      <td>Acre</td>\n",
              "      <td>Doença do Trabalho-Com Cat</td>\n",
              "      <td>0.0</td>\n",
              "      <td>Norte</td>\n",
              "    </tr>\n",
              "    <tr>\n",
              "      <th>124</th>\n",
              "      <td>1991</td>\n",
              "      <td>Acre</td>\n",
              "      <td>Doença do Trabalho-Com Cat</td>\n",
              "      <td>0.0</td>\n",
              "      <td>Norte</td>\n",
              "    </tr>\n",
              "    <tr>\n",
              "      <th>127</th>\n",
              "      <td>1992</td>\n",
              "      <td>Acre</td>\n",
              "      <td>Doença do Trabalho-Com Cat</td>\n",
              "      <td>0.0</td>\n",
              "      <td>Norte</td>\n",
              "    </tr>\n",
              "    <tr>\n",
              "      <th>130</th>\n",
              "      <td>1993</td>\n",
              "      <td>Acre</td>\n",
              "      <td>Doença do Trabalho-Com Cat</td>\n",
              "      <td>0.0</td>\n",
              "      <td>Norte</td>\n",
              "    </tr>\n",
              "    <tr>\n",
              "      <th>131</th>\n",
              "      <td>1994</td>\n",
              "      <td>Acre</td>\n",
              "      <td>Típico-Com Cat</td>\n",
              "      <td>0.0</td>\n",
              "      <td>Norte</td>\n",
              "    </tr>\n",
              "    <tr>\n",
              "      <th>132</th>\n",
              "      <td>1994</td>\n",
              "      <td>Acre</td>\n",
              "      <td>Trajeto-Com Cat</td>\n",
              "      <td>0.0</td>\n",
              "      <td>Norte</td>\n",
              "    </tr>\n",
              "    <tr>\n",
              "      <th>133</th>\n",
              "      <td>1994</td>\n",
              "      <td>Acre</td>\n",
              "      <td>Doença do Trabalho-Com Cat</td>\n",
              "      <td>0.0</td>\n",
              "      <td>Norte</td>\n",
              "    </tr>\n",
              "    <tr>\n",
              "      <th>136</th>\n",
              "      <td>1995</td>\n",
              "      <td>Acre</td>\n",
              "      <td>Doença do Trabalho-Com Cat</td>\n",
              "      <td>0.0</td>\n",
              "      <td>Norte</td>\n",
              "    </tr>\n",
              "    <tr>\n",
              "      <th>138</th>\n",
              "      <td>1996</td>\n",
              "      <td>Acre</td>\n",
              "      <td>Trajeto-Com Cat</td>\n",
              "      <td>0.0</td>\n",
              "      <td>Norte</td>\n",
              "    </tr>\n",
              "    <tr>\n",
              "      <th>2659</th>\n",
              "      <td>1994</td>\n",
              "      <td>Amapá</td>\n",
              "      <td>Típico-Com Cat</td>\n",
              "      <td>0.0</td>\n",
              "      <td>Norte</td>\n",
              "    </tr>\n",
              "    <tr>\n",
              "      <th>2660</th>\n",
              "      <td>1994</td>\n",
              "      <td>Amapá</td>\n",
              "      <td>Trajeto-Com Cat</td>\n",
              "      <td>0.0</td>\n",
              "      <td>Norte</td>\n",
              "    </tr>\n",
              "    <tr>\n",
              "      <th>2661</th>\n",
              "      <td>1994</td>\n",
              "      <td>Amapá</td>\n",
              "      <td>Doença do Trabalho-Com Cat</td>\n",
              "      <td>0.0</td>\n",
              "      <td>Norte</td>\n",
              "    </tr>\n",
              "    <tr>\n",
              "      <th>2666</th>\n",
              "      <td>1996</td>\n",
              "      <td>Amapá</td>\n",
              "      <td>Trajeto-Com Cat</td>\n",
              "      <td>0.0</td>\n",
              "      <td>Norte</td>\n",
              "    </tr>\n",
              "    <tr>\n",
              "      <th>326</th>\n",
              "      <td>1989</td>\n",
              "      <td>Pará</td>\n",
              "      <td>Doença do Trabalho-Com Cat</td>\n",
              "      <td>0.0</td>\n",
              "      <td>Norte</td>\n",
              "    </tr>\n",
              "    <tr>\n",
              "      <th>329</th>\n",
              "      <td>1990</td>\n",
              "      <td>Pará</td>\n",
              "      <td>Doença do Trabalho-Com Cat</td>\n",
              "      <td>0.0</td>\n",
              "      <td>Norte</td>\n",
              "    </tr>\n",
              "    <tr>\n",
              "      <th>18</th>\n",
              "      <td>1994</td>\n",
              "      <td>Rondônia</td>\n",
              "      <td>Típico-Com Cat</td>\n",
              "      <td>0.0</td>\n",
              "      <td>Norte</td>\n",
              "    </tr>\n",
              "    <tr>\n",
              "      <th>19</th>\n",
              "      <td>1994</td>\n",
              "      <td>Rondônia</td>\n",
              "      <td>Trajeto-Com Cat</td>\n",
              "      <td>0.0</td>\n",
              "      <td>Norte</td>\n",
              "    </tr>\n",
              "    <tr>\n",
              "      <th>20</th>\n",
              "      <td>1994</td>\n",
              "      <td>Rondônia</td>\n",
              "      <td>Doença do Trabalho-Com Cat</td>\n",
              "      <td>0.0</td>\n",
              "      <td>Norte</td>\n",
              "    </tr>\n",
              "    <tr>\n",
              "      <th>2825</th>\n",
              "      <td>1998</td>\n",
              "      <td>Roraima</td>\n",
              "      <td>Doença do Trabalho-Com Cat</td>\n",
              "      <td>0.0</td>\n",
              "      <td>Norte</td>\n",
              "    </tr>\n",
              "    <tr>\n",
              "      <th>2739</th>\n",
              "      <td>1994</td>\n",
              "      <td>Tocantins</td>\n",
              "      <td>Típico-Com Cat</td>\n",
              "      <td>0.0</td>\n",
              "      <td>Norte</td>\n",
              "    </tr>\n",
              "    <tr>\n",
              "      <th>2740</th>\n",
              "      <td>1994</td>\n",
              "      <td>Tocantins</td>\n",
              "      <td>Trajeto-Com Cat</td>\n",
              "      <td>0.0</td>\n",
              "      <td>Norte</td>\n",
              "    </tr>\n",
              "    <tr>\n",
              "      <th>2741</th>\n",
              "      <td>1994</td>\n",
              "      <td>Tocantins</td>\n",
              "      <td>Doença do Trabalho-Com Cat</td>\n",
              "      <td>0.0</td>\n",
              "      <td>Norte</td>\n",
              "    </tr>\n",
              "    <tr>\n",
              "      <th>2125</th>\n",
              "      <td>1995</td>\n",
              "      <td>Rio Grande do Sul</td>\n",
              "      <td>Típico-Com Cat</td>\n",
              "      <td>0.0</td>\n",
              "      <td>Sul</td>\n",
              "    </tr>\n",
              "    <tr>\n",
              "      <th>2126</th>\n",
              "      <td>1995</td>\n",
              "      <td>Rio Grande do Sul</td>\n",
              "      <td>Trajeto-Com Cat</td>\n",
              "      <td>0.0</td>\n",
              "      <td>Sul</td>\n",
              "    </tr>\n",
              "    <tr>\n",
              "      <th>2127</th>\n",
              "      <td>1995</td>\n",
              "      <td>Rio Grande do Sul</td>\n",
              "      <td>Doença do Trabalho-Com Cat</td>\n",
              "      <td>0.0</td>\n",
              "      <td>Sul</td>\n",
              "    </tr>\n",
              "  </tbody>\n",
              "</table>\n",
              "</div>"
            ],
            "text/plain": [
              "       ano             estado             motivo/situação  qtd_acidentes  \\\n",
              "2347  1993        Mato Grosso             Trajeto-Com Cat            0.0   \n",
              "1075  1989            Alagoas  Doença do Trabalho-Com Cat            0.0   \n",
              "1078  1990            Alagoas  Doença do Trabalho-Com Cat            0.0   \n",
              "434   1990           Maranhão  Doença do Trabalho-Com Cat            0.0   \n",
              "437   1991           Maranhão  Doença do Trabalho-Com Cat            0.0   \n",
              "446   1994           Maranhão  Doença do Trabalho-Com Cat            0.0   \n",
              "449   1995           Maranhão  Doença do Trabalho-Com Cat            0.0   \n",
              "527   1988              Piauí  Doença do Trabalho-Com Cat            0.0   \n",
              "539   1992              Piauí  Doença do Trabalho-Com Cat            0.0   \n",
              "548   1995              Piauí  Doença do Trabalho-Com Cat            0.0   \n",
              "115   1988               Acre  Doença do Trabalho-Com Cat            0.0   \n",
              "121   1990               Acre  Doença do Trabalho-Com Cat            0.0   \n",
              "124   1991               Acre  Doença do Trabalho-Com Cat            0.0   \n",
              "127   1992               Acre  Doença do Trabalho-Com Cat            0.0   \n",
              "130   1993               Acre  Doença do Trabalho-Com Cat            0.0   \n",
              "131   1994               Acre              Típico-Com Cat            0.0   \n",
              "132   1994               Acre             Trajeto-Com Cat            0.0   \n",
              "133   1994               Acre  Doença do Trabalho-Com Cat            0.0   \n",
              "136   1995               Acre  Doença do Trabalho-Com Cat            0.0   \n",
              "138   1996               Acre             Trajeto-Com Cat            0.0   \n",
              "2659  1994              Amapá              Típico-Com Cat            0.0   \n",
              "2660  1994              Amapá             Trajeto-Com Cat            0.0   \n",
              "2661  1994              Amapá  Doença do Trabalho-Com Cat            0.0   \n",
              "2666  1996              Amapá             Trajeto-Com Cat            0.0   \n",
              "326   1989               Pará  Doença do Trabalho-Com Cat            0.0   \n",
              "329   1990               Pará  Doença do Trabalho-Com Cat            0.0   \n",
              "18    1994           Rondônia              Típico-Com Cat            0.0   \n",
              "19    1994           Rondônia             Trajeto-Com Cat            0.0   \n",
              "20    1994           Rondônia  Doença do Trabalho-Com Cat            0.0   \n",
              "2825  1998            Roraima  Doença do Trabalho-Com Cat            0.0   \n",
              "2739  1994          Tocantins              Típico-Com Cat            0.0   \n",
              "2740  1994          Tocantins             Trajeto-Com Cat            0.0   \n",
              "2741  1994          Tocantins  Doença do Trabalho-Com Cat            0.0   \n",
              "2125  1995  Rio Grande do Sul              Típico-Com Cat            0.0   \n",
              "2126  1995  Rio Grande do Sul             Trajeto-Com Cat            0.0   \n",
              "2127  1995  Rio Grande do Sul  Doença do Trabalho-Com Cat            0.0   \n",
              "\n",
              "            regiao  \n",
              "2347  Centro-Oeste  \n",
              "1075      Nordeste  \n",
              "1078      Nordeste  \n",
              "434       Nordeste  \n",
              "437       Nordeste  \n",
              "446       Nordeste  \n",
              "449       Nordeste  \n",
              "527       Nordeste  \n",
              "539       Nordeste  \n",
              "548       Nordeste  \n",
              "115          Norte  \n",
              "121          Norte  \n",
              "124          Norte  \n",
              "127          Norte  \n",
              "130          Norte  \n",
              "131          Norte  \n",
              "132          Norte  \n",
              "133          Norte  \n",
              "136          Norte  \n",
              "138          Norte  \n",
              "2659         Norte  \n",
              "2660         Norte  \n",
              "2661         Norte  \n",
              "2666         Norte  \n",
              "326          Norte  \n",
              "329          Norte  \n",
              "18           Norte  \n",
              "19           Norte  \n",
              "20           Norte  \n",
              "2825         Norte  \n",
              "2739         Norte  \n",
              "2740         Norte  \n",
              "2741         Norte  \n",
              "2125           Sul  \n",
              "2126           Sul  \n",
              "2127           Sul  "
            ]
          },
          "metadata": {
            "tags": []
          },
          "execution_count": 15
        }
      ]
    },
    {
      "metadata": {
        "id": "nwXpCG5MiuE2",
        "colab_type": "code",
        "colab": {
          "base_uri": "https://localhost:8080/",
          "height": 301
        },
        "outputId": "890601f6-c643-41d9-d28f-e0cfb7855a40"
      },
      "cell_type": "code",
      "source": [
        "sns.countplot(x=\"ano\",hue=\"regiao\",data=zero_acidentes)"
      ],
      "execution_count": 83,
      "outputs": [
        {
          "output_type": "execute_result",
          "data": {
            "text/plain": [
              "<matplotlib.axes._subplots.AxesSubplot at 0x7f4ad06a4dd8>"
            ]
          },
          "metadata": {
            "tags": []
          },
          "execution_count": 83
        },
        {
          "output_type": "display_data",
          "data": {
            "image/png": "[encoded data removed]",
            "text/plain": [
              "<Figure size 432x288 with 1 Axes>"
            ]
          },
          "metadata": {
            "tags": []
          }
        }
      ]
    },
    {
      "metadata": {
        "id": "dS9Q-CQcscHc",
        "colab_type": "text"
      },
      "cell_type": "markdown",
      "source": [
        "Os estados do norte apresentam a maior prevalência de anos sem acidente de qualquer tipo. Porém nenhum estado ficou 1 ano sem acidente de qualquer tipo desde 1998. Como mostra o grafico acima."
      ]
    },
    {
      "metadata": {
        "id": "ju4CGcqzj7La",
        "colab_type": "code",
        "colab": {
          "base_uri": "https://localhost:8080/",
          "height": 301
        },
        "outputId": "55151a29-8137-452a-81a8-fd112f53f6b6"
      },
      "cell_type": "code",
      "source": [
        "sns.countplot(y=\"estado\",\n",
        "              data = zero_acidentes,\n",
        "              order = zero_acidentes['estado'].value_counts().index)"
      ],
      "execution_count": 81,
      "outputs": [
        {
          "output_type": "execute_result",
          "data": {
            "text/plain": [
              "<matplotlib.axes._subplots.AxesSubplot at 0x7f4ad079eda0>"
            ]
          },
          "metadata": {
            "tags": []
          },
          "execution_count": 81
        },
        {
          "output_type": "display_data",
          "data": {
            "image/png": "[encoded data removed]",
            "text/plain": [
              "<Figure size 432x288 with 1 Axes>"
            ]
          },
          "metadata": {
            "tags": []
          }
        }
      ]
    },
    {
      "metadata": {
        "id": "JL_RJvLhllrx",
        "colab_type": "text"
      },
      "cell_type": "markdown",
      "source": [
        "O acre foi o estado que ficou mais anos sem registrar acidentes, seguido por outros estados do norte do país."
      ]
    },
    {
      "metadata": {
        "id": "mtW9cVkUty0f",
        "colab_type": "text"
      },
      "cell_type": "markdown",
      "source": [
        "### O maior número de acidentes registrado\n",
        "\n",
        "Onde será que ele ocorreu?"
      ]
    },
    {
      "metadata": {
        "id": "ZLvab6PFtqen",
        "colab_type": "code",
        "outputId": "52a5670a-a851-482f-d614-103f9bb510b1",
        "colab": {
          "base_uri": "https://localhost:8080/",
          "height": 81
        }
      },
      "cell_type": "code",
      "source": [
        "df_uf[df_uf['qtd_acidentes']==419981]"
      ],
      "execution_count": 16,
      "outputs": [
        {
          "output_type": "execute_result",
          "data": {
            "text/html": [
              "<div>\n",
              "<style scoped>\n",
              "    .dataframe tbody tr th:only-of-type {\n",
              "        vertical-align: middle;\n",
              "    }\n",
              "\n",
              "    .dataframe tbody tr th {\n",
              "        vertical-align: top;\n",
              "    }\n",
              "\n",
              "    .dataframe thead th {\n",
              "        text-align: right;\n",
              "    }\n",
              "</style>\n",
              "<table border=\"1\" class=\"dataframe\">\n",
              "  <thead>\n",
              "    <tr style=\"text-align: right;\">\n",
              "      <th></th>\n",
              "      <th>ano</th>\n",
              "      <th>estado</th>\n",
              "      <th>motivo/situação</th>\n",
              "      <th>qtd_acidentes</th>\n",
              "      <th>latitude</th>\n",
              "      <th>longitude</th>\n",
              "      <th>cod_estado</th>\n",
              "      <th>uf</th>\n",
              "      <th>regiao</th>\n",
              "      <th>capital</th>\n",
              "    </tr>\n",
              "  </thead>\n",
              "  <tbody>\n",
              "    <tr>\n",
              "      <th>1749</th>\n",
              "      <td>1988</td>\n",
              "      <td>São Paulo</td>\n",
              "      <td>Típico-Com Cat</td>\n",
              "      <td>419981.0</td>\n",
              "      <td>-23.5329</td>\n",
              "      <td>-46.6395</td>\n",
              "      <td>35</td>\n",
              "      <td>SP</td>\n",
              "      <td>Sudeste</td>\n",
              "      <td>1</td>\n",
              "    </tr>\n",
              "  </tbody>\n",
              "</table>\n",
              "</div>"
            ],
            "text/plain": [
              "       ano     estado motivo/situação  qtd_acidentes  latitude  longitude  \\\n",
              "1749  1988  São Paulo  Típico-Com Cat       419981.0  -23.5329   -46.6395   \n",
              "\n",
              "      cod_estado  uf   regiao  capital  \n",
              "1749          35  SP  Sudeste        1  "
            ]
          },
          "metadata": {
            "tags": []
          },
          "execution_count": 16
        }
      ]
    },
    {
      "metadata": {
        "id": "LaHeJ7F_uOjJ",
        "colab_type": "text"
      },
      "cell_type": "markdown",
      "source": [
        "1988 foi um ano tenso para são paulo, registrando uma quantidade tão grande de acidentes. O que traz o questionamento a respeito de como é a série histórica da maior metrópole brasileira. "
      ]
    },
    {
      "metadata": {
        "id": "VdYTOvg6FzXw",
        "colab_type": "code",
        "colab": {
          "base_uri": "https://localhost:8080/",
          "height": 255
        },
        "outputId": "3a685864-0e80-481a-db26-f3dcf5273485"
      },
      "cell_type": "code",
      "source": [
        "#!pip install seaborn==0.9.0"
      ],
      "execution_count": 17,
      "outputs": [
        {
          "output_type": "stream",
          "text": [
            "Requirement already satisfied: seaborn==0.9.0 in /usr/local/lib/python3.6/dist-packages (0.9.0)\n",
            "Requirement already satisfied: numpy>=1.9.3 in /usr/local/lib/python3.6/dist-packages (from seaborn==0.9.0) (1.14.6)\n",
            "Requirement already satisfied: matplotlib>=1.4.3 in /usr/local/lib/python3.6/dist-packages (from seaborn==0.9.0) (3.0.3)\n",
            "Requirement already satisfied: scipy>=0.14.0 in /usr/local/lib/python3.6/dist-packages (from seaborn==0.9.0) (1.1.0)\n",
            "Requirement already satisfied: pandas>=0.15.2 in /usr/local/lib/python3.6/dist-packages (from seaborn==0.9.0) (0.22.0)\n",
            "Requirement already satisfied: cycler>=0.10 in /usr/local/lib/python3.6/dist-packages (from matplotlib>=1.4.3->seaborn==0.9.0) (0.10.0)\n",
            "Requirement already satisfied: python-dateutil>=2.1 in /usr/local/lib/python3.6/dist-packages (from matplotlib>=1.4.3->seaborn==0.9.0) (2.5.3)\n",
            "Requirement already satisfied: pyparsing!=2.0.4,!=2.1.2,!=2.1.6,>=2.0.1 in /usr/local/lib/python3.6/dist-packages (from matplotlib>=1.4.3->seaborn==0.9.0) (2.3.1)\n",
            "Requirement already satisfied: kiwisolver>=1.0.1 in /usr/local/lib/python3.6/dist-packages (from matplotlib>=1.4.3->seaborn==0.9.0) (1.0.1)\n",
            "Requirement already satisfied: pytz>=2011k in /usr/local/lib/python3.6/dist-packages (from pandas>=0.15.2->seaborn==0.9.0) (2018.9)\n",
            "Requirement already satisfied: six in /usr/local/lib/python3.6/dist-packages (from cycler>=0.10->matplotlib>=1.4.3->seaborn==0.9.0) (1.11.0)\n",
            "Requirement already satisfied: setuptools in /usr/local/lib/python3.6/dist-packages (from kiwisolver>=1.0.1->matplotlib>=1.4.3->seaborn==0.9.0) (40.8.0)\n"
          ],
          "name": "stdout"
        }
      ]
    },
    {
      "metadata": {
        "id": "k-wECG2DudOG",
        "colab_type": "code",
        "outputId": "511540c7-9497-45d3-9aaa-8b8b1720bc32",
        "colab": {
          "base_uri": "https://localhost:8080/",
          "height": 301
        }
      },
      "cell_type": "code",
      "source": [
        "sns.lineplot(x=\"ano\",\n",
        "             y = \"qtd_acidentes\",\n",
        "             hue = \"motivo/situação\",\n",
        "             style =\"motivo/situação\" ,\n",
        "             markers =True ,\n",
        "             data=df_uf[df_uf[\"estado\"]==\"São Paulo\"])"
      ],
      "execution_count": 18,
      "outputs": [
        {
          "output_type": "execute_result",
          "data": {
            "text/plain": [
              "<matplotlib.axes._subplots.AxesSubplot at 0x7f4ad3dcd390>"
            ]
          },
          "metadata": {
            "tags": []
          },
          "execution_count": 18
        },
        {
          "output_type": "display_data",
          "data": {
            "image/png": "[encoded data removed]",
            "text/plain": [
              "<Figure size 432x288 with 1 Axes>"
            ]
          },
          "metadata": {
            "tags": []
          }
        }
      ]
    },
    {
      "metadata": {
        "id": "aCPdwVV6wrzR",
        "colab_type": "text"
      },
      "cell_type": "markdown",
      "source": [
        "É possivel observar uma tendência de queda na quantidade de acidentes Típicos-com Cat até os anos 2000. O que levanta uma outra questão. Como se comporta a queda de são paulo com relação a média regional?"
      ]
    },
    {
      "metadata": {
        "id": "YLClNESwGovn",
        "colab_type": "code",
        "colab": {}
      },
      "cell_type": "code",
      "source": [
        "mean_regiao = df_uf[df_uf[\"estado\"]!=\"São Paulo\"].groupby(by = [\"regiao\",\"motivo/situação\",\"ano\"])[[\"qtd_acidentes\"]].mean()\n",
        "mean_regiao.reset_index(inplace = True)\n",
        "\n"
      ],
      "execution_count": 0,
      "outputs": []
    },
    {
      "metadata": {
        "id": "ZKtL7Q1Drw_z",
        "colab_type": "code",
        "colab": {
          "base_uri": "https://localhost:8080/",
          "height": 301
        },
        "outputId": "62fdf403-13a9-4cbd-bc39-6ca1ef8c3852"
      },
      "cell_type": "code",
      "source": [
        "\n",
        "sns.lineplot(x=\"ano\",\n",
        "             y = \"qtd_acidentes\",\n",
        "             hue = \"motivo/situação\",\n",
        "             style =\"motivo/situação\" ,\n",
        "             markers =True ,\n",
        "             data=mean_regiao[(mean_regiao[\"regiao\"]==\"Sudeste\")&\n",
        "                             (mean_regiao[\"motivo/situação\"]==\"Típico-Com Cat\")])"
      ],
      "execution_count": 139,
      "outputs": [
        {
          "output_type": "execute_result",
          "data": {
            "text/plain": [
              "<matplotlib.axes._subplots.AxesSubplot at 0x7f4ace472048>"
            ]
          },
          "metadata": {
            "tags": []
          },
          "execution_count": 139
        },
        {
          "output_type": "display_data",
          "data": {
            "image/png": "[encoded data removed]",
            "text/plain": [
              "<Figure size 432x288 with 1 Axes>"
            ]
          },
          "metadata": {
            "tags": []
          }
        }
      ]
    },
    {
      "metadata": {
        "id": "sRZl6mQTwD5h",
        "colab_type": "text"
      },
      "cell_type": "markdown",
      "source": [
        "### Distribuição da quantidade de acidentes por região"
      ]
    },
    {
      "metadata": {
        "id": "pQGkpNedHmLJ",
        "colab_type": "code",
        "colab": {
          "base_uri": "https://localhost:8080/",
          "height": 301
        },
        "outputId": "ab0a29a1-7301-4030-e6d9-319074c01e85"
      },
      "cell_type": "code",
      "source": [
        "sns.swarmplot(x = \"regiao\", y=\"qtd_acidentes\", hue=\"regiao\", data=df_uf)"
      ],
      "execution_count": 46,
      "outputs": [
        {
          "output_type": "execute_result",
          "data": {
            "text/plain": [
              "<matplotlib.axes._subplots.AxesSubplot at 0x7f4ad0f66a58>"
            ]
          },
          "metadata": {
            "tags": []
          },
          "execution_count": 46
        },
        {
          "output_type": "display_data",
          "data": {
            "image/png": "[encoded data removed]",
            "text/plain": [
              "<Figure size 432x288 with 1 Axes>"
            ]
          },
          "metadata": {
            "tags": []
          }
        }
      ]
    },
    {
      "metadata": {
        "id": "o_uanMqXwSSc",
        "colab_type": "text"
      },
      "cell_type": "markdown",
      "source": [
        "### O mapa dos acidentes de trabalho"
      ]
    },
    {
      "metadata": {
        "id": "A3L_5ZOdW0rV",
        "colab_type": "text"
      },
      "cell_type": "markdown",
      "source": [
        "Agora com uma base de dados com as informações de latitude e longitude, meu objetivo é tentar retirar algumas informações com base na leitura de alguns mapas. Para isso usarei a biblioteca do Python Folium"
      ]
    },
    {
      "metadata": {
        "id": "ooIgZur7V1H1",
        "colab_type": "code",
        "colab": {}
      },
      "cell_type": "code",
      "source": [
        "import folium"
      ],
      "execution_count": 0,
      "outputs": []
    },
    {
      "metadata": {
        "id": "AYJj-GFeiOxu",
        "colab_type": "code",
        "colab": {}
      },
      "cell_type": "code",
      "source": [
        "df_uf_2016 = df_uf[df_uf[\"ano\"]==2016]\n",
        "df_uf_2016 = df_uf_2016.groupby(['estado','latitude','longitude'],as_index=False)[['qtd_acidentes']].sum()\n",
        "df_uf_2016.qtd_acidentes = df_uf_2016.qtd_acidentes.astype('int64')"
      ],
      "execution_count": 0,
      "outputs": []
    },
    {
      "metadata": {
        "id": "j1Y52BUkglLE",
        "colab_type": "text"
      },
      "cell_type": "markdown",
      "source": [
        "Então pro ano de 2016 é possivel avaliar a quantidade de acidentes que tivemos por estado"
      ]
    },
    {
      "metadata": {
        "id": "Mr3Qf_JdXJ8i",
        "colab_type": "code",
        "outputId": "b533e57b-eafe-4328-c909-c10a2f9209ec",
        "colab": {
          "base_uri": "https://localhost:8080/",
          "height": 679
        }
      },
      "cell_type": "code",
      "source": [
        "\n",
        "ac_map = folium.Map(location=[-16.1237611, -59.9219642],\n",
        "               zoom_start=4)\n",
        "for i in range(0,len(df_uf_2016)):\n",
        "      folium.CircleMarker(\n",
        "      location=[df_uf_2016.iloc[i]['latitude'], df_uf_2016.iloc[i]['longitude']],\n",
        "      popup=df_uf_2016.iloc[i]['estado']+' - '+df_uf_2016.iloc[i]['qtd_acidentes'].astype('str'),\n",
        "      radius=df_uf_2016.iloc[i]['qtd_acidentes'],\n",
        "      color='crimson',\n",
        "      fill_color=\"crimson\",\n",
        "      fill_opacity=0.6\n",
        "   ).add_to(ac_map)\n",
        "ac_map.save('mymap.html')\n",
        "ac_map"
      ],
      "execution_count": 65,
      "outputs": [
        {
          "output_type": "execute_result",
          "data": {
            "text/html": [
              "<div style=\"width:100%;\"><div style=\"position:relative;width:100%;height:0;padding-bottom:60%;\"><iframe src=\"data:text/html;base64,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\" style=\"position:absolute;width:100%;height:100%;left:0;top:0;\"></iframe></div></div>"
            ],
            "text/plain": [
              "<folium.folium.Map at 0x7f4ad0ccd048>"
            ]
          },
          "metadata": {
            "tags": []
          },
          "execution_count": 65
        }
      ]
    }
  ]
}