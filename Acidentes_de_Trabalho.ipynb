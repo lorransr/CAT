{
  "nbformat": 4,
  "nbformat_minor": 0,
  "metadata": {
    "colab": {
      "name": "Acidentes de Trabalho.ipynb",
      "version": "0.3.2",
      "provenance": [],
      "collapsed_sections": [],
      "toc_visible": true,
      "include_colab_link": true
    },
    "kernelspec": {
      "name": "python3",
      "display_name": "Python 3"
    }
  },
  "cells": [
    {
      "cell_type": "markdown",
      "metadata": {
        "id": "view-in-github",
        "colab_type": "text"
      },
      "source": [
        "<a href=\"https://colab.research.google.com/github/lorransr/CAT/blob/master/Acidentes_de_Trabalho.ipynb\" target=\"_parent\"><img src=\"https://colab.research.google.com/assets/colab-badge.svg\" alt=\"Open In Colab\"/></a>"
      ]
    },
    {
      "metadata": {
        "id": "BkUDqfi5-yMs",
        "colab_type": "text"
      },
      "cell_type": "markdown",
      "source": [
        "# Raio X dos acidentes de Trabalho no Brasil\n",
        "\n",
        "No ano de 2018, dados do observatório geral da saude e segurança  do trabalho estima que do periodo de 2017 até maio de 2019, são registrados 1 acidente a cada 54s no país. Desse valor, estima-se também que 1 morte aconteça a cada 4h. Entender onde, quem, quando e como ocorrem os acidentes de trabalho são os primeiros passos para nortearmos políticas públicas. \n",
        "\n",
        "Com isso em mente minha proposta é realizar uma analise, a partir das bases de dados disponibilizadas, através do portal da transparência, pela previdência social a respeito dos Acidentes do Trabalho ocorridos no pais.\n",
        "\n",
        "A princípio foram adquiridas 8 bases de dados, com diferentes recortes a respeito do tema. Elas são:\n",
        "1. Acidentes de Trabalho por UF\n",
        "2. Acidentes de Trabalho por mês\n",
        "3. Acidentes de Trabalho por faixa-etaria e sexo\n",
        "4. Acidentes de Trabalho por parte do corpo atingida\n",
        "5. Acidentes de Trabalho por CNAE (95)\n",
        "6. Acidentes de Trabalho por CNAE (2.0)\n",
        "7. Acidentes de Trabalho por CID\n",
        "8. Acidentes de Trabalho por CBO\n",
        "\n",
        "Todas as bases de dados estão segmentadas por ano. Todas contêm algum indicativo da situação de haver ou não CAT registrada. Igualmente, todas possuem um campo com a tipificação do acidente, seja ele típico, de trajeto ou uma doença de trabalho."
      ]
    },
    {
      "metadata": {
        "id": "HZ3ZzOuR_3v6",
        "colab_type": "text"
      },
      "cell_type": "markdown",
      "source": [
        "### Mas Afinal, o que é a CAT?\n",
        "\n",
        "A comunicação de acidente de trabalho (CAT) é um documento emitido para reconhecer tanto um **acidente de trabalho** ou **de trajeto** bem como uma **doença ocupacional**.\n",
        "Aqui vale a definição desses termos:\n",
        "\n",
        "* Acidente de trabalho ou de trajeto:é o acidente ocorrido no exercício da atividade profissional a serviço da empresa ou no deslocamento residência -> trabalho -> residência. \n",
        "\n",
        "*  Doença ocupacional: é aquela produzida ou desencadeada pelo exercício do trabalho peculiar a determinada atividade e constante da respectiva relação elaborada pelo Ministério do Trabalho e da Previdência Social.\n",
        "\n",
        "A CAT é um documento obrigatório e possui um prazo de emissão curto. Mesmo que não haja afastamento, a CAT deve ser emitida até o primeiro dia útil seguinte ao da ocorrência. Sob o risco de multa. Por conta desta característica a base de dados do INSS é extramemente útil e pouco defasada da realidade brasileira, portanto um bom instrumento para análise."
      ]
    },
    {
      "metadata": {
        "id": "tqJQbvCdBWa8",
        "colab_type": "text"
      },
      "cell_type": "markdown",
      "source": [
        "explicar melhor os seguintes termos:\n",
        "* CNAE \n",
        "* CID\n",
        "* CBO"
      ]
    },
    {
      "metadata": {
        "id": "JoPYEcpjBzie",
        "colab_type": "text"
      },
      "cell_type": "markdown",
      "source": [
        "## Acidentes de Trabalho por UF\n",
        "\n",
        "O primeiro dataset a ser estudado será o que diz respeito aos acidentes de trabalho por unidade federal. Com essa base de dados pretendo responder a pergunta: \"Onde ocorrem os acidentes de trabalho?\". Também sera mostrado a evolução ao longo do tempo para as principais regiões."
      ]
    },
    {
      "metadata": {
        "id": "aa1ZWDK6FD-3",
        "colab_type": "code",
        "colab": {}
      },
      "cell_type": "code",
      "source": [
        "import pandas as pd\n",
        "import numpy as np\n",
        "import seaborn as sns\n",
        "import matplotlib.pyplot as plt\n",
        "%matplotlib inline"
      ],
      "execution_count": 0,
      "outputs": []
    },
    {
      "metadata": {
        "id": "445SVfg0N5pL",
        "colab_type": "code",
        "colab": {}
      },
      "cell_type": "code",
      "source": [
        "#importando os dados para o Colab\n",
        "url = \"https://raw.githubusercontent.com/lorransr/CAT/master/ACT-uf.csv\""
      ],
      "execution_count": 0,
      "outputs": []
    },
    {
      "metadata": {
        "id": "to53TQN6FR0Z",
        "colab_type": "code",
        "colab": {}
      },
      "cell_type": "code",
      "source": [
        "#Salvando o dataframe\n",
        "df_uf = pd.read_csv(url, sep=\",\", encoding = \"latin-1\")"
      ],
      "execution_count": 0,
      "outputs": []
    },
    {
      "metadata": {
        "id": "71H5ZeK2FgCb",
        "colab_type": "code",
        "outputId": "43ab6883-d1fe-46bf-a700-7e0a49a47fd0",
        "colab": {
          "base_uri": "https://localhost:8080/",
          "height": 206
        }
      },
      "cell_type": "code",
      "source": [
        "#renomeando as colunas\n",
        "df_uf.columns = ['ano','estado','motivo/situação','qtd_acidentes']\n",
        "df_uf.head()"
      ],
      "execution_count": 0,
      "outputs": [
        {
          "output_type": "execute_result",
          "data": {
            "text/html": [
              "<div>\n",
              "<style scoped>\n",
              "    .dataframe tbody tr th:only-of-type {\n",
              "        vertical-align: middle;\n",
              "    }\n",
              "\n",
              "    .dataframe tbody tr th {\n",
              "        vertical-align: top;\n",
              "    }\n",
              "\n",
              "    .dataframe thead th {\n",
              "        text-align: right;\n",
              "    }\n",
              "</style>\n",
              "<table border=\"1\" class=\"dataframe\">\n",
              "  <thead>\n",
              "    <tr style=\"text-align: right;\">\n",
              "      <th></th>\n",
              "      <th>ano</th>\n",
              "      <th>estado</th>\n",
              "      <th>motivo/situação</th>\n",
              "      <th>qtd_acidentes</th>\n",
              "    </tr>\n",
              "  </thead>\n",
              "  <tbody>\n",
              "    <tr>\n",
              "      <th>0</th>\n",
              "      <td>1988</td>\n",
              "      <td>Rondônia</td>\n",
              "      <td>Típico-Com Cat</td>\n",
              "      <td>592.0</td>\n",
              "    </tr>\n",
              "    <tr>\n",
              "      <th>1</th>\n",
              "      <td>1988</td>\n",
              "      <td>Acre</td>\n",
              "      <td>Típico-Com Cat</td>\n",
              "      <td>115.0</td>\n",
              "    </tr>\n",
              "    <tr>\n",
              "      <th>2</th>\n",
              "      <td>1988</td>\n",
              "      <td>Amazonas</td>\n",
              "      <td>Típico-Com Cat</td>\n",
              "      <td>5173.0</td>\n",
              "    </tr>\n",
              "    <tr>\n",
              "      <th>3</th>\n",
              "      <td>1988</td>\n",
              "      <td>Pará</td>\n",
              "      <td>Típico-Com Cat</td>\n",
              "      <td>12172.0</td>\n",
              "    </tr>\n",
              "    <tr>\n",
              "      <th>4</th>\n",
              "      <td>1988</td>\n",
              "      <td>Maranhão</td>\n",
              "      <td>Típico-Com Cat</td>\n",
              "      <td>5916.0</td>\n",
              "    </tr>\n",
              "  </tbody>\n",
              "</table>\n",
              "</div>"
            ],
            "text/plain": [
              "    ano    estado motivo/situação  qtd_acidentes\n",
              "0  1988  Rondônia  Típico-Com Cat          592.0\n",
              "1  1988      Acre  Típico-Com Cat          115.0\n",
              "2  1988  Amazonas  Típico-Com Cat         5173.0\n",
              "3  1988      Pará  Típico-Com Cat        12172.0\n",
              "4  1988  Maranhão  Típico-Com Cat         5916.0"
            ]
          },
          "metadata": {
            "tags": []
          },
          "execution_count": 4
        }
      ]
    },
    {
      "metadata": {
        "id": "JCUh18iNPweK",
        "colab_type": "code",
        "outputId": "d4bf3da5-6220-4591-ab2b-495d2c5da8d9",
        "colab": {
          "base_uri": "https://localhost:8080/",
          "height": 108
        }
      },
      "cell_type": "code",
      "source": [
        "#Contando a quantidade de valores nulos\n",
        "df_uf.isna().sum()"
      ],
      "execution_count": 0,
      "outputs": [
        {
          "output_type": "execute_result",
          "data": {
            "text/plain": [
              "ano                0\n",
              "estado             0\n",
              "motivo/situação    0\n",
              "qtd_acidentes      1\n",
              "dtype: int64"
            ]
          },
          "metadata": {
            "tags": []
          },
          "execution_count": 5
        }
      ]
    },
    {
      "metadata": {
        "id": "7v89eeZqyR4c",
        "colab_type": "text"
      },
      "cell_type": "markdown",
      "source": [
        "Uma vez que existe apenas uma linha, em 2893 registros, contendo valores nulos, ela será descartada"
      ]
    },
    {
      "metadata": {
        "id": "8cOiVet8IxUO",
        "colab_type": "code",
        "colab": {}
      },
      "cell_type": "code",
      "source": [
        "#excluindo valores nulos\n",
        "df_uf.dropna(inplace=True) "
      ],
      "execution_count": 0,
      "outputs": []
    },
    {
      "metadata": {
        "id": "2liqDnJRQoVn",
        "colab_type": "text"
      },
      "cell_type": "markdown",
      "source": [
        "Para poder ter uma ideia da distribuição dos acidentes ao redor do pais é preciso primeiro vincular os estados na base de dados a uma latitude e longitude. A partir desse repositório no GitHub, foi possivel encontrar uma base consistente com algumas informações adicionais a respeito dos estados:https://github.com/kelvins/Municipios-Brasileiros/"
      ]
    },
    {
      "metadata": {
        "id": "xe5DuY_EGTxj",
        "colab_type": "code",
        "colab": {}
      },
      "cell_type": "code",
      "source": [
        "url = \"https://raw.githubusercontent.com/lorransr/CAT/master/brasil.csv\"\n",
        "#importando dataframe com lat e lon\n",
        "dim_uf = pd.read_csv(url, sep=\",\")"
      ],
      "execution_count": 0,
      "outputs": []
    },
    {
      "metadata": {
        "id": "z1Z523JbH_Bk",
        "colab_type": "code",
        "outputId": "dee71e0b-8a22-4ecc-b3d8-eff16556a26e",
        "colab": {
          "base_uri": "https://localhost:8080/",
          "height": 206
        }
      },
      "cell_type": "code",
      "source": [
        "dim_uf.head()"
      ],
      "execution_count": 0,
      "outputs": [
        {
          "output_type": "execute_result",
          "data": {
            "text/html": [
              "<div>\n",
              "<style scoped>\n",
              "    .dataframe tbody tr th:only-of-type {\n",
              "        vertical-align: middle;\n",
              "    }\n",
              "\n",
              "    .dataframe tbody tr th {\n",
              "        vertical-align: top;\n",
              "    }\n",
              "\n",
              "    .dataframe thead th {\n",
              "        text-align: right;\n",
              "    }\n",
              "</style>\n",
              "<table border=\"1\" class=\"dataframe\">\n",
              "  <thead>\n",
              "    <tr style=\"text-align: right;\">\n",
              "      <th></th>\n",
              "      <th>ibge</th>\n",
              "      <th>municipio</th>\n",
              "      <th>latitude</th>\n",
              "      <th>longitude</th>\n",
              "      <th>cod_estado</th>\n",
              "      <th>estado</th>\n",
              "      <th>uf</th>\n",
              "      <th>regiao</th>\n",
              "      <th>capital</th>\n",
              "    </tr>\n",
              "  </thead>\n",
              "  <tbody>\n",
              "    <tr>\n",
              "      <th>0</th>\n",
              "      <td>520005</td>\n",
              "      <td>Abadia de Goiás</td>\n",
              "      <td>-16.75730</td>\n",
              "      <td>-49.4412</td>\n",
              "      <td>52</td>\n",
              "      <td>Goiás</td>\n",
              "      <td>GO</td>\n",
              "      <td>Centro-Oeste</td>\n",
              "      <td>0</td>\n",
              "    </tr>\n",
              "    <tr>\n",
              "      <th>1</th>\n",
              "      <td>310010</td>\n",
              "      <td>Abadia dos Dourados</td>\n",
              "      <td>-18.48310</td>\n",
              "      <td>-47.3916</td>\n",
              "      <td>31</td>\n",
              "      <td>Minas Gerais</td>\n",
              "      <td>MG</td>\n",
              "      <td>Sudeste</td>\n",
              "      <td>0</td>\n",
              "    </tr>\n",
              "    <tr>\n",
              "      <th>2</th>\n",
              "      <td>520010</td>\n",
              "      <td>Abadiânia</td>\n",
              "      <td>-16.19700</td>\n",
              "      <td>-48.7057</td>\n",
              "      <td>52</td>\n",
              "      <td>Goiás</td>\n",
              "      <td>GO</td>\n",
              "      <td>Centro-Oeste</td>\n",
              "      <td>0</td>\n",
              "    </tr>\n",
              "    <tr>\n",
              "      <th>3</th>\n",
              "      <td>310020</td>\n",
              "      <td>Abaeté</td>\n",
              "      <td>-19.15510</td>\n",
              "      <td>-45.4444</td>\n",
              "      <td>31</td>\n",
              "      <td>Minas Gerais</td>\n",
              "      <td>MG</td>\n",
              "      <td>Sudeste</td>\n",
              "      <td>0</td>\n",
              "    </tr>\n",
              "    <tr>\n",
              "      <th>4</th>\n",
              "      <td>150010</td>\n",
              "      <td>Abaetetuba</td>\n",
              "      <td>-1.72183</td>\n",
              "      <td>-48.8788</td>\n",
              "      <td>15</td>\n",
              "      <td>Pará</td>\n",
              "      <td>PA</td>\n",
              "      <td>Norte</td>\n",
              "      <td>0</td>\n",
              "    </tr>\n",
              "  </tbody>\n",
              "</table>\n",
              "</div>"
            ],
            "text/plain": [
              "     ibge            municipio  latitude  longitude  cod_estado        estado  \\\n",
              "0  520005      Abadia de Goiás -16.75730   -49.4412          52         Goiás   \n",
              "1  310010  Abadia dos Dourados -18.48310   -47.3916          31  Minas Gerais   \n",
              "2  520010            Abadiânia -16.19700   -48.7057          52         Goiás   \n",
              "3  310020               Abaeté -19.15510   -45.4444          31  Minas Gerais   \n",
              "4  150010           Abaetetuba  -1.72183   -48.8788          15          Pará   \n",
              "\n",
              "   uf        regiao  capital  \n",
              "0  GO  Centro-Oeste        0  \n",
              "1  MG       Sudeste        0  \n",
              "2  GO  Centro-Oeste        0  \n",
              "3  MG       Sudeste        0  \n",
              "4  PA         Norte        0  "
            ]
          },
          "metadata": {
            "tags": []
          },
          "execution_count": 8
        }
      ]
    },
    {
      "metadata": {
        "id": "JqxDpVFmTaQ5",
        "colab_type": "code",
        "outputId": "b8e011e3-dbb6-4d36-9dbd-104dd2be7614",
        "colab": {
          "base_uri": "https://localhost:8080/",
          "height": 206
        }
      },
      "cell_type": "code",
      "source": [
        "#selecionando as colunas que firão no df\n",
        "selected_columns=['latitude', 'longitude', 'cod_estado', 'estado',\n",
        "       'uf', 'regiao', 'capital']\n",
        "dim_uf = dim_uf[selected_columns]\n",
        "#selecionando apenas as capitais\n",
        "dim_uf = dim_uf[dim_uf[\"capital\"]==1]\n",
        "#removendo duplicadas\n",
        "dim_uf.drop_duplicates(subset = \"cod_estado\",inplace=True)\n",
        "dim_uf.head()"
      ],
      "execution_count": 0,
      "outputs": [
        {
          "output_type": "execute_result",
          "data": {
            "text/html": [
              "<div>\n",
              "<style scoped>\n",
              "    .dataframe tbody tr th:only-of-type {\n",
              "        vertical-align: middle;\n",
              "    }\n",
              "\n",
              "    .dataframe tbody tr th {\n",
              "        vertical-align: top;\n",
              "    }\n",
              "\n",
              "    .dataframe thead th {\n",
              "        text-align: right;\n",
              "    }\n",
              "</style>\n",
              "<table border=\"1\" class=\"dataframe\">\n",
              "  <thead>\n",
              "    <tr style=\"text-align: right;\">\n",
              "      <th></th>\n",
              "      <th>latitude</th>\n",
              "      <th>longitude</th>\n",
              "      <th>cod_estado</th>\n",
              "      <th>estado</th>\n",
              "      <th>uf</th>\n",
              "      <th>regiao</th>\n",
              "      <th>capital</th>\n",
              "    </tr>\n",
              "  </thead>\n",
              "  <tbody>\n",
              "    <tr>\n",
              "      <th>294</th>\n",
              "      <td>-10.90910</td>\n",
              "      <td>-37.0677</td>\n",
              "      <td>28</td>\n",
              "      <td>Sergipe</td>\n",
              "      <td>SE</td>\n",
              "      <td>Nordeste</td>\n",
              "      <td>1</td>\n",
              "    </tr>\n",
              "    <tr>\n",
              "      <th>580</th>\n",
              "      <td>-1.45540</td>\n",
              "      <td>-48.4898</td>\n",
              "      <td>15</td>\n",
              "      <td>Pará</td>\n",
              "      <td>PA</td>\n",
              "      <td>Norte</td>\n",
              "      <td>1</td>\n",
              "    </tr>\n",
              "    <tr>\n",
              "      <th>592</th>\n",
              "      <td>-19.91020</td>\n",
              "      <td>-43.9266</td>\n",
              "      <td>31</td>\n",
              "      <td>Minas Gerais</td>\n",
              "      <td>MG</td>\n",
              "      <td>Sudeste</td>\n",
              "      <td>1</td>\n",
              "    </tr>\n",
              "    <tr>\n",
              "      <th>642</th>\n",
              "      <td>2.82384</td>\n",
              "      <td>-60.6753</td>\n",
              "      <td>14</td>\n",
              "      <td>Roraima</td>\n",
              "      <td>RR</td>\n",
              "      <td>Norte</td>\n",
              "      <td>1</td>\n",
              "    </tr>\n",
              "    <tr>\n",
              "      <th>755</th>\n",
              "      <td>-15.77950</td>\n",
              "      <td>-47.9297</td>\n",
              "      <td>53</td>\n",
              "      <td>Distrito Federal</td>\n",
              "      <td>DF</td>\n",
              "      <td>Centro-Oeste</td>\n",
              "      <td>1</td>\n",
              "    </tr>\n",
              "  </tbody>\n",
              "</table>\n",
              "</div>"
            ],
            "text/plain": [
              "     latitude  longitude  cod_estado            estado  uf        regiao  \\\n",
              "294 -10.90910   -37.0677          28           Sergipe  SE      Nordeste   \n",
              "580  -1.45540   -48.4898          15              Pará  PA         Norte   \n",
              "592 -19.91020   -43.9266          31      Minas Gerais  MG       Sudeste   \n",
              "642   2.82384   -60.6753          14           Roraima  RR         Norte   \n",
              "755 -15.77950   -47.9297          53  Distrito Federal  DF  Centro-Oeste   \n",
              "\n",
              "     capital  \n",
              "294        1  \n",
              "580        1  \n",
              "592        1  \n",
              "642        1  \n",
              "755        1  "
            ]
          },
          "metadata": {
            "tags": []
          },
          "execution_count": 9
        }
      ]
    },
    {
      "metadata": {
        "id": "3880mwmX0Scg",
        "colab_type": "text"
      },
      "cell_type": "markdown",
      "source": [
        "Foi necessário pegar apenas a localização das capitais pois dessa forma o mapa teria latitudes e longitudes que fariam mais sentido geograficamente. Do contrário os acidentes do RJ, poderiam estar vinculados a uma latitude e longitude na fronteira do estado, o que dificultaria a visualização."
      ]
    },
    {
      "metadata": {
        "id": "9fGTOePRQfDQ",
        "colab_type": "code",
        "outputId": "9463c1a8-8096-4128-dc91-c4d43d0d7ad1",
        "colab": {
          "base_uri": "https://localhost:8080/",
          "height": 206
        }
      },
      "cell_type": "code",
      "source": [
        "#Juntando os dataframes\n",
        "df_uf = pd.merge(df_uf,dim_uf, how =\"inner\", on=\"estado\")\n",
        "df_uf.head()"
      ],
      "execution_count": 0,
      "outputs": [
        {
          "output_type": "execute_result",
          "data": {
            "text/html": [
              "<div>\n",
              "<style scoped>\n",
              "    .dataframe tbody tr th:only-of-type {\n",
              "        vertical-align: middle;\n",
              "    }\n",
              "\n",
              "    .dataframe tbody tr th {\n",
              "        vertical-align: top;\n",
              "    }\n",
              "\n",
              "    .dataframe thead th {\n",
              "        text-align: right;\n",
              "    }\n",
              "</style>\n",
              "<table border=\"1\" class=\"dataframe\">\n",
              "  <thead>\n",
              "    <tr style=\"text-align: right;\">\n",
              "      <th></th>\n",
              "      <th>ano</th>\n",
              "      <th>estado</th>\n",
              "      <th>motivo/situação</th>\n",
              "      <th>qtd_acidentes</th>\n",
              "      <th>latitude</th>\n",
              "      <th>longitude</th>\n",
              "      <th>cod_estado</th>\n",
              "      <th>uf</th>\n",
              "      <th>regiao</th>\n",
              "      <th>capital</th>\n",
              "    </tr>\n",
              "  </thead>\n",
              "  <tbody>\n",
              "    <tr>\n",
              "      <th>0</th>\n",
              "      <td>1988</td>\n",
              "      <td>Rondônia</td>\n",
              "      <td>Típico-Com Cat</td>\n",
              "      <td>592.0</td>\n",
              "      <td>-8.76077</td>\n",
              "      <td>-63.8999</td>\n",
              "      <td>11</td>\n",
              "      <td>RO</td>\n",
              "      <td>Norte</td>\n",
              "      <td>1</td>\n",
              "    </tr>\n",
              "    <tr>\n",
              "      <th>1</th>\n",
              "      <td>1988</td>\n",
              "      <td>Rondônia</td>\n",
              "      <td>Trajeto-Com Cat</td>\n",
              "      <td>78.0</td>\n",
              "      <td>-8.76077</td>\n",
              "      <td>-63.8999</td>\n",
              "      <td>11</td>\n",
              "      <td>RO</td>\n",
              "      <td>Norte</td>\n",
              "      <td>1</td>\n",
              "    </tr>\n",
              "    <tr>\n",
              "      <th>2</th>\n",
              "      <td>1988</td>\n",
              "      <td>Rondônia</td>\n",
              "      <td>Doença do Trabalho-Com Cat</td>\n",
              "      <td>9.0</td>\n",
              "      <td>-8.76077</td>\n",
              "      <td>-63.8999</td>\n",
              "      <td>11</td>\n",
              "      <td>RO</td>\n",
              "      <td>Norte</td>\n",
              "      <td>1</td>\n",
              "    </tr>\n",
              "    <tr>\n",
              "      <th>3</th>\n",
              "      <td>1989</td>\n",
              "      <td>Rondônia</td>\n",
              "      <td>Típico-Com Cat</td>\n",
              "      <td>558.0</td>\n",
              "      <td>-8.76077</td>\n",
              "      <td>-63.8999</td>\n",
              "      <td>11</td>\n",
              "      <td>RO</td>\n",
              "      <td>Norte</td>\n",
              "      <td>1</td>\n",
              "    </tr>\n",
              "    <tr>\n",
              "      <th>4</th>\n",
              "      <td>1989</td>\n",
              "      <td>Rondônia</td>\n",
              "      <td>Trajeto-Com Cat</td>\n",
              "      <td>52.0</td>\n",
              "      <td>-8.76077</td>\n",
              "      <td>-63.8999</td>\n",
              "      <td>11</td>\n",
              "      <td>RO</td>\n",
              "      <td>Norte</td>\n",
              "      <td>1</td>\n",
              "    </tr>\n",
              "  </tbody>\n",
              "</table>\n",
              "</div>"
            ],
            "text/plain": [
              "    ano    estado             motivo/situação  qtd_acidentes  latitude  \\\n",
              "0  1988  Rondônia              Típico-Com Cat          592.0  -8.76077   \n",
              "1  1988  Rondônia             Trajeto-Com Cat           78.0  -8.76077   \n",
              "2  1988  Rondônia  Doença do Trabalho-Com Cat            9.0  -8.76077   \n",
              "3  1989  Rondônia              Típico-Com Cat          558.0  -8.76077   \n",
              "4  1989  Rondônia             Trajeto-Com Cat           52.0  -8.76077   \n",
              "\n",
              "   longitude  cod_estado  uf regiao  capital  \n",
              "0   -63.8999          11  RO  Norte        1  \n",
              "1   -63.8999          11  RO  Norte        1  \n",
              "2   -63.8999          11  RO  Norte        1  \n",
              "3   -63.8999          11  RO  Norte        1  \n",
              "4   -63.8999          11  RO  Norte        1  "
            ]
          },
          "metadata": {
            "tags": []
          },
          "execution_count": 10
        }
      ]
    },
    {
      "metadata": {
        "id": "mSDHPfh5aFbM",
        "colab_type": "code",
        "outputId": "cbbe0f08-30e4-4810-c920-d051cc3de219",
        "colab": {
          "base_uri": "https://localhost:8080/",
          "height": 217
        }
      },
      "cell_type": "code",
      "source": [
        "#lista dos tipos de dados\n",
        "df_uf.dtypes"
      ],
      "execution_count": 0,
      "outputs": [
        {
          "output_type": "execute_result",
          "data": {
            "text/plain": [
              "ano                 object\n",
              "estado              object\n",
              "motivo/situação     object\n",
              "qtd_acidentes      float64\n",
              "latitude           float64\n",
              "longitude          float64\n",
              "cod_estado           int64\n",
              "uf                  object\n",
              "regiao              object\n",
              "capital              int64\n",
              "dtype: object"
            ]
          },
          "metadata": {
            "tags": []
          },
          "execution_count": 11
        }
      ]
    },
    {
      "metadata": {
        "id": "3fKxqUQ-1Ai4",
        "colab_type": "text"
      },
      "cell_type": "markdown",
      "source": [
        "o campo ano deve ser alterado para representar um número inteiro"
      ]
    },
    {
      "metadata": {
        "id": "3M0n6dTsaFig",
        "colab_type": "code",
        "colab": {}
      },
      "cell_type": "code",
      "source": [
        "df_uf.ano = df_uf.ano.astype('int64')"
      ],
      "execution_count": 0,
      "outputs": []
    },
    {
      "metadata": {
        "id": "usVOwOZxnu3R",
        "colab_type": "text"
      },
      "cell_type": "markdown",
      "source": [
        "Com a base de dados tratada agora é possivel tirar alguns insights dos dados adquiridos"
      ]
    },
    {
      "metadata": {
        "id": "gi8y5t0Nn3bW",
        "colab_type": "code",
        "outputId": "3f98e3ea-e3ad-4982-e816-9cea51e2bbd6",
        "colab": {
          "base_uri": "https://localhost:8080/",
          "height": 300
        }
      },
      "cell_type": "code",
      "source": [
        "df_uf.describe()"
      ],
      "execution_count": 0,
      "outputs": [
        {
          "output_type": "execute_result",
          "data": {
            "text/html": [
              "<div>\n",
              "<style scoped>\n",
              "    .dataframe tbody tr th:only-of-type {\n",
              "        vertical-align: middle;\n",
              "    }\n",
              "\n",
              "    .dataframe tbody tr th {\n",
              "        vertical-align: top;\n",
              "    }\n",
              "\n",
              "    .dataframe thead th {\n",
              "        text-align: right;\n",
              "    }\n",
              "</style>\n",
              "<table border=\"1\" class=\"dataframe\">\n",
              "  <thead>\n",
              "    <tr style=\"text-align: right;\">\n",
              "      <th></th>\n",
              "      <th>ano</th>\n",
              "      <th>qtd_acidentes</th>\n",
              "      <th>latitude</th>\n",
              "      <th>longitude</th>\n",
              "      <th>cod_estado</th>\n",
              "      <th>capital</th>\n",
              "    </tr>\n",
              "  </thead>\n",
              "  <tbody>\n",
              "    <tr>\n",
              "      <th>count</th>\n",
              "      <td>2893.000000</td>\n",
              "      <td>2893.000000</td>\n",
              "      <td>2893.000000</td>\n",
              "      <td>2893.000000</td>\n",
              "      <td>2893.000000</td>\n",
              "      <td>2893.0</td>\n",
              "    </tr>\n",
              "    <tr>\n",
              "      <th>mean</th>\n",
              "      <td>2004.155202</td>\n",
              "      <td>5699.356723</td>\n",
              "      <td>-13.057547</td>\n",
              "      <td>-46.855375</td>\n",
              "      <td>29.812306</td>\n",
              "      <td>1.0</td>\n",
              "    </tr>\n",
              "    <tr>\n",
              "      <th>std</th>\n",
              "      <td>8.306485</td>\n",
              "      <td>21516.599192</td>\n",
              "      <td>8.788195</td>\n",
              "      <td>8.878290</td>\n",
              "      <td>12.667073</td>\n",
              "      <td>0.0</td>\n",
              "    </tr>\n",
              "    <tr>\n",
              "      <th>min</th>\n",
              "      <td>1988.000000</td>\n",
              "      <td>0.000000</td>\n",
              "      <td>-30.031800</td>\n",
              "      <td>-67.824300</td>\n",
              "      <td>11.000000</td>\n",
              "      <td>1.0</td>\n",
              "    </tr>\n",
              "    <tr>\n",
              "      <th>25%</th>\n",
              "      <td>1997.000000</td>\n",
              "      <td>97.000000</td>\n",
              "      <td>-20.315500</td>\n",
              "      <td>-51.206500</td>\n",
              "      <td>21.000000</td>\n",
              "      <td>1.0</td>\n",
              "    </tr>\n",
              "    <tr>\n",
              "      <th>50%</th>\n",
              "      <td>2006.000000</td>\n",
              "      <td>633.000000</td>\n",
              "      <td>-10.909100</td>\n",
              "      <td>-47.929700</td>\n",
              "      <td>28.000000</td>\n",
              "      <td>1.0</td>\n",
              "    </tr>\n",
              "    <tr>\n",
              "      <th>75%</th>\n",
              "      <td>2011.000000</td>\n",
              "      <td>3013.000000</td>\n",
              "      <td>-5.793570</td>\n",
              "      <td>-38.542300</td>\n",
              "      <td>41.000000</td>\n",
              "      <td>1.0</td>\n",
              "    </tr>\n",
              "    <tr>\n",
              "      <th>max</th>\n",
              "      <td>2016.000000</td>\n",
              "      <td>419981.000000</td>\n",
              "      <td>2.823840</td>\n",
              "      <td>-34.864100</td>\n",
              "      <td>53.000000</td>\n",
              "      <td>1.0</td>\n",
              "    </tr>\n",
              "  </tbody>\n",
              "</table>\n",
              "</div>"
            ],
            "text/plain": [
              "               ano  qtd_acidentes     latitude    longitude   cod_estado  \\\n",
              "count  2893.000000    2893.000000  2893.000000  2893.000000  2893.000000   \n",
              "mean   2004.155202    5699.356723   -13.057547   -46.855375    29.812306   \n",
              "std       8.306485   21516.599192     8.788195     8.878290    12.667073   \n",
              "min    1988.000000       0.000000   -30.031800   -67.824300    11.000000   \n",
              "25%    1997.000000      97.000000   -20.315500   -51.206500    21.000000   \n",
              "50%    2006.000000     633.000000   -10.909100   -47.929700    28.000000   \n",
              "75%    2011.000000    3013.000000    -5.793570   -38.542300    41.000000   \n",
              "max    2016.000000  419981.000000     2.823840   -34.864100    53.000000   \n",
              "\n",
              "       capital  \n",
              "count   2893.0  \n",
              "mean       1.0  \n",
              "std        0.0  \n",
              "min        1.0  \n",
              "25%        1.0  \n",
              "50%        1.0  \n",
              "75%        1.0  \n",
              "max        1.0  "
            ]
          },
          "metadata": {
            "tags": []
          },
          "execution_count": 13
        }
      ]
    },
    {
      "metadata": {
        "id": "FrdbSxENojXq",
        "colab_type": "text"
      },
      "cell_type": "markdown",
      "source": [
        "A princípio é possivel observar alguns pontos interessantes:\n",
        "* Existe em algum lugar dos dados linha(s) com zero acidentes\n",
        "* O maior númedo de acidentes registrado foi 419981 - o que levanta a questão a respeito do quando e onde isso ocorreu.\n",
        "* Esse número gigantesco de acidentes se trata de um outlier uma vez que a grande maioria dos valores está entre 0 a 3000 acidentes."
      ]
    },
    {
      "metadata": {
        "id": "iLrpWyODpnJf",
        "colab_type": "text"
      },
      "cell_type": "markdown",
      "source": [
        "### Zero Acidentes\n",
        "\n",
        "Onde será que tivemos zero acidentes?"
      ]
    },
    {
      "metadata": {
        "id": "swE5MmQtqSaD",
        "colab_type": "code",
        "outputId": "8823460f-cc09-4859-a6ff-c293c3ec14e3",
        "colab": {
          "base_uri": "https://localhost:8080/",
          "height": 1178
        }
      },
      "cell_type": "code",
      "source": [
        "#Criando a tabela de zero acidentes\n",
        "zero_acidentes = df_uf[df_uf['qtd_acidentes']==0]\n",
        "zero_acidentes.sort_values([\"regiao\",\n",
        "                            \"estado\",\n",
        "                            \"ano\"]).drop(labels=[\"latitude\",\n",
        "                                                 \"longitude\",\n",
        "                                                 \"cod_estado\",\n",
        "                                                 \"uf\",\n",
        "                                                 \"capital\"],axis=1)"
      ],
      "execution_count": 0,
      "outputs": [
        {
          "output_type": "execute_result",
          "data": {
            "text/html": [
              "<div>\n",
              "<style scoped>\n",
              "    .dataframe tbody tr th:only-of-type {\n",
              "        vertical-align: middle;\n",
              "    }\n",
              "\n",
              "    .dataframe tbody tr th {\n",
              "        vertical-align: top;\n",
              "    }\n",
              "\n",
              "    .dataframe thead th {\n",
              "        text-align: right;\n",
              "    }\n",
              "</style>\n",
              "<table border=\"1\" class=\"dataframe\">\n",
              "  <thead>\n",
              "    <tr style=\"text-align: right;\">\n",
              "      <th></th>\n",
              "      <th>ano</th>\n",
              "      <th>estado</th>\n",
              "      <th>motivo/situação</th>\n",
              "      <th>qtd_acidentes</th>\n",
              "      <th>regiao</th>\n",
              "    </tr>\n",
              "  </thead>\n",
              "  <tbody>\n",
              "    <tr>\n",
              "      <th>2347</th>\n",
              "      <td>1993</td>\n",
              "      <td>Mato Grosso</td>\n",
              "      <td>Trajeto-Com Cat</td>\n",
              "      <td>0.0</td>\n",
              "      <td>Centro-Oeste</td>\n",
              "    </tr>\n",
              "    <tr>\n",
              "      <th>1075</th>\n",
              "      <td>1989</td>\n",
              "      <td>Alagoas</td>\n",
              "      <td>Doença do Trabalho-Com Cat</td>\n",
              "      <td>0.0</td>\n",
              "      <td>Nordeste</td>\n",
              "    </tr>\n",
              "    <tr>\n",
              "      <th>1078</th>\n",
              "      <td>1990</td>\n",
              "      <td>Alagoas</td>\n",
              "      <td>Doença do Trabalho-Com Cat</td>\n",
              "      <td>0.0</td>\n",
              "      <td>Nordeste</td>\n",
              "    </tr>\n",
              "    <tr>\n",
              "      <th>434</th>\n",
              "      <td>1990</td>\n",
              "      <td>Maranhão</td>\n",
              "      <td>Doença do Trabalho-Com Cat</td>\n",
              "      <td>0.0</td>\n",
              "      <td>Nordeste</td>\n",
              "    </tr>\n",
              "    <tr>\n",
              "      <th>437</th>\n",
              "      <td>1991</td>\n",
              "      <td>Maranhão</td>\n",
              "      <td>Doença do Trabalho-Com Cat</td>\n",
              "      <td>0.0</td>\n",
              "      <td>Nordeste</td>\n",
              "    </tr>\n",
              "    <tr>\n",
              "      <th>446</th>\n",
              "      <td>1994</td>\n",
              "      <td>Maranhão</td>\n",
              "      <td>Doença do Trabalho-Com Cat</td>\n",
              "      <td>0.0</td>\n",
              "      <td>Nordeste</td>\n",
              "    </tr>\n",
              "    <tr>\n",
              "      <th>449</th>\n",
              "      <td>1995</td>\n",
              "      <td>Maranhão</td>\n",
              "      <td>Doença do Trabalho-Com Cat</td>\n",
              "      <td>0.0</td>\n",
              "      <td>Nordeste</td>\n",
              "    </tr>\n",
              "    <tr>\n",
              "      <th>527</th>\n",
              "      <td>1988</td>\n",
              "      <td>Piauí</td>\n",
              "      <td>Doença do Trabalho-Com Cat</td>\n",
              "      <td>0.0</td>\n",
              "      <td>Nordeste</td>\n",
              "    </tr>\n",
              "    <tr>\n",
              "      <th>539</th>\n",
              "      <td>1992</td>\n",
              "      <td>Piauí</td>\n",
              "      <td>Doença do Trabalho-Com Cat</td>\n",
              "      <td>0.0</td>\n",
              "      <td>Nordeste</td>\n",
              "    </tr>\n",
              "    <tr>\n",
              "      <th>548</th>\n",
              "      <td>1995</td>\n",
              "      <td>Piauí</td>\n",
              "      <td>Doença do Trabalho-Com Cat</td>\n",
              "      <td>0.0</td>\n",
              "      <td>Nordeste</td>\n",
              "    </tr>\n",
              "    <tr>\n",
              "      <th>115</th>\n",
              "      <td>1988</td>\n",
              "      <td>Acre</td>\n",
              "      <td>Doença do Trabalho-Com Cat</td>\n",
              "      <td>0.0</td>\n",
              "      <td>Norte</td>\n",
              "    </tr>\n",
              "    <tr>\n",
              "      <th>121</th>\n",
              "      <td>1990</td>\n",
              "      <td>Acre</td>\n",
              "      <td>Doença do Trabalho-Com Cat</td>\n",
              "      <td>0.0</td>\n",
              "      <td>Norte</td>\n",
              "    </tr>\n",
              "    <tr>\n",
              "      <th>124</th>\n",
              "      <td>1991</td>\n",
              "      <td>Acre</td>\n",
              "      <td>Doença do Trabalho-Com Cat</td>\n",
              "      <td>0.0</td>\n",
              "      <td>Norte</td>\n",
              "    </tr>\n",
              "    <tr>\n",
              "      <th>127</th>\n",
              "      <td>1992</td>\n",
              "      <td>Acre</td>\n",
              "      <td>Doença do Trabalho-Com Cat</td>\n",
              "      <td>0.0</td>\n",
              "      <td>Norte</td>\n",
              "    </tr>\n",
              "    <tr>\n",
              "      <th>130</th>\n",
              "      <td>1993</td>\n",
              "      <td>Acre</td>\n",
              "      <td>Doença do Trabalho-Com Cat</td>\n",
              "      <td>0.0</td>\n",
              "      <td>Norte</td>\n",
              "    </tr>\n",
              "    <tr>\n",
              "      <th>131</th>\n",
              "      <td>1994</td>\n",
              "      <td>Acre</td>\n",
              "      <td>Típico-Com Cat</td>\n",
              "      <td>0.0</td>\n",
              "      <td>Norte</td>\n",
              "    </tr>\n",
              "    <tr>\n",
              "      <th>132</th>\n",
              "      <td>1994</td>\n",
              "      <td>Acre</td>\n",
              "      <td>Trajeto-Com Cat</td>\n",
              "      <td>0.0</td>\n",
              "      <td>Norte</td>\n",
              "    </tr>\n",
              "    <tr>\n",
              "      <th>133</th>\n",
              "      <td>1994</td>\n",
              "      <td>Acre</td>\n",
              "      <td>Doença do Trabalho-Com Cat</td>\n",
              "      <td>0.0</td>\n",
              "      <td>Norte</td>\n",
              "    </tr>\n",
              "    <tr>\n",
              "      <th>136</th>\n",
              "      <td>1995</td>\n",
              "      <td>Acre</td>\n",
              "      <td>Doença do Trabalho-Com Cat</td>\n",
              "      <td>0.0</td>\n",
              "      <td>Norte</td>\n",
              "    </tr>\n",
              "    <tr>\n",
              "      <th>138</th>\n",
              "      <td>1996</td>\n",
              "      <td>Acre</td>\n",
              "      <td>Trajeto-Com Cat</td>\n",
              "      <td>0.0</td>\n",
              "      <td>Norte</td>\n",
              "    </tr>\n",
              "    <tr>\n",
              "      <th>2659</th>\n",
              "      <td>1994</td>\n",
              "      <td>Amapá</td>\n",
              "      <td>Típico-Com Cat</td>\n",
              "      <td>0.0</td>\n",
              "      <td>Norte</td>\n",
              "    </tr>\n",
              "    <tr>\n",
              "      <th>2660</th>\n",
              "      <td>1994</td>\n",
              "      <td>Amapá</td>\n",
              "      <td>Trajeto-Com Cat</td>\n",
              "      <td>0.0</td>\n",
              "      <td>Norte</td>\n",
              "    </tr>\n",
              "    <tr>\n",
              "      <th>2661</th>\n",
              "      <td>1994</td>\n",
              "      <td>Amapá</td>\n",
              "      <td>Doença do Trabalho-Com Cat</td>\n",
              "      <td>0.0</td>\n",
              "      <td>Norte</td>\n",
              "    </tr>\n",
              "    <tr>\n",
              "      <th>2666</th>\n",
              "      <td>1996</td>\n",
              "      <td>Amapá</td>\n",
              "      <td>Trajeto-Com Cat</td>\n",
              "      <td>0.0</td>\n",
              "      <td>Norte</td>\n",
              "    </tr>\n",
              "    <tr>\n",
              "      <th>326</th>\n",
              "      <td>1989</td>\n",
              "      <td>Pará</td>\n",
              "      <td>Doença do Trabalho-Com Cat</td>\n",
              "      <td>0.0</td>\n",
              "      <td>Norte</td>\n",
              "    </tr>\n",
              "    <tr>\n",
              "      <th>329</th>\n",
              "      <td>1990</td>\n",
              "      <td>Pará</td>\n",
              "      <td>Doença do Trabalho-Com Cat</td>\n",
              "      <td>0.0</td>\n",
              "      <td>Norte</td>\n",
              "    </tr>\n",
              "    <tr>\n",
              "      <th>18</th>\n",
              "      <td>1994</td>\n",
              "      <td>Rondônia</td>\n",
              "      <td>Típico-Com Cat</td>\n",
              "      <td>0.0</td>\n",
              "      <td>Norte</td>\n",
              "    </tr>\n",
              "    <tr>\n",
              "      <th>19</th>\n",
              "      <td>1994</td>\n",
              "      <td>Rondônia</td>\n",
              "      <td>Trajeto-Com Cat</td>\n",
              "      <td>0.0</td>\n",
              "      <td>Norte</td>\n",
              "    </tr>\n",
              "    <tr>\n",
              "      <th>20</th>\n",
              "      <td>1994</td>\n",
              "      <td>Rondônia</td>\n",
              "      <td>Doença do Trabalho-Com Cat</td>\n",
              "      <td>0.0</td>\n",
              "      <td>Norte</td>\n",
              "    </tr>\n",
              "    <tr>\n",
              "      <th>2825</th>\n",
              "      <td>1998</td>\n",
              "      <td>Roraima</td>\n",
              "      <td>Doença do Trabalho-Com Cat</td>\n",
              "      <td>0.0</td>\n",
              "      <td>Norte</td>\n",
              "    </tr>\n",
              "    <tr>\n",
              "      <th>2739</th>\n",
              "      <td>1994</td>\n",
              "      <td>Tocantins</td>\n",
              "      <td>Típico-Com Cat</td>\n",
              "      <td>0.0</td>\n",
              "      <td>Norte</td>\n",
              "    </tr>\n",
              "    <tr>\n",
              "      <th>2740</th>\n",
              "      <td>1994</td>\n",
              "      <td>Tocantins</td>\n",
              "      <td>Trajeto-Com Cat</td>\n",
              "      <td>0.0</td>\n",
              "      <td>Norte</td>\n",
              "    </tr>\n",
              "    <tr>\n",
              "      <th>2741</th>\n",
              "      <td>1994</td>\n",
              "      <td>Tocantins</td>\n",
              "      <td>Doença do Trabalho-Com Cat</td>\n",
              "      <td>0.0</td>\n",
              "      <td>Norte</td>\n",
              "    </tr>\n",
              "    <tr>\n",
              "      <th>2125</th>\n",
              "      <td>1995</td>\n",
              "      <td>Rio Grande do Sul</td>\n",
              "      <td>Típico-Com Cat</td>\n",
              "      <td>0.0</td>\n",
              "      <td>Sul</td>\n",
              "    </tr>\n",
              "    <tr>\n",
              "      <th>2126</th>\n",
              "      <td>1995</td>\n",
              "      <td>Rio Grande do Sul</td>\n",
              "      <td>Trajeto-Com Cat</td>\n",
              "      <td>0.0</td>\n",
              "      <td>Sul</td>\n",
              "    </tr>\n",
              "    <tr>\n",
              "      <th>2127</th>\n",
              "      <td>1995</td>\n",
              "      <td>Rio Grande do Sul</td>\n",
              "      <td>Doença do Trabalho-Com Cat</td>\n",
              "      <td>0.0</td>\n",
              "      <td>Sul</td>\n",
              "    </tr>\n",
              "  </tbody>\n",
              "</table>\n",
              "</div>"
            ],
            "text/plain": [
              "       ano             estado             motivo/situação  qtd_acidentes  \\\n",
              "2347  1993        Mato Grosso             Trajeto-Com Cat            0.0   \n",
              "1075  1989            Alagoas  Doença do Trabalho-Com Cat            0.0   \n",
              "1078  1990            Alagoas  Doença do Trabalho-Com Cat            0.0   \n",
              "434   1990           Maranhão  Doença do Trabalho-Com Cat            0.0   \n",
              "437   1991           Maranhão  Doença do Trabalho-Com Cat            0.0   \n",
              "446   1994           Maranhão  Doença do Trabalho-Com Cat            0.0   \n",
              "449   1995           Maranhão  Doença do Trabalho-Com Cat            0.0   \n",
              "527   1988              Piauí  Doença do Trabalho-Com Cat            0.0   \n",
              "539   1992              Piauí  Doença do Trabalho-Com Cat            0.0   \n",
              "548   1995              Piauí  Doença do Trabalho-Com Cat            0.0   \n",
              "115   1988               Acre  Doença do Trabalho-Com Cat            0.0   \n",
              "121   1990               Acre  Doença do Trabalho-Com Cat            0.0   \n",
              "124   1991               Acre  Doença do Trabalho-Com Cat            0.0   \n",
              "127   1992               Acre  Doença do Trabalho-Com Cat            0.0   \n",
              "130   1993               Acre  Doença do Trabalho-Com Cat            0.0   \n",
              "131   1994               Acre              Típico-Com Cat            0.0   \n",
              "132   1994               Acre             Trajeto-Com Cat            0.0   \n",
              "133   1994               Acre  Doença do Trabalho-Com Cat            0.0   \n",
              "136   1995               Acre  Doença do Trabalho-Com Cat            0.0   \n",
              "138   1996               Acre             Trajeto-Com Cat            0.0   \n",
              "2659  1994              Amapá              Típico-Com Cat            0.0   \n",
              "2660  1994              Amapá             Trajeto-Com Cat            0.0   \n",
              "2661  1994              Amapá  Doença do Trabalho-Com Cat            0.0   \n",
              "2666  1996              Amapá             Trajeto-Com Cat            0.0   \n",
              "326   1989               Pará  Doença do Trabalho-Com Cat            0.0   \n",
              "329   1990               Pará  Doença do Trabalho-Com Cat            0.0   \n",
              "18    1994           Rondônia              Típico-Com Cat            0.0   \n",
              "19    1994           Rondônia             Trajeto-Com Cat            0.0   \n",
              "20    1994           Rondônia  Doença do Trabalho-Com Cat            0.0   \n",
              "2825  1998            Roraima  Doença do Trabalho-Com Cat            0.0   \n",
              "2739  1994          Tocantins              Típico-Com Cat            0.0   \n",
              "2740  1994          Tocantins             Trajeto-Com Cat            0.0   \n",
              "2741  1994          Tocantins  Doença do Trabalho-Com Cat            0.0   \n",
              "2125  1995  Rio Grande do Sul              Típico-Com Cat            0.0   \n",
              "2126  1995  Rio Grande do Sul             Trajeto-Com Cat            0.0   \n",
              "2127  1995  Rio Grande do Sul  Doença do Trabalho-Com Cat            0.0   \n",
              "\n",
              "            regiao  \n",
              "2347  Centro-Oeste  \n",
              "1075      Nordeste  \n",
              "1078      Nordeste  \n",
              "434       Nordeste  \n",
              "437       Nordeste  \n",
              "446       Nordeste  \n",
              "449       Nordeste  \n",
              "527       Nordeste  \n",
              "539       Nordeste  \n",
              "548       Nordeste  \n",
              "115          Norte  \n",
              "121          Norte  \n",
              "124          Norte  \n",
              "127          Norte  \n",
              "130          Norte  \n",
              "131          Norte  \n",
              "132          Norte  \n",
              "133          Norte  \n",
              "136          Norte  \n",
              "138          Norte  \n",
              "2659         Norte  \n",
              "2660         Norte  \n",
              "2661         Norte  \n",
              "2666         Norte  \n",
              "326          Norte  \n",
              "329          Norte  \n",
              "18           Norte  \n",
              "19           Norte  \n",
              "20           Norte  \n",
              "2825         Norte  \n",
              "2739         Norte  \n",
              "2740         Norte  \n",
              "2741         Norte  \n",
              "2125           Sul  \n",
              "2126           Sul  \n",
              "2127           Sul  "
            ]
          },
          "metadata": {
            "tags": []
          },
          "execution_count": 14
        }
      ]
    },
    {
      "metadata": {
        "id": "nwXpCG5MiuE2",
        "colab_type": "code",
        "outputId": "d0e93d2d-7ae9-4efb-c878-ca82c8dabcb2",
        "colab": {
          "base_uri": "https://localhost:8080/",
          "height": 313
        }
      },
      "cell_type": "code",
      "source": [
        "p = sns.countplot(x=\"ano\",hue=\"regiao\",data=zero_acidentes)\n",
        "p.set_title(\"Qtd de estados com zero acidentes por região e por ano\")"
      ],
      "execution_count": 0,
      "outputs": [
        {
          "output_type": "execute_result",
          "data": {
            "text/plain": [
              "Text(0.5, 1.0, 'Qtd de estados com zero acidentes por região e por ano')"
            ]
          },
          "metadata": {
            "tags": []
          },
          "execution_count": 15
        },
        {
          "output_type": "display_data",
          "data": {
            "image/png": "[encoded data removed]",
            "text/plain": [
              "<Figure size 432x288 with 1 Axes>"
            ]
          },
          "metadata": {
            "tags": []
          }
        }
      ]
    },
    {
      "metadata": {
        "id": "dS9Q-CQcscHc",
        "colab_type": "text"
      },
      "cell_type": "markdown",
      "source": [
        "Os estados do norte apresentam a maior prevalência de anos sem acidente de qualquer tipo. Porém nenhum estado ficou 1 ano sem acidente de qualquer tipo desde 1998. Como mostra o grafico acima. Fica evidenciado também que o sudeste não teve  nenhum ano sem acidentes."
      ]
    },
    {
      "metadata": {
        "id": "ju4CGcqzj7La",
        "colab_type": "code",
        "outputId": "8f32a3df-36f9-4a6b-d887-d31c32285f82",
        "colab": {
          "base_uri": "https://localhost:8080/",
          "height": 313
        }
      },
      "cell_type": "code",
      "source": [
        "p = sns.countplot(y=\"estado\",\n",
        "                  data = zero_acidentes,\n",
        "                  hue = \"regiao\",\n",
        "              order = zero_acidentes['estado'].value_counts().index)\n",
        "p.set_title(\"Qtd de anos com zero acidentes por estado\")"
      ],
      "execution_count": 0,
      "outputs": [
        {
          "output_type": "execute_result",
          "data": {
            "text/plain": [
              "Text(0.5, 1.0, 'Qtd de anos com zero acidentes por estado')"
            ]
          },
          "metadata": {
            "tags": []
          },
          "execution_count": 16
        },
        {
          "output_type": "display_data",
          "data": {
            "image/png": "[encoded data removed]",
            "text/plain": [
              "<Figure size 432x288 with 1 Axes>"
            ]
          },
          "metadata": {
            "tags": []
          }
        }
      ]
    },
    {
      "metadata": {
        "id": "JL_RJvLhllrx",
        "colab_type": "text"
      },
      "cell_type": "markdown",
      "source": [
        "O Acre foi, de longe, o estado que teve a maior quantidade de anos sem registrar acidentes. \n",
        "\n",
        "---\n",
        "\n",
        "(cruzar essa informação com quantidade de postos de trabalho, população e postos de trabalho irregular )"
      ]
    },
    {
      "metadata": {
        "id": "mtW9cVkUty0f",
        "colab_type": "text"
      },
      "cell_type": "markdown",
      "source": [
        "### O maior número de acidentes registrado\n",
        "\n",
        "Onde será que ele ocorreu?"
      ]
    },
    {
      "metadata": {
        "id": "ZLvab6PFtqen",
        "colab_type": "code",
        "outputId": "8f233d56-5a3e-4ee3-a333-e52550ff1eed",
        "colab": {
          "base_uri": "https://localhost:8080/",
          "height": 81
        }
      },
      "cell_type": "code",
      "source": [
        "#selecionando a linha com o maior número de acidentes registrado\n",
        "df_uf[df_uf['qtd_acidentes']==419981]"
      ],
      "execution_count": 0,
      "outputs": [
        {
          "output_type": "execute_result",
          "data": {
            "text/html": [
              "<div>\n",
              "<style scoped>\n",
              "    .dataframe tbody tr th:only-of-type {\n",
              "        vertical-align: middle;\n",
              "    }\n",
              "\n",
              "    .dataframe tbody tr th {\n",
              "        vertical-align: top;\n",
              "    }\n",
              "\n",
              "    .dataframe thead th {\n",
              "        text-align: right;\n",
              "    }\n",
              "</style>\n",
              "<table border=\"1\" class=\"dataframe\">\n",
              "  <thead>\n",
              "    <tr style=\"text-align: right;\">\n",
              "      <th></th>\n",
              "      <th>ano</th>\n",
              "      <th>estado</th>\n",
              "      <th>motivo/situação</th>\n",
              "      <th>qtd_acidentes</th>\n",
              "      <th>latitude</th>\n",
              "      <th>longitude</th>\n",
              "      <th>cod_estado</th>\n",
              "      <th>uf</th>\n",
              "      <th>regiao</th>\n",
              "      <th>capital</th>\n",
              "    </tr>\n",
              "  </thead>\n",
              "  <tbody>\n",
              "    <tr>\n",
              "      <th>1749</th>\n",
              "      <td>1988</td>\n",
              "      <td>São Paulo</td>\n",
              "      <td>Típico-Com Cat</td>\n",
              "      <td>419981.0</td>\n",
              "      <td>-23.5329</td>\n",
              "      <td>-46.6395</td>\n",
              "      <td>35</td>\n",
              "      <td>SP</td>\n",
              "      <td>Sudeste</td>\n",
              "      <td>1</td>\n",
              "    </tr>\n",
              "  </tbody>\n",
              "</table>\n",
              "</div>"
            ],
            "text/plain": [
              "       ano     estado motivo/situação  qtd_acidentes  latitude  longitude  \\\n",
              "1749  1988  São Paulo  Típico-Com Cat       419981.0  -23.5329   -46.6395   \n",
              "\n",
              "      cod_estado  uf   regiao  capital  \n",
              "1749          35  SP  Sudeste        1  "
            ]
          },
          "metadata": {
            "tags": []
          },
          "execution_count": 17
        }
      ]
    },
    {
      "metadata": {
        "id": "LaHeJ7F_uOjJ",
        "colab_type": "text"
      },
      "cell_type": "markdown",
      "source": [
        "1988 foi um ano tenso para São Paulo, que chegou a registrar um número tão expressivo de acidentes. O que traz o questionamento a respeito de como é a série histórica da maior metrópole brasileira. "
      ]
    },
    {
      "metadata": {
        "id": "VdYTOvg6FzXw",
        "colab_type": "code",
        "outputId": "f76f452d-a697-4448-d377-baa34eaaa594",
        "colab": {
          "base_uri": "https://localhost:8080/",
          "height": 255
        }
      },
      "cell_type": "code",
      "source": [
        "!pip install seaborn==0.9.0"
      ],
      "execution_count": 0,
      "outputs": [
        {
          "output_type": "stream",
          "text": [
            "Requirement already satisfied: seaborn==0.9.0 in /usr/local/lib/python3.6/dist-packages (0.9.0)\n",
            "Requirement already satisfied: matplotlib>=1.4.3 in /usr/local/lib/python3.6/dist-packages (from seaborn==0.9.0) (3.0.3)\n",
            "Requirement already satisfied: pandas>=0.15.2 in /usr/local/lib/python3.6/dist-packages (from seaborn==0.9.0) (0.22.0)\n",
            "Requirement already satisfied: numpy>=1.9.3 in /usr/local/lib/python3.6/dist-packages (from seaborn==0.9.0) (1.14.6)\n",
            "Requirement already satisfied: scipy>=0.14.0 in /usr/local/lib/python3.6/dist-packages (from seaborn==0.9.0) (1.1.0)\n",
            "Requirement already satisfied: kiwisolver>=1.0.1 in /usr/local/lib/python3.6/dist-packages (from matplotlib>=1.4.3->seaborn==0.9.0) (1.0.1)\n",
            "Requirement already satisfied: cycler>=0.10 in /usr/local/lib/python3.6/dist-packages (from matplotlib>=1.4.3->seaborn==0.9.0) (0.10.0)\n",
            "Requirement already satisfied: pyparsing!=2.0.4,!=2.1.2,!=2.1.6,>=2.0.1 in /usr/local/lib/python3.6/dist-packages (from matplotlib>=1.4.3->seaborn==0.9.0) (2.3.1)\n",
            "Requirement already satisfied: python-dateutil>=2.1 in /usr/local/lib/python3.6/dist-packages (from matplotlib>=1.4.3->seaborn==0.9.0) (2.5.3)\n",
            "Requirement already satisfied: pytz>=2011k in /usr/local/lib/python3.6/dist-packages (from pandas>=0.15.2->seaborn==0.9.0) (2018.9)\n",
            "Requirement already satisfied: setuptools in /usr/local/lib/python3.6/dist-packages (from kiwisolver>=1.0.1->matplotlib>=1.4.3->seaborn==0.9.0) (40.8.0)\n",
            "Requirement already satisfied: six in /usr/local/lib/python3.6/dist-packages (from cycler>=0.10->matplotlib>=1.4.3->seaborn==0.9.0) (1.11.0)\n"
          ],
          "name": "stdout"
        }
      ]
    },
    {
      "metadata": {
        "id": "k-wECG2DudOG",
        "colab_type": "code",
        "outputId": "3deae97b-6f17-4b22-ed21-ac01c0c16d56",
        "colab": {
          "base_uri": "https://localhost:8080/",
          "height": 313
        }
      },
      "cell_type": "code",
      "source": [
        "p = sns.lineplot(x=\"ano\",\n",
        "             y = \"qtd_acidentes\",\n",
        "             hue = \"motivo/situação\",\n",
        "             style =\"motivo/situação\" ,\n",
        "             markers =True ,\n",
        "             data=df_uf[df_uf[\"estado\"]==\"São Paulo\"])\n",
        "p.set_title(\"Qtd de Acidentes de SP por ano e motivo\")"
      ],
      "execution_count": 0,
      "outputs": [
        {
          "output_type": "execute_result",
          "data": {
            "text/plain": [
              "Text(0.5, 1.0, 'Qtd de Acidentes de SP por ano e motivo')"
            ]
          },
          "metadata": {
            "tags": []
          },
          "execution_count": 19
        },
        {
          "output_type": "display_data",
          "data": {
            "image/png": "[encoded data removed]",
            "text/plain": [
              "<Figure size 432x288 with 1 Axes>"
            ]
          },
          "metadata": {
            "tags": []
          }
        }
      ]
    },
    {
      "metadata": {
        "id": "aCPdwVV6wrzR",
        "colab_type": "text"
      },
      "cell_type": "markdown",
      "source": [
        "É possivel observar uma tendência de queda na quantidade de acidentes Típicos-com Cat(que são maioria) até os anos 2000. O que levanta uma outra questão. Como se comporta a queda de São Paulo com relação a média regional?"
      ]
    },
    {
      "metadata": {
        "id": "YLClNESwGovn",
        "colab_type": "code",
        "colab": {}
      },
      "cell_type": "code",
      "source": [
        "mean_regiao = df_uf[df_uf[\"estado\"]!=\"São Paulo\"].groupby(by = [\"regiao\",\"motivo/situação\",\"ano\"])[[\"qtd_acidentes\"]].mean()\n",
        "mean_regiao.reset_index(inplace = True)\n",
        "\n"
      ],
      "execution_count": 0,
      "outputs": []
    },
    {
      "metadata": {
        "id": "ZKtL7Q1Drw_z",
        "colab_type": "code",
        "outputId": "467446e0-259f-435d-a044-7fb3c4738198",
        "colab": {
          "base_uri": "https://localhost:8080/",
          "height": 313
        }
      },
      "cell_type": "code",
      "source": [
        "\n",
        "p = sns.lineplot(x=\"ano\",\n",
        "             y = \"qtd_acidentes\",\n",
        "             hue = \"motivo/situação\",\n",
        "             style =\"motivo/situação\" ,\n",
        "             markers =True ,\n",
        "             data=mean_regiao[(mean_regiao[\"regiao\"]==\"Sudeste\")&\n",
        "                             (mean_regiao[\"motivo/situação\"]==\"Típico-Com Cat\")])\n",
        "p.set_title(\"Média de Acidentes da Região Sudeste por ano\")\n",
        "                 "
      ],
      "execution_count": 0,
      "outputs": [
        {
          "output_type": "execute_result",
          "data": {
            "text/plain": [
              "Text(0.5, 1.0, 'Média de Acidentes da Região Sudeste por ano')"
            ]
          },
          "metadata": {
            "tags": []
          },
          "execution_count": 21
        },
        {
          "output_type": "display_data",
          "data": {
            "image/png": "[encoded data removed]",
            "text/plain": [
              "<Figure size 432x288 with 1 Axes>"
            ]
          },
          "metadata": {
            "tags": []
          }
        }
      ]
    },
    {
      "metadata": {
        "id": "Kdr0U8SA2GzM",
        "colab_type": "code",
        "colab": {}
      },
      "cell_type": "code",
      "source": [
        "#Criar gráfico que sobreponha a média da região com os valores de sp"
      ],
      "execution_count": 0,
      "outputs": []
    },
    {
      "metadata": {
        "id": "sRZl6mQTwD5h",
        "colab_type": "text"
      },
      "cell_type": "markdown",
      "source": [
        "### Distribuição da quantidade de acidentes por região"
      ]
    },
    {
      "metadata": {
        "id": "G5UrsdGO9thK",
        "colab_type": "text"
      },
      "cell_type": "markdown",
      "source": [
        "Observando a série histórica de todas as regiões do país é necessário se fazer uma analise em função do Log da quantidade de acidentes. Isso decorre do fato que a quantidade de acidentes é muito discrepante de região para região, como pode ser observado no gráfico abaixo"
      ]
    },
    {
      "metadata": {
        "id": "thRdXtKSGPtU",
        "colab_type": "code",
        "outputId": "3d51c263-a1ea-4820-e2d0-32ccfa5b47ad",
        "colab": {
          "base_uri": "https://localhost:8080/",
          "height": 285
        }
      },
      "cell_type": "code",
      "source": [
        "g = sns.FacetGrid(df_uf, col=\"regiao\") \n",
        "g.map(sns.boxplot, \"qtd_acidentes\")\n",
        "plt.xscale(\"log\")"
      ],
      "execution_count": 0,
      "outputs": [
        {
          "output_type": "stream",
          "text": [
            "/usr/local/lib/python3.6/dist-packages/seaborn/axisgrid.py:715: UserWarning: Using the boxplot function without specifying `order` is likely to produce an incorrect plot.\n",
            "  warnings.warn(warning)\n"
          ],
          "name": "stderr"
        },
        {
          "output_type": "display_data",
          "data": {
            "image/png": "[encoded data removed]",
            "text/plain": [
              "<Figure size 1080x216 with 5 Axes>"
            ]
          },
          "metadata": {
            "tags": []
          }
        }
      ]
    },
    {
      "metadata": {
        "id": "K-b3M9GoHisp",
        "colab_type": "text"
      },
      "cell_type": "markdown",
      "source": [
        "A região sudeste apresenta a distribuição mais concentrada nos valores entre $10^3$ e $10^4$, assim como a região sul. O que não é verdade para as outras regiões do pais que possuem os valores mais próximos da ordem de $10^2$ e $10^3$\n"
      ]
    },
    {
      "metadata": {
        "id": "pQGkpNedHmLJ",
        "colab_type": "code",
        "outputId": "daff27f2-5b99-46d4-82b9-5ecbc6ed7941",
        "colab": {
          "base_uri": "https://localhost:8080/",
          "height": 1107
        }
      },
      "cell_type": "code",
      "source": [
        "plt.figure(figsize=(20, 30))\n",
        "g = sns.FacetGrid(df_uf, row=\"regiao\",hue=\"motivo/situação\")\n",
        "g.map(sns.lineplot,'ano',\"qtd_acidentes\")\n",
        "plt.yscale(\"log\")"
      ],
      "execution_count": 0,
      "outputs": [
        {
          "output_type": "display_data",
          "data": {
            "text/plain": [
              "<Figure size 1152x432 with 0 Axes>"
            ]
          },
          "metadata": {
            "tags": []
          }
        },
        {
          "output_type": "display_data",
          "data": {
            "image/png": "[encoded data removed]",
            "text/plain": [
              "<Figure size 216x1080 with 5 Axes>"
            ]
          },
          "metadata": {
            "tags": []
          }
        }
      ]
    },
    {
      "metadata": {
        "id": "NiQaPY7SAE8j",
        "colab_type": "text"
      },
      "cell_type": "markdown",
      "source": [
        "Em termos de média, a região sudeste foi a que apresentou a maior queda na quatidade de acidentes ao longo dos anos. "
      ]
    },
    {
      "metadata": {
        "id": "o_uanMqXwSSc",
        "colab_type": "text"
      },
      "cell_type": "markdown",
      "source": [
        "### O mapa dos acidentes de trabalho"
      ]
    },
    {
      "metadata": {
        "id": "A3L_5ZOdW0rV",
        "colab_type": "text"
      },
      "cell_type": "markdown",
      "source": [
        "Agora com uma base de dados com as informações de latitude e longitude, meu objetivo é tentar retirar algumas informações com base na leitura de alguns mapas. Para isso usarei a biblioteca do Python Folium"
      ]
    },
    {
      "metadata": {
        "id": "ooIgZur7V1H1",
        "colab_type": "code",
        "colab": {}
      },
      "cell_type": "code",
      "source": [
        "import folium"
      ],
      "execution_count": 0,
      "outputs": []
    },
    {
      "metadata": {
        "id": "AYJj-GFeiOxu",
        "colab_type": "code",
        "colab": {}
      },
      "cell_type": "code",
      "source": [
        "df_uf_2016 = df_uf[df_uf[\"ano\"]==2016]\n",
        "df_uf_2016 = df_uf_2016.groupby(['estado','latitude','longitude'],as_index=False)[['qtd_acidentes']].sum()\n",
        "df_uf_2016.qtd_acidentes = df_uf_2016.qtd_acidentes.astype('int64')"
      ],
      "execution_count": 0,
      "outputs": []
    },
    {
      "metadata": {
        "id": "j1Y52BUkglLE",
        "colab_type": "text"
      },
      "cell_type": "markdown",
      "source": [
        "Então pro ano de 2016 é possivel avaliar a quantidade de acidentes que tivemos por estado"
      ]
    },
    {
      "metadata": {
        "id": "Mr3Qf_JdXJ8i",
        "colab_type": "code",
        "outputId": "5658a311-4f04-4fe1-facb-66331010fece",
        "colab": {
          "base_uri": "https://localhost:8080/",
          "height": 649
        }
      },
      "cell_type": "code",
      "source": [
        "\n",
        "ac_map = folium.Map(location=[-16.1237611, -59.9219642],\n",
        "               zoom_start=4)\n",
        "for i in range(0,len(df_uf_2016)):\n",
        "      folium.CircleMarker(\n",
        "      location=[df_uf_2016.iloc[i]['latitude'], df_uf_2016.iloc[i]['longitude']],\n",
        "      popup=df_uf_2016.iloc[i]['estado']+' - '+df_uf_2016.iloc[i]['qtd_acidentes'].astype('str'),\n",
        "      radius=df_uf_2016.iloc[i]['qtd_acidentes'],\n",
        "      color='crimson',\n",
        "      fill_color=\"crimson\",\n",
        "      fill_opacity=0.6\n",
        "   ).add_to(ac_map)\n",
        "ac_map.save('mymap.html')\n",
        "ac_map"
      ],
      "execution_count": 0,
      "outputs": [
        {
          "output_type": "execute_result",
          "data": {
            "text/html": [
              "<div style=\"width:100%;\"><div style=\"position:relative;width:100%;height:0;padding-bottom:60%;\"><iframe src=\"data:text/html;base64,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\" style=\"position:absolute;width:100%;height:100%;left:0;top:0;\"></iframe></div></div>"
            ],
            "text/plain": [
              "<folium.folium.Map at 0x7f7106ea44a8>"
            ]
          },
          "metadata": {
            "tags": []
          },
          "execution_count": 26
        }
      ]
    },
    {
      "metadata": {
        "id": "7wg-EXgDM1hq",
        "colab_type": "text"
      },
      "cell_type": "markdown",
      "source": [
        "## Acidentes de Trabalho por Sexo e Faixa Etária"
      ]
    },
    {
      "metadata": {
        "id": "_fqd76_KM7oF",
        "colab_type": "code",
        "colab": {}
      },
      "cell_type": "code",
      "source": [
        ""
      ],
      "execution_count": 0,
      "outputs": []
    }
  ]
}